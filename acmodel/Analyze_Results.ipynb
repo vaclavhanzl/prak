{
 "cells": [
  {
   "cell_type": "markdown",
   "id": "5b809f1a",
   "metadata": {},
   "source": [
    "# Analyze Results"
   ]
  },
  {
   "cell_type": "code",
   "execution_count": null,
   "id": "003024cf",
   "metadata": {},
   "outputs": [],
   "source": [
    "%run ../acmodel/plot.py\n",
    "%matplotlib ipympl\n",
    "import pandas as pd\n",
    "pd.set_option('display.max_colwidth', None)\n",
    "from collections import Counter\n",
    "import math\n",
    "import numpy as np\n",
    "import torch"
   ]
  },
  {
   "cell_type": "markdown",
   "id": "f4400ecb",
   "metadata": {},
   "source": [
    "# mega4 (balancing by phone frame freq)"
   ]
  },
  {
   "cell_type": "code",
   "execution_count": null,
   "id": "abcbba0f",
   "metadata": {},
   "outputs": [],
   "source": [
    "!ls -lrt mega[46]*.tsv"
   ]
  },
  {
   "cell_type": "code",
   "execution_count": null,
   "id": "8d6c5296",
   "metadata": {},
   "outputs": [],
   "source": [
    "tsvs = !ls mega[45]*.tsv\n",
    "gr = []\n",
    "for t in tsvs:\n",
    "    df = pd.read_csv(t, sep=\"\\t\", keep_default_na=False)\n",
    "    sss = \"\".join([s for s in df.targets.values])\n",
    "    c=Counter(sss)\n",
    "    s = sorted(c.values(), reverse=True)\n",
    "    logs = [math.log(x) for x in s]\n",
    "    gr.append(torch.tensor(logs))\n",
    "gr = torch.stack(gr)\n",
    "\n",
    "plot_fun(gr.T)"
   ]
  },
  {
   "cell_type": "code",
   "execution_count": null,
   "id": "aa3e2fc1",
   "metadata": {},
   "outputs": [],
   "source": [
    "plot_fun(gr[:,25])"
   ]
  },
  {
   "cell_type": "code",
   "execution_count": null,
   "id": "a1adf6d9",
   "metadata": {},
   "outputs": [],
   "source": []
  },
  {
   "cell_type": "markdown",
   "id": "54c492ab",
   "metadata": {},
   "source": [
    "# mega3 training analysis (frequent phones getting everything)"
   ]
  },
  {
   "cell_type": "code",
   "execution_count": null,
   "id": "c0c40d69",
   "metadata": {
    "scrolled": false
   },
   "outputs": [],
   "source": [
    "!ls -lrt mega3*.tsv"
   ]
  },
  {
   "cell_type": "code",
   "execution_count": null,
   "id": "f14c4039",
   "metadata": {},
   "outputs": [],
   "source": [
    "df = pd.read_csv(\"mega3_training_0014.tsv\", sep=\"\\t\", keep_default_na=False)"
   ]
  },
  {
   "cell_type": "code",
   "execution_count": null,
   "id": "0f68aab5",
   "metadata": {},
   "outputs": [],
   "source": [
    "c=Counter(\"\".join([s for s in df.targets.values]))"
   ]
  },
  {
   "cell_type": "code",
   "execution_count": null,
   "id": "a2c5bfc1",
   "metadata": {},
   "outputs": [],
   "source": [
    "-torch.tensor([count for phone, count in sorted(i for i in c.items())]).log()"
   ]
  },
  {
   "cell_type": "code",
   "execution_count": null,
   "id": "a4473bdd",
   "metadata": {},
   "outputs": [],
   "source": [
    "import pandas as pd\n",
    "from collections import Counter\n",
    "def b_log_corrections(tsv_file):\n",
    "    \"\"\"\n",
    "    Compute log(b()) additive correction needed to suppress very frequent\n",
    "    phones and boost rare ones.\n",
    "    \"\"\"\n",
    "    df = pd.read_csv(tsv_file, sep=\"\\t\", keep_default_na=False)\n",
    "    c=Counter(\"\".join([s for s in df.targets.values]))\n",
    "    return -torch.tensor([count for phone, count in sorted(i for i in c.items())]).log()"
   ]
  },
  {
   "cell_type": "code",
   "execution_count": null,
   "id": "ecd4fe88",
   "metadata": {},
   "outputs": [],
   "source": [
    "b_log_corrections(\"mega3_training_0014.tsv\")"
   ]
  },
  {
   "cell_type": "code",
   "execution_count": null,
   "id": "751aa8b5",
   "metadata": {},
   "outputs": [],
   "source": [
    "tsvs = !ls mega3*.tsv\n",
    "gr = []\n",
    "for t in tsvs:\n",
    "    df = pd.read_csv(t, sep=\"\\t\", keep_default_na=False)\n",
    "    sss = \"\".join([s for s in df.targets.values])\n",
    "    c=Counter(sss)\n",
    "    s = sorted(c.values(), reverse=True)\n",
    "    logs = [math.log(x) for x in s]\n",
    "    gr.append(torch.tensor(logs))\n",
    "gr = torch.stack(gr)\n",
    "\n",
    "plot_fun(gr.T)"
   ]
  },
  {
   "cell_type": "code",
   "execution_count": null,
   "id": "e27a1b3d",
   "metadata": {},
   "outputs": [],
   "source": []
  },
  {
   "cell_type": "code",
   "execution_count": null,
   "id": "fdc84222",
   "metadata": {},
   "outputs": [],
   "source": []
  },
  {
   "cell_type": "code",
   "execution_count": null,
   "id": "4b6a5812",
   "metadata": {},
   "outputs": [],
   "source": []
  },
  {
   "cell_type": "markdown",
   "id": "938448c5",
   "metadata": {},
   "source": [
    "# mega training analysis (just-sil recordings proliferating)"
   ]
  },
  {
   "cell_type": "code",
   "execution_count": null,
   "id": "5d4e371d",
   "metadata": {},
   "outputs": [],
   "source": [
    "df = pd.read_csv(\"mega_training_0004.tsv\", sep=\"\\t\", keep_default_na=False)"
   ]
  },
  {
   "cell_type": "code",
   "execution_count": null,
   "id": "076a1df7",
   "metadata": {},
   "outputs": [],
   "source": [
    "df"
   ]
  },
  {
   "cell_type": "code",
   "execution_count": null,
   "id": "c012a6f5",
   "metadata": {},
   "outputs": [],
   "source": [
    "def troubling_alignmet(s):\n",
    "    \"\"\"\n",
    "    Count cases of a 1-frame only for state alignment (these are suspicious).\n",
    "    Overall sum of troubling alignments hints quality of the acoustic model.\n",
    "    \"\"\"\n",
    "    troubles = \"\"\n",
    "    for i in range(1,len(s)-1):\n",
    "        if s[i-1]!=s[i]!=s[i+1]:\n",
    "            troubles += s[i]\n",
    "    return troubles"
   ]
  },
  {
   "cell_type": "code",
   "execution_count": null,
   "id": "bb2b5208",
   "metadata": {},
   "outputs": [],
   "source": [
    "df.targets.values"
   ]
  },
  {
   "cell_type": "code",
   "execution_count": null,
   "id": "cd706de6",
   "metadata": {},
   "outputs": [],
   "source": [
    "tsvs = !ls mega*.tsv\n",
    "tsvs"
   ]
  },
  {
   "cell_type": "code",
   "execution_count": null,
   "id": "8dccafd2",
   "metadata": {},
   "outputs": [],
   "source": [
    "tsvs = !ls mega*.tsv\n",
    "for t in tsvs:\n",
    "    df = pd.read_csv(t, sep=\"\\t\", keep_default_na=False)\n",
    "    print(len(\"\".join([troubling_alignmet(s) for s in df.targets.values])) / len(\"\".join([s for s in df.targets.values])))\n",
    "    sss = \"\".join([s for s in df.targets.values])"
   ]
  },
  {
   "cell_type": "code",
   "execution_count": null,
   "id": "73f76116",
   "metadata": {},
   "outputs": [],
   "source": [
    "from collections import Counter\n",
    "c=Counter(sss)\n",
    "c"
   ]
  },
  {
   "cell_type": "code",
   "execution_count": null,
   "id": "4ad6533c",
   "metadata": {},
   "outputs": [],
   "source": [
    "tsvs = !ls mega*.tsv\n",
    "for t in tsvs:\n",
    "    df = pd.read_csv(t, sep=\"\\t\", keep_default_na=False)\n",
    "    sss = \"\".join([s for s in df.targets.values])\n",
    "    c=Counter(sss)\n",
    "    print([c[x] for x in ['G', 'E', 'Z', 'Ž','A', '?', 'e', 's', 'ř', 'Ř', '|']])"
   ]
  },
  {
   "cell_type": "code",
   "execution_count": null,
   "id": "bfd2b475",
   "metadata": {},
   "outputs": [],
   "source": [
    "tsvs = !ls mega*.tsv\n",
    "for t in tsvs:\n",
    "    df = pd.read_csv(t, sep=\"\\t\", keep_default_na=False)\n",
    "    sss = \"\".join([s for s in df.targets.values])\n",
    "    c=Counter(sss)\n",
    "    print([c[x] for x in ['p', 't', 'k', 'g']])"
   ]
  },
  {
   "cell_type": "code",
   "execution_count": null,
   "id": "70b11987",
   "metadata": {},
   "outputs": [],
   "source": [
    "vowels_and_diphtongs = \"AEOaeiouyáéíóúůýě\""
   ]
  },
  {
   "cell_type": "code",
   "execution_count": null,
   "id": "2335084d",
   "metadata": {},
   "outputs": [],
   "source": [
    "tsvs = !ls mega*.tsv\n",
    "for t in tsvs:\n",
    "    df = pd.read_csv(t, sep=\"\\t\", keep_default_na=False)\n",
    "    sss = \"\".join([s for s in df.targets.values])\n",
    "    \n",
    "    ccc = \"\".join(['|' if s=='|' else 'v' if s in vowels_and_diphtongs else 'c' for ss in df.targets.values for s in ss])\n",
    "    c=Counter(ccc)\n",
    "    print(c, end=''); print(\"  %.2f\" % (c['v']/c['c']) )"
   ]
  },
  {
   "cell_type": "code",
   "execution_count": null,
   "id": "4eace4c3",
   "metadata": {},
   "outputs": [],
   "source": [
    "tsvs = !ls mega*.tsv\n",
    "cc = []\n",
    "for t in tsvs[-5], tsvs[-1]:\n",
    "    df = pd.read_csv(t, sep=\"\\t\", keep_default_na=False)\n",
    "    #print(len(\"\".join([troubling_alignmet(s) for s in df.targets.values])) / len(\"\".join([s for s in df.targets.values])))\n",
    "    sss = \"\".join([s for s in df.targets.values])\n",
    "    cc.append(Counter(sss))"
   ]
  },
  {
   "cell_type": "code",
   "execution_count": null,
   "id": "3b23fc25",
   "metadata": {},
   "outputs": [],
   "source": [
    "for p in cc[0]:\n",
    "    print(f\"{p}: {cc[0][p]} -> {cc[1][p]}  {'%.1f' % (cc[1][p] / cc[0][p] * 100 - 100)} %\")"
   ]
  },
  {
   "cell_type": "markdown",
   "id": "70b466b2",
   "metadata": {},
   "source": [
    "## Find wavs with most added silence"
   ]
  },
  {
   "cell_type": "code",
   "execution_count": null,
   "id": "975e2fbc",
   "metadata": {},
   "outputs": [],
   "source": [
    "tsvs = !ls mega*.tsv\n",
    "cc = []\n",
    "for t in tsvs[5], tsvs[-1]:\n",
    "    df = pd.read_csv(t, sep=\"\\t\", keep_default_na=False)\n",
    "    df['sil'] = [len(\"\".join(['|' if c=='|' else '' for c in s])) for s in df.targets.values]\n",
    "    df['tot'] = [len(s) for s in df.targets.values]\n",
    "    cc.append(df)"
   ]
  },
  {
   "cell_type": "code",
   "execution_count": null,
   "id": "0683574e",
   "metadata": {},
   "outputs": [],
   "source": [
    "cc[1]"
   ]
  },
  {
   "cell_type": "code",
   "execution_count": null,
   "id": "e9800013",
   "metadata": {},
   "outputs": [],
   "source": []
  },
  {
   "cell_type": "code",
   "execution_count": null,
   "id": "9a204935",
   "metadata": {},
   "outputs": [],
   "source": []
  },
  {
   "cell_type": "code",
   "execution_count": null,
   "id": "bb82379c",
   "metadata": {},
   "outputs": [],
   "source": []
  }
 ],
 "metadata": {
  "kernelspec": {
   "display_name": "Python 3 (ipykernel)",
   "language": "python",
   "name": "python3"
  },
  "language_info": {
   "codemirror_mode": {
    "name": "ipython",
    "version": 3
   },
   "file_extension": ".py",
   "mimetype": "text/x-python",
   "name": "python",
   "nbconvert_exporter": "python",
   "pygments_lexer": "ipython3",
   "version": "3.10.5"
  }
 },
 "nbformat": 4,
 "nbformat_minor": 5
}
