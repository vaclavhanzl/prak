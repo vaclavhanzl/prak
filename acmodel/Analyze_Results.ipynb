{
 "cells": [
  {
   "cell_type": "markdown",
   "id": "5b809f1a",
   "metadata": {},
   "source": [
    "# Analyze Results"
   ]
  },
  {
   "cell_type": "code",
   "execution_count": 2,
   "id": "003024cf",
   "metadata": {},
   "outputs": [
    {
     "data": {
      "text/html": [
       "<style>.container { width:100% !important; }</style>"
      ],
      "text/plain": [
       "<IPython.core.display.HTML object>"
      ]
     },
     "metadata": {},
     "output_type": "display_data"
    },
    {
     "data": {
      "text/html": [
       "<style>.prompt_container{width: 11ex !important; }</style>"
      ],
      "text/plain": [
       "<IPython.core.display.HTML object>"
      ]
     },
     "metadata": {},
     "output_type": "display_data"
    },
    {
     "data": {
      "text/html": [
       "<style>div.prompt{min-width: 11ex; }</style>"
      ],
      "text/plain": [
       "<IPython.core.display.HTML object>"
      ]
     },
     "metadata": {},
     "output_type": "display_data"
    }
   ],
   "source": [
    "%run ../acmodel/plot.py\n",
    "%matplotlib ipympl\n",
    "import pandas as pd\n",
    "pd.set_option('display.max_colwidth', None)\n",
    "\n"
   ]
  },
  {
   "cell_type": "code",
   "execution_count": 1,
   "id": "c0c40d69",
   "metadata": {},
   "outputs": [
    {
     "name": "stdout",
     "output_type": "stream",
     "text": [
      "-rw-r--r-- 1 hanzl hanzl 7225140 Sep  2 13:29 mega_training_0000.tsv\r\n",
      "-rw-r--r-- 1 hanzl hanzl 7219984 Sep  2 13:43 mega_training_0001.tsv\r\n",
      "-rw-r--r-- 1 hanzl hanzl 7206909 Sep  2 13:57 mega_training_0002.tsv\r\n",
      "-rw-r--r-- 1 hanzl hanzl 7202486 Sep  2 14:10 mega_training_0003.tsv\r\n",
      "-rw-r--r-- 1 hanzl hanzl 7208120 Sep  2 14:24 mega_training_0004.tsv\r\n"
     ]
    }
   ],
   "source": [
    "!ls -lrt mega*.tsv"
   ]
  },
  {
   "cell_type": "code",
   "execution_count": 3,
   "id": "5d4e371d",
   "metadata": {},
   "outputs": [],
   "source": [
    "df = pd.read_csv(\"mega_training_0004.tsv\", sep=\"\\t\", keep_default_na=False)"
   ]
  },
  {
   "cell_type": "code",
   "execution_count": 11,
   "id": "076a1df7",
   "metadata": {},
   "outputs": [
    {
     "data": {
      "text/html": [
       "<div>\n",
       "<style scoped>\n",
       "    .dataframe tbody tr th:only-of-type {\n",
       "        vertical-align: middle;\n",
       "    }\n",
       "\n",
       "    .dataframe tbody tr th {\n",
       "        vertical-align: top;\n",
       "    }\n",
       "\n",
       "    .dataframe thead th {\n",
       "        text-align: right;\n",
       "    }\n",
       "</style>\n",
       "<table border=\"1\" class=\"dataframe\">\n",
       "  <thead>\n",
       "    <tr style=\"text-align: right;\">\n",
       "      <th></th>\n",
       "      <th>wav</th>\n",
       "      <th>sentence</th>\n",
       "      <th>targets</th>\n",
       "    </tr>\n",
       "  </thead>\n",
       "  <tbody>\n",
       "    <tr>\n",
       "      <th>0</th>\n",
       "      <td>/data4T/commonvoice/cv-corpus-7.0-2021-07-21/cs/clips/common_voice_cs_23896695.wav</td>\n",
       "      <td>Ve srovnání s jinými sýry je téměř bez zápachu.</td>\n",
       "      <td>|||||||||||||||||||||||||||||||||||||||||||||||||||||||||||||||||||||||veeeeeeessssssssssroooooooooovnnnnnááááááááááááááááááááááňňňňňňňýýssssssssssjyyyyyynnnnnnýýýýýýýýýýýmmmmmmyyyyssssssssssssssýýýýryyyyyyyyyyyyyyyyjjjjjjjeeeeeeeeeeeeeeeeeeeeeeeeeeeetémmňeeeeeeeeeeeeŘŘŘŘŘŘ||||beeeeeeezzzzzzzzzáááááááááááááááááápppaaaHHHHHHHHHHHu|||||||||||||||||||||||||||||||||||||||||||||||||||||||||||||||||||||||||||||||||||||||||||||||||||||</td>\n",
       "    </tr>\n",
       "    <tr>\n",
       "      <th>1</th>\n",
       "      <td>/data4T/commonvoice/cv-corpus-7.0-2021-07-21/cs/clips/common_voice_cs_23896696.wav</td>\n",
       "      <td>Na stavbě se podíleli příslušníci sedmnácti národů.</td>\n",
       "      <td>|||||||||||||||||||||||||||||||||||||||||||||||||||||||||||||||||||||||||||||||||nnnnaaaasssssssssssttttaaaaaaaaavvvvvvbbbbbjeeeeeeeeeeessssssssssseeeeeeeeepppppooooooooooďýýýýýýýýýýleelllllllllllllyyyyyyyyyyyyppppŘŘŘŘŘŘýýýýýýýsssssslllllllluššššššššššňýýýýýýýýýýýýcccccyyyysssssssssseeeeeedmnnnnnnnnnnáááááááááááááácccccccccccťťťťyyyyyynnnáááááááááááároooooooooooooddddúúúúúúúúúúúúúú||||||||||||||||||||||||||||||||||||||||||||||||||||||||||||||||||||||||||||||||||||||||||||||||||||||||||||</td>\n",
       "    </tr>\n",
       "    <tr>\n",
       "      <th>2</th>\n",
       "      <td>/data4T/commonvoice/cv-corpus-7.0-2021-07-21/cs/clips/common_voice_cs_23896697.wav</td>\n",
       "      <td>Děkuji vám, vaše sdělení je jasné.</td>\n",
       "      <td>||||||||||||||||||||||||||||ďeeeeeeeeeeekkuuuuuuujyyyyyyyyyyvvvvvvvváááááááááááááááááááááááám|||||||||||||||vvvvvvvvaaaaaaaaašššššššššeeeeezzzzzzzzzďeeeeeeeeellleeeeeeeeeeeeňňňýýýýýýýýýýýýýýýýjeeeeeeeeeeejaaaaaasssssssssssssssssssnnnnnnééééééééééé|||||||||||||||||||||||||||||||||||||||||||||||||||||||||||||||||||||||||||||||||||||||||||||||||||||||||||||||||</td>\n",
       "    </tr>\n",
       "    <tr>\n",
       "      <th>3</th>\n",
       "      <td>/data4T/commonvoice/cv-corpus-7.0-2021-07-21/cs/clips/common_voice_cs_23896703.wav</td>\n",
       "      <td>Při následné záchranné operaci byl zabit i pilot záchranné helikoptéry.</td>\n",
       "      <td>|||||||||||||||||||||||||||||||||||||||||||||||||||||||||||||||||||||||||pppŘŘŘŘŘŘŘŘŘyyyyyyynnnááááááááááááássssssssssslllllllleddnnnééééééééééééézzzzzzáááááááááááHHHHHHHHHrrrrraaaaaaaaaaanéééééééééooooooooooopppeeeeeeraaaaaaaaaaaacccccccyyyyyyyyyybylllllllllllzzzzzzaaaaaaaaaaaabbyyyyyyyyyyyytyyyyyyyyyyy||||||pyyyyylooooooooooooodzzzzzzzááááááááááááHHHHHHHHrrraaaaaaaaaaaaaaaanééééééheeeeeeeellllyyyyyyykkkkoooooooooppppppttttééééééééééééééérrryyyyyyyy||||||||||||||||||||||||||||||||||||||||||||||||||||||||||||||||||||||||||||||||||||||||||||||||||</td>\n",
       "    </tr>\n",
       "    <tr>\n",
       "      <th>4</th>\n",
       "      <td>/data4T/commonvoice/cv-corpus-7.0-2021-07-21/cs/clips/common_voice_cs_23896704.wav</td>\n",
       "      <td>Občasně konzumuje i větší hmyz a výjimečně i ryby.</td>\n",
       "      <td>||||||||||||||||||||||||||||||||||||||||||||||||||||||||||||||||||||||||||?oooooooopppččččččččaaaaaasssssssňeeeeeeeee|||||kooooooooooooooonzzzzuuuuummmmmmmmmmuuuujeeeeeeeeeeeeyyyyyyyyyyyyvjeeeeeeeeeeeeeeeeččččččččýýýýýýýýýhhhmmmmmmmyyyyyyyssssssssss|||||?aaaaavvvvvýýýýýjjjjyyymeeeeeeeeeeeeečččččččččččččččňeeeeeeeeeyyyyyyyyyyyyyyyyyyyyyrryyyyyyybbyyyyyyyyyyy|||||||||||||||||||||||||||||||||||||||||||||||||||||||||||||||||||||||||||||||||||||||||||||||||</td>\n",
       "    </tr>\n",
       "    <tr>\n",
       "      <th>...</th>\n",
       "      <td>...</td>\n",
       "      <td>...</td>\n",
       "      <td>...</td>\n",
       "    </tr>\n",
       "    <tr>\n",
       "      <th>10751</th>\n",
       "      <td>/data4T/commonvoice/cv-corpus-7.0-2021-07-21/cs/clips/common_voice_cs_23959820.wav</td>\n",
       "      <td>Celkově tyto změny v signalizaci negativně ovlivňují proliferaci a přežití buněk.</td>\n",
       "      <td>|||||||||||||||||||||||||||||||||||||||||||||||||||||||||||||||||||||||||||||||||||||||||||cccccceelllllllllkooooooooooooooooovvvjjjeeeeeeee||||tttyyyyyytttttttooooozzzzzzzzzzzmňňňňňňňňňňeeeeennnnyyyyyyyyyyfsssssssssssyyyyyyyyyyyyyygnnnnnaaaalllyyyyyyyyyzzzzzzzzaaaaaaaaaccccccccccyyyyyyynnnnnneeeeeeeeeeeeeegaaaaaatttttttyyyyyyyyyyyyyyyyvňňňňňňňňňňeoooooooooooooooooovvvvllyyyyyyyyyyyyyyyyyyyvvvvvvvňujýýýýýýýýýýýýýý||||||||prrrrrooooooooollyyyyyyyffffffffferrrrrrraaaaaaaaaaaaacccccccccccccyyyyyyyyyyaaaaaaa|||||||||pŘŘŘŘeeežyyyyyťýýýýýýýýýýýýýý||||||||||||||||||||||||buuuuuňňňňňňňňňňňňeeeeeeeek||||||||||||||||||||||||||||||||||||||||||||||||||||||||||||||||||||||||||||||||||</td>\n",
       "    </tr>\n",
       "    <tr>\n",
       "      <th>10752</th>\n",
       "      <td>/data4T/commonvoice/cv-corpus-7.0-2021-07-21/cs/clips/common_voice_cs_23959822.wav</td>\n",
       "      <td>Zvyk je tendence vykonávat za určitých okolností určitou činnost.</td>\n",
       "      <td>|||||||||||||||||||||||||||||||||||||||||||||||||||||||||||||||||||||||zzzzzzzzzzzzzzzzvvyyyyyyyyyyyyyyykjjjjeeeeeee||||teeeeeeennnnnnnnnnnddeennnnnnnnnnnncccccccccceeeeeevvyyyyyyyyykkkkkoooooooonnnnnnnnnááááááááááávaaaaaaaaatttt|zzzzaaaaaauuuuuuuuuuuurrrrrrččččččččččččyyyyyyyyyyytttýýýýýýýýýýýýH|||||||||||||||||||?okooooooooolnoooooooooooooosssssssssssťťťťťýýýýýýýýý||||||||||||||?uuuurčččččččččččččččyyyyyyyytttttOOOOOOOO|||||||||||ččččččyyyyyyyyyyyynnnooooooooosssssssssssssst|||||||||||||||||||||||||||||||||||||||||||||||||||||||||||||||||||||||||||||||</td>\n",
       "    </tr>\n",
       "    <tr>\n",
       "      <th>10753</th>\n",
       "      <td>/data4T/commonvoice/cv-corpus-7.0-2021-07-21/cs/clips/common_voice_cs_23959824.wav</td>\n",
       "      <td>Jeho žena Marie byla mladší sestra spisovatele Zdeňka Bára.</td>\n",
       "      <td>||||||||||||||||||||||||||||||||||||||||||jjjjjeeehoooooooooooožžžžžžžžžeeeeeeeennnnnaaammmmmmmmmmmaaaaaaaaaryyyjjjjjjjjjeeeeeee|||||bylllllllaaaaaaaaammmmmmmmmmmlaaaaaaaaaatttttššššššýýýýýýýýsssssssssssssseeeesssssssssssssttttrraaaaaaaaasssssssssssppppppyyyyyssssssssssssssoooovvvaaaaaaaaatttttttttelllllllleeeeeeeeeezzzzzzzzzdddeeeeeeeeeeeňka|||||||||||||||||||||||||||||báraaaaaaaaaaaaaaaaaaaaaaaa||||||||||||||||||||||||||||||||||||||||||||||||||||||||||||||||||||||||||||||||</td>\n",
       "    </tr>\n",
       "    <tr>\n",
       "      <th>10754</th>\n",
       "      <td>/data4T/commonvoice/cv-corpus-7.0-2021-07-21/cs/clips/common_voice_cs_23959825.wav</td>\n",
       "      <td>Za stejnou roli získal i Oscara.</td>\n",
       "      <td>||||||||||||||||||||||||||||||||||||||||||||zzzzzzzaaaassssssssssssstteeeeejjjjjjjjnnnOroooooooooooooooooooooooooollyyyyyyyyzzzzzzzzýýýýýýýýýýýýsssssssssssssskkkaaaaaaalllllllllyyyyyyyyyyyyyyyy||||||||||||?ossssssssssssssssssscaaaaaaaaaarraaaaaaa||||||||||||||||||||||||||||||||||||||||||||||||||||||||||||||||||||||||||||||||||||||||||||||||||</td>\n",
       "    </tr>\n",
       "    <tr>\n",
       "      <th>10755</th>\n",
       "      <td>/data4T/commonvoice/cv-corpus-7.0-2021-07-21/cs/clips/common_voice_cs_23959827.wav</td>\n",
       "      <td>Brzy po narození se rodina přestěhovala do Prahy.</td>\n",
       "      <td>||||||||||||||||||||||||||||||||||||||||||||||||||||||||||||||||||||||||||||||||||brrrrrrrrzzzzzzzzzzzzzyyyyy|||||||||pooooooonnnnnnaaaaaaaaaaaaroooooozzzzzzzzzzzeeeeeňňňňýýýýýýýýýýýýýýssssssssssssseeeeerrrrrrrooooďyyyyyyyyyyyynnnnnnnnaaaaa|||||||pŘessssssssssssssssssssssssssťeeeeeehoooooooooooooovaaaaaaalaaaaaaaaa|||||dooooo||||||||praaaaaaaaaaaaaaahhhhyyyyyyyy||||||||||||||||||||||||||||||||||||||||||||||||||||||||||||||||||||||||||||||||</td>\n",
       "    </tr>\n",
       "  </tbody>\n",
       "</table>\n",
       "<p>10756 rows × 3 columns</p>\n",
       "</div>"
      ],
      "text/plain": [
       "                                                                                      wav  \\\n",
       "0      /data4T/commonvoice/cv-corpus-7.0-2021-07-21/cs/clips/common_voice_cs_23896695.wav   \n",
       "1      /data4T/commonvoice/cv-corpus-7.0-2021-07-21/cs/clips/common_voice_cs_23896696.wav   \n",
       "2      /data4T/commonvoice/cv-corpus-7.0-2021-07-21/cs/clips/common_voice_cs_23896697.wav   \n",
       "3      /data4T/commonvoice/cv-corpus-7.0-2021-07-21/cs/clips/common_voice_cs_23896703.wav   \n",
       "4      /data4T/commonvoice/cv-corpus-7.0-2021-07-21/cs/clips/common_voice_cs_23896704.wav   \n",
       "...                                                                                   ...   \n",
       "10751  /data4T/commonvoice/cv-corpus-7.0-2021-07-21/cs/clips/common_voice_cs_23959820.wav   \n",
       "10752  /data4T/commonvoice/cv-corpus-7.0-2021-07-21/cs/clips/common_voice_cs_23959822.wav   \n",
       "10753  /data4T/commonvoice/cv-corpus-7.0-2021-07-21/cs/clips/common_voice_cs_23959824.wav   \n",
       "10754  /data4T/commonvoice/cv-corpus-7.0-2021-07-21/cs/clips/common_voice_cs_23959825.wav   \n",
       "10755  /data4T/commonvoice/cv-corpus-7.0-2021-07-21/cs/clips/common_voice_cs_23959827.wav   \n",
       "\n",
       "                                                                                sentence  \\\n",
       "0                                        Ve srovnání s jinými sýry je téměř bez zápachu.   \n",
       "1                                    Na stavbě se podíleli příslušníci sedmnácti národů.   \n",
       "2                                                     Děkuji vám, vaše sdělení je jasné.   \n",
       "3                Při následné záchranné operaci byl zabit i pilot záchranné helikoptéry.   \n",
       "4                                     Občasně konzumuje i větší hmyz a výjimečně i ryby.   \n",
       "...                                                                                  ...   \n",
       "10751  Celkově tyto změny v signalizaci negativně ovlivňují proliferaci a přežití buněk.   \n",
       "10752                  Zvyk je tendence vykonávat za určitých okolností určitou činnost.   \n",
       "10753                        Jeho žena Marie byla mladší sestra spisovatele Zdeňka Bára.   \n",
       "10754                                                   Za stejnou roli získal i Oscara.   \n",
       "10755                                  Brzy po narození se rodina přestěhovala do Prahy.   \n",
       "\n",
       "                                                                                                                                                                                                                                                                                                                                                                                                                                                                                                                                                                                                                                                                                                        targets  \n",
       "0                                                                                                                                                                                                                                                              |||||||||||||||||||||||||||||||||||||||||||||||||||||||||||||||||||||||veeeeeeessssssssssroooooooooovnnnnnááááááááááááááááááááááňňňňňňňýýssssssssssjyyyyyynnnnnnýýýýýýýýýýýmmmmmmyyyyssssssssssssssýýýýryyyyyyyyyyyyyyyyjjjjjjjeeeeeeeeeeeeeeeeeeeeeeeeeeeetémmňeeeeeeeeeeeeŘŘŘŘŘŘ||||beeeeeeezzzzzzzzzáááááááááááááááááápppaaaHHHHHHHHHHHu|||||||||||||||||||||||||||||||||||||||||||||||||||||||||||||||||||||||||||||||||||||||||||||||||||||  \n",
       "1                                                                                                                                                                                                  |||||||||||||||||||||||||||||||||||||||||||||||||||||||||||||||||||||||||||||||||nnnnaaaasssssssssssttttaaaaaaaaavvvvvvbbbbbjeeeeeeeeeeessssssssssseeeeeeeeepppppooooooooooďýýýýýýýýýýleelllllllllllllyyyyyyyyyyyyppppŘŘŘŘŘŘýýýýýýýsssssslllllllluššššššššššňýýýýýýýýýýýýcccccyyyysssssssssseeeeeedmnnnnnnnnnnáááááááááááááácccccccccccťťťťyyyyyynnnáááááááááááároooooooooooooddddúúúúúúúúúúúúúú||||||||||||||||||||||||||||||||||||||||||||||||||||||||||||||||||||||||||||||||||||||||||||||||||||||||||||  \n",
       "2                                                                                                                                                                                                                                                                                                                                      ||||||||||||||||||||||||||||ďeeeeeeeeeeekkuuuuuuujyyyyyyyyyyvvvvvvvváááááááááááááááááááááááám|||||||||||||||vvvvvvvvaaaaaaaaašššššššššeeeeezzzzzzzzzďeeeeeeeeellleeeeeeeeeeeeňňňýýýýýýýýýýýýýýýýjeeeeeeeeeeejaaaaaasssssssssssssssssssnnnnnnééééééééééé|||||||||||||||||||||||||||||||||||||||||||||||||||||||||||||||||||||||||||||||||||||||||||||||||||||||||||||||||  \n",
       "3                                                                                                                                      |||||||||||||||||||||||||||||||||||||||||||||||||||||||||||||||||||||||||pppŘŘŘŘŘŘŘŘŘyyyyyyynnnááááááááááááássssssssssslllllllleddnnnééééééééééééézzzzzzáááááááááááHHHHHHHHHrrrrraaaaaaaaaaanéééééééééooooooooooopppeeeeeeraaaaaaaaaaaacccccccyyyyyyyyyybylllllllllllzzzzzzaaaaaaaaaaaabbyyyyyyyyyyyytyyyyyyyyyyy||||||pyyyyylooooooooooooodzzzzzzzááááááááááááHHHHHHHHrrraaaaaaaaaaaaaaaanééééééheeeeeeeellllyyyyyyykkkkoooooooooppppppttttééééééééééééééérrryyyyyyyy||||||||||||||||||||||||||||||||||||||||||||||||||||||||||||||||||||||||||||||||||||||||||||||||||  \n",
       "4                                                                                                                                                                                                                                      ||||||||||||||||||||||||||||||||||||||||||||||||||||||||||||||||||||||||||?oooooooopppččččččččaaaaaasssssssňeeeeeeeee|||||kooooooooooooooonzzzzuuuuummmmmmmmmmuuuujeeeeeeeeeeeeyyyyyyyyyyyyvjeeeeeeeeeeeeeeeeččččččččýýýýýýýýýhhhmmmmmmmyyyyyyyssssssssss|||||?aaaaavvvvvýýýýýjjjjyyymeeeeeeeeeeeeečččččččččččččččňeeeeeeeeeyyyyyyyyyyyyyyyyyyyyyrryyyyyyybbyyyyyyyyyyy|||||||||||||||||||||||||||||||||||||||||||||||||||||||||||||||||||||||||||||||||||||||||||||||||  \n",
       "...                                                                                                                                                                                                                                                                                                                                                                                                                                                                                                                                                                                                                                                                                                         ...  \n",
       "10751  |||||||||||||||||||||||||||||||||||||||||||||||||||||||||||||||||||||||||||||||||||||||||||cccccceelllllllllkooooooooooooooooovvvjjjeeeeeeee||||tttyyyyyytttttttooooozzzzzzzzzzzmňňňňňňňňňňeeeeennnnyyyyyyyyyyfsssssssssssyyyyyyyyyyyyyygnnnnnaaaalllyyyyyyyyyzzzzzzzzaaaaaaaaaccccccccccyyyyyyynnnnnneeeeeeeeeeeeeegaaaaaatttttttyyyyyyyyyyyyyyyyvňňňňňňňňňňeoooooooooooooooooovvvvllyyyyyyyyyyyyyyyyyyyvvvvvvvňujýýýýýýýýýýýýýý||||||||prrrrrooooooooollyyyyyyyffffffffferrrrrrraaaaaaaaaaaaacccccccccccccyyyyyyyyyyaaaaaaa|||||||||pŘŘŘŘeeežyyyyyťýýýýýýýýýýýýýý||||||||||||||||||||||||buuuuuňňňňňňňňňňňňeeeeeeeek||||||||||||||||||||||||||||||||||||||||||||||||||||||||||||||||||||||||||||||||||  \n",
       "10752                                                                                                                          |||||||||||||||||||||||||||||||||||||||||||||||||||||||||||||||||||||||zzzzzzzzzzzzzzzzvvyyyyyyyyyyyyyyykjjjjeeeeeee||||teeeeeeennnnnnnnnnnddeennnnnnnnnnnncccccccccceeeeeevvyyyyyyyyykkkkkoooooooonnnnnnnnnááááááááááávaaaaaaaaatttt|zzzzaaaaaauuuuuuuuuuuurrrrrrččččččččččččyyyyyyyyyyytttýýýýýýýýýýýýH|||||||||||||||||||?okooooooooolnoooooooooooooosssssssssssťťťťťýýýýýýýýý||||||||||||||?uuuurčččččččččččččččyyyyyyyytttttOOOOOOOO|||||||||||ččččččyyyyyyyyyyyynnnooooooooosssssssssssssst|||||||||||||||||||||||||||||||||||||||||||||||||||||||||||||||||||||||||||||||  \n",
       "10753                                                                                                                                                                                                          ||||||||||||||||||||||||||||||||||||||||||jjjjjeeehoooooooooooožžžžžžžžžeeeeeeeennnnnaaammmmmmmmmmmaaaaaaaaaryyyjjjjjjjjjeeeeeee|||||bylllllllaaaaaaaaammmmmmmmmmmlaaaaaaaaaatttttššššššýýýýýýýýsssssssssssssseeeesssssssssssssttttrraaaaaaaaasssssssssssppppppyyyyyssssssssssssssoooovvvaaaaaaaaatttttttttelllllllleeeeeeeeeezzzzzzzzzdddeeeeeeeeeeeňka|||||||||||||||||||||||||||||báraaaaaaaaaaaaaaaaaaaaaaaa||||||||||||||||||||||||||||||||||||||||||||||||||||||||||||||||||||||||||||||||  \n",
       "10754                                                                                                                                                                                                                                                                                                                                                  ||||||||||||||||||||||||||||||||||||||||||||zzzzzzzaaaassssssssssssstteeeeejjjjjjjjnnnOroooooooooooooooooooooooooollyyyyyyyyzzzzzzzzýýýýýýýýýýýýsssssssssssssskkkaaaaaaalllllllllyyyyyyyyyyyyyyyy||||||||||||?ossssssssssssssssssscaaaaaaaaaarraaaaaaa||||||||||||||||||||||||||||||||||||||||||||||||||||||||||||||||||||||||||||||||||||||||||||||||||  \n",
       "10755                                                                                                                                                                                                                                              ||||||||||||||||||||||||||||||||||||||||||||||||||||||||||||||||||||||||||||||||||brrrrrrrrzzzzzzzzzzzzzyyyyy|||||||||pooooooonnnnnnaaaaaaaaaaaaroooooozzzzzzzzzzzeeeeeňňňňýýýýýýýýýýýýýýssssssssssssseeeeerrrrrrrooooďyyyyyyyyyyyynnnnnnnnaaaaa|||||||pŘessssssssssssssssssssssssssťeeeeeehoooooooooooooovaaaaaaalaaaaaaaaa|||||dooooo||||||||praaaaaaaaaaaaaaahhhhyyyyyyyy||||||||||||||||||||||||||||||||||||||||||||||||||||||||||||||||||||||||||||||||  \n",
       "\n",
       "[10756 rows x 3 columns]"
      ]
     },
     "execution_count": 11,
     "metadata": {},
     "output_type": "execute_result"
    }
   ],
   "source": [
    "df"
   ]
  },
  {
   "cell_type": "code",
   "execution_count": 8,
   "id": "c012a6f5",
   "metadata": {},
   "outputs": [],
   "source": [
    "def troubling_alignmet(s):\n",
    "    \"\"\"\n",
    "    Count cases of a 1-frame only for state alignment (these are suspicious).\n",
    "    Overall sum of troubling alignments hints quality of the acoustic model.\n",
    "    \"\"\"\n",
    "    troubles = \"\"\n",
    "    for i in range(1,len(s)-1):\n",
    "        if s[i-1]!=s[i]!=s[i+1]:\n",
    "            troubles += s[i]\n",
    "    return troubles"
   ]
  },
  {
   "cell_type": "code",
   "execution_count": 6,
   "id": "bb2b5208",
   "metadata": {},
   "outputs": [
    {
     "data": {
      "text/plain": [
       "array(['|||||||||||||||||||||||||||||||||||||||||||||||||||||||||||||||||||||||veeeeeeessssssssssroooooooooovnnnnnááááááááááááááááááááááňňňňňňňýýssssssssssjyyyyyynnnnnnýýýýýýýýýýýmmmmmmyyyyssssssssssssssýýýýryyyyyyyyyyyyyyyyjjjjjjjeeeeeeeeeeeeeeeeeeeeeeeeeeeetémmňeeeeeeeeeeeeŘŘŘŘŘŘ||||beeeeeeezzzzzzzzzáááááááááááááááááápppaaaHHHHHHHHHHHu|||||||||||||||||||||||||||||||||||||||||||||||||||||||||||||||||||||||||||||||||||||||||||||||||||||',\n",
       "       '|||||||||||||||||||||||||||||||||||||||||||||||||||||||||||||||||||||||||||||||||nnnnaaaasssssssssssttttaaaaaaaaavvvvvvbbbbbjeeeeeeeeeeessssssssssseeeeeeeeepppppooooooooooďýýýýýýýýýýleelllllllllllllyyyyyyyyyyyyppppŘŘŘŘŘŘýýýýýýýsssssslllllllluššššššššššňýýýýýýýýýýýýcccccyyyysssssssssseeeeeedmnnnnnnnnnnáááááááááááááácccccccccccťťťťyyyyyynnnáááááááááááároooooooooooooddddúúúúúúúúúúúúúú||||||||||||||||||||||||||||||||||||||||||||||||||||||||||||||||||||||||||||||||||||||||||||||||||||||||||||',\n",
       "       '||||||||||||||||||||||||||||ďeeeeeeeeeeekkuuuuuuujyyyyyyyyyyvvvvvvvváááááááááááááááááááááááám|||||||||||||||vvvvvvvvaaaaaaaaašššššššššeeeeezzzzzzzzzďeeeeeeeeellleeeeeeeeeeeeňňňýýýýýýýýýýýýýýýýjeeeeeeeeeeejaaaaaasssssssssssssssssssnnnnnnééééééééééé|||||||||||||||||||||||||||||||||||||||||||||||||||||||||||||||||||||||||||||||||||||||||||||||||||||||||||||||||',\n",
       "       ...,\n",
       "       '||||||||||||||||||||||||||||||||||||||||||jjjjjeeehoooooooooooožžžžžžžžžeeeeeeeennnnnaaammmmmmmmmmmaaaaaaaaaryyyjjjjjjjjjeeeeeee|||||bylllllllaaaaaaaaammmmmmmmmmmlaaaaaaaaaatttttššššššýýýýýýýýsssssssssssssseeeesssssssssssssttttrraaaaaaaaasssssssssssppppppyyyyyssssssssssssssoooovvvaaaaaaaaatttttttttelllllllleeeeeeeeeezzzzzzzzzdddeeeeeeeeeeeňka|||||||||||||||||||||||||||||báraaaaaaaaaaaaaaaaaaaaaaaa||||||||||||||||||||||||||||||||||||||||||||||||||||||||||||||||||||||||||||||||',\n",
       "       '||||||||||||||||||||||||||||||||||||||||||||zzzzzzzaaaassssssssssssstteeeeejjjjjjjjnnnOroooooooooooooooooooooooooollyyyyyyyyzzzzzzzzýýýýýýýýýýýýsssssssssssssskkkaaaaaaalllllllllyyyyyyyyyyyyyyyy||||||||||||?ossssssssssssssssssscaaaaaaaaaarraaaaaaa||||||||||||||||||||||||||||||||||||||||||||||||||||||||||||||||||||||||||||||||||||||||||||||||||',\n",
       "       '||||||||||||||||||||||||||||||||||||||||||||||||||||||||||||||||||||||||||||||||||brrrrrrrrzzzzzzzzzzzzzyyyyy|||||||||pooooooonnnnnnaaaaaaaaaaaaroooooozzzzzzzzzzzeeeeeňňňňýýýýýýýýýýýýýýssssssssssssseeeeerrrrrrrooooďyyyyyyyyyyyynnnnnnnnaaaaa|||||||pŘessssssssssssssssssssssssssťeeeeeehoooooooooooooovaaaaaaalaaaaaaaaa|||||dooooo||||||||praaaaaaaaaaaaaaahhhhyyyyyyyy||||||||||||||||||||||||||||||||||||||||||||||||||||||||||||||||||||||||||||||||'],\n",
       "      dtype=object)"
      ]
     },
     "execution_count": 6,
     "metadata": {},
     "output_type": "execute_result"
    }
   ],
   "source": [
    "df.targets.values"
   ]
  },
  {
   "cell_type": "code",
   "execution_count": 17,
   "id": "cd706de6",
   "metadata": {},
   "outputs": [
    {
     "data": {
      "text/plain": [
       "['mega_training_0000.tsv',\n",
       " 'mega_training_0001.tsv',\n",
       " 'mega_training_0002.tsv',\n",
       " 'mega_training_0003.tsv',\n",
       " 'mega_training_0004.tsv',\n",
       " 'mega_training_0005.tsv']"
      ]
     },
     "execution_count": 17,
     "metadata": {},
     "output_type": "execute_result"
    }
   ],
   "source": [
    "tsvs = !ls mega*.tsv\n",
    "tsvs"
   ]
  },
  {
   "cell_type": "code",
   "execution_count": 22,
   "id": "8dccafd2",
   "metadata": {},
   "outputs": [
    {
     "name": "stdout",
     "output_type": "stream",
     "text": [
      "0.025719495445432013\n",
      "0.02668309836919628\n",
      "0.027844828947160696\n",
      "0.027685971614858786\n",
      "0.02758177699193281\n",
      "0.028732851301643433\n",
      "0.028803695751701056\n"
     ]
    }
   ],
   "source": [
    "tsvs = !ls mega*.tsv\n",
    "for t in tsvs:\n",
    "    df = pd.read_csv(t, sep=\"\\t\", keep_default_na=False)\n",
    "    print(len(\"\".join([troubling_alignmet(s) for s in df.targets.values])) / len(\"\".join([s for s in df.targets.values])))\n",
    "    sss = \"\".join([s for s in df.targets.values])"
   ]
  },
  {
   "cell_type": "code",
   "execution_count": 31,
   "id": "73f76116",
   "metadata": {},
   "outputs": [
    {
     "data": {
      "text/plain": [
       "Counter({'|': 2005632,\n",
       "         'v': 36345,\n",
       "         'e': 378002,\n",
       "         's': 302798,\n",
       "         'r': 60276,\n",
       "         'o': 383798,\n",
       "         'n': 101281,\n",
       "         'á': 142502,\n",
       "         'ň': 64013,\n",
       "         'ý': 202058,\n",
       "         'j': 47731,\n",
       "         'y': 226059,\n",
       "         'm': 67708,\n",
       "         't': 72288,\n",
       "         'é': 42751,\n",
       "         'Ř': 17317,\n",
       "         'b': 15619,\n",
       "         'z': 73206,\n",
       "         'p': 28923,\n",
       "         'a': 322700,\n",
       "         'H': 14306,\n",
       "         'u': 50937,\n",
       "         'ď': 2562,\n",
       "         'l': 105154,\n",
       "         'š': 38177,\n",
       "         'c': 51871,\n",
       "         'd': 28206,\n",
       "         'ť': 6187,\n",
       "         'ú': 12730,\n",
       "         'k': 53893,\n",
       "         'h': 11518,\n",
       "         '?': 3917,\n",
       "         'č': 35228,\n",
       "         'g': 1930,\n",
       "         'O': 24033,\n",
       "         'f': 8229,\n",
       "         'ó': 423,\n",
       "         'ž': 17465,\n",
       "         'ř': 8190,\n",
       "         'N': 793,\n",
       "         'A': 339,\n",
       "         'G': 252,\n",
       "         'Ž': 15,\n",
       "         'E': 12,\n",
       "         'Z': 66})"
      ]
     },
     "execution_count": 31,
     "metadata": {},
     "output_type": "execute_result"
    }
   ],
   "source": [
    "from collections import Counter\n",
    "c=Counter(sss)\n",
    "c"
   ]
  },
  {
   "cell_type": "code",
   "execution_count": 71,
   "id": "4ad6533c",
   "metadata": {},
   "outputs": [
    {
     "name": "stdout",
     "output_type": "stream",
     "text": [
      "[384, 12, 68, 15, 334, 3753, 367240, 298798, 8678, 19058, 1850879]\n",
      "[335, 13, 66, 15, 320, 3634, 367949, 305331, 8078, 18273, 1888549]\n",
      "[290, 13, 63, 15, 333, 3591, 375330, 301030, 8176, 18329, 1931079]\n",
      "[293, 12, 64, 15, 339, 3615, 387071, 302443, 7884, 17822, 1933577]\n",
      "[284, 13, 64, 15, 343, 3702, 381505, 301124, 8059, 17233, 1949730]\n",
      "[261, 12, 69, 15, 345, 3928, 378993, 299689, 7994, 17803, 2003990]\n",
      "[252, 12, 66, 15, 339, 3917, 378002, 302798, 8190, 17317, 2005632]\n",
      "[246, 12, 67, 15, 343, 4099, 382766, 303776, 7947, 17340, 2017318]\n",
      "[240, 15, 67, 15, 339, 4256, 379065, 305439, 7781, 17163, 2052907]\n",
      "[240, 14, 71, 15, 343, 4337, 384494, 307828, 8010, 17178, 2058092]\n",
      "[248, 14, 75, 15, 343, 4367, 376920, 307111, 7903, 17433, 2066137]\n",
      "[226, 12, 71, 15, 339, 4373, 375417, 304747, 7763, 16861, 2083847]\n",
      "[231, 15, 74, 15, 340, 4422, 370710, 299897, 7772, 16907, 2108937]\n",
      "[235, 14, 67, 15, 331, 4552, 367884, 298334, 7661, 16660, 2148837]\n",
      "[229, 13, 73, 15, 329, 4831, 365545, 303593, 7852, 16550, 2167477]\n",
      "[217, 12, 65, 15, 329, 5008, 357944, 303348, 7841, 16485, 2223590]\n",
      "[215, 13, 65, 15, 327, 5004, 358911, 304231, 7904, 16591, 2247915]\n",
      "[216, 14, 68, 16, 325, 5113, 358306, 297336, 7720, 16336, 2301198]\n",
      "[214, 13, 69, 17, 324, 5065, 356682, 295346, 7609, 16170, 2317546]\n",
      "[218, 13, 65, 16, 326, 5121, 349443, 296206, 7408, 16028, 2356791]\n",
      "[209, 15, 68, 15, 321, 5058, 342585, 295868, 7573, 16030, 2381777]\n",
      "[214, 14, 69, 16, 313, 5076, 331652, 290849, 7335, 15888, 2437441]\n",
      "[212, 15, 59, 14, 306, 4974, 322510, 275150, 6886, 14926, 2551261]\n",
      "[198, 13, 50, 15, 284, 4551, 303435, 255497, 6394, 13862, 2731993]\n"
     ]
    }
   ],
   "source": [
    "tsvs = !ls mega*.tsv\n",
    "for t in tsvs:\n",
    "    df = pd.read_csv(t, sep=\"\\t\", keep_default_na=False)\n",
    "    sss = \"\".join([s for s in df.targets.values])\n",
    "    c=Counter(sss)\n",
    "    print([c[x] for x in ['G', 'E', 'Z', 'Ž','A', '?', 'e', 's', 'ř', 'Ř', '|']])"
   ]
  },
  {
   "cell_type": "code",
   "execution_count": 72,
   "id": "bfd2b475",
   "metadata": {},
   "outputs": [
    {
     "name": "stdout",
     "output_type": "stream",
     "text": [
      "[32730, 81604, 63950, 2013]\n",
      "[31732, 77636, 60661, 1922]\n",
      "[30175, 73937, 57045, 1915]\n",
      "[29257, 74633, 54572, 1940]\n",
      "[30436, 78384, 57354, 1933]\n",
      "[29034, 72449, 55585, 1921]\n",
      "[28923, 72288, 53893, 1930]\n",
      "[28120, 71359, 55742, 1904]\n",
      "[27669, 68336, 53450, 1893]\n",
      "[27138, 66120, 51473, 1888]\n",
      "[26669, 65329, 53112, 1884]\n",
      "[25528, 62835, 52981, 1874]\n",
      "[25496, 65978, 53627, 1857]\n",
      "[25324, 64567, 50253, 1851]\n",
      "[25424, 64411, 50401, 1853]\n",
      "[25217, 60208, 49486, 1868]\n",
      "[25648, 59051, 48515, 1856]\n",
      "[25128, 59178, 48224, 1845]\n",
      "[24628, 57643, 48055, 1831]\n",
      "[24227, 58278, 47209, 1829]\n",
      "[24083, 56945, 45098, 1831]\n",
      "[23874, 55840, 43738, 1806]\n",
      "[22342, 50767, 40923, 1764]\n",
      "[19991, 44834, 38119, 1632]\n"
     ]
    }
   ],
   "source": [
    "tsvs = !ls mega*.tsv\n",
    "for t in tsvs:\n",
    "    df = pd.read_csv(t, sep=\"\\t\", keep_default_na=False)\n",
    "    sss = \"\".join([s for s in df.targets.values])\n",
    "    c=Counter(sss)\n",
    "    print([c[x] for x in ['p', 't', 'k', 'g']])"
   ]
  },
  {
   "cell_type": "code",
   "execution_count": 42,
   "id": "70b11987",
   "metadata": {},
   "outputs": [],
   "source": [
    "vowels_and_diphtongs = \"AEOaeiouyáéíóúůýě\""
   ]
  },
  {
   "cell_type": "code",
   "execution_count": 73,
   "id": "2335084d",
   "metadata": {},
   "outputs": [
    {
     "name": "stdout",
     "output_type": "stream",
     "text": [
      "Counter({'|': 1850879, 'v': 1809754, 'c': 1406807})  1.29\n",
      "Counter({'|': 1888549, 'v': 1811163, 'c': 1367728})  1.32\n",
      "Counter({'|': 1931079, 'v': 1821603, 'c': 1314758})  1.39\n",
      "Counter({'|': 1933577, 'v': 1823556, 'c': 1310307})  1.39\n",
      "Counter({'|': 1949730, 'v': 1810648, 'c': 1307062})  1.39\n",
      "Counter({'|': 2003990, 'v': 1777924, 'c': 1285526})  1.38\n",
      "Counter({'|': 2005632, 'v': 1786344, 'c': 1275464})  1.40\n",
      "Counter({'|': 2017318, 'v': 1783467, 'c': 1266655})  1.41\n",
      "Counter({'|': 2052907, 'v': 1754816, 'c': 1259717})  1.39\n",
      "Counter({'|': 2058092, 'v': 1752864, 'c': 1256484})  1.40\n",
      "Counter({'|': 2066137, 'v': 1743078, 'c': 1258225})  1.39\n",
      "Counter({'|': 2083847, 'v': 1738300, 'c': 1245293})  1.40\n",
      "Counter({'|': 2108937, 'v': 1725564, 'c': 1232939})  1.40\n",
      "Counter({'|': 2148837, 'v': 1704901, 'c': 1213702})  1.40\n",
      "Counter({'|': 2167477, 'v': 1678842, 'c': 1221121})  1.37\n",
      "Counter({'|': 2223590, 'v': 1636647, 'c': 1207203})  1.36\n",
      "Counter({'|': 2247915, 'v': 1615133, 'c': 1204392})  1.34\n",
      "Counter({'|': 2301198, 'v': 1590351, 'c': 1175891})  1.35\n",
      "Counter({'|': 2317546, 'v': 1589505, 'c': 1160389})  1.37\n",
      "Counter({'|': 2356791, 'v': 1558158, 'c': 1152491})  1.35\n",
      "Counter({'|': 2381777, 'v': 1541350, 'c': 1144313})  1.35\n",
      "Counter({'|': 2437441, 'v': 1507263, 'c': 1122736})  1.34\n",
      "Counter({'|': 2551261, 'v': 1449405, 'c': 1066774})  1.36\n",
      "Counter({'|': 2731993, 'v': 1351458, 'c': 983989})  1.37\n"
     ]
    }
   ],
   "source": [
    "tsvs = !ls mega*.tsv\n",
    "for t in tsvs:\n",
    "    df = pd.read_csv(t, sep=\"\\t\", keep_default_na=False)\n",
    "    sss = \"\".join([s for s in df.targets.values])\n",
    "    \n",
    "    ccc = \"\".join(['|' if s=='|' else 'v' if s in vowels_and_diphtongs else 'c' for ss in df.targets.values for s in ss])\n",
    "    c=Counter(ccc)\n",
    "    print(c, end=''); print(\"  %.2f\" % (c['v']/c['c']) )"
   ]
  },
  {
   "cell_type": "code",
   "execution_count": 74,
   "id": "4eace4c3",
   "metadata": {},
   "outputs": [],
   "source": [
    "tsvs = !ls mega*.tsv\n",
    "cc = []\n",
    "for t in tsvs[-5], tsvs[-1]:\n",
    "    df = pd.read_csv(t, sep=\"\\t\", keep_default_na=False)\n",
    "    #print(len(\"\".join([troubling_alignmet(s) for s in df.targets.values])) / len(\"\".join([s for s in df.targets.values])))\n",
    "    sss = \"\".join([s for s in df.targets.values])\n",
    "    cc.append(Counter(sss))"
   ]
  },
  {
   "cell_type": "code",
   "execution_count": 75,
   "id": "3b23fc25",
   "metadata": {},
   "outputs": [
    {
     "name": "stdout",
     "output_type": "stream",
     "text": [
      "|: 2356791 -> 2731993  15.9 %\n",
      "v: 31124 -> 26899  -13.6 %\n",
      "e: 349443 -> 303435  -13.2 %\n",
      "s: 296206 -> 255497  -13.7 %\n",
      "r: 55228 -> 46376  -16.0 %\n",
      "o: 333688 -> 289039  -13.4 %\n",
      "n: 93325 -> 81402  -12.8 %\n",
      "á: 133297 -> 120856  -9.3 %\n",
      "ň: 53445 -> 46130  -13.7 %\n",
      "ý: 174789 -> 147661  -15.5 %\n",
      "j: 37288 -> 31804  -14.7 %\n",
      "y: 184023 -> 153650  -16.5 %\n",
      "m: 56894 -> 51652  -9.2 %\n",
      "t: 58278 -> 44834  -23.1 %\n",
      "é: 36323 -> 30100  -17.1 %\n",
      "Ř: 16028 -> 13862  -13.5 %\n",
      "b: 11752 -> 10708  -8.9 %\n",
      "z: 70999 -> 59460  -16.3 %\n",
      "p: 24227 -> 19991  -17.5 %\n",
      "a: 285141 -> 252025  -11.6 %\n",
      "H: 13451 -> 12083  -10.2 %\n",
      "u: 35730 -> 32234  -9.8 %\n",
      "ď: 2529 -> 2326  -8.0 %\n",
      "l: 98053 -> 88127  -10.1 %\n",
      "š: 35560 -> 29496  -17.1 %\n",
      "c: 43605 -> 33003  -24.3 %\n",
      "d: 21696 -> 18628  -14.1 %\n",
      "ť: 5283 -> 4545  -14.0 %\n",
      "ú: 8641 -> 7457  -13.7 %\n",
      "k: 47209 -> 38119  -19.3 %\n",
      "h: 11347 -> 10053  -11.4 %\n",
      "?: 5121 -> 4551  -11.1 %\n",
      "č: 30265 -> 25944  -14.3 %\n",
      "g: 1829 -> 1632  -10.8 %\n",
      "O: 16384 -> 14394  -12.1 %\n",
      "f: 7065 -> 5900  -16.5 %\n",
      "ó: 360 -> 310  -13.9 %\n",
      "ž: 16237 -> 13650  -15.9 %\n",
      "ř: 7408 -> 6394  -13.7 %\n",
      "N: 740 -> 660  -10.8 %\n",
      "A: 326 -> 284  -12.9 %\n",
      "G: 218 -> 198  -9.2 %\n",
      "Ž: 16 -> 15  -6.2 %\n",
      "E: 13 -> 13  0.0 %\n",
      "Z: 65 -> 50  -23.1 %\n"
     ]
    }
   ],
   "source": [
    "for p in cc[0]:\n",
    "    print(f\"{p}: {cc[0][p]} -> {cc[1][p]}  {'%.1f' % (cc[1][p] / cc[0][p] * 100 - 100)} %\")"
   ]
  },
  {
   "cell_type": "markdown",
   "id": "70b466b2",
   "metadata": {},
   "source": [
    "## Find wavs with most added silence"
   ]
  },
  {
   "cell_type": "code",
   "execution_count": 86,
   "id": "975e2fbc",
   "metadata": {},
   "outputs": [],
   "source": [
    "tsvs = !ls mega*.tsv\n",
    "cc = []\n",
    "for t in tsvs[5], tsvs[-1]:\n",
    "    df = pd.read_csv(t, sep=\"\\t\", keep_default_na=False)\n",
    "    df['sil'] = [len(\"\".join(['|' if c=='|' else '' for c in s])) for s in df.targets.values]\n",
    "    df['tot'] = [len(s) for s in df.targets.values]\n",
    "    cc.append(df)"
   ]
  },
  {
   "cell_type": "code",
   "execution_count": 87,
   "id": "0683574e",
   "metadata": {},
   "outputs": [
    {
     "data": {
      "text/html": [
       "<div>\n",
       "<style scoped>\n",
       "    .dataframe tbody tr th:only-of-type {\n",
       "        vertical-align: middle;\n",
       "    }\n",
       "\n",
       "    .dataframe tbody tr th {\n",
       "        vertical-align: top;\n",
       "    }\n",
       "\n",
       "    .dataframe thead th {\n",
       "        text-align: right;\n",
       "    }\n",
       "</style>\n",
       "<table border=\"1\" class=\"dataframe\">\n",
       "  <thead>\n",
       "    <tr style=\"text-align: right;\">\n",
       "      <th></th>\n",
       "      <th>wav</th>\n",
       "      <th>sentence</th>\n",
       "      <th>targets</th>\n",
       "      <th>sil</th>\n",
       "      <th>tot</th>\n",
       "    </tr>\n",
       "  </thead>\n",
       "  <tbody>\n",
       "    <tr>\n",
       "      <th>0</th>\n",
       "      <td>/data4T/commonvoice/cv-corpus-7.0-2021-07-21/cs/clips/common_voice_cs_23896695.wav</td>\n",
       "      <td>Ve srovnání s jinými sýry je téměř bez zápachu.</td>\n",
       "      <td>|||||||||||||||||||||||||||||||||||||||||||||||||||||||||||||||||||||||veeeeeeeesssssssssroooooooooovnnnnnáááááááááááááááááááááňňňňýýýýssssssssssssjyyyyyyynnnnnýýýýýýýýýýýmmmmmmyyyyssssssssssssssýýýýýýýýryyyyyyyyyyyyjjjjjjeeeeeeeeeeeeeeeeeeeeeeeeeeetémmmňňeeeeeeeeeeeeŘŘŘŘŘ||||||beeeeeezzzzzzzzzáááááááááááááááááápppaaaHHHHHHHHHHHu|||||||||||||||||||||||||||||||||||||||||||||||||||||||||||||||||||||||||||||||||||||||||||||||||||||</td>\n",
       "      <td>178</td>\n",
       "      <td>432</td>\n",
       "    </tr>\n",
       "    <tr>\n",
       "      <th>1</th>\n",
       "      <td>/data4T/commonvoice/cv-corpus-7.0-2021-07-21/cs/clips/common_voice_cs_23896696.wav</td>\n",
       "      <td>Na stavbě se podíleli příslušníci sedmnácti národů.</td>\n",
       "      <td>|||||||||||||||||||||||||||||||||||||||||||||||||||||||||||||||||||||||||||||||||nnnnaaaasssssssssssttttaaaaaaaaavvvvvvbbbbbbjeeeeeeeeeessssssssssseeeeee|||pppppooooooooooďýýýýýýýýýýýlellllllllllllllyyyyyyyyyyyppppŘŘŘŘŘŘýýýýýýýsssssslllllllluššššššššššňýýýýýýýýýýýýcccccyyyysssssssssseeeeedmnnnnnnnnnnnáááááááááááááácccccccccccťťťyyyyyyynnnáááááááááááááárooooooooooooooooooodúúú||||||||||||||||||||||||||||||||||||||||||||||||||||||||||||||||||||||||||||||||||||||||||||||||||||||||||||||||||</td>\n",
       "      <td>198</td>\n",
       "      <td>492</td>\n",
       "    </tr>\n",
       "    <tr>\n",
       "      <th>2</th>\n",
       "      <td>/data4T/commonvoice/cv-corpus-7.0-2021-07-21/cs/clips/common_voice_cs_23896697.wav</td>\n",
       "      <td>Děkuji vám, vaše sdělení je jasné.</td>\n",
       "      <td>||||||||||||||||||||||||||||ďeeeeeeeeeeeekkkkuuuujjjyyyyyyyyyvvvvvvvááááááááááááááám|||||||||||||||||||||||||||vvvvvaaaaaaaaašššššššššeeeeeezzzzzzzzďeeeeeeeeelllleeeeeeeeeeeeeeeňýýýýýýýýýýýjjjjeeeeeeeeeeejaaaaaasssssssssssssssssssnnnééé||||||||||||||||||||||||||||||||||||||||||||||||||||||||||||||||||||||||||||||||||||||||||||||||||||||||||||||||||||||||||||</td>\n",
       "      <td>179</td>\n",
       "      <td>360</td>\n",
       "    </tr>\n",
       "    <tr>\n",
       "      <th>3</th>\n",
       "      <td>/data4T/commonvoice/cv-corpus-7.0-2021-07-21/cs/clips/common_voice_cs_23896703.wav</td>\n",
       "      <td>Při následné záchranné operaci byl zabit i pilot záchranné helikoptéry.</td>\n",
       "      <td>||||||||||||||||||||||||||||||||||||||||||||||||||||||||||||||||||||||||||ppŘŘŘŘŘŘŘŘŘyyyyyyynnnnnááááááááááássssssssssllllllllleddnnnnéééééééééééézzzzzzááááááááááááHHHHHHHHrrraaaaaaaaaaaannnééééééééooooooooopppppeeeerrraaaaaaaaaaaccccccccyyyyyyyyyybylllllllllllzzzzzzaaaaaaaaaaaabyyyyyyyydyy|||||||||||||||||||||pyyyylooooooooooooodzzzzzzzááááááááááááHHHHHHHHrrraaaaaaaaaaaaaaannnéééééhhheeeeeeelllyyyyyyykkkkoooooooooppppppttttééééééééééééérrrrryyyyyyyy||||||||||||||||||||||||||||||||||||||||||||||||||||||||||||||||||||||||||||||||||||||||||||||||||</td>\n",
       "      <td>193</td>\n",
       "      <td>552</td>\n",
       "    </tr>\n",
       "    <tr>\n",
       "      <th>4</th>\n",
       "      <td>/data4T/commonvoice/cv-corpus-7.0-2021-07-21/cs/clips/common_voice_cs_23896704.wav</td>\n",
       "      <td>Občasně konzumuje i větší hmyz a výjimečně i ryby.</td>\n",
       "      <td>||||||||||||||||||||||||||||||||||||||||||||||||||||||||||||||||||||||||||?oooooooopppččččččččaaaaaasssssssňeeeeeeeee|||||kooooooooooooooonzzzzuuuuummmmmmmmmmuuuujeeeeeeeeeeeeyyyyyyyyyyyyvjeeeeeeeeeeeeeeeeččččččččýýýýýýýýýý|||hmmmmyyyyyyyyssssssssss||||||?aaaavvvvvvýýjjjjjjyyymeeeeeeeeeeeeečččččččččččččččňňeeeeeeeeyyyyyyyyyyyyyyyyyyyyyrrryyyyyybbyyyyyyyyyyy|||||||||||||||||||||||||||||||||||||||||||||||||||||||||||||||||||||||||||||||||||||||||||||||||</td>\n",
       "      <td>185</td>\n",
       "      <td>456</td>\n",
       "    </tr>\n",
       "    <tr>\n",
       "      <th>...</th>\n",
       "      <td>...</td>\n",
       "      <td>...</td>\n",
       "      <td>...</td>\n",
       "      <td>...</td>\n",
       "      <td>...</td>\n",
       "    </tr>\n",
       "    <tr>\n",
       "      <th>10751</th>\n",
       "      <td>/data4T/commonvoice/cv-corpus-7.0-2021-07-21/cs/clips/common_voice_cs_23959820.wav</td>\n",
       "      <td>Celkově tyto změny v signalizaci negativně ovlivňují proliferaci a přežití buněk.</td>\n",
       "      <td>||||||||||||||||||||||||||||||||||||||||||||||||||||||||||||||||||||||||||||||||||||||||||||||||||||||||||||||||||||||||||||||||||||||||||||||||||||||||||||||||||||||||||||||||||||||||||||||||||||||||||||||||||||||||||||||||||||||||||||||||||||||||||||||||||||||||||||||||||||||||||||||||||||||||||||||||||||||||||||||||||||||||||||||||||||||||||||||||||||||||||||||||||||||||||||||||||||||||||||||||||||||||||||||||||||||||||||||||||||||||||||||||||||||||||||||||||||||||||||||||||||||||||||||||||||||||||||||||||||||||||||||||||||||||||||||||||||||||||||||||||||||||||||||||||||||||||||||||||||||||||||||||||||||||||||||||||||||||||||||||||||||||||||||||||||||||||||||||||||||||</td>\n",
       "      <td>680</td>\n",
       "      <td>680</td>\n",
       "    </tr>\n",
       "    <tr>\n",
       "      <th>10752</th>\n",
       "      <td>/data4T/commonvoice/cv-corpus-7.0-2021-07-21/cs/clips/common_voice_cs_23959822.wav</td>\n",
       "      <td>Zvyk je tendence vykonávat za určitých okolností určitou činnost.</td>\n",
       "      <td>||||||||||||||||||||||||||||||||||||||||||||||||||||||||||||||||||||||||||||||||||||||||||||||||||||||||||||||||||||||||||||||||||||||||||||||||||||||||||||||||||||||||||||||||||||||||||||||||||||||||||||||||||||||||||||||||||||||||||||||||||||||||||||||||||||||||||||||||||||||||||||||||||||||||||||||||||||||||||||||||||||||||||||||||||||||||||||||||||||||||||||||||||||||||||||||||||||||||||||||||||||||||||||||||||||||||||||||||||||||||||||||||||||||||||||||||||||||||||||||||||||||||||||||||||||||||||||||||||||||||||||||||||||||||||||||||||||||||||||||||</td>\n",
       "      <td>560</td>\n",
       "      <td>560</td>\n",
       "    </tr>\n",
       "    <tr>\n",
       "      <th>10753</th>\n",
       "      <td>/data4T/commonvoice/cv-corpus-7.0-2021-07-21/cs/clips/common_voice_cs_23959824.wav</td>\n",
       "      <td>Jeho žena Marie byla mladší sestra spisovatele Zdeňka Bára.</td>\n",
       "      <td>||||||||||||||||||||||||||||||||||||||||||||||||||||||||||||||||||||||||||||||||||||||||||||||||||||||||||||||||||||||||||||||||||||||||||||||||||||||||||||||||||||||||||||||||||||||||||||||||||||||||||||||||||||||||||||||||||||||||||||||||||||||||||||||||||||||||||||||||||||||||||||||||||||||||||||||||||||||||||||||||||||||||||||||||||||||||||||||||||||||||||||||||||||||||||||||||||||||||||||||||||||||||||||||||||||||||||||||||||||||||||||||||||||||||||||||||||||||||||||||||</td>\n",
       "      <td>480</td>\n",
       "      <td>480</td>\n",
       "    </tr>\n",
       "    <tr>\n",
       "      <th>10754</th>\n",
       "      <td>/data4T/commonvoice/cv-corpus-7.0-2021-07-21/cs/clips/common_voice_cs_23959825.wav</td>\n",
       "      <td>Za stejnou roli získal i Oscara.</td>\n",
       "      <td>|||||||||||||||||||||||||||||||||||||||||||||||||zzaaaassssssssssssssteeeeeeeeeeeejnnnnnO|||||||||||||rooooooolly||||||||||||||||||||zýýýýýýýýýssssssssssskalyoscaraaa||||||||||||||||||||||||||||||||||||||||||||||||||||||||||||||||||||||||||||||||||||||||||||||||||||||||||||||||||||||||||||||||||||||||||||||||||||||||||||||||||||||||||||||||||</td>\n",
       "      <td>260</td>\n",
       "      <td>344</td>\n",
       "    </tr>\n",
       "    <tr>\n",
       "      <th>10755</th>\n",
       "      <td>/data4T/commonvoice/cv-corpus-7.0-2021-07-21/cs/clips/common_voice_cs_23959827.wav</td>\n",
       "      <td>Brzy po narození se rodina přestěhovala do Prahy.</td>\n",
       "      <td>||||||||||||||||||||||||||||||||||||||||||||||||||||||||||||||||||||||||||||||||||||||||||||||||||||||||||||||||||||||||||||||||||||||||||||||||||||||||||||||||||||||||||||||||||||||||||||||||||||||||||||||||||||||||||||||||||||||||||||||||||||||||||||||||||||||||||||||||||||||||||||||||||||||||||||||||||||||||||||||||||||||||||||||||||||||||||||||||||||||||||||||||||||||||||||||||||||||||||||||||||||||||||||||||||||||||||||||||||||||||||||</td>\n",
       "      <td>444</td>\n",
       "      <td>444</td>\n",
       "    </tr>\n",
       "  </tbody>\n",
       "</table>\n",
       "<p>10756 rows × 5 columns</p>\n",
       "</div>"
      ],
      "text/plain": [
       "                                                                                      wav  \\\n",
       "0      /data4T/commonvoice/cv-corpus-7.0-2021-07-21/cs/clips/common_voice_cs_23896695.wav   \n",
       "1      /data4T/commonvoice/cv-corpus-7.0-2021-07-21/cs/clips/common_voice_cs_23896696.wav   \n",
       "2      /data4T/commonvoice/cv-corpus-7.0-2021-07-21/cs/clips/common_voice_cs_23896697.wav   \n",
       "3      /data4T/commonvoice/cv-corpus-7.0-2021-07-21/cs/clips/common_voice_cs_23896703.wav   \n",
       "4      /data4T/commonvoice/cv-corpus-7.0-2021-07-21/cs/clips/common_voice_cs_23896704.wav   \n",
       "...                                                                                   ...   \n",
       "10751  /data4T/commonvoice/cv-corpus-7.0-2021-07-21/cs/clips/common_voice_cs_23959820.wav   \n",
       "10752  /data4T/commonvoice/cv-corpus-7.0-2021-07-21/cs/clips/common_voice_cs_23959822.wav   \n",
       "10753  /data4T/commonvoice/cv-corpus-7.0-2021-07-21/cs/clips/common_voice_cs_23959824.wav   \n",
       "10754  /data4T/commonvoice/cv-corpus-7.0-2021-07-21/cs/clips/common_voice_cs_23959825.wav   \n",
       "10755  /data4T/commonvoice/cv-corpus-7.0-2021-07-21/cs/clips/common_voice_cs_23959827.wav   \n",
       "\n",
       "                                                                                sentence  \\\n",
       "0                                        Ve srovnání s jinými sýry je téměř bez zápachu.   \n",
       "1                                    Na stavbě se podíleli příslušníci sedmnácti národů.   \n",
       "2                                                     Děkuji vám, vaše sdělení je jasné.   \n",
       "3                Při následné záchranné operaci byl zabit i pilot záchranné helikoptéry.   \n",
       "4                                     Občasně konzumuje i větší hmyz a výjimečně i ryby.   \n",
       "...                                                                                  ...   \n",
       "10751  Celkově tyto změny v signalizaci negativně ovlivňují proliferaci a přežití buněk.   \n",
       "10752                  Zvyk je tendence vykonávat za určitých okolností určitou činnost.   \n",
       "10753                        Jeho žena Marie byla mladší sestra spisovatele Zdeňka Bára.   \n",
       "10754                                                   Za stejnou roli získal i Oscara.   \n",
       "10755                                  Brzy po narození se rodina přestěhovala do Prahy.   \n",
       "\n",
       "                                                                                                                                                                                                                                                                                                                                                                                                                                                                                                                                                                                                                                                                                                        targets  \\\n",
       "0                                                                                                                                                                                                                                                              |||||||||||||||||||||||||||||||||||||||||||||||||||||||||||||||||||||||veeeeeeeesssssssssroooooooooovnnnnnáááááááááááááááááááááňňňňýýýýssssssssssssjyyyyyyynnnnnýýýýýýýýýýýmmmmmmyyyyssssssssssssssýýýýýýýýryyyyyyyyyyyyjjjjjjeeeeeeeeeeeeeeeeeeeeeeeeeeetémmmňňeeeeeeeeeeeeŘŘŘŘŘ||||||beeeeeezzzzzzzzzáááááááááááááááááápppaaaHHHHHHHHHHHu|||||||||||||||||||||||||||||||||||||||||||||||||||||||||||||||||||||||||||||||||||||||||||||||||||||   \n",
       "1                                                                                                                                                                                                  |||||||||||||||||||||||||||||||||||||||||||||||||||||||||||||||||||||||||||||||||nnnnaaaasssssssssssttttaaaaaaaaavvvvvvbbbbbbjeeeeeeeeeessssssssssseeeeee|||pppppooooooooooďýýýýýýýýýýýlellllllllllllllyyyyyyyyyyyppppŘŘŘŘŘŘýýýýýýýsssssslllllllluššššššššššňýýýýýýýýýýýýcccccyyyysssssssssseeeeedmnnnnnnnnnnnáááááááááááááácccccccccccťťťyyyyyyynnnáááááááááááááárooooooooooooooooooodúúú||||||||||||||||||||||||||||||||||||||||||||||||||||||||||||||||||||||||||||||||||||||||||||||||||||||||||||||||||   \n",
       "2                                                                                                                                                                                                                                                                                                                                      ||||||||||||||||||||||||||||ďeeeeeeeeeeeekkkkuuuujjjyyyyyyyyyvvvvvvvááááááááááááááám|||||||||||||||||||||||||||vvvvvaaaaaaaaašššššššššeeeeeezzzzzzzzďeeeeeeeeelllleeeeeeeeeeeeeeeňýýýýýýýýýýýjjjjeeeeeeeeeeejaaaaaasssssssssssssssssssnnnééé||||||||||||||||||||||||||||||||||||||||||||||||||||||||||||||||||||||||||||||||||||||||||||||||||||||||||||||||||||||||||||   \n",
       "3                                                                                                                                      ||||||||||||||||||||||||||||||||||||||||||||||||||||||||||||||||||||||||||ppŘŘŘŘŘŘŘŘŘyyyyyyynnnnnááááááááááássssssssssllllllllleddnnnnéééééééééééézzzzzzááááááááááááHHHHHHHHrrraaaaaaaaaaaannnééééééééooooooooopppppeeeerrraaaaaaaaaaaccccccccyyyyyyyyyybylllllllllllzzzzzzaaaaaaaaaaaabyyyyyyyydyy|||||||||||||||||||||pyyyylooooooooooooodzzzzzzzááááááááááááHHHHHHHHrrraaaaaaaaaaaaaaannnéééééhhheeeeeeelllyyyyyyykkkkoooooooooppppppttttééééééééééééérrrrryyyyyyyy||||||||||||||||||||||||||||||||||||||||||||||||||||||||||||||||||||||||||||||||||||||||||||||||||   \n",
       "4                                                                                                                                                                                                                                      ||||||||||||||||||||||||||||||||||||||||||||||||||||||||||||||||||||||||||?oooooooopppččččččččaaaaaasssssssňeeeeeeeee|||||kooooooooooooooonzzzzuuuuummmmmmmmmmuuuujeeeeeeeeeeeeyyyyyyyyyyyyvjeeeeeeeeeeeeeeeeččččččččýýýýýýýýýý|||hmmmmyyyyyyyyssssssssss||||||?aaaavvvvvvýýjjjjjjyyymeeeeeeeeeeeeečččččččččččččččňňeeeeeeeeyyyyyyyyyyyyyyyyyyyyyrrryyyyyybbyyyyyyyyyyy|||||||||||||||||||||||||||||||||||||||||||||||||||||||||||||||||||||||||||||||||||||||||||||||||   \n",
       "...                                                                                                                                                                                                                                                                                                                                                                                                                                                                                                                                                                                                                                                                                                         ...   \n",
       "10751  ||||||||||||||||||||||||||||||||||||||||||||||||||||||||||||||||||||||||||||||||||||||||||||||||||||||||||||||||||||||||||||||||||||||||||||||||||||||||||||||||||||||||||||||||||||||||||||||||||||||||||||||||||||||||||||||||||||||||||||||||||||||||||||||||||||||||||||||||||||||||||||||||||||||||||||||||||||||||||||||||||||||||||||||||||||||||||||||||||||||||||||||||||||||||||||||||||||||||||||||||||||||||||||||||||||||||||||||||||||||||||||||||||||||||||||||||||||||||||||||||||||||||||||||||||||||||||||||||||||||||||||||||||||||||||||||||||||||||||||||||||||||||||||||||||||||||||||||||||||||||||||||||||||||||||||||||||||||||||||||||||||||||||||||||||||||||||||||||||||||||   \n",
       "10752                                                                                                                          ||||||||||||||||||||||||||||||||||||||||||||||||||||||||||||||||||||||||||||||||||||||||||||||||||||||||||||||||||||||||||||||||||||||||||||||||||||||||||||||||||||||||||||||||||||||||||||||||||||||||||||||||||||||||||||||||||||||||||||||||||||||||||||||||||||||||||||||||||||||||||||||||||||||||||||||||||||||||||||||||||||||||||||||||||||||||||||||||||||||||||||||||||||||||||||||||||||||||||||||||||||||||||||||||||||||||||||||||||||||||||||||||||||||||||||||||||||||||||||||||||||||||||||||||||||||||||||||||||||||||||||||||||||||||||||||||||||||||||||||||   \n",
       "10753                                                                                                                                                                                                          ||||||||||||||||||||||||||||||||||||||||||||||||||||||||||||||||||||||||||||||||||||||||||||||||||||||||||||||||||||||||||||||||||||||||||||||||||||||||||||||||||||||||||||||||||||||||||||||||||||||||||||||||||||||||||||||||||||||||||||||||||||||||||||||||||||||||||||||||||||||||||||||||||||||||||||||||||||||||||||||||||||||||||||||||||||||||||||||||||||||||||||||||||||||||||||||||||||||||||||||||||||||||||||||||||||||||||||||||||||||||||||||||||||||||||||||||||||||||||||||||   \n",
       "10754                                                                                                                                                                                                                                                                                                                                                  |||||||||||||||||||||||||||||||||||||||||||||||||zzaaaassssssssssssssteeeeeeeeeeeejnnnnnO|||||||||||||rooooooolly||||||||||||||||||||zýýýýýýýýýssssssssssskalyoscaraaa||||||||||||||||||||||||||||||||||||||||||||||||||||||||||||||||||||||||||||||||||||||||||||||||||||||||||||||||||||||||||||||||||||||||||||||||||||||||||||||||||||||||||||||||||   \n",
       "10755                                                                                                                                                                                                                                              ||||||||||||||||||||||||||||||||||||||||||||||||||||||||||||||||||||||||||||||||||||||||||||||||||||||||||||||||||||||||||||||||||||||||||||||||||||||||||||||||||||||||||||||||||||||||||||||||||||||||||||||||||||||||||||||||||||||||||||||||||||||||||||||||||||||||||||||||||||||||||||||||||||||||||||||||||||||||||||||||||||||||||||||||||||||||||||||||||||||||||||||||||||||||||||||||||||||||||||||||||||||||||||||||||||||||||||||||||||||||||||   \n",
       "\n",
       "       sil  tot  \n",
       "0      178  432  \n",
       "1      198  492  \n",
       "2      179  360  \n",
       "3      193  552  \n",
       "4      185  456  \n",
       "...    ...  ...  \n",
       "10751  680  680  \n",
       "10752  560  560  \n",
       "10753  480  480  \n",
       "10754  260  344  \n",
       "10755  444  444  \n",
       "\n",
       "[10756 rows x 5 columns]"
      ]
     },
     "execution_count": 87,
     "metadata": {},
     "output_type": "execute_result"
    }
   ],
   "source": [
    "cc[1]"
   ]
  },
  {
   "cell_type": "code",
   "execution_count": null,
   "id": "e9800013",
   "metadata": {},
   "outputs": [],
   "source": []
  },
  {
   "cell_type": "code",
   "execution_count": null,
   "id": "9a204935",
   "metadata": {},
   "outputs": [],
   "source": []
  },
  {
   "cell_type": "code",
   "execution_count": null,
   "id": "bb82379c",
   "metadata": {},
   "outputs": [],
   "source": []
  }
 ],
 "metadata": {
  "kernelspec": {
   "display_name": "Python 3 (ipykernel)",
   "language": "python",
   "name": "python3"
  },
  "language_info": {
   "codemirror_mode": {
    "name": "ipython",
    "version": 3
   },
   "file_extension": ".py",
   "mimetype": "text/x-python",
   "name": "python",
   "nbconvert_exporter": "python",
   "pygments_lexer": "ipython3",
   "version": "3.10.5"
  }
 },
 "nbformat": 4,
 "nbformat_minor": 5
}
