{
 "cells": [
  {
   "cell_type": "markdown",
   "id": "bab82522",
   "metadata": {},
   "source": [
    "# Train & Align NN Acoustic Model with Window-to-MFCC input\n",
    "Repeatedly re-align phone labels sequence while training the phones model.\n",
    "To avoid proliferation of the more frequent phones (and mostly the silence), we diminish b() probabilities of frequent phones during re-alignment."
   ]
  },
  {
   "cell_type": "code",
   "execution_count": null,
   "id": "25c34a21",
   "metadata": {},
   "outputs": [],
   "source": [
    "%run ../prongen/hmm_pron.py --in-jupyter\n",
    "%run ../acmodel/plot.py\n",
    "%matplotlib ipympl\n",
    "%run ../acmodel/matrix.py\n",
    "%run ../acmodel/praat_ifc.py\n",
    "%run ../acmodel/hmm_acmodel.py\n",
    "\n",
    "device = \"cuda\" if torch.cuda.is_available() else \"cpu\"\n",
    "#device = \"cpu\"\n",
    "print(f\"Using {device} device\")\n",
    "\n",
    "%run ../acmodel/nn_acmodel.py"
   ]
  },
  {
   "cell_type": "markdown",
   "id": "954f3e19",
   "metadata": {},
   "source": [
    "## Get training data\n",
    "We previously aligned Czech CommonVoice train set using an ultra-prinmitive HMM/GMM and then NNs. Let's continue on it."
   ]
  },
  {
   "cell_type": "code",
   "execution_count": null,
   "id": "a5d2f4eb",
   "metadata": {},
   "outputs": [],
   "source": [
    "#infile = \"mega4_training_0021.tsv\"\n",
    "infile = 'nn_train.tsv'\n",
    "df = pd.read_csv(infile, sep=\"\\t\", keep_default_na=False)\n",
    "hmms = get_training_hmms(infile, derivatives=0)\n",
    "b_log_corr = b_log_corrections(infile) # get b() corrections based on frequency"
   ]
  },
  {
   "cell_type": "code",
   "execution_count": null,
   "id": "7d8e853f",
   "metadata": {},
   "outputs": [],
   "source": [
    "\n",
    "# CONDITIONAL:\n",
    "\n",
    "for hmm in hmms:\n",
    "    triple_hmm_states(hmm)"
   ]
  },
  {
   "cell_type": "code",
   "execution_count": null,
   "id": "a7b61546",
   "metadata": {},
   "outputs": [],
   "source": []
  },
  {
   "cell_type": "code",
   "execution_count": null,
   "id": "04035f88",
   "metadata": {},
   "outputs": [],
   "source": [
    "all_mfcc, all_targets, b_set = collect_training_material(hmms)\n",
    "\n",
    "out_size = len(b_set)\n",
    "in_size = hmms[0].mfcc.size(1)\n",
    "\n",
    "\" \".join(b_set), out_size, in_size"
   ]
  },
  {
   "cell_type": "markdown",
   "id": "3256bf7b",
   "metadata": {},
   "source": [
    "## Changes for the Window-to-MFCC input"
   ]
  },
  {
   "cell_type": "code",
   "execution_count": null,
   "id": "953b4f50",
   "metadata": {},
   "outputs": [],
   "source": [
    "sideview = 9 # how many additional MFCC frames before and after the focus point are seen\n",
    "in_size = hmms[0].mfcc.size(1) * (sideview+1+sideview)\n",
    "in_size"
   ]
  },
  {
   "cell_type": "code",
   "execution_count": null,
   "id": "622c6ee6",
   "metadata": {},
   "outputs": [],
   "source": [
    "# for alignment decoding, change mfcc in all hmms (for training, we already have a copy)\n",
    "\n",
    "for hmm in hmms:\n",
    "    hmm.mfcc = mfcc_win_view(mfcc_add_sideview(hmm.mfcc))\n",
    "\n"
   ]
  },
  {
   "cell_type": "code",
   "execution_count": null,
   "id": "f62cb217",
   "metadata": {},
   "outputs": [],
   "source": []
  },
  {
   "cell_type": "code",
   "execution_count": null,
   "id": "6f0feb18",
   "metadata": {},
   "outputs": [],
   "source": []
  },
  {
   "cell_type": "code",
   "execution_count": null,
   "id": "0491c67a",
   "metadata": {},
   "outputs": [],
   "source": []
  },
  {
   "cell_type": "code",
   "execution_count": null,
   "id": "f74a3049",
   "metadata": {},
   "outputs": [],
   "source": []
  },
  {
   "cell_type": "code",
   "execution_count": null,
   "id": "592b9cb9",
   "metadata": {},
   "outputs": [],
   "source": []
  },
  {
   "cell_type": "code",
   "execution_count": null,
   "id": "28427ca9",
   "metadata": {},
   "outputs": [],
   "source": [
    "class SpeechDataset(Dataset):\n",
    "    def __init__(self, all_mfcc, all_targets, b_set, sidewiew = 9):\n",
    "        self.all_mfcc = all_mfcc\n",
    "        self.all_targets = all_targets\n",
    "        \n",
    "        self.wanted_outputs = torch.eye(len(b_set), device=device).double()\n",
    "        self.output_map = {}\n",
    "        for i, b in enumerate(b_set):\n",
    "            self.output_map[b] = self.wanted_outputs[i] # prepare outputs with one 1 at the right place\n",
    "\n",
    "    def __len__(self):\n",
    "        return len(self.all_targets) - 2*sideview\n",
    "\n",
    "    def __getitem__(self, idx):\n",
    "        idx += sideview\n",
    "        return self.all_mfcc[idx-sideview:idx+sideview+1], self.output_map[self.all_targets[idx]]\n"
   ]
  },
  {
   "cell_type": "code",
   "execution_count": null,
   "id": "c6629c2e",
   "metadata": {},
   "outputs": [],
   "source": []
  },
  {
   "cell_type": "code",
   "execution_count": null,
   "id": "ced17de2",
   "metadata": {},
   "outputs": [],
   "source": []
  },
  {
   "cell_type": "code",
   "execution_count": null,
   "id": "62ae2a40",
   "metadata": {},
   "outputs": [],
   "source": []
  },
  {
   "cell_type": "code",
   "execution_count": null,
   "id": "058dfde7",
   "metadata": {},
   "outputs": [],
   "source": []
  },
  {
   "cell_type": "markdown",
   "id": "bcc58a81",
   "metadata": {},
   "source": [
    "## Setup PyTorch training tools"
   ]
  },
  {
   "cell_type": "code",
   "execution_count": null,
   "id": "797a7ee8",
   "metadata": {},
   "outputs": [],
   "source": [
    "#model = NeuralNetwork(in_size, out_size).to(device)\n",
    "model = NeuralNetwork(in_size, out_size, 100).to(device) # 50 20\n",
    "print(model)"
   ]
  },
  {
   "cell_type": "code",
   "execution_count": null,
   "id": "a47e9e7f",
   "metadata": {},
   "outputs": [],
   "source": [
    "import torch.optim as optim\n",
    "\n",
    "criterion = nn.CrossEntropyLoss()\n",
    "optimizer = optim.SGD(model.parameters(), lr=0.001, momentum=0.9)"
   ]
  },
  {
   "cell_type": "code",
   "execution_count": null,
   "id": "30201b53",
   "metadata": {
    "scrolled": true
   },
   "outputs": [],
   "source": [
    "training_data = SpeechDataset(all_mfcc, all_targets, b_set, sidewiew = 9) # initial alignment\n",
    "\n",
    "\n",
    "for mega_epoch in range(100):\n",
    "    print(f\"============ Training Mega Epoch {mega_epoch} =============\")\n",
    "\n",
    "    all_targets = \"\".join([hmm.targets for hmm in hmms])  # collect alignments\n",
    "    training_data.all_targets = all_targets  # just update the object with new targets\n",
    "\n",
    "    train_dataloader = DataLoader(training_data, batch_size=64, shuffle=True) # new dataloader for this alignment\n",
    "\n",
    "    train_n_epochs(train_dataloader, optimizer, model, criterion, 5)\n",
    "\n",
    "    \n",
    "    filename_base = f\"wali_training_{'%04d' % mega_epoch}\"\n",
    "    torch.save(model.state_dict(), filename_base+\".pth\")\n",
    "\n",
    "    #continue\n",
    "    #STOP\n",
    "\n",
    "    print('Interrupted training for re-alignment...')\n",
    "\n",
    "    model.eval() # switch to evaluation mode\n",
    "\n",
    "\n",
    "    for idx, hmm in enumerate(hmms):\n",
    "        if idx%1000==0:\n",
    "            print(f\"Align {idx}\")\n",
    "    \n",
    "        alp = viterbi_log_align_nn(hmm, model, b_set, b_log_corr=b_log_corr*1.0) # b() corrections according to current frame frequency\n",
    "        hmm.intervals = backward_log_alignment_pass_intervals(hmm, alp) # also modifies alp\n",
    "        hmm.indices = i = alp.max(1).indices\n",
    "        s = \"\".join([hmm.b[ii] for ii in i])\n",
    "        hmm.troubling = troubling_alignmet(s)\n",
    "        hmm.targets = \"\".join([hmm.b[ii] for ii in i])\n",
    "\n",
    "\n",
    "    df['targets'] = [hmm.targets for hmm in hmms]\n",
    "\n",
    "    df.to_csv(filename_base+\".tsv\", sep=\"\\t\", index=False)\n",
    "    \n",
    "    b_log_corr = b_log_corrections(filename_base+\".tsv\") # get new b() corrections based on frequency\n"
   ]
  },
  {
   "cell_type": "code",
   "execution_count": null,
   "id": "30a9fe54",
   "metadata": {},
   "outputs": [],
   "source": []
  },
  {
   "cell_type": "code",
   "execution_count": null,
   "id": "c323f21a",
   "metadata": {},
   "outputs": [],
   "source": []
  },
  {
   "cell_type": "code",
   "execution_count": null,
   "id": "462fb23c",
   "metadata": {},
   "outputs": [],
   "source": []
  },
  {
   "cell_type": "code",
   "execution_count": null,
   "id": "a7759af9",
   "metadata": {},
   "outputs": [],
   "source": []
  }
 ],
 "metadata": {
  "kernelspec": {
   "display_name": "Python 3 (ipykernel)",
   "language": "python",
   "name": "python3"
  },
  "language_info": {
   "codemirror_mode": {
    "name": "ipython",
    "version": 3
   },
   "file_extension": ".py",
   "mimetype": "text/x-python",
   "name": "python",
   "nbconvert_exporter": "python",
   "pygments_lexer": "ipython3",
   "version": "3.10.5"
  }
 },
 "nbformat": 4,
 "nbformat_minor": 5
}
