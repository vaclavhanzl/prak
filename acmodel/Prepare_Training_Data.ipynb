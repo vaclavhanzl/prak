{
 "cells": [
  {
   "cell_type": "markdown",
   "id": "cc108b13",
   "metadata": {},
   "source": [
    "# Prepare Training Data\n",
    "Prepare training data for the `NN_Train_Align.ipynb` notebook. Currently we train on the CommonVoice data.\n",
    "First **go to the [CommonVoice Downloads](https://commonvoice.mozilla.org/en/datasets) page,** select Czech and Common Voice Corpus with the highest number (likely the second item listed). Down on the page, fill in starred fields (email, You are prepared..., You agree...) and right-click Download Dataset Bundle. Choose where to **save the .tar.gz archive.**\n",
    "\n",
    "Then edit location of the downloaded archive and other paths in the config cell below.\n",
    "\n"
   ]
  },
  {
   "cell_type": "code",
   "execution_count": 1,
   "id": "80a58006",
   "metadata": {},
   "outputs": [],
   "source": [
    "# config cell - edit paths as needed\n",
    "\n",
    "# Where is the archive you just downloaded:\n",
    "cv_archive = \"/data/commonvoice/dl4/cv-corpus-12.0-2022-12-07-cs.tar.gz\"\n",
    "\n",
    "# Where to uncompress the archive:\n",
    "uncompress_dir = \"/data/commonvoice/\"\n",
    "\n",
    "# Where to put similar hierarchy with wavs resampled to 16kHz and safe NFC textfiles:\n",
    "clean_dir = \"/data4T/commonvoice/\""
   ]
  },
  {
   "cell_type": "code",
   "execution_count": 2,
   "id": "ad0e9760",
   "metadata": {},
   "outputs": [
    {
     "name": "stdout",
     "output_type": "stream",
     "text": [
      "/usr/bin/parallel\n",
      "/usr/bin/mpg123\n"
     ]
    }
   ],
   "source": [
    "# Verify dependencies - install/modify if something fails below:\n",
    "import pandas as pd # install it via mamba/conda if needed\n",
    "import unicodedata\n",
    "!which parallel # not that critical, can use bash instead\n",
    "!which mpg123 # needs something to convert mp3 to wav, might use sox or ffmpeg\n",
    "# If your torchaudio.load() opens mp3s, you can also train directly from mp3s."
   ]
  },
  {
   "cell_type": "code",
   "execution_count": null,
   "id": "692fdd49",
   "metadata": {},
   "outputs": [],
   "source": [
    "# uncompress the archive\n",
    "!cd {uncompress_dir} && tar xzf {cv_archive}"
   ]
  },
  {
   "cell_type": "code",
   "execution_count": 4,
   "id": "d72e1113",
   "metadata": {},
   "outputs": [
    {
     "data": {
      "text/plain": [
       "('cv-corpus-12.0-2022-12-07', 'cs')"
      ]
     },
     "execution_count": 4,
     "metadata": {},
     "output_type": "execute_result"
    }
   ],
   "source": [
    "# get strings like 'cv-corpus-12.0-2022-12-07' and 'cs':\n",
    "corpus_name = cv_archive.split('/')[-1][:-len('-cs.tar.gz')]\n",
    "lang = cv_archive[-len('cs.tar.gz'):-len('.tar.gz')]\n",
    "corpus_name, lang"
   ]
  },
  {
   "cell_type": "code",
   "execution_count": 5,
   "id": "8554500b",
   "metadata": {},
   "outputs": [
    {
     "name": "stdout",
     "output_type": "stream",
     "text": [
      "-rw-r--r-- 1 hanzl hanzl 3502164 Dec  8 19:07 /data/commonvoice//cv-corpus-12.0-2022-12-07/cs/train.tsv\r\n"
     ]
    },
    {
     "data": {
      "text/plain": [
       "'/data4T/commonvoice//cv-corpus-12.0-2022-12-07/cs/train.tsv'"
      ]
     },
     "execution_count": 5,
     "metadata": {},
     "output_type": "execute_result"
    }
   ],
   "source": [
    "# Where we expect train.tsv:\n",
    "raw_train_tsv_file = f\"{uncompress_dir}/{corpus_name}/{lang}/train.tsv\"\n",
    "clean_train_tsv_file = f\"{clean_dir}/{corpus_name}/{lang}/train.tsv\"\n",
    "!ls -l {raw_train_tsv_file}\n",
    "clean_train_tsv_file"
   ]
  },
  {
   "cell_type": "code",
   "execution_count": 6,
   "id": "19fadf5e",
   "metadata": {},
   "outputs": [
    {
     "name": "stdout",
     "output_type": "stream",
     "text": [
      "  59925   59925 1737825\r\n"
     ]
    }
   ],
   "source": [
    "# clips paths, make dir for cleaned ones\n",
    "clean_clips = f\"{clean_dir}/{corpus_name}/{lang}/clips\"\n",
    "raw_clips = f\"{uncompress_dir}/{corpus_name}/{lang}/clips\"\n",
    "!mkdir -p {clean_clips}\n",
    "!ls {raw_clips}|wc"
   ]
  },
  {
   "cell_type": "code",
   "execution_count": 7,
   "id": "8c68144f",
   "metadata": {},
   "outputs": [],
   "source": [
    "# Clean text file (LF, NFC, no BOMs)\n",
    "import unicodedata\n",
    "\n",
    "def clean_textline(line):\n",
    "    if line and line[0] == '\\uFEFF':\n",
    "        line = line[1:]\n",
    "    line = line.rstrip(\"\\r\\n\")\n",
    "    line = unicodedata.normalize('NFC', line)\n",
    "    return line\n",
    "\n",
    "def clean_textfile(infile, outfile):\n",
    "    with open(infile, 'r') as f_in, open(outfile, 'w') as f_out:\n",
    "        for line in f_in:\n",
    "            if line and line[0] == '\\uFEFF':\n",
    "                line = line[1:]\n",
    "            line = line.rstrip(\"\\r\\n\")\n",
    "            line = unicodedata.normalize('NFC', line)\n",
    "            f_out.write(\"%s\\n\" % line)"
   ]
  },
  {
   "cell_type": "code",
   "execution_count": 8,
   "id": "b5b35f40",
   "metadata": {},
   "outputs": [],
   "source": [
    "# This is a bit paranoid, CV files seem to be already NFC clean, but rather be safe than sorry:\n",
    "clean_textfile(raw_train_tsv_file, clean_train_tsv_file)\n",
    "!diff {raw_train_tsv_file} {clean_train_tsv_file}"
   ]
  },
  {
   "cell_type": "code",
   "execution_count": 9,
   "id": "e61a3f62",
   "metadata": {},
   "outputs": [
    {
     "data": {
      "text/html": [
       "<style>.container { width:100% !important; }</style>"
      ],
      "text/plain": [
       "<IPython.core.display.HTML object>"
      ]
     },
     "metadata": {},
     "output_type": "display_data"
    }
   ],
   "source": [
    "# Use full width of browser window:\n",
    "from IPython.display import display, HTML\n",
    "display(HTML(\"<style>.container { width:100% !important; }</style>\"))\n",
    "import pandas as pd\n",
    "pd.set_option('display.max_colwidth', None)"
   ]
  },
  {
   "cell_type": "code",
   "execution_count": 10,
   "id": "4b4dfc54",
   "metadata": {},
   "outputs": [
    {
     "data": {
      "text/html": [
       "<div>\n",
       "<style scoped>\n",
       "    .dataframe tbody tr th:only-of-type {\n",
       "        vertical-align: middle;\n",
       "    }\n",
       "\n",
       "    .dataframe tbody tr th {\n",
       "        vertical-align: top;\n",
       "    }\n",
       "\n",
       "    .dataframe thead th {\n",
       "        text-align: right;\n",
       "    }\n",
       "</style>\n",
       "<table border=\"1\" class=\"dataframe\">\n",
       "  <thead>\n",
       "    <tr style=\"text-align: right;\">\n",
       "      <th></th>\n",
       "      <th>client_id</th>\n",
       "      <th>path</th>\n",
       "      <th>sentence</th>\n",
       "      <th>up_votes</th>\n",
       "      <th>down_votes</th>\n",
       "      <th>age</th>\n",
       "      <th>gender</th>\n",
       "      <th>accents</th>\n",
       "      <th>locale</th>\n",
       "      <th>segment</th>\n",
       "    </tr>\n",
       "  </thead>\n",
       "  <tbody>\n",
       "    <tr>\n",
       "      <th>0</th>\n",
       "      <td>2b8bbe</td>\n",
       "      <td>common_voice_cs_25695144.mp3</td>\n",
       "      <td>S judem začínala v rodném Kjóto.</td>\n",
       "      <td>2</td>\n",
       "      <td>0</td>\n",
       "      <td></td>\n",
       "      <td></td>\n",
       "      <td></td>\n",
       "      <td>cs</td>\n",
       "      <td></td>\n",
       "    </tr>\n",
       "    <tr>\n",
       "      <th>1</th>\n",
       "      <td>2b8bbe</td>\n",
       "      <td>common_voice_cs_25695145.mp3</td>\n",
       "      <td>Průtok se vyznačuje prudkými výkyvy a prudce roste v létě v období dešťů.</td>\n",
       "      <td>2</td>\n",
       "      <td>0</td>\n",
       "      <td></td>\n",
       "      <td></td>\n",
       "      <td></td>\n",
       "      <td>cs</td>\n",
       "      <td></td>\n",
       "    </tr>\n",
       "    <tr>\n",
       "      <th>2</th>\n",
       "      <td>2b8bbe</td>\n",
       "      <td>common_voice_cs_25695148.mp3</td>\n",
       "      <td>Dělí ji pouze přidané pásy jednotlivých pater.</td>\n",
       "      <td>2</td>\n",
       "      <td>0</td>\n",
       "      <td></td>\n",
       "      <td></td>\n",
       "      <td></td>\n",
       "      <td>cs</td>\n",
       "      <td></td>\n",
       "    </tr>\n",
       "    <tr>\n",
       "      <th>3</th>\n",
       "      <td>2b8bbe</td>\n",
       "      <td>common_voice_cs_25695233.mp3</td>\n",
       "      <td>Nesmíme jim ztěžovat použití dřeva, které je výborným přírodním materiálem.</td>\n",
       "      <td>2</td>\n",
       "      <td>0</td>\n",
       "      <td></td>\n",
       "      <td></td>\n",
       "      <td></td>\n",
       "      <td>cs</td>\n",
       "      <td></td>\n",
       "    </tr>\n",
       "    <tr>\n",
       "      <th>4</th>\n",
       "      <td>2b8bbe</td>\n",
       "      <td>common_voice_cs_25695235.mp3</td>\n",
       "      <td>Počet přeživších pacientů závisí na kmenu viru a na fyzické kondici pacienta.</td>\n",
       "      <td>2</td>\n",
       "      <td>1</td>\n",
       "      <td></td>\n",
       "      <td></td>\n",
       "      <td></td>\n",
       "      <td>cs</td>\n",
       "      <td></td>\n",
       "    </tr>\n",
       "    <tr>\n",
       "      <th>...</th>\n",
       "      <td>...</td>\n",
       "      <td>...</td>\n",
       "      <td>...</td>\n",
       "      <td>...</td>\n",
       "      <td>...</td>\n",
       "      <td>...</td>\n",
       "      <td>...</td>\n",
       "      <td>...</td>\n",
       "      <td>...</td>\n",
       "      <td>...</td>\n",
       "    </tr>\n",
       "    <tr>\n",
       "      <th>14810</th>\n",
       "      <td>419567</td>\n",
       "      <td>common_voice_cs_23959820.mp3</td>\n",
       "      <td>Celkově tyto změny v signalizaci negativně ovlivňují proliferaci a přežití buněk.</td>\n",
       "      <td>2</td>\n",
       "      <td>0</td>\n",
       "      <td>fourties</td>\n",
       "      <td>male</td>\n",
       "      <td></td>\n",
       "      <td>cs</td>\n",
       "      <td></td>\n",
       "    </tr>\n",
       "    <tr>\n",
       "      <th>14811</th>\n",
       "      <td>419567</td>\n",
       "      <td>common_voice_cs_23959822.mp3</td>\n",
       "      <td>Zvyk je tendence vykonávat za určitých okolností určitou činnost.</td>\n",
       "      <td>2</td>\n",
       "      <td>0</td>\n",
       "      <td>fourties</td>\n",
       "      <td>male</td>\n",
       "      <td></td>\n",
       "      <td>cs</td>\n",
       "      <td></td>\n",
       "    </tr>\n",
       "    <tr>\n",
       "      <th>14812</th>\n",
       "      <td>419567</td>\n",
       "      <td>common_voice_cs_23959824.mp3</td>\n",
       "      <td>Jeho žena Marie byla mladší sestra spisovatele Zdeňka Bára.</td>\n",
       "      <td>2</td>\n",
       "      <td>0</td>\n",
       "      <td>fourties</td>\n",
       "      <td>male</td>\n",
       "      <td></td>\n",
       "      <td>cs</td>\n",
       "      <td></td>\n",
       "    </tr>\n",
       "    <tr>\n",
       "      <th>14813</th>\n",
       "      <td>419567</td>\n",
       "      <td>common_voice_cs_23959825.mp3</td>\n",
       "      <td>Za stejnou roli získal i Oscara.</td>\n",
       "      <td>2</td>\n",
       "      <td>0</td>\n",
       "      <td>fourties</td>\n",
       "      <td>male</td>\n",
       "      <td></td>\n",
       "      <td>cs</td>\n",
       "      <td></td>\n",
       "    </tr>\n",
       "    <tr>\n",
       "      <th>14814</th>\n",
       "      <td>419567</td>\n",
       "      <td>common_voice_cs_23959827.mp3</td>\n",
       "      <td>Brzy po narození se rodina přestěhovala do Prahy.</td>\n",
       "      <td>2</td>\n",
       "      <td>0</td>\n",
       "      <td>fourties</td>\n",
       "      <td>male</td>\n",
       "      <td></td>\n",
       "      <td>cs</td>\n",
       "      <td></td>\n",
       "    </tr>\n",
       "  </tbody>\n",
       "</table>\n",
       "<p>14815 rows × 10 columns</p>\n",
       "</div>"
      ],
      "text/plain": [
       "      client_id                          path  \\\n",
       "0        2b8bbe  common_voice_cs_25695144.mp3   \n",
       "1        2b8bbe  common_voice_cs_25695145.mp3   \n",
       "2        2b8bbe  common_voice_cs_25695148.mp3   \n",
       "3        2b8bbe  common_voice_cs_25695233.mp3   \n",
       "4        2b8bbe  common_voice_cs_25695235.mp3   \n",
       "...         ...                           ...   \n",
       "14810    419567  common_voice_cs_23959820.mp3   \n",
       "14811    419567  common_voice_cs_23959822.mp3   \n",
       "14812    419567  common_voice_cs_23959824.mp3   \n",
       "14813    419567  common_voice_cs_23959825.mp3   \n",
       "14814    419567  common_voice_cs_23959827.mp3   \n",
       "\n",
       "                                                                                sentence  \\\n",
       "0                                                       S judem začínala v rodném Kjóto.   \n",
       "1              Průtok se vyznačuje prudkými výkyvy a prudce roste v létě v období dešťů.   \n",
       "2                                         Dělí ji pouze přidané pásy jednotlivých pater.   \n",
       "3            Nesmíme jim ztěžovat použití dřeva, které je výborným přírodním materiálem.   \n",
       "4          Počet přeživších pacientů závisí na kmenu viru a na fyzické kondici pacienta.   \n",
       "...                                                                                  ...   \n",
       "14810  Celkově tyto změny v signalizaci negativně ovlivňují proliferaci a přežití buněk.   \n",
       "14811                  Zvyk je tendence vykonávat za určitých okolností určitou činnost.   \n",
       "14812                        Jeho žena Marie byla mladší sestra spisovatele Zdeňka Bára.   \n",
       "14813                                                   Za stejnou roli získal i Oscara.   \n",
       "14814                                  Brzy po narození se rodina přestěhovala do Prahy.   \n",
       "\n",
       "       up_votes  down_votes       age gender accents locale segment  \n",
       "0             2           0                              cs          \n",
       "1             2           0                              cs          \n",
       "2             2           0                              cs          \n",
       "3             2           0                              cs          \n",
       "4             2           1                              cs          \n",
       "...         ...         ...       ...    ...     ...    ...     ...  \n",
       "14810         2           0  fourties   male             cs          \n",
       "14811         2           0  fourties   male             cs          \n",
       "14812         2           0  fourties   male             cs          \n",
       "14813         2           0  fourties   male             cs          \n",
       "14814         2           0  fourties   male             cs          \n",
       "\n",
       "[14815 rows x 10 columns]"
      ]
     },
     "execution_count": 10,
     "metadata": {},
     "output_type": "execute_result"
    }
   ],
   "source": [
    "# read tsv:\n",
    "df = pd.read_csv(clean_train_tsv_file, sep=\"\\t\", keep_default_na=False)\n",
    "df.client_id = [id[:6] for id in df.client_id.values] # shorten very long hash\n",
    "df"
   ]
  },
  {
   "cell_type": "code",
   "execution_count": 11,
   "id": "2273d929",
   "metadata": {},
   "outputs": [],
   "source": [
    "df['wav'] = [clean_clips+\"/\"+p.replace(\".mp3\",\".wav\") for p in df.path.values]\n",
    "df['mp3'] = [raw_clips+\"/\"+p for p in df.path.values]"
   ]
  },
  {
   "cell_type": "code",
   "execution_count": 12,
   "id": "e2f56b72",
   "metadata": {},
   "outputs": [],
   "source": [
    "cols = [\"wav\", \"mp3\", \"sentence\"]\n",
    "zf = df[cols]\n",
    "#zf"
   ]
  },
  {
   "cell_type": "code",
   "execution_count": 13,
   "id": "00ceb99d",
   "metadata": {},
   "outputs": [
    {
     "name": "stdout",
     "output_type": "stream",
     "text": [
      "  14815  103705 2814850 tmp_batch\n",
      "mpg123 -q -r 16000 -w /data4T/commonvoice//cv-corpus-12.0-2022-12-07/cs/clips/common_voice_cs_25695144.wav /data/commonvoice//cv-corpus-12.0-2022-12-07/cs/clips/common_voice_cs_25695144.mp3\n",
      "mpg123 -q -r 16000 -w /data4T/commonvoice//cv-corpus-12.0-2022-12-07/cs/clips/common_voice_cs_25695145.wav /data/commonvoice//cv-corpus-12.0-2022-12-07/cs/clips/common_voice_cs_25695145.mp3\n",
      "mpg123 -q -r 16000 -w /data4T/commonvoice//cv-corpus-12.0-2022-12-07/cs/clips/common_voice_cs_25695148.wav /data/commonvoice//cv-corpus-12.0-2022-12-07/cs/clips/common_voice_cs_25695148.mp3\n"
     ]
    }
   ],
   "source": [
    "with open('tmp_batch', 'w') as f:\n",
    "    for wav, mp3 in zip(zf.wav.values, zf.mp3.values):\n",
    "        f.write(f\"mpg123 -q -r 16000 -w {wav} {mp3}\\n\")\n",
    "!wc tmp_batch\n",
    "!head -n 3 tmp_batch"
   ]
  },
  {
   "cell_type": "code",
   "execution_count": 14,
   "id": "f3c27616",
   "metadata": {},
   "outputs": [],
   "source": [
    "# Convert mp3s to wavs in parallel.\n",
    "# If you do not have GNU parallel installed, replace it with bash or sh.\n",
    "!cat tmp_batch|parallel"
   ]
  },
  {
   "cell_type": "code",
   "execution_count": 15,
   "id": "49170800",
   "metadata": {},
   "outputs": [
    {
     "name": "stdout",
     "output_type": "stream",
     "text": [
      "total 2232352\r\n",
      "-rw-r--r-- 1 hanzl hanzl 129836 Feb 14 11:34 common_voice_cs_20487672.wav\r\n",
      "-rw-r--r-- 1 hanzl hanzl 185132 Feb 14 11:34 common_voice_cs_20487695.wav\r\n",
      "ls: write error: Broken pipe\r\n"
     ]
    }
   ],
   "source": [
    "!ls -l {clean_clips}|head -n 3"
   ]
  },
  {
   "cell_type": "code",
   "execution_count": 17,
   "id": "f38fab92",
   "metadata": {},
   "outputs": [],
   "source": [
    "cols = [\"wav\", \"sentence\"]\n",
    "ini_tsv = zf[cols]"
   ]
  },
  {
   "cell_type": "code",
   "execution_count": 18,
   "id": "6b520dfe",
   "metadata": {},
   "outputs": [
    {
     "name": "stdout",
     "output_type": "stream",
     "text": [
      "wav\tsentence\r\n",
      "/data4T/commonvoice//cv-corpus-12.0-2022-12-07/cs/clips/common_voice_cs_25695144.wav\tS judem začínala v rodném Kjóto.\r\n",
      "/data4T/commonvoice//cv-corpus-12.0-2022-12-07/cs/clips/common_voice_cs_25695145.wav\tPrůtok se vyznačuje prudkými výkyvy a prudce roste v létě v období dešťů.\r\n",
      "/data4T/commonvoice//cv-corpus-12.0-2022-12-07/cs/clips/common_voice_cs_25695148.wav\tDělí ji pouze přidané pásy jednotlivých pater.\r\n",
      "/data4T/commonvoice//cv-corpus-12.0-2022-12-07/cs/clips/common_voice_cs_25695233.wav\tNesmíme jim ztěžovat použití dřeva, které je výborným přírodním materiálem.\r\n",
      "/data4T/commonvoice//cv-corpus-12.0-2022-12-07/cs/clips/common_voice_cs_25695235.wav\tPočet přeživších pacientů závisí na kmenu viru a na fyzické kondici pacienta.\r\n",
      "/data4T/commonvoice//cv-corpus-12.0-2022-12-07/cs/clips/common_voice_cs_25695236.wav\tTo je bezpochyby pravda.\r\n",
      "/data4T/commonvoice//cv-corpus-12.0-2022-12-07/cs/clips/common_voice_cs_25695238.wav\tPoté se i v samotném Mexiku situace poněkud uklidnila a film začal být přijímán.\r\n",
      "/data4T/commonvoice//cv-corpus-12.0-2022-12-07/cs/clips/common_voice_cs_25695239.wav\tJako jeden z nejvýznamnějších paláců města Košice sloužil jako dočasný příbytek pro významné hosty.\r\n",
      "/data4T/commonvoice//cv-corpus-12.0-2022-12-07/cs/clips/common_voice_cs_25695407.wav\tNejoblíbenější nápoj v Lucembursku je víno.\r\n"
     ]
    }
   ],
   "source": [
    "# Write initial tsv for NN AM training:\n",
    "ini_tsv.to_csv(\"initial_train.tsv\", sep=\"\\t\", index=False)\n",
    "!head initial_train.tsv"
   ]
  }
 ],
 "metadata": {
  "kernelspec": {
   "display_name": "Python 3 (ipykernel)",
   "language": "python",
   "name": "python3"
  },
  "language_info": {
   "codemirror_mode": {
    "name": "ipython",
    "version": 3
   },
   "file_extension": ".py",
   "mimetype": "text/x-python",
   "name": "python",
   "nbconvert_exporter": "python",
   "pygments_lexer": "ipython3",
   "version": "3.10.5"
  }
 },
 "nbformat": 4,
 "nbformat_minor": 5
}
