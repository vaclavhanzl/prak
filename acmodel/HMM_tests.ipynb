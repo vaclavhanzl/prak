{
 "cells": [
  {
   "cell_type": "markdown",
   "id": "042070f5",
   "metadata": {},
   "source": [
    "# Simple HMM in NumPy or PyTorch"
   ]
  },
  {
   "cell_type": "code",
   "execution_count": 1,
   "id": "89d8e35f",
   "metadata": {},
   "outputs": [],
   "source": [
    "%run /home/hanzl/f-w/prak/acmodel/matrix.py"
   ]
  },
  {
   "cell_type": "code",
   "execution_count": 2,
   "id": "47b3885a",
   "metadata": {},
   "outputs": [],
   "source": [
    "A = m([[0.7,0.3,0,0],\n",
    "       [0,0.9,0.1,0],\n",
    "       [0,0,0.8,0.2],\n",
    "       [0,0,0,1]])"
   ]
  },
  {
   "cell_type": "code",
   "execution_count": 3,
   "id": "ca7c8ea3",
   "metadata": {},
   "outputs": [],
   "source": [
    "# where we can be\n",
    "x = m([[1,0,0,0]])"
   ]
  },
  {
   "cell_type": "code",
   "execution_count": 4,
   "id": "47b96177",
   "metadata": {},
   "outputs": [],
   "source": [
    "# recording length in frames\n",
    "tmax = 14000"
   ]
  },
  {
   "cell_type": "code",
   "execution_count": 5,
   "id": "8d32b824",
   "metadata": {},
   "outputs": [],
   "source": [
    "len_x = x.size()[1]\n",
    "\n",
    "# allocate space for mantissa-like (kept in range) and row-exponent values\n",
    "alpha_m = m.rowlist((tmax,len_x))\n",
    "alpha_exp = m.rowlist((tmax,1))\n",
    "\n",
    "exponent = 0\n",
    "base = 1000 # base for separation to exp and m (somewhere around 5e-324 starts underflow)"
   ]
  },
  {
   "cell_type": "code",
   "execution_count": 6,
   "id": "cc41ebf0",
   "metadata": {},
   "outputs": [],
   "source": [
    "# FAKE b VALUES:\n",
    "b = m.zeros((tmax,len_x)) + 0.1"
   ]
  },
  {
   "cell_type": "code",
   "execution_count": 7,
   "id": "ec463cae",
   "metadata": {},
   "outputs": [],
   "source": [
    "x_m = m([[1,0,0,0]]) "
   ]
  },
  {
   "cell_type": "code",
   "execution_count": 8,
   "id": "968570cc",
   "metadata": {
    "scrolled": true
   },
   "outputs": [
    {
     "name": "stdout",
     "output_type": "stream",
     "text": [
      "CPU times: user 1.59 s, sys: 18.4 ms, total: 1.61 s\n",
      "Wall time: 214 ms\n"
     ]
    }
   ],
   "source": [
    "%%time\n",
    "x_m = m([[1,0,0,0]]) # mantissa-like moderated value (kept in range)\n",
    "for row in range(tmax):\n",
    "    while x_m.max()<1/base: # renormalize and remember power of base used\n",
    "        x_m *= base\n",
    "        exponent -= 1\n",
    "    alpha_exp[row] = exponent\n",
    "    alpha_m[row] = x_m\n",
    "    x_m = x_m@A*b[row]   # FINETUNE WHICH row's b IS USED (ALSO FOR beta)"
   ]
  },
  {
   "cell_type": "markdown",
   "id": "3af2f17e",
   "metadata": {},
   "source": [
    "Wall time: 6.77 s for GPU, 1.44 s for CPU (both PyTorch sparse)\n",
    "\n",
    "GPU: 7.01 torch sparse, 1.12 torch dense\n",
    "\n",
    "CPU: 1.54 torch sparse, 0.214 torch dense\n",
    "\n"
   ]
  },
  {
   "cell_type": "code",
   "execution_count": 9,
   "id": "b63ffe1f",
   "metadata": {},
   "outputs": [],
   "source": [
    "# Now we will go backward\n",
    "At = A.T()"
   ]
  },
  {
   "cell_type": "code",
   "execution_count": 10,
   "id": "94209a5e",
   "metadata": {},
   "outputs": [],
   "source": [
    "beta_m = m.rowlist((tmax,len_x))\n",
    "beta_exp = m.rowlist((tmax,1))\n",
    "\n",
    "exponent = 0"
   ]
  },
  {
   "cell_type": "code",
   "execution_count": 11,
   "id": "5d2e443b",
   "metadata": {},
   "outputs": [],
   "source": [
    "x_m = m([[0,0,0,1]])\n",
    "for row in range(tmax-1,0-1,-1):\n",
    "    beta_m[row] = x_m\n",
    "    beta_exp[row] = exponent\n",
    "    x_m = x_m@At*b[row]\n",
    "    while x_m.max()<1/base: # renormalize and remember power of base used\n",
    "        x_m *= base\n",
    "        exponent -= 1"
   ]
  },
  {
   "cell_type": "code",
   "execution_count": 12,
   "id": "08b8cf57",
   "metadata": {
    "scrolled": true
   },
   "outputs": [],
   "source": [
    "L_m = alpha_m*beta_m # this is .*"
   ]
  },
  {
   "cell_type": "code",
   "execution_count": 13,
   "id": "db654db5",
   "metadata": {},
   "outputs": [],
   "source": [
    "L_exp = alpha_exp+beta_exp"
   ]
  },
  {
   "cell_type": "code",
   "execution_count": 14,
   "id": "16e47d46",
   "metadata": {},
   "outputs": [],
   "source": [
    "L_exp += float(-L_exp.max())"
   ]
  },
  {
   "cell_type": "code",
   "execution_count": 15,
   "id": "18e2be50",
   "metadata": {},
   "outputs": [],
   "source": [
    "# re-normalize L\n",
    "for row in range(tmax):\n",
    "    while float(L_exp[row].val)<0: # renormalize and remember power of base used\n",
    "        L_m[row] *= 1/base  # invokes setitem which converts L_m to dense\n",
    "        L_exp[row] += 1"
   ]
  },
  {
   "cell_type": "code",
   "execution_count": 16,
   "id": "44f83838",
   "metadata": {},
   "outputs": [
    {
     "data": {
      "text/plain": [
       "torch.Size([14000, 4])"
      ]
     },
     "execution_count": 16,
     "metadata": {},
     "output_type": "execute_result"
    }
   ],
   "source": [
    "L_m.size()"
   ]
  },
  {
   "cell_type": "code",
   "execution_count": 17,
   "id": "bb9dbfbe",
   "metadata": {},
   "outputs": [
    {
     "data": {
      "text/plain": [
       "m(tensor([[1.0000e-04, 0.0000e+00, 0.0000e+00, 0.0000e+00],\n",
       "        [7.0000e-05, 3.0000e-05, 0.0000e+00, 0.0000e+00],\n",
       "        [4.9000e-05, 4.8000e-05, 3.0000e-06, 0.0000e+00],\n",
       "        ...,\n",
       "        [0.0000e+00, 0.0000e+00, 0.0000e+00, 1.0000e-04],\n",
       "        [0.0000e+00, 0.0000e+00, 0.0000e+00, 1.0000e-04],\n",
       "        [0.0000e+00, 0.0000e+00, 0.0000e+00, 1.0000e-04]]))"
      ]
     },
     "execution_count": 17,
     "metadata": {},
     "output_type": "execute_result"
    }
   ],
   "source": [
    "L_m # Final result here"
   ]
  },
  {
   "cell_type": "code",
   "execution_count": 18,
   "id": "7d6c3918",
   "metadata": {
    "scrolled": true
   },
   "outputs": [
    {
     "data": {
      "text/plain": [
       "(tensor(0.), tensor(0.))"
      ]
     },
     "execution_count": 18,
     "metadata": {},
     "output_type": "execute_result"
    }
   ],
   "source": [
    "# test - should be the same now\n",
    "L_exp.min(), L_exp.max()"
   ]
  },
  {
   "cell_type": "code",
   "execution_count": null,
   "id": "5eb875b1",
   "metadata": {},
   "outputs": [],
   "source": []
  },
  {
   "cell_type": "code",
   "execution_count": null,
   "id": "a034dc6f",
   "metadata": {},
   "outputs": [],
   "source": []
  }
 ],
 "metadata": {
  "kernelspec": {
   "display_name": "Python 3 (ipykernel)",
   "language": "python",
   "name": "python3"
  },
  "language_info": {
   "codemirror_mode": {
    "name": "ipython",
    "version": 3
   },
   "file_extension": ".py",
   "mimetype": "text/x-python",
   "name": "python",
   "nbconvert_exporter": "python",
   "pygments_lexer": "ipython3",
   "version": "3.10.5"
  }
 },
 "nbformat": 4,
 "nbformat_minor": 5
}
