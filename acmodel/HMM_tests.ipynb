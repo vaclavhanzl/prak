{
 "cells": [
  {
   "cell_type": "markdown",
   "id": "042070f5",
   "metadata": {},
   "source": [
    "# Simple HMM in NumPy or PyTorch"
   ]
  },
  {
   "cell_type": "code",
   "execution_count": null,
   "id": "7a4ce738",
   "metadata": {
    "scrolled": false
   },
   "outputs": [],
   "source": [
    "%run ../prongen/hmm_pron.py --in-jupyter\n",
    "%run ../acmodel/plot.py\n",
    "%matplotlib ipympl\n",
    "%run ../acmodel/matrix.py"
   ]
  },
  {
   "cell_type": "markdown",
   "id": "5c9fd438",
   "metadata": {},
   "source": [
    "# Get data"
   ]
  },
  {
   "cell_type": "code",
   "execution_count": null,
   "id": "eab4eeb4",
   "metadata": {},
   "outputs": [],
   "source": [
    "import pandas as pd\n",
    "df = pd.read_csv(\"maxi.tsv\", sep=\"\\t\", keep_default_na=False)\n",
    "df"
   ]
  },
  {
   "cell_type": "code",
   "execution_count": null,
   "id": "11378d18",
   "metadata": {},
   "outputs": [],
   "source": [
    "hmms = []\n",
    "for wav, sentence in list(zip(df.wav.values, df.sentence.values))[:]:\n",
    "    print(sentence)\n",
    "    hmm = HMM(sentence, wav=wav)\n",
    "    hmm.change_sil_loops()\n",
    "    hmms.append(hmm)\n",
    "     #print(hmm)"
   ]
  },
  {
   "cell_type": "code",
   "execution_count": null,
   "id": "0029c71c",
   "metadata": {},
   "outputs": [],
   "source": [
    "hmms[0].mfcc.size()"
   ]
  },
  {
   "cell_type": "code",
   "execution_count": null,
   "id": "ef5fee11",
   "metadata": {},
   "outputs": [],
   "source": [
    "for i, hmm in enumerate(hmms):\n",
    "    print(f\"{i}: {hmm.orto}\")\n",
    "    print(hmm.pretty_pron)"
   ]
  },
  {
   "cell_type": "code",
   "execution_count": null,
   "id": "20ee30cb",
   "metadata": {
    "scrolled": true
   },
   "outputs": [],
   "source": [
    "hmm = hmms[23] # 3"
   ]
  },
  {
   "cell_type": "code",
   "execution_count": null,
   "id": "30463104",
   "metadata": {},
   "outputs": [],
   "source": [
    "all_mfcc = torch.cat([hmm.mfcc for hmm in hmms])\n",
    "all_mfcc.size()"
   ]
  },
  {
   "cell_type": "code",
   "execution_count": null,
   "id": "d2493105",
   "metadata": {},
   "outputs": [],
   "source": [
    "global_mean = all_mfcc.mean(dim=0)\n",
    "global_mean"
   ]
  },
  {
   "cell_type": "code",
   "execution_count": null,
   "id": "bc46388c",
   "metadata": {
    "scrolled": true
   },
   "outputs": [],
   "source": [
    "global_var = all_mfcc.std(dim=0)**2  # Equals ((all_mfcc-global_mean)**2).mean(dim=0)\n",
    "global_var"
   ]
  },
  {
   "cell_type": "code",
   "execution_count": null,
   "id": "86e20db6",
   "metadata": {},
   "outputs": [],
   "source": []
  },
  {
   "cell_type": "code",
   "execution_count": null,
   "id": "765762dd",
   "metadata": {},
   "outputs": [],
   "source": [
    "import math"
   ]
  },
  {
   "cell_type": "code",
   "execution_count": null,
   "id": "2887b746",
   "metadata": {},
   "outputs": [],
   "source": [
    "phones = sorted([*{*\"\".join([hmm.b for hmm in hmms])}]) # set of phones ever seen in hmm.b\n",
    "\" \".join(sorted(phones)) # Never seen: ó"
   ]
  },
  {
   "cell_type": "code",
   "execution_count": null,
   "id": "4b1e5701",
   "metadata": {},
   "outputs": [],
   "source": [
    "pi = torch.tensor(math.pi)\n",
    "pi, pi.dtype"
   ]
  },
  {
   "cell_type": "code",
   "execution_count": null,
   "id": "81e57e36",
   "metadata": {},
   "outputs": [],
   "source": [
    "global_var.prod()*(2*pi)**global_var.size()[0]"
   ]
  },
  {
   "cell_type": "code",
   "execution_count": null,
   "id": "a256b9c9",
   "metadata": {},
   "outputs": [],
   "source": [
    "global_var.size()[0]"
   ]
  },
  {
   "cell_type": "code",
   "execution_count": null,
   "id": "9ce36c2e",
   "metadata": {},
   "outputs": [],
   "source": [
    "global_var.dtype"
   ]
  },
  {
   "cell_type": "code",
   "execution_count": null,
   "id": "ba41baf3",
   "metadata": {},
   "outputs": [],
   "source": [
    "(2*math.pi)**global_var.size()[0]"
   ]
  },
  {
   "cell_type": "code",
   "execution_count": null,
   "id": "b4d2130b",
   "metadata": {},
   "outputs": [],
   "source": [
    "global_var.prod() * 100000000     # floats, not doubles !!!"
   ]
  },
  {
   "cell_type": "code",
   "execution_count": null,
   "id": "e4b97535",
   "metadata": {},
   "outputs": [],
   "source": []
  },
  {
   "cell_type": "code",
   "execution_count": null,
   "id": "6cb47841",
   "metadata": {},
   "outputs": [],
   "source": []
  },
  {
   "cell_type": "markdown",
   "id": "2feeb21c",
   "metadata": {},
   "source": [
    "# Baum-Welch Reestimation\n",
    "cleaned version with functions"
   ]
  },
  {
   "cell_type": "code",
   "execution_count": null,
   "id": "996189f1",
   "metadata": {},
   "outputs": [],
   "source": [
    "print(hmm)"
   ]
  },
  {
   "cell_type": "code",
   "execution_count": null,
   "id": "efca1519",
   "metadata": {},
   "outputs": [],
   "source": [
    "plot_matrix(hmm.mfcc)"
   ]
  },
  {
   "cell_type": "code",
   "execution_count": null,
   "id": "dc59e1b8",
   "metadata": {},
   "outputs": [],
   "source": []
  },
  {
   "cell_type": "code",
   "execution_count": null,
   "id": "55cd3541",
   "metadata": {},
   "outputs": [],
   "source": [
    "#ref_means = torch.cat([b_means[ph][None] for ph in phones])"
   ]
  },
  {
   "cell_type": "code",
   "execution_count": null,
   "id": "e6964575",
   "metadata": {},
   "outputs": [],
   "source": [
    "ref_means = torch.cat([global_mean[None] for ph in phones]) # start every phone model as global mean\n",
    "# above as matrix, below as dict (we will yet choose which one we use)\n",
    "b_means = {ph:global_mean for ph in phones} # start every phone model as global mean\n",
    "\n"
   ]
  },
  {
   "cell_type": "code",
   "execution_count": null,
   "id": "fcb6ca70",
   "metadata": {},
   "outputs": [],
   "source": [
    "import math  # for pi\n",
    "\n",
    "def compute_b(ref_means, ref_vars, means):\n",
    "    \"\"\"\n",
    "    Compute probability b() for every combination of reference mean\n",
    "    (one reference per phome) and pronunciation frame (0.01s segment\n",
    "    described by cepstrum).\n",
    "    The ref_vars argument can be either per-phone (as ref_means) or\n",
    "    common for all phones (in this case it is broadcasted).\n",
    "    \"\"\"\n",
    "    sum = ( (ref_means[None]-means[:,None])**2/ref_vars ).sum(dim=2)\n",
    "\n",
    "    pi = torch.tensor(math.pi)\n",
    "    n = global_var.size()[0]\n",
    "    #g = (global_var.prod()*(2*pi)**n)**-0.5\n",
    "    g = 1\n",
    "    b_probs = g * (-0.5*sum).exp()\n",
    "    return b_probs"
   ]
  },
  {
   "cell_type": "code",
   "execution_count": null,
   "id": "eed391bb",
   "metadata": {},
   "outputs": [],
   "source": [
    "def compute_hmm_b(hmm, means_dict):\n",
    "    \"\"\"\n",
    "    For a sentence hmm model with an attached mfcc, compute b() values\n",
    "    for every sound frame and every model state.\n",
    "    \"\"\"\n",
    "    b_set = sorted({*hmm.b}) # which phone's b()s will we need\n",
    "    #print(b_set)\n",
    "    \n",
    "    b_set_means = torch.cat([b_means[ph][None] for ph in b_set]) # matrix of all needed means\n",
    "\n",
    "    #b_means_cat = torch.cat([b_means[ph][None] for ph in hmm.b]) # means repeated as hmm.b dictates\n",
    "    cb = compute_b(b_set_means, global_var, hmm.mfcc) # compute all needed b()s but each only once\n",
    "    #print(cb.size())\n",
    "    # Now repeat each b() column as needed for this hmm\n",
    "    \n",
    "    ph_to_i = {ph:i for i, ph in enumerate(b_set)} # map phone to column\n",
    "    #print(f\"{ph_to_i=}\")\n",
    "    \n",
    "    idx = torch.tensor([ph_to_i[ph] for ph in hmm.b])\n",
    "    #print(f\"{idx=}\")\n",
    "    \n",
    "    return(cb[:, idx]) # repeat each b() column as needed\n",
    "\n",
    "print(hmm.b)\n",
    "b = m(compute_hmm_b(hmm, b_means))\n",
    "    "
   ]
  },
  {
   "cell_type": "code",
   "execution_count": null,
   "id": "a4cb8ab4",
   "metadata": {},
   "outputs": [],
   "source": [
    "b.size()"
   ]
  },
  {
   "cell_type": "code",
   "execution_count": null,
   "id": "8d86af1d",
   "metadata": {},
   "outputs": [],
   "source": [
    "colors = [\"yellow\",\"red\",(0.5,0.95,1),(0.3,0.4,1),\"gray\",\"black\",\"black\", \"black\"]\n",
    "cmap1 = LinearSegmentedColormap.from_list(\"mycmap\", colors)\n",
    "#plot_matrix(cr, figsize=(19.86, 19.86), cmap=cmap1)\n",
    "plot_matrix(compute_hmm_b(hmm, b_means), cmap=cmap1)"
   ]
  },
  {
   "cell_type": "code",
   "execution_count": null,
   "id": "bd9cedcb",
   "metadata": {},
   "outputs": [],
   "source": [
    "#plot_wavfile(hmm.wav)"
   ]
  },
  {
   "cell_type": "code",
   "execution_count": null,
   "id": "3c52cfac",
   "metadata": {},
   "outputs": [],
   "source": [
    "base = 1000"
   ]
  },
  {
   "cell_type": "code",
   "execution_count": null,
   "id": "2928eac5",
   "metadata": {},
   "outputs": [],
   "source": [
    "\n",
    "def compute_alpha(hmm, b):\n",
    "    \"\"\"\n",
    "    Compute alpha for hmm with mfcc, using b matrix made with corrent phone models\n",
    "    \"\"\"\n",
    "    A = m(hmm.A)\n",
    "    tmax = hmm.mfcc.size()[0]\n",
    "    len_x = A.size()[0]\n",
    "    x_list = [1]+[0]*(len_x-1)\n",
    "    x_m = m([x_list])\n",
    "    exponent = 0\n",
    "    # allocate space for mantissa-like (kept in range) and row-exponent values\n",
    "    alpha_m = m.rowlist((tmax,len_x))\n",
    "    alpha_exp = m.rowlist((tmax,1))\n",
    "\n",
    "    for row in range(tmax):\n",
    "        while x_m.max()<1/base: # renormalize and remember power of base used\n",
    "            x_m *= base\n",
    "            exponent -= 1\n",
    "        alpha_exp[row] = exponent\n",
    "        alpha_m[row] = x_m\n",
    "        x_m = x_m@A*b[row]\n",
    "    return alpha_m, alpha_exp"
   ]
  },
  {
   "cell_type": "code",
   "execution_count": null,
   "id": "88a681e0",
   "metadata": {},
   "outputs": [],
   "source": [
    "def compute_beta(hmm, b):\n",
    "    \"\"\"\n",
    "    Compute beta for hmm with mfcc, using b matrix made with corrent phone models\n",
    "    \"\"\"\n",
    "    At = m(hmm.A).T()\n",
    "    tmax = hmm.mfcc.size()[0]\n",
    "    len_x = At.size()[0]\n",
    "    x_list = [1]+[0]*(len_x-1)\n",
    "    x_m = m([list(reversed(x_list))])\n",
    "    exponent = 0\n",
    "    beta_m = m.rowlist((tmax,len_x))\n",
    "    beta_exp = m.rowlist((tmax,1))\n",
    "\n",
    "    for row in range(tmax-1,0-1,-1):\n",
    "        beta_m[row] = x_m\n",
    "        beta_exp[row] = exponent\n",
    "        x_m = x_m@At*b[row]\n",
    "        while x_m.max()<1/base: # renormalize and remember power of base used\n",
    "            x_m *= base\n",
    "            exponent -= 1\n",
    "    return beta_m, beta_exp\n",
    "\n",
    "\n"
   ]
  },
  {
   "cell_type": "code",
   "execution_count": null,
   "id": "b27c6e8b",
   "metadata": {},
   "outputs": [],
   "source": [
    "#NOTE: We could in fact get rid of all the exponents in alpha, beta and L cause \n",
    "# the final normalization will throw them anyway!\n",
    "def compute_normalized_L(hmm, b):\n",
    "    alpha_m, alpha_exp = compute_alpha(hmm, b)\n",
    "    beta_m, beta_exp = compute_beta(hmm, b)\n",
    "    L_m = alpha_m*beta_m # this is .*\n",
    "    L_exp = alpha_exp+beta_exp\n",
    "    L_exp += float(-L_exp.max())\n",
    "    # re-normalize L - in fact not needed, we will normalize to sum=1 in rows anyway\n",
    "    tmax = L_m.size()[0]\n",
    "    for row in range(tmax):\n",
    "        while float(L_exp[row].val)<0: # renormalize and remember power of base used\n",
    "            L_m[row] *= 1/base  # invokes setitem which converts L_m to dense\n",
    "            L_exp[row] += 1\n",
    "    X = L_m.val * (1/L_m.val.sum(dim=1))[:,None]\n",
    "    return X # Normalized L with sum=1 for each row. Only good for alignment (recognition score lost)\n"
   ]
  },
  {
   "cell_type": "code",
   "execution_count": null,
   "id": "dcc2424c",
   "metadata": {},
   "outputs": [],
   "source": []
  },
  {
   "cell_type": "code",
   "execution_count": null,
   "id": "159c3037",
   "metadata": {},
   "outputs": [],
   "source": [
    "def add_to_distribution_statistics(acc_means, acc_weights, hmm, L):\n",
    "    \"\"\"\n",
    "    Fore one training sentence aligned with its hmm using the current phone models,\n",
    "    accumulate statistics for later computition of the new phone models.\n",
    "    The 'L' matrix is expected to be normalized to sum 1 in each row.\n",
    "    Columns of the L matrix correspond to elements of hmm.b (phone states).\n",
    "    Rows of the L matrix correspond to rows in hmm.mfcc (0.01s time frames).\n",
    "    \"\"\"\n",
    "    means = (L[:,None]*hmm.mfcc[:,:,None]).sum(dim=0) # sizes like [363, 1, 35] and [363, 13, 1]\n",
    "    #print(means.size())\n",
    "    # yet to be summed to phonemes\n",
    "    weights = L.sum(dim=0)\n",
    "    #print(weights.size())\n",
    "    for i, phone in enumerate(hmm.b): # now b is string, may be a list of strings later\n",
    "        if phone not in acc_means:\n",
    "            acc_means[phone] = 0 # will be broadcast to the right size\n",
    "            acc_weights[phone] = 0\n",
    "        acc_means[phone] += means[:,i]\n",
    "        acc_weights[phone] += weights[i]\n"
   ]
  },
  {
   "cell_type": "code",
   "execution_count": null,
   "id": "ecc677f2",
   "metadata": {},
   "outputs": [],
   "source": [
    "# Init B-W:\n",
    "\n",
    "b_means = {ph:global_mean for ph in phones} # start every phone model as global mean\n",
    "\n",
    "acc_means = {} # can as well be a vector of numbers (later)\n",
    "acc_weights = {}\n"
   ]
  },
  {
   "cell_type": "code",
   "execution_count": null,
   "id": "6e28cd0c",
   "metadata": {},
   "outputs": [],
   "source": [
    "%%time\n",
    "acc_means = {} # can as well be a vector of numbers (later)\n",
    "acc_weights = {}\n",
    "failed = 0\n",
    "for i, hmm in enumerate(hmms):\n",
    "    #b = m(compute_hmm_b(hmm, b_means))\n",
    "    b = m(compute_hmm_b(hmm, b_means).clamp(min=0.00001))\n",
    "    L = compute_normalized_L(hmm, b)\n",
    "    #print(L.sum(dim=0))\n",
    "    if L.sum().isnan():\n",
    "        failed += 1\n",
    "        print(f\"Failed hmm alignment, {i=}, {failed/(i+1)*100} % failed so far\")\n",
    "    else:\n",
    "        add_to_distribution_statistics(acc_means, acc_weights, hmm, L)\n",
    "    \n",
    "#b_means = {} keep prev value if we have nothing better (phone was only in failed alignments)\n",
    "for phone in acc_means:\n",
    "    if acc_weights[phone]==0:\n",
    "        print(f\"Zero weight for phone {phone}, skipping update\")\n",
    "        continue\n",
    "    b_means[phone] = acc_means[phone]/acc_weights[phone]"
   ]
  },
  {
   "cell_type": "markdown",
   "id": "7d048315",
   "metadata": {},
   "source": [
    "1st iteration: mostly failed alignment (~90% ?)\n",
    "2nd iteration: ~13% initially failing, better at iter. end: Failed hmm alignment, i=10748, 7.07042515582845 % failed so far\n",
    "3rd: i=10634, 1.8617771509167842 % failed so far\n",
    "4th: i=10523, 2.309007981755986 % failed so far   LOOKS MOSTLY CONVERGED\n",
    "5th: i=10523, 2.451539338654504 % failed so far   CPU times: user 1h 21min 39s, sys: 31 s, total: 1h 22min 10s Wall time: 10min 22s\n",
    "\n",
    "MFCC_D_A first iter:\n",
    "CPU times: user 1h 57min 30s, sys: 45.7 s, total: 1h 58min 15s\n",
    "Wall time: 14min 47s"
   ]
  },
  {
   "cell_type": "code",
   "execution_count": null,
   "id": "eaa8be94",
   "metadata": {
    "scrolled": true
   },
   "outputs": [],
   "source": [
    "# after 1 iters\n",
    "b_means"
   ]
  },
  {
   "cell_type": "code",
   "execution_count": null,
   "id": "3148fdbc",
   "metadata": {
    "scrolled": true
   },
   "outputs": [],
   "source": [
    "for iter in range(4):\n",
    "    print(f\"{iter=}\")\n",
    "    acc_means = {} # can as well be a vector of numbers (later)\n",
    "    acc_weights = {}\n",
    "\n",
    "    for i, hmm in enumerate(hmms):\n",
    "        #b = m(compute_hmm_b(hmm, b_means))\n",
    "        b = m(compute_hmm_b(hmm, b_means).clamp(min=0.00001))\n",
    "        L = compute_normalized_L(hmm, b)\n",
    "        #print(L.sum(dim=0))\n",
    "        if L.sum().isnan():\n",
    "            print(f\"Failed hmm alignment, {i=}\")\n",
    "        else:\n",
    "            add_to_distribution_statistics(acc_means, acc_weights, hmm, L)\n",
    "        \n",
    "    #b_means = {} keep prev value if we have nothing better (phone was only in failed alignments)\n",
    "    for phone in acc_means:\n",
    "        if acc_weights[phone]==0:\n",
    "            print(f\"Zero weight for phone {phone}, skipping update\")\n",
    "            continue\n",
    "        b_means[phone] = acc_means[phone]/acc_weights[phone]"
   ]
  },
  {
   "cell_type": "code",
   "execution_count": null,
   "id": "e73567fb",
   "metadata": {},
   "outputs": [],
   "source": [
    "# After 5 more iters:\n",
    "b_means"
   ]
  },
  {
   "cell_type": "code",
   "execution_count": null,
   "id": "511120e3",
   "metadata": {},
   "outputs": [],
   "source": [
    "hmms = []\n",
    "for wav, sentence in list(zip(df.wav.values, df.sentence.values))[:]:\n",
    "    print(sentence)\n",
    "    hmm = HMM(sentence, wav=wav)\n",
    "    #hmm.change_sil_loops()\n",
    "    hmms.append(hmm)"
   ]
  },
  {
   "cell_type": "code",
   "execution_count": null,
   "id": "6ec13057",
   "metadata": {},
   "outputs": [],
   "source": [
    "for iter in range(5):\n",
    "    print(f\"{iter=}\")\n",
    "    acc_means = {} # can as well be a vector of numbers (later)\n",
    "    acc_weights = {}\n",
    "\n",
    "    for i, hmm in enumerate(hmms):\n",
    "        #b = m(compute_hmm_b(hmm, b_means))\n",
    "        b = m(compute_hmm_b(hmm, b_means).clamp(min=0.00001))\n",
    "        L = compute_normalized_L(hmm, b)\n",
    "        #print(L.sum(dim=0))\n",
    "        if L.sum().isnan():\n",
    "            print(f\"Failed hmm alignment, {i=}\")\n",
    "        else:\n",
    "            add_to_distribution_statistics(acc_means, acc_weights, hmm, L)\n",
    "        \n",
    "    #b_means = {} keep prev value if we have nothing better (phone was only in failed alignments)\n",
    "    for phone in acc_means:\n",
    "        if acc_weights[phone]==0:\n",
    "            print(f\"Zero weight for phone {phone}, skipping update\")\n",
    "            continue\n",
    "        b_means[phone] = acc_means[phone]/acc_weights[phone]"
   ]
  },
  {
   "cell_type": "code",
   "execution_count": null,
   "id": "63f70e9d",
   "metadata": {},
   "outputs": [],
   "source": [
    "# After 15 iters:\n",
    "b_means"
   ]
  },
  {
   "cell_type": "code",
   "execution_count": null,
   "id": "dc39f3d5",
   "metadata": {},
   "outputs": [],
   "source": [
    "for iter in range(5):\n",
    "    print(f\"{iter=}\")\n",
    "    acc_means = {} # can as well be a vector of numbers (later)\n",
    "    acc_weights = {}\n",
    "\n",
    "    for i, hmm in enumerate(hmms):\n",
    "        #b = m(compute_hmm_b(hmm, b_means))\n",
    "        b = m(compute_hmm_b(hmm, b_means).clamp(min=0.00001))\n",
    "        L = compute_normalized_L(hmm, b)\n",
    "        #print(L.sum(dim=0))\n",
    "        if L.sum().isnan():\n",
    "            print(f\"Failed hmm alignment, {i=}\")\n",
    "        else:\n",
    "            add_to_distribution_statistics(acc_means, acc_weights, hmm, L)\n",
    "        \n",
    "    #b_means = {} keep prev value if we have nothing better (phone was only in failed alignments)\n",
    "    for phone in acc_means:\n",
    "        if acc_weights[phone]==0:\n",
    "            print(f\"Zero weight for phone {phone}, skipping update\")\n",
    "            continue\n",
    "        b_means[phone] = acc_means[phone]/acc_weights[phone]"
   ]
  },
  {
   "cell_type": "code",
   "execution_count": null,
   "id": "5205ec9f",
   "metadata": {},
   "outputs": [],
   "source": [
    "# After 20 iters:\n",
    "b_means"
   ]
  },
  {
   "cell_type": "code",
   "execution_count": null,
   "id": "bdee735e",
   "metadata": {},
   "outputs": [],
   "source": []
  },
  {
   "cell_type": "code",
   "execution_count": null,
   "id": "b644aad5",
   "metadata": {},
   "outputs": [],
   "source": []
  },
  {
   "cell_type": "code",
   "execution_count": null,
   "id": "6262940a",
   "metadata": {},
   "outputs": [],
   "source": []
  },
  {
   "cell_type": "code",
   "execution_count": null,
   "id": "5d355da9",
   "metadata": {},
   "outputs": [],
   "source": []
  },
  {
   "cell_type": "code",
   "execution_count": null,
   "id": "23ea95cd",
   "metadata": {},
   "outputs": [],
   "source": []
  },
  {
   "cell_type": "code",
   "execution_count": null,
   "id": "2f682b52",
   "metadata": {},
   "outputs": [],
   "source": []
  },
  {
   "cell_type": "code",
   "execution_count": null,
   "id": "a096fd8a",
   "metadata": {},
   "outputs": [],
   "source": [
    "hmm = hmms[5]\n",
    "print(hmm)\n",
    "b = m(compute_hmm_b(hmm, b_means).clamp(min=0.00001))\n",
    "L = compute_normalized_L(hmm, b)"
   ]
  },
  {
   "cell_type": "code",
   "execution_count": null,
   "id": "e45bf2da",
   "metadata": {},
   "outputs": [],
   "source": [
    "i = L.max(1).indices\n",
    "\n",
    "\"\".join([hmm.b[ii] for ii in i])"
   ]
  },
  {
   "cell_type": "code",
   "execution_count": null,
   "id": "58bf8c9c",
   "metadata": {},
   "outputs": [],
   "source": [
    "i = L.max(1).indices\n",
    "\n",
    "\"\".join([hmm.b[ii] for ii in i])"
   ]
  },
  {
   "cell_type": "code",
   "execution_count": null,
   "id": "746d218b",
   "metadata": {},
   "outputs": [],
   "source": [
    "i = L.max(1).indices\n",
    "\n",
    "\"\".join([hmm.b[ii] for ii in i])"
   ]
  },
  {
   "cell_type": "code",
   "execution_count": null,
   "id": "eb309fe6",
   "metadata": {
    "scrolled": false
   },
   "outputs": [],
   "source": [
    "plot_fun(L)"
   ]
  },
  {
   "cell_type": "code",
   "execution_count": null,
   "id": "853fb341",
   "metadata": {},
   "outputs": [],
   "source": [
    "plot_fun(L)"
   ]
  },
  {
   "cell_type": "code",
   "execution_count": null,
   "id": "e43cb612",
   "metadata": {},
   "outputs": [],
   "source": [
    "plot_fun(L)"
   ]
  },
  {
   "cell_type": "code",
   "execution_count": null,
   "id": "2b95f215",
   "metadata": {},
   "outputs": [],
   "source": [
    "plot_fun(L)"
   ]
  },
  {
   "cell_type": "code",
   "execution_count": null,
   "id": "065db205",
   "metadata": {},
   "outputs": [],
   "source": [
    "plot_fun(L)"
   ]
  },
  {
   "cell_type": "code",
   "execution_count": null,
   "id": "344da6b0",
   "metadata": {},
   "outputs": [],
   "source": [
    "plot_fun(L)"
   ]
  },
  {
   "cell_type": "code",
   "execution_count": null,
   "id": "e95b3bdf",
   "metadata": {},
   "outputs": [],
   "source": [
    "plot_fun(L)"
   ]
  },
  {
   "cell_type": "code",
   "execution_count": null,
   "id": "0ec0a397",
   "metadata": {},
   "outputs": [],
   "source": []
  },
  {
   "cell_type": "code",
   "execution_count": null,
   "id": "612c5d7d",
   "metadata": {},
   "outputs": [],
   "source": []
  },
  {
   "cell_type": "code",
   "execution_count": null,
   "id": "d12803ce",
   "metadata": {},
   "outputs": [],
   "source": []
  },
  {
   "cell_type": "code",
   "execution_count": null,
   "id": "3637e92a",
   "metadata": {},
   "outputs": [],
   "source": []
  },
  {
   "cell_type": "code",
   "execution_count": null,
   "id": "35cab35c",
   "metadata": {
    "scrolled": true
   },
   "outputs": [],
   "source": [
    "plot_wavfile(hmm.wav)"
   ]
  },
  {
   "cell_type": "code",
   "execution_count": null,
   "id": "8ded1655",
   "metadata": {},
   "outputs": [],
   "source": []
  },
  {
   "cell_type": "code",
   "execution_count": null,
   "id": "68b0fa25",
   "metadata": {},
   "outputs": [],
   "source": []
  },
  {
   "cell_type": "code",
   "execution_count": null,
   "id": "d630a7dc",
   "metadata": {},
   "outputs": [],
   "source": []
  },
  {
   "cell_type": "code",
   "execution_count": null,
   "id": "404d523e",
   "metadata": {},
   "outputs": [],
   "source": []
  },
  {
   "cell_type": "code",
   "execution_count": null,
   "id": "e481a1b3",
   "metadata": {},
   "outputs": [],
   "source": [
    "b_means"
   ]
  },
  {
   "cell_type": "code",
   "execution_count": null,
   "id": "c238c0c9",
   "metadata": {},
   "outputs": [],
   "source": []
  },
  {
   "cell_type": "code",
   "execution_count": null,
   "id": "be94635d",
   "metadata": {
    "scrolled": false
   },
   "outputs": [],
   "source": [
    "b_means"
   ]
  },
  {
   "cell_type": "code",
   "execution_count": null,
   "id": "7e607dae",
   "metadata": {},
   "outputs": [],
   "source": [
    "acc_weights['G'].isnan()"
   ]
  },
  {
   "cell_type": "code",
   "execution_count": null,
   "id": "334aba11",
   "metadata": {},
   "outputs": [],
   "source": [
    "acc_weights"
   ]
  },
  {
   "cell_type": "code",
   "execution_count": null,
   "id": "ee4f175d",
   "metadata": {},
   "outputs": [],
   "source": [
    "print(hmms[-5])"
   ]
  },
  {
   "cell_type": "code",
   "execution_count": null,
   "id": "2f3a93f8",
   "metadata": {},
   "outputs": [],
   "source": [
    "plot_wavfile(hmms[-5].wav)"
   ]
  },
  {
   "cell_type": "code",
   "execution_count": null,
   "id": "a659e095",
   "metadata": {},
   "outputs": [],
   "source": [
    "plot_matrix(hmms[-5].mfcc)"
   ]
  },
  {
   "cell_type": "code",
   "execution_count": null,
   "id": "305c09f1",
   "metadata": {},
   "outputs": [],
   "source": []
  },
  {
   "cell_type": "code",
   "execution_count": null,
   "id": "0dfb9d23",
   "metadata": {
    "scrolled": true
   },
   "outputs": [],
   "source": [
    "L.sum(dim=0)"
   ]
  },
  {
   "cell_type": "code",
   "execution_count": null,
   "id": "d4374efd",
   "metadata": {},
   "outputs": [],
   "source": []
  },
  {
   "cell_type": "code",
   "execution_count": null,
   "id": "fcffef7a",
   "metadata": {},
   "outputs": [],
   "source": []
  },
  {
   "cell_type": "code",
   "execution_count": null,
   "id": "d2076c5d",
   "metadata": {
    "scrolled": false
   },
   "outputs": [],
   "source": [
    "plot_fun(b.val[:,0])"
   ]
  },
  {
   "cell_type": "code",
   "execution_count": null,
   "id": "17dc2b58",
   "metadata": {
    "scrolled": false
   },
   "outputs": [],
   "source": [
    "plot_fun(L)"
   ]
  },
  {
   "cell_type": "code",
   "execution_count": null,
   "id": "dbeeff17",
   "metadata": {},
   "outputs": [],
   "source": [
    "plot_wavfile(hmm.wav)"
   ]
  },
  {
   "cell_type": "code",
   "execution_count": null,
   "id": "5b3db209",
   "metadata": {
    "scrolled": true
   },
   "outputs": [],
   "source": [
    "print(hmm)"
   ]
  },
  {
   "cell_type": "code",
   "execution_count": null,
   "id": "58ae1969",
   "metadata": {},
   "outputs": [],
   "source": []
  },
  {
   "cell_type": "code",
   "execution_count": null,
   "id": "144a08b5",
   "metadata": {},
   "outputs": [],
   "source": []
  },
  {
   "cell_type": "code",
   "execution_count": null,
   "id": "c637404b",
   "metadata": {},
   "outputs": [],
   "source": [
    "X = (L_m*(1/float(L_m.max()))).val\n",
    "# now sum of any row in X is 1, we will use these probabilities to compute means"
   ]
  },
  {
   "cell_type": "code",
   "execution_count": null,
   "id": "e648738d",
   "metadata": {},
   "outputs": [],
   "source": []
  },
  {
   "cell_type": "code",
   "execution_count": null,
   "id": "5d98bbf4",
   "metadata": {},
   "outputs": [],
   "source": [
    "L_m.val.sum(dim=1)[:,None].size()"
   ]
  },
  {
   "cell_type": "code",
   "execution_count": null,
   "id": "ef46b9e9",
   "metadata": {},
   "outputs": [],
   "source": [
    "L_m.val.size()"
   ]
  },
  {
   "cell_type": "code",
   "execution_count": null,
   "id": "35c65e31",
   "metadata": {},
   "outputs": [],
   "source": [
    "#X = L_m.val / L_m.val.sum(dim=1)[:,None]\n",
    "\n",
    "\n",
    "X = L_m.val * (1/L_m.val.sum(dim=1))[:,None]\n"
   ]
  },
  {
   "cell_type": "code",
   "execution_count": null,
   "id": "47fc3ded",
   "metadata": {},
   "outputs": [],
   "source": [
    "plot_matrix(L)"
   ]
  },
  {
   "cell_type": "code",
   "execution_count": null,
   "id": "b8cd2468",
   "metadata": {},
   "outputs": [],
   "source": []
  },
  {
   "cell_type": "code",
   "execution_count": null,
   "id": "2bb23466",
   "metadata": {},
   "outputs": [],
   "source": []
  },
  {
   "cell_type": "code",
   "execution_count": null,
   "id": "e4d56985",
   "metadata": {},
   "outputs": [],
   "source": [
    "hmm.mfcc.size()"
   ]
  },
  {
   "cell_type": "code",
   "execution_count": null,
   "id": "e1743262",
   "metadata": {},
   "outputs": [],
   "source": [
    "L_m.val.max(dim=1)"
   ]
  },
  {
   "cell_type": "code",
   "execution_count": null,
   "id": "9e6ea0f0",
   "metadata": {
    "scrolled": true
   },
   "outputs": [],
   "source": [
    "plot_fun(X)"
   ]
  },
  {
   "cell_type": "code",
   "execution_count": null,
   "id": "de581b45",
   "metadata": {},
   "outputs": [],
   "source": [
    "plot_wavfile(hmm.wav)"
   ]
  },
  {
   "cell_type": "code",
   "execution_count": null,
   "id": "42710670",
   "metadata": {},
   "outputs": [],
   "source": [
    "plot_fun(b.val)"
   ]
  },
  {
   "cell_type": "code",
   "execution_count": null,
   "id": "4c9ce09e",
   "metadata": {},
   "outputs": [],
   "source": [
    "b"
   ]
  },
  {
   "cell_type": "code",
   "execution_count": null,
   "id": "a2ae968e",
   "metadata": {},
   "outputs": [],
   "source": [
    "b.size()"
   ]
  },
  {
   "cell_type": "code",
   "execution_count": null,
   "id": "952b94b3",
   "metadata": {},
   "outputs": [],
   "source": [
    "print(hmm)"
   ]
  },
  {
   "cell_type": "code",
   "execution_count": null,
   "id": "b6845400",
   "metadata": {},
   "outputs": [],
   "source": []
  },
  {
   "cell_type": "code",
   "execution_count": null,
   "id": "5d388654",
   "metadata": {},
   "outputs": [],
   "source": []
  },
  {
   "cell_type": "markdown",
   "id": "3a307089",
   "metadata": {},
   "source": [
    "# ============ OLD AREA ============"
   ]
  },
  {
   "cell_type": "code",
   "execution_count": null,
   "id": "b486388c",
   "metadata": {},
   "outputs": [],
   "source": [
    "import torchaudio\n",
    "mfcc = hmm.mfcc"
   ]
  },
  {
   "cell_type": "code",
   "execution_count": null,
   "id": "47b3885a",
   "metadata": {},
   "outputs": [],
   "source": [
    "if False: # fake values for testing only\n",
    "    A = m([[0.7,0.3,0,0],\n",
    "           [0,0.9,0.1,0],\n",
    "           [0,0,0.8,0.2],\n",
    "           [0,0,0,1]])\n",
    "    tmax = int(363/35 * len_x)"
   ]
  },
  {
   "cell_type": "code",
   "execution_count": null,
   "id": "036a8c29",
   "metadata": {},
   "outputs": [],
   "source": [
    "A = m(hmm.A)\n",
    "A.size()[0]"
   ]
  },
  {
   "cell_type": "code",
   "execution_count": null,
   "id": "b5161dc5",
   "metadata": {},
   "outputs": [],
   "source": [
    "mfcc.size()[0]"
   ]
  },
  {
   "cell_type": "code",
   "execution_count": null,
   "id": "47b96177",
   "metadata": {},
   "outputs": [],
   "source": [
    "len_x = A.size()[0]\n",
    "tmax = mfcc.size()[0] # recording length in frames"
   ]
  },
  {
   "cell_type": "code",
   "execution_count": null,
   "id": "cc41ebf0",
   "metadata": {},
   "outputs": [],
   "source": [
    "# FAKE b VALUES for the first pass AND also for testing\n",
    "b = m.zeros((tmax,len_x)) + 0.1"
   ]
  },
  {
   "cell_type": "markdown",
   "id": "f3a6a711",
   "metadata": {},
   "source": [
    "# B-W iteration repeats here"
   ]
  },
  {
   "cell_type": "code",
   "execution_count": null,
   "id": "ca7c8ea3",
   "metadata": {},
   "outputs": [],
   "source": [
    "# where we can be\n",
    "#x_m = m([[1,0,0,0]])\n",
    "x_list = [1,0,0,0]\n",
    "x_list = [1]+[0]*(A.size()[0]-1)\n",
    "x_m = m([x_list])\n",
    "x_rev = m([list(reversed(x_list))])"
   ]
  },
  {
   "cell_type": "code",
   "execution_count": null,
   "id": "d01e6266",
   "metadata": {},
   "outputs": [],
   "source": [
    "x_m.size()"
   ]
  },
  {
   "cell_type": "code",
   "execution_count": null,
   "id": "8d32b824",
   "metadata": {},
   "outputs": [],
   "source": [
    "len_x = x_m.size()[1]\n",
    "\n",
    "# allocate space for mantissa-like (kept in range) and row-exponent values\n",
    "alpha_m = m.rowlist((tmax,len_x))\n",
    "alpha_exp = m.rowlist((tmax,1))\n",
    "\n",
    "exponent = 0\n",
    "base = 1000 # base for separation to exp and m (somewhere around 5e-324 starts underflow)"
   ]
  },
  {
   "cell_type": "code",
   "execution_count": null,
   "id": "ec463cae",
   "metadata": {},
   "outputs": [],
   "source": [
    "#x_m = m([[1,0,0,0]]) "
   ]
  },
  {
   "cell_type": "code",
   "execution_count": null,
   "id": "968570cc",
   "metadata": {
    "scrolled": true
   },
   "outputs": [],
   "source": [
    "%%time\n",
    "#x_m = m([[1,0,0,0]]) # mantissa-like moderated value (kept in range)\n",
    "for row in range(tmax):\n",
    "    while x_m.max()<1/base: # renormalize and remember power of base used\n",
    "        x_m *= base\n",
    "        exponent -= 1\n",
    "    alpha_exp[row] = exponent\n",
    "    alpha_m[row] = x_m\n",
    "    x_m = x_m@A*b[row]   # FINETUNE WHICH row's b IS USED (ALSO FOR beta)"
   ]
  },
  {
   "cell_type": "markdown",
   "id": "3af2f17e",
   "metadata": {},
   "source": [
    "### Size 14000 x 4\n",
    "* GPU: 7.01 torch sparse coo, NotImpl torch sparse csr, 0.384 torch dense\n",
    "* CPU: 1.54 torch sparse coo, 0.210 torch sparse csr, 0.214 torch dense\n",
    "\n",
    "### Size 363 x 35\n",
    "* GPU: ??? torch sparse coo, NotImpl torch sparse csr, 0.3770 torch dense\n",
    "* CPU: ??? torch sparse coo, NotImpl torch sparse csr, 0.0054 torch dense\n",
    "\n",
    "715 15.4 CPU 391 GPU\n",
    "\n",
    "1420 33  CPU 434 GPU\n",
    "\n",
    "2831  78.5 CPU 486 GPU\n",
    "\n",
    "5652  209  CPU  612 GPU\n",
    "\n",
    "11294  529 CPU  885 GPU\n",
    "\n",
    "22578    5000 CPU   1860 GPU\n",
    "\n",
    "45146    120000 CPU  6110 GPU   unusable GPU coo   not impl CPU csr   unusable CPU coo\n"
   ]
  },
  {
   "cell_type": "code",
   "execution_count": null,
   "id": "b63ffe1f",
   "metadata": {},
   "outputs": [],
   "source": [
    "# Now we will go backward\n",
    "At = A.T()"
   ]
  },
  {
   "cell_type": "code",
   "execution_count": null,
   "id": "94209a5e",
   "metadata": {},
   "outputs": [],
   "source": [
    "beta_m = m.rowlist((tmax,len_x))\n",
    "beta_exp = m.rowlist((tmax,1))\n",
    "\n",
    "exponent = 0"
   ]
  },
  {
   "cell_type": "code",
   "execution_count": null,
   "id": "5d2e443b",
   "metadata": {},
   "outputs": [],
   "source": [
    "#x_m = m([[0,0,0,1]])\n",
    "x_m = x_rev\n",
    "for row in range(tmax-1,0-1,-1):\n",
    "    beta_m[row] = x_m\n",
    "    beta_exp[row] = exponent\n",
    "    x_m = x_m@At*b[row]\n",
    "    while x_m.max()<1/base: # renormalize and remember power of base used\n",
    "        x_m *= base\n",
    "        exponent -= 1"
   ]
  },
  {
   "cell_type": "code",
   "execution_count": null,
   "id": "08b8cf57",
   "metadata": {
    "scrolled": true
   },
   "outputs": [],
   "source": [
    "L_m = alpha_m*beta_m # this is .*\n",
    "\n",
    "L_exp = alpha_exp+beta_exp\n",
    "\n",
    "L_exp += float(-L_exp.max())\n",
    "\n",
    "# re-normalize L\n",
    "for row in range(tmax):\n",
    "    while float(L_exp[row].val)<0: # renormalize and remember power of base used\n",
    "        L_m[row] *= 1/base  # invokes setitem which converts L_m to dense\n",
    "        L_exp[row] += 1"
   ]
  },
  {
   "cell_type": "code",
   "execution_count": null,
   "id": "44f83838",
   "metadata": {},
   "outputs": [],
   "source": [
    "L_m.size()"
   ]
  },
  {
   "cell_type": "code",
   "execution_count": null,
   "id": "7d6c3918",
   "metadata": {
    "scrolled": true
   },
   "outputs": [],
   "source": [
    "# test - should be the same now\n",
    "L_exp.min(), L_exp.max()"
   ]
  },
  {
   "cell_type": "code",
   "execution_count": null,
   "id": "0e5990d3",
   "metadata": {},
   "outputs": [],
   "source": [
    "L_m.max() # happens to be also equal to sum of any row in L_m"
   ]
  },
  {
   "cell_type": "code",
   "execution_count": null,
   "id": "f33e0b00",
   "metadata": {},
   "outputs": [],
   "source": [
    "(b.val==0).sum()"
   ]
  },
  {
   "cell_type": "code",
   "execution_count": null,
   "id": "785281d0",
   "metadata": {},
   "outputs": [],
   "source": [
    "b"
   ]
  },
  {
   "cell_type": "code",
   "execution_count": null,
   "id": "6cedbbb4",
   "metadata": {},
   "outputs": [],
   "source": [
    "b.val.clamp(min=0.01).min()"
   ]
  },
  {
   "cell_type": "code",
   "execution_count": null,
   "id": "584a4b1b",
   "metadata": {},
   "outputs": [],
   "source": [
    "X = (L_m*(1/float(L_m.max()))).val\n",
    "# now sum of any row in X is 1, we will use these probabilities to compute means"
   ]
  },
  {
   "cell_type": "code",
   "execution_count": null,
   "id": "b726f96a",
   "metadata": {},
   "outputs": [],
   "source": [
    "X.size()"
   ]
  },
  {
   "cell_type": "code",
   "execution_count": null,
   "id": "e1b0c804",
   "metadata": {},
   "outputs": [],
   "source": [
    "scale = 1/X.max(1).values\n",
    "Y = (X.T*scale).T"
   ]
  },
  {
   "cell_type": "code",
   "execution_count": null,
   "id": "f233cf28",
   "metadata": {},
   "outputs": [],
   "source": [
    "X.sum(dim=1).size()"
   ]
  },
  {
   "cell_type": "code",
   "execution_count": null,
   "id": "828e9c5d",
   "metadata": {
    "scrolled": true
   },
   "outputs": [],
   "source": [
    "means = (X[:,None]*mfcc[:,:,None]).sum(dim=0) # sizes like [363, 1, 35] and [363, 13, 1]\n",
    "means.size()\n",
    "# yet to be summed to phonemes"
   ]
  },
  {
   "cell_type": "code",
   "execution_count": null,
   "id": "c18ebfa7",
   "metadata": {},
   "outputs": [],
   "source": [
    "weights = X.sum(dim=0)\n",
    "weights"
   ]
  },
  {
   "cell_type": "code",
   "execution_count": null,
   "id": "8fc57196",
   "metadata": {},
   "outputs": [],
   "source": [
    "weights = X.sum(dim=0)\n",
    "weights"
   ]
  },
  {
   "cell_type": "code",
   "execution_count": null,
   "id": "2e8754fa",
   "metadata": {
    "scrolled": true
   },
   "outputs": [],
   "source": [
    "plot_matrix((means/weights).T)"
   ]
  },
  {
   "cell_type": "code",
   "execution_count": null,
   "id": "95792847",
   "metadata": {},
   "outputs": [],
   "source": [
    "# put this cell up\n",
    "acc_means = {} # can as well be a vector of numbers (later)\n",
    "acc_weights = {}"
   ]
  },
  {
   "cell_type": "code",
   "execution_count": null,
   "id": "adfbab13",
   "metadata": {},
   "outputs": [],
   "source": [
    "means.size()"
   ]
  },
  {
   "cell_type": "code",
   "execution_count": null,
   "id": "2c5bd002",
   "metadata": {},
   "outputs": [],
   "source": [
    "for i, phone in enumerate(hmm.b): # now b is string, may be a list of strings later\n",
    "    if phone not in acc_means:\n",
    "        acc_means[phone] = 0 # will be broadcast to the right size\n",
    "        acc_weights[phone] = 0\n",
    "        \n",
    "    acc_means[phone] += means[:,i]\n",
    "    acc_weights[phone] += weights[i]\n"
   ]
  },
  {
   "cell_type": "code",
   "execution_count": null,
   "id": "cf1e6fe1",
   "metadata": {},
   "outputs": [],
   "source": [
    "b_means = {}\n",
    "for phone in acc_means:\n",
    "    b_means[phone] = acc_means[phone]/acc_weights[phone]"
   ]
  },
  {
   "cell_type": "code",
   "execution_count": null,
   "id": "549ca6ab",
   "metadata": {},
   "outputs": [],
   "source": [
    "b_means"
   ]
  },
  {
   "cell_type": "code",
   "execution_count": null,
   "id": "39a95419",
   "metadata": {},
   "outputs": [],
   "source": [
    "b"
   ]
  },
  {
   "cell_type": "code",
   "execution_count": null,
   "id": "39646f02",
   "metadata": {},
   "outputs": [],
   "source": [
    "b.size(), mfcc.size()"
   ]
  },
  {
   "cell_type": "code",
   "execution_count": null,
   "id": "39796230",
   "metadata": {
    "scrolled": true
   },
   "outputs": [],
   "source": [
    "b_means_cat = torch.cat([b_means[phone][None] for phone in hmm.b]) # means repeated as hmm.b dictates\n"
   ]
  },
  {
   "cell_type": "code",
   "execution_count": null,
   "id": "4a1b403f",
   "metadata": {},
   "outputs": [],
   "source": [
    "b_means_cat[None].size(), mfcc[:,None].size()"
   ]
  },
  {
   "cell_type": "code",
   "execution_count": null,
   "id": "0985bb29",
   "metadata": {},
   "outputs": [],
   "source": [
    "new_b = ((b_means_cat[None]-mfcc[:,None])**2).sum(dim=2)"
   ]
  },
  {
   "cell_type": "code",
   "execution_count": null,
   "id": "62c8cca9",
   "metadata": {},
   "outputs": [],
   "source": [
    "plot_matrix(new_b)"
   ]
  },
  {
   "cell_type": "code",
   "execution_count": null,
   "id": "ed493cd8",
   "metadata": {},
   "outputs": [],
   "source": [
    "new_b.size()"
   ]
  },
  {
   "cell_type": "code",
   "execution_count": null,
   "id": "06a63bff",
   "metadata": {
    "scrolled": true
   },
   "outputs": [],
   "source": [
    "new_b"
   ]
  },
  {
   "cell_type": "code",
   "execution_count": null,
   "id": "5cf1d05c",
   "metadata": {},
   "outputs": [],
   "source": [
    "plot_fun(-new_b)"
   ]
  },
  {
   "cell_type": "code",
   "execution_count": null,
   "id": "c3a65eaa",
   "metadata": {
    "scrolled": true
   },
   "outputs": [],
   "source": [
    "#plot_fun(torch.nn.Softmax(-new_b).float())\n",
    "\n",
    "plot_fun(torch.nn.Softmax(dim=1)(-new_b/1e2))\n",
    "\n"
   ]
  },
  {
   "cell_type": "code",
   "execution_count": null,
   "id": "ca1da1d6",
   "metadata": {},
   "outputs": [],
   "source": []
  },
  {
   "cell_type": "code",
   "execution_count": null,
   "id": "7644887c",
   "metadata": {},
   "outputs": [],
   "source": [
    "b.size()"
   ]
  },
  {
   "cell_type": "code",
   "execution_count": null,
   "id": "ee8d53b6",
   "metadata": {},
   "outputs": [],
   "source": [
    "new_b.size()"
   ]
  },
  {
   "cell_type": "code",
   "execution_count": null,
   "id": "de2dd1ce",
   "metadata": {},
   "outputs": [],
   "source": [
    "b = m(torch.nn.Softmax(dim=1)(-new_b/1e2).clamp(min=0.01))"
   ]
  },
  {
   "cell_type": "markdown",
   "id": "36e98c39",
   "metadata": {},
   "source": [
    "# B-W iteration can go back here. Below just FYI"
   ]
  },
  {
   "cell_type": "code",
   "execution_count": null,
   "id": "f90ab694",
   "metadata": {
    "scrolled": true
   },
   "outputs": [],
   "source": [
    "b"
   ]
  },
  {
   "cell_type": "code",
   "execution_count": null,
   "id": "5d50f258",
   "metadata": {},
   "outputs": [],
   "source": [
    "b.min()"
   ]
  },
  {
   "cell_type": "code",
   "execution_count": null,
   "id": "5566bc59",
   "metadata": {
    "scrolled": true
   },
   "outputs": [],
   "source": [
    "plot_fun(mfcc[:,0])"
   ]
  },
  {
   "cell_type": "code",
   "execution_count": null,
   "id": "2adf8b0b",
   "metadata": {},
   "outputs": [],
   "source": []
  },
  {
   "cell_type": "code",
   "execution_count": null,
   "id": "177becdf",
   "metadata": {
    "scrolled": false
   },
   "outputs": [],
   "source": [
    "plot_matrix(mfcc, figsize=(20,1))"
   ]
  },
  {
   "cell_type": "code",
   "execution_count": null,
   "id": "89b3671c",
   "metadata": {
    "scrolled": false
   },
   "outputs": [],
   "source": [
    "plot_fun(X)"
   ]
  },
  {
   "cell_type": "code",
   "execution_count": null,
   "id": "a377fbc8",
   "metadata": {
    "scrolled": true
   },
   "outputs": [],
   "source": [
    "plot_fun(Y)"
   ]
  },
  {
   "cell_type": "code",
   "execution_count": null,
   "id": "a93e45a5",
   "metadata": {},
   "outputs": [],
   "source": [
    "X"
   ]
  },
  {
   "cell_type": "code",
   "execution_count": null,
   "id": "4a32c8fe",
   "metadata": {},
   "outputs": [],
   "source": [
    "i = X.max(1).indices\n",
    "\n",
    "\"\".join([hmm.b[ii] for ii in i])"
   ]
  },
  {
   "cell_type": "code",
   "execution_count": null,
   "id": "72be256c",
   "metadata": {},
   "outputs": [],
   "source": [
    "hmm.wav"
   ]
  },
  {
   "cell_type": "code",
   "execution_count": null,
   "id": "8062a329",
   "metadata": {
    "scrolled": true
   },
   "outputs": [],
   "source": [
    "plot_fun(mfcc[:,0])"
   ]
  },
  {
   "cell_type": "code",
   "execution_count": null,
   "id": "a14da87b",
   "metadata": {
    "scrolled": false
   },
   "outputs": [],
   "source": [
    "plot_matrix(Y,cmap='viridis', figsize=(20,2), footer=True)"
   ]
  },
  {
   "cell_type": "code",
   "execution_count": null,
   "id": "f8d82f38",
   "metadata": {},
   "outputs": [],
   "source": [
    "plot_matrix(alpha_m.val,cmap='viridis', figsize=(20,2), footer=True)"
   ]
  },
  {
   "cell_type": "code",
   "execution_count": null,
   "id": "f86912e7",
   "metadata": {},
   "outputs": [],
   "source": [
    "plot_matrix(beta_m.val,cmap='viridis', figsize=(20,2), footer=True)"
   ]
  },
  {
   "cell_type": "markdown",
   "id": "af54234e",
   "metadata": {},
   "source": [
    "'spectral' is not a valid value for name; supported values are 'Accent', 'Accent_r', 'Blues', 'Blues_r', 'BrBG', 'BrBG_r', 'BuGn', 'BuGn_r', 'BuPu', 'BuPu_r', 'CMRmap', 'CMRmap_r', 'Dark2', 'Dark2_r', 'GnBu', 'GnBu_r', 'Greens', 'Greens_r', 'Greys', 'Greys_r', 'OrRd', 'OrRd_r', 'Oranges', 'Oranges_r', 'PRGn', 'PRGn_r', 'Paired', 'Paired_r', 'Pastel1', 'Pastel1_r', 'Pastel2', 'Pastel2_r', 'PiYG', 'PiYG_r', 'PuBu', 'PuBuGn', 'PuBuGn_r', 'PuBu_r', 'PuOr', 'PuOr_r', 'PuRd', 'PuRd_r', 'Purples', 'Purples_r', 'RdBu', 'RdBu_r', 'RdGy', 'RdGy_r', 'RdPu', 'RdPu_r', 'RdYlBu', 'RdYlBu_r', 'RdYlGn', 'RdYlGn_r', 'Reds', 'Reds_r', 'Set1', 'Set1_r', 'Set2', 'Set2_r', 'Set3', 'Set3_r', 'Spectral', 'Spectral_r', 'Wistia', 'Wistia_r', 'YlGn', 'YlGnBu', 'YlGnBu_r', 'YlGn_r', 'YlOrBr', 'YlOrBr_r', 'YlOrRd', 'YlOrRd_r', 'afmhot', 'afmhot_r', 'autumn', 'autumn_r', 'binary', 'binary_r', 'bone', 'bone_r', 'brg', 'brg_r', 'bwr', 'bwr_r', 'cividis', 'cividis_r', 'cool', 'cool_r', 'coolwarm', 'coolwarm_r', 'copper', 'copper_r', 'cubehelix', 'cubehelix_r', 'flag', 'flag_r', 'gist_earth', 'gist_earth_r', 'gist_gray', 'gist_gray_r', 'gist_heat', 'gist_heat_r', 'gist_ncar', 'gist_ncar_r', 'gist_rainbow', 'gist_rainbow_r', 'gist_stern', 'gist_stern_r', 'gist_yarg', 'gist_yarg_r', 'gnuplot', 'gnuplot2', 'gnuplot2_r', 'gnuplot_r', 'gray', 'gray_r', 'hot', 'hot_r', 'hsv', 'hsv_r', 'inferno', 'inferno_r', 'jet', 'jet_r', 'magma', 'magma_r', 'nipy_spectral', 'nipy_spectral_r', 'ocean', 'ocean_r', 'pink', 'pink_r', 'plasma', 'plasma_r', 'prism', 'prism_r', 'rainbow', 'rainbow_r', 'seismic', 'seismic_r', 'spring', 'spring_r', 'summer', 'summer_r', 'tab10', 'tab10_r', 'tab20', 'tab20_r', 'tab20b', 'tab20b_r', 'tab20c', 'tab20c_r', 'terrain', 'terrain_r', 'turbo', 'turbo_r', 'twilight', 'twilight_r', 'twilight_shifted', 'twilight_shifted_r', 'viridis', 'viridis_r', 'winter', 'winter_r'"
   ]
  },
  {
   "cell_type": "code",
   "execution_count": null,
   "id": "a6bf29a7",
   "metadata": {
    "scrolled": false
   },
   "outputs": [],
   "source": [
    "plot_matrix(mfcc, figsize=(20,1))"
   ]
  },
  {
   "cell_type": "code",
   "execution_count": null,
   "id": "06b08021",
   "metadata": {},
   "outputs": [],
   "source": [
    "mfcc.size(), mfcc[None].size(), mfcc[:, None].size()"
   ]
  },
  {
   "cell_type": "code",
   "execution_count": null,
   "id": "c3fa5201",
   "metadata": {},
   "outputs": [],
   "source": [
    "d = mfcc[None] - mfcc[:, None]"
   ]
  },
  {
   "cell_type": "code",
   "execution_count": null,
   "id": "bff25ae4",
   "metadata": {},
   "outputs": [],
   "source": [
    "d.size()"
   ]
  },
  {
   "cell_type": "code",
   "execution_count": null,
   "id": "91218356",
   "metadata": {},
   "outputs": [],
   "source": [
    "dd = d ** 2"
   ]
  },
  {
   "cell_type": "code",
   "execution_count": null,
   "id": "ac23acf6",
   "metadata": {},
   "outputs": [],
   "source": []
  },
  {
   "cell_type": "code",
   "execution_count": null,
   "id": "9e99dc13",
   "metadata": {},
   "outputs": [],
   "source": [
    "dd.size()"
   ]
  },
  {
   "cell_type": "code",
   "execution_count": null,
   "id": "9e14fa37",
   "metadata": {},
   "outputs": [],
   "source": [
    "global_var.size()"
   ]
  },
  {
   "cell_type": "code",
   "execution_count": null,
   "id": "c8e60edc",
   "metadata": {},
   "outputs": [],
   "source": [
    "dd_v = dd / (global_var**2)\n",
    "\n",
    "ddd_v = dd_v.sum(2)"
   ]
  },
  {
   "cell_type": "code",
   "execution_count": null,
   "id": "a970da66",
   "metadata": {},
   "outputs": [],
   "source": []
  },
  {
   "cell_type": "code",
   "execution_count": null,
   "id": "3abfa228",
   "metadata": {},
   "outputs": [],
   "source": []
  },
  {
   "cell_type": "code",
   "execution_count": null,
   "id": "b19f8e0d",
   "metadata": {},
   "outputs": [],
   "source": [
    "ddd = dd.sum(2)"
   ]
  },
  {
   "cell_type": "code",
   "execution_count": null,
   "id": "1ba397fa",
   "metadata": {
    "scrolled": true
   },
   "outputs": [],
   "source": [
    "#plot_matrix(ddd, cmap='hsv')\n",
    "#plot_matrix(ddd, cmap=['twilight_shifted','twilight','gist_ncar','nipy_spectral','turbo','jet','rainbow','gist_rainbow','ocean','terrain'][-1]   )\n",
    "#plot_matrix(ddd, cmap=['twilight_shifted', 'gist_stern', 'gnuplot', 'gnuplot2', 'RdBu'][-1]   )\n",
    "#plot_matrix(ddd, cmap=['Spectral'][-1]   )\n",
    "#plot_matrix(ddd, cmap=['viridis', 'plasma', 'inferno','magma','cividis'][-1]   )\n",
    "\n",
    "\n",
    "from matplotlib import cm\n",
    "from matplotlib.colors import ListedColormap, LinearSegmentedColormap\n",
    "\n",
    "\n",
    "colors = [\"cyan\", \"darkorange\", \"gold\", \"lawngreen\", \"lightseagreen\", \"black\"]\n",
    "\n",
    "colors = [\"black\", \"yellow\", \"red\", \"cyan\", \"darkorange\", \"gold\", \"lawngreen\", \"lightseagreen\", \"black\"]\n",
    "colors = [(1,1,0), (0,1,0), (1,0,0), (0,0,0), (0,0,0), (0,0,0), (0,0,0), (0,0,0), (0,0,0), (0,0,0),\n",
    "          (0,0,0), (0,0,0), (0,0,0), (0,0,0), (0,0,0), (0,0,0), (0,0,0), (0,0,0), (0,0,0), (0,0,0)]\n",
    "\n",
    "colors = [(1,0.8,0.6), (1,1,1), (0.7,0.7,0.7), (0.5,0.5,0.5), (0.3,0.3,0.3), (0.3,0.3,0.5), (0,0,0), (0,0,0), (0,0,0), (0,0,0), (0,0,0), (0,0,0),\n",
    "          (0,0,0), (0,0,0), (1,0,0), (0,0,0), (0,0,0), (0,0,0), (0.5,0,0), (0,0,0), (0,0,0)]\n",
    "\n",
    "\n",
    "colors = [\"red\",\"yellow\",\"green\",\"blue\",\"black\", \"darkblue\"]\n",
    "colors = [\"lightgreen\",\"green\",\"red\",\"yellow\",\"green\",\"blue\",\"black\", \"darkblue\"]\n",
    "colors = [\"lightgreen\",\"green\",\"yellow\",\"red\",\"green\",\"blue\",\"black\", \"darkblue\"]\n",
    "colors = [\"white\",\"green\",\"yellow\",\"red\",\"cyan\",\"blue\",\"black\", \"darkblue\"]\n",
    "\n",
    "colors = list(reversed([\"white\",\"green\",\"yellow\",\"red\",\"cyan\",\"blue\",\"black\", \"darkblue\"]))\n",
    "\n",
    "colors = [\"cyan\",\"blue\",\"yellow\",\"red\",\"gray\",\"blue\",\"black\", \"darkblue\"]\n",
    "colors = [\"cyan\",\"blue\",\"yellow\",\"red\",\"gray\",\"black\",\"black\", \"black\"]\n",
    "colors = [(0.7,0.9,1),\"blue\",\"yellow\",\"red\",\"gray\",\"black\",\"black\", \"black\"]\n",
    "colors = [(0.7,0.9,1),(0.3,0.4,1),\"yellow\",\"red\",\"gray\",\"black\",\"black\", \"black\"]\n",
    "colors = [(0.5,0.95,1),(0.3,0.4,1),\"yellow\",\"red\",\"gray\",\"black\",\"black\", \"black\"]\n",
    "\n",
    "colors = [\"yellow\",\"red\",(0.5,0.95,1),(0.3,0.4,1),\"gray\",\"black\",\"black\", \"black\"]\n",
    "\n",
    "cmap1 = LinearSegmentedColormap.from_list(\"mycmap\", colors)\n",
    "plot_matrix(ddd, cmap=cmap1, figsize=(19.86, 19.86))\n"
   ]
  },
  {
   "cell_type": "code",
   "execution_count": null,
   "id": "bf426617",
   "metadata": {
    "scrolled": true
   },
   "outputs": [],
   "source": [
    "plot_matrix(ddd_v, cmap=cmap1, figsize=(19.86, 19.86))"
   ]
  },
  {
   "cell_type": "code",
   "execution_count": null,
   "id": "9b27bd55",
   "metadata": {},
   "outputs": [],
   "source": []
  },
  {
   "cell_type": "code",
   "execution_count": null,
   "id": "b7ea33ce",
   "metadata": {},
   "outputs": [],
   "source": []
  },
  {
   "cell_type": "code",
   "execution_count": null,
   "id": "e994c1b6",
   "metadata": {},
   "outputs": [],
   "source": []
  },
  {
   "cell_type": "code",
   "execution_count": null,
   "id": "4ca1f350",
   "metadata": {
    "scrolled": false
   },
   "outputs": [],
   "source": [
    "plot_wavfile(hmm.wav)"
   ]
  },
  {
   "cell_type": "code",
   "execution_count": null,
   "id": "ec2463b5",
   "metadata": {
    "scrolled": true
   },
   "outputs": [],
   "source": [
    "waveform, sample_rate = torchaudio.load(hmm.wav)\n",
    "plot_specgram(waveform, sample_rate)"
   ]
  },
  {
   "cell_type": "code",
   "execution_count": null,
   "id": "1c6016ed",
   "metadata": {
    "scrolled": true
   },
   "outputs": [],
   "source": [
    "print(hmm)"
   ]
  },
  {
   "cell_type": "markdown",
   "id": "c4a9bdce",
   "metadata": {},
   "source": [
    "# Compute new means based on L"
   ]
  },
  {
   "cell_type": "code",
   "execution_count": null,
   "id": "5127361f",
   "metadata": {},
   "outputs": [],
   "source": [
    "# Mean\n",
    "#tensor.mean()\n",
    "\n",
    "# Standard Deviation\n",
    "#tensor.std()"
   ]
  },
  {
   "cell_type": "code",
   "execution_count": null,
   "id": "f493379c",
   "metadata": {},
   "outputs": [],
   "source": []
  },
  {
   "cell_type": "code",
   "execution_count": null,
   "id": "5cde5bad",
   "metadata": {},
   "outputs": [],
   "source": [
    "len(hmm.b), len({*hmm.b})"
   ]
  },
  {
   "cell_type": "code",
   "execution_count": null,
   "id": "94ce1e4b",
   "metadata": {},
   "outputs": [],
   "source": []
  },
  {
   "cell_type": "code",
   "execution_count": null,
   "id": "8f250ff8",
   "metadata": {},
   "outputs": [],
   "source": [
    "b"
   ]
  },
  {
   "cell_type": "code",
   "execution_count": null,
   "id": "add4045a",
   "metadata": {},
   "outputs": [],
   "source": []
  },
  {
   "cell_type": "code",
   "execution_count": null,
   "id": "8614763f",
   "metadata": {},
   "outputs": [],
   "source": []
  },
  {
   "cell_type": "code",
   "execution_count": null,
   "id": "9addf4e9",
   "metadata": {},
   "outputs": [],
   "source": []
  },
  {
   "cell_type": "code",
   "execution_count": null,
   "id": "ef604643",
   "metadata": {},
   "outputs": [],
   "source": []
  },
  {
   "cell_type": "code",
   "execution_count": null,
   "id": "1eb4b438",
   "metadata": {},
   "outputs": [],
   "source": []
  },
  {
   "cell_type": "code",
   "execution_count": null,
   "id": "34238827",
   "metadata": {},
   "outputs": [],
   "source": []
  },
  {
   "cell_type": "code",
   "execution_count": null,
   "id": "e40e788e",
   "metadata": {},
   "outputs": [],
   "source": []
  },
  {
   "cell_type": "code",
   "execution_count": null,
   "id": "c344fa84",
   "metadata": {},
   "outputs": [],
   "source": []
  },
  {
   "cell_type": "code",
   "execution_count": null,
   "id": "f33ec085",
   "metadata": {},
   "outputs": [],
   "source": []
  },
  {
   "cell_type": "code",
   "execution_count": null,
   "id": "e459cb3d",
   "metadata": {},
   "outputs": [],
   "source": []
  }
 ],
 "metadata": {
  "kernelspec": {
   "display_name": "Python 3 (ipykernel)",
   "language": "python",
   "name": "python3"
  },
  "language_info": {
   "codemirror_mode": {
    "name": "ipython",
    "version": 3
   },
   "file_extension": ".py",
   "mimetype": "text/x-python",
   "name": "python",
   "nbconvert_exporter": "python",
   "pygments_lexer": "ipython3",
   "version": "3.10.5"
  }
 },
 "nbformat": 4,
 "nbformat_minor": 5
}
