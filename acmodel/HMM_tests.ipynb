{
 "cells": [
  {
   "cell_type": "markdown",
   "id": "042070f5",
   "metadata": {},
   "source": [
    "# Simple HMM in NumPy or PyTorch"
   ]
  },
  {
   "cell_type": "code",
   "execution_count": null,
   "id": "89d8e35f",
   "metadata": {},
   "outputs": [],
   "source": [
    "%run /home/hanzl/f-w/prak/acmodel/matrix.py"
   ]
  },
  {
   "cell_type": "code",
   "execution_count": null,
   "id": "47b3885a",
   "metadata": {},
   "outputs": [],
   "source": [
    "A = m([[0.7,0.3,0,0],\n",
    "       [0,0.9,0.1,0],\n",
    "       [0,0,0.8,0.2],\n",
    "       [0,0,0,1]])"
   ]
  },
  {
   "cell_type": "code",
   "execution_count": null,
   "id": "ca7c8ea3",
   "metadata": {},
   "outputs": [],
   "source": [
    "# where we can be\n",
    "x = m([[1,0,0,0]])"
   ]
  },
  {
   "cell_type": "code",
   "execution_count": null,
   "id": "47b96177",
   "metadata": {},
   "outputs": [],
   "source": [
    "# recording length in frames\n",
    "tmax = 14000"
   ]
  },
  {
   "cell_type": "code",
   "execution_count": null,
   "id": "8d32b824",
   "metadata": {},
   "outputs": [],
   "source": [
    "#len_x = len(x.T)\n",
    "len_x = x.size()[1]\n",
    "\n",
    "#alpha_m = m.zeros((tmax,len_x)) # mantissa-like values, kept in reasonable range\n",
    "alpha_m = m.rowlist((tmax,len_x)) # mantissa-like values, kept in reasonable range\n",
    "\n",
    "\n",
    "#alpha_exp = m.zeros(tmax)\n",
    "alpha_exp = m.rowlist((tmax,1))\n",
    "\n",
    "\n",
    "exponent = 0\n",
    "base = 1000 # base for separation to exp and m (somewhere around 5e-324 starts underflow)"
   ]
  },
  {
   "cell_type": "code",
   "execution_count": null,
   "id": "cc41ebf0",
   "metadata": {},
   "outputs": [],
   "source": [
    "#b = alpha_m + 0.1\n",
    "\n",
    "b = m.zeros((tmax,len_x)) + 0.1\n"
   ]
  },
  {
   "cell_type": "code",
   "execution_count": null,
   "id": "ec463cae",
   "metadata": {},
   "outputs": [],
   "source": [
    "x_m = m([[1,0,0,0]]) "
   ]
  },
  {
   "cell_type": "code",
   "execution_count": null,
   "id": "968570cc",
   "metadata": {
    "scrolled": false
   },
   "outputs": [],
   "source": [
    "%%time\n",
    "x_m = m([[1,0,0,0]]) # mantissa-like moderated value (kept in range)\n",
    "for row in range(tmax):\n",
    "    while x_m.max()<1/base: # renormalize and remember power of base used\n",
    "        x_m *= base\n",
    "        exponent -= 1\n",
    "    alpha_exp[row] = exponent\n",
    "    alpha_m[row] = x_m\n",
    "    x_m = x_m@A*b[row]   # FINETUNE WHICH row's b IS USED (ALSO FOR beta)"
   ]
  },
  {
   "cell_type": "markdown",
   "id": "3af2f17e",
   "metadata": {},
   "source": [
    "Wall time: 6.77 s for GPU, 1.44 s for CPU (both PyTorch sparse)\n",
    "\n",
    "\n",
    "\n"
   ]
  },
  {
   "cell_type": "markdown",
   "id": "72f9972f",
   "metadata": {},
   "source": [
    "# Backward"
   ]
  },
  {
   "cell_type": "code",
   "execution_count": null,
   "id": "0d972257",
   "metadata": {},
   "outputs": [],
   "source": [
    "A"
   ]
  },
  {
   "cell_type": "code",
   "execution_count": null,
   "id": "cae7c430",
   "metadata": {
    "scrolled": true
   },
   "outputs": [],
   "source": [
    "x_m"
   ]
  },
  {
   "cell_type": "code",
   "execution_count": null,
   "id": "b63ffe1f",
   "metadata": {},
   "outputs": [],
   "source": [
    "#At = np.transpose(A)\n",
    "At = A.T()\n"
   ]
  },
  {
   "cell_type": "code",
   "execution_count": null,
   "id": "94209a5e",
   "metadata": {},
   "outputs": [],
   "source": [
    "#beta_m = m.zeros((tmax,len_x))\n",
    "beta_m = m.rowlist((tmax,len_x))\n",
    "\n",
    "\n",
    "#beta_exp = m.zeros(tmax)\n",
    "beta_exp = m.rowlist((tmax,1))\n",
    "\n",
    "exponent = 0"
   ]
  },
  {
   "cell_type": "code",
   "execution_count": null,
   "id": "5d2e443b",
   "metadata": {},
   "outputs": [],
   "source": [
    "x_m = m([[0,0,0,1]])\n",
    "for row in range(tmax-1,0-1,-1):\n",
    "    beta_m[row] = x_m\n",
    "    beta_exp[row] = exponent\n",
    "    x_m = x_m@At*b[row]\n",
    "    \n",
    "    while x_m.max()<1/base: # renormalize and remember power of base used\n",
    "        x_m *= base\n",
    "        exponent -= 1"
   ]
  },
  {
   "cell_type": "markdown",
   "id": "24cc20a8",
   "metadata": {},
   "source": [
    "## important tricky conversions in place:\n",
    "Can be done just once, fix these hacks"
   ]
  },
  {
   "cell_type": "code",
   "execution_count": null,
   "id": "8c2e4440",
   "metadata": {},
   "outputs": [],
   "source": [
    "alpha_exp = m(alpha_exp.val)"
   ]
  },
  {
   "cell_type": "code",
   "execution_count": null,
   "id": "c658fe01",
   "metadata": {},
   "outputs": [],
   "source": [
    "beta_exp = m(beta_exp.val)"
   ]
  },
  {
   "cell_type": "code",
   "execution_count": null,
   "id": "0ba56d0f",
   "metadata": {},
   "outputs": [],
   "source": []
  },
  {
   "cell_type": "code",
   "execution_count": null,
   "id": "71f4260a",
   "metadata": {},
   "outputs": [],
   "source": []
  },
  {
   "cell_type": "code",
   "execution_count": null,
   "id": "08b8cf57",
   "metadata": {
    "scrolled": true
   },
   "outputs": [],
   "source": [
    "L_m = alpha_m*beta_m # this is .*"
   ]
  },
  {
   "cell_type": "code",
   "execution_count": null,
   "id": "d97ee9c9",
   "metadata": {},
   "outputs": [],
   "source": [
    "alpha_m"
   ]
  },
  {
   "cell_type": "code",
   "execution_count": null,
   "id": "fe4a4cdb",
   "metadata": {},
   "outputs": [],
   "source": [
    "beta_m"
   ]
  },
  {
   "cell_type": "code",
   "execution_count": null,
   "id": "68a5ce70",
   "metadata": {},
   "outputs": [],
   "source": []
  },
  {
   "cell_type": "code",
   "execution_count": null,
   "id": "f0d5204a",
   "metadata": {},
   "outputs": [],
   "source": []
  },
  {
   "cell_type": "code",
   "execution_count": null,
   "id": "8eda4711",
   "metadata": {},
   "outputs": [],
   "source": []
  },
  {
   "cell_type": "code",
   "execution_count": null,
   "id": "c918f5c9",
   "metadata": {
    "scrolled": true
   },
   "outputs": [],
   "source": [
    "L_m"
   ]
  },
  {
   "cell_type": "code",
   "execution_count": null,
   "id": "885c9cce",
   "metadata": {},
   "outputs": [],
   "source": []
  },
  {
   "cell_type": "code",
   "execution_count": null,
   "id": "956f30ad",
   "metadata": {},
   "outputs": [],
   "source": []
  },
  {
   "cell_type": "code",
   "execution_count": null,
   "id": "db654db5",
   "metadata": {},
   "outputs": [],
   "source": [
    "L_exp = alpha_exp+beta_exp"
   ]
  },
  {
   "cell_type": "code",
   "execution_count": null,
   "id": "f59ccfc5",
   "metadata": {},
   "outputs": [],
   "source": [
    "L_exp.val.to_dense().max()"
   ]
  },
  {
   "cell_type": "code",
   "execution_count": null,
   "id": "67931021",
   "metadata": {},
   "outputs": [],
   "source": []
  },
  {
   "cell_type": "code",
   "execution_count": null,
   "id": "16e47d46",
   "metadata": {},
   "outputs": [],
   "source": [
    "\n",
    "#L_exp -= L_exp.max()\n",
    "\n",
    "\n",
    "#L_exp -= L_exp.val.to_dense().max()\n",
    "\n",
    "L_exp += float(-L_exp.val.to_dense().max())\n",
    "\n"
   ]
  },
  {
   "cell_type": "code",
   "execution_count": null,
   "id": "656db79a",
   "metadata": {},
   "outputs": [],
   "source": [
    "# re-normalize L"
   ]
  },
  {
   "cell_type": "code",
   "execution_count": null,
   "id": "ffcd0aaa",
   "metadata": {},
   "outputs": [],
   "source": [
    "L_m.max()"
   ]
  },
  {
   "cell_type": "code",
   "execution_count": null,
   "id": "6f225749",
   "metadata": {},
   "outputs": [],
   "source": []
  },
  {
   "cell_type": "code",
   "execution_count": null,
   "id": "f80923fc",
   "metadata": {},
   "outputs": [],
   "source": [
    "\n",
    "\n",
    "L_md = L_m.val.to_dense()\n",
    "L_expd = L_exp.val.to_dense()\n"
   ]
  },
  {
   "cell_type": "code",
   "execution_count": null,
   "id": "2762a123",
   "metadata": {},
   "outputs": [],
   "source": [
    "#for row in range(tmax):\n",
    "#    while L_exp[row]<0: # renormalize and remember power of base used\n",
    "#        L_m[row] *= 1/base\n",
    "#        L_exp[row] += 1\n",
    "        \n",
    "        \n",
    "        \n",
    "#for row in range(tmax):\n",
    "#    while float(L_exp[row].val)<0: # renormalize and remember power of base used\n",
    "#        L_md[row] *= 1/base\n",
    "#        L_exp[row] += 1\n",
    "      \n",
    "        \n",
    "for row in range(tmax):\n",
    "    while L_expd[row]<0: # renormalize and remember power of base used\n",
    "        L_md[row] *= 1/base\n",
    "        L_expd[row] += 1\n",
    "      \n",
    "     "
   ]
  },
  {
   "cell_type": "code",
   "execution_count": null,
   "id": "7d6c3918",
   "metadata": {},
   "outputs": [],
   "source": [
    "L_expd.min(), L_expd.max()"
   ]
  },
  {
   "cell_type": "code",
   "execution_count": null,
   "id": "80ef2c41",
   "metadata": {},
   "outputs": [],
   "source": [
    "#list(L_m.sum(axis=1))\n",
    "\n",
    "list(L_md.sum(axis=1))\n"
   ]
  },
  {
   "cell_type": "code",
   "execution_count": null,
   "id": "686d7cbf",
   "metadata": {
    "scrolled": true
   },
   "outputs": [],
   "source": [
    "L_md"
   ]
  },
  {
   "cell_type": "code",
   "execution_count": null,
   "id": "91a6c3cc",
   "metadata": {},
   "outputs": [],
   "source": [
    "!pwd"
   ]
  },
  {
   "cell_type": "code",
   "execution_count": null,
   "id": "5eb875b1",
   "metadata": {},
   "outputs": [],
   "source": []
  },
  {
   "cell_type": "code",
   "execution_count": null,
   "id": "5a13fe15",
   "metadata": {},
   "outputs": [],
   "source": []
  }
 ],
 "metadata": {
  "kernelspec": {
   "display_name": "Python 3 (ipykernel)",
   "language": "python",
   "name": "python3"
  },
  "language_info": {
   "codemirror_mode": {
    "name": "ipython",
    "version": 3
   },
   "file_extension": ".py",
   "mimetype": "text/x-python",
   "name": "python",
   "nbconvert_exporter": "python",
   "pygments_lexer": "ipython3",
   "version": "3.10.5"
  }
 },
 "nbformat": 4,
 "nbformat_minor": 5
}
