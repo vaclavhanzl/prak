{
 "cells": [
  {
   "cell_type": "markdown",
   "id": "042070f5",
   "metadata": {},
   "source": [
    "# Simple HMM in NumPy or PyTorch"
   ]
  },
  {
   "cell_type": "code",
   "execution_count": null,
   "id": "7a4ce738",
   "metadata": {},
   "outputs": [],
   "source": [
    "%run /home/hanzl/f-w/prak/prongen/hmm_pron.py"
   ]
  },
  {
   "cell_type": "code",
   "execution_count": null,
   "id": "89d8e35f",
   "metadata": {},
   "outputs": [],
   "source": [
    "%run /home/hanzl/f-w/prak/acmodel/matrix.py"
   ]
  },
  {
   "cell_type": "code",
   "execution_count": null,
   "id": "47b3885a",
   "metadata": {},
   "outputs": [],
   "source": [
    "A = m([[0.7,0.3,0,0],\n",
    "       [0,0.9,0.1,0],\n",
    "       [0,0,0.8,0.2],\n",
    "       [0,0,0,1]])\n",
    "\n",
    "A = m(hmm.A)"
   ]
  },
  {
   "cell_type": "code",
   "execution_count": null,
   "id": "036a8c29",
   "metadata": {},
   "outputs": [],
   "source": [
    "A.size()[0]"
   ]
  },
  {
   "cell_type": "code",
   "execution_count": null,
   "id": "ca7c8ea3",
   "metadata": {},
   "outputs": [],
   "source": [
    "# where we can be\n",
    "#x_m = m([[1,0,0,0]])\n",
    "x_list = [1,0,0,0]\n",
    "x_list = [1]+[0]*(A.size()[0]-1)\n",
    "\n",
    "\n",
    "x_m = m([x_list])\n",
    "x_rev = m([list(reversed(x_list))])"
   ]
  },
  {
   "cell_type": "code",
   "execution_count": null,
   "id": "d01e6266",
   "metadata": {},
   "outputs": [],
   "source": [
    "x_m.size()"
   ]
  },
  {
   "cell_type": "code",
   "execution_count": null,
   "id": "47b96177",
   "metadata": {},
   "outputs": [],
   "source": [
    "# recording length in frames\n",
    "tmax = 14000\n",
    "\n",
    "tmax = 363\n",
    "\n",
    "tmax = int(363/35 * A.size()[0])\n",
    "tmax"
   ]
  },
  {
   "cell_type": "code",
   "execution_count": null,
   "id": "8d32b824",
   "metadata": {},
   "outputs": [],
   "source": [
    "len_x = x_m.size()[1]\n",
    "\n",
    "# allocate space for mantissa-like (kept in range) and row-exponent values\n",
    "alpha_m = m.rowlist((tmax,len_x))\n",
    "alpha_exp = m.rowlist((tmax,1))\n",
    "\n",
    "exponent = 0\n",
    "base = 1000 # base for separation to exp and m (somewhere around 5e-324 starts underflow)"
   ]
  },
  {
   "cell_type": "code",
   "execution_count": null,
   "id": "cc41ebf0",
   "metadata": {},
   "outputs": [],
   "source": [
    "# FAKE b VALUES:\n",
    "b = m.zeros((tmax,len_x)) + 0.1"
   ]
  },
  {
   "cell_type": "code",
   "execution_count": null,
   "id": "ec463cae",
   "metadata": {},
   "outputs": [],
   "source": [
    "#x_m = m([[1,0,0,0]]) "
   ]
  },
  {
   "cell_type": "code",
   "execution_count": null,
   "id": "968570cc",
   "metadata": {
    "scrolled": true
   },
   "outputs": [],
   "source": [
    "%%time\n",
    "#x_m = m([[1,0,0,0]]) # mantissa-like moderated value (kept in range)\n",
    "for row in range(tmax):\n",
    "    while x_m.max()<1/base: # renormalize and remember power of base used\n",
    "        x_m *= base\n",
    "        exponent -= 1\n",
    "    alpha_exp[row] = exponent\n",
    "    alpha_m[row] = x_m\n",
    "    x_m = x_m@A*b[row]   # FINETUNE WHICH row's b IS USED (ALSO FOR beta)"
   ]
  },
  {
   "cell_type": "markdown",
   "id": "3af2f17e",
   "metadata": {},
   "source": [
    "### Size 14000 x 4\n",
    "* GPU: 7.01 torch sparse coo, NotImpl torch sparse csr, 0.384 torch dense\n",
    "* CPU: 1.54 torch sparse coo, 0.210 torch sparse csr, 0.214 torch dense\n",
    "\n",
    "### Size 363 x 35\n",
    "* GPU: ??? torch sparse coo, NotImpl torch sparse csr, 0.3770 torch dense\n",
    "* CPU: ??? torch sparse coo, NotImpl torch sparse csr, 0.0054 torch dense\n",
    "\n",
    "715 15.4 CPU 391 GPU\n",
    "\n",
    "1420 33  CPU 434 GPU\n",
    "\n",
    "2831  78.5 CPU 486 GPU\n",
    "\n",
    "5652  209  CPU  612 GPU\n",
    "\n",
    "11294  529 CPU  885 GPU\n",
    "\n",
    "22578    5000 CPU   1860 GPU\n",
    "\n",
    "45146    120000 CPU  6110 GPU   unusable GPU coo   not impl CPU csr   unusable CPU coo\n"
   ]
  },
  {
   "cell_type": "code",
   "execution_count": null,
   "id": "b63ffe1f",
   "metadata": {},
   "outputs": [],
   "source": [
    "# Now we will go backward\n",
    "At = A.T()"
   ]
  },
  {
   "cell_type": "code",
   "execution_count": null,
   "id": "94209a5e",
   "metadata": {},
   "outputs": [],
   "source": [
    "beta_m = m.rowlist((tmax,len_x))\n",
    "beta_exp = m.rowlist((tmax,1))\n",
    "\n",
    "exponent = 0"
   ]
  },
  {
   "cell_type": "code",
   "execution_count": null,
   "id": "5d2e443b",
   "metadata": {},
   "outputs": [],
   "source": [
    "#x_m = m([[0,0,0,1]])\n",
    "x_m = x_rev\n",
    "for row in range(tmax-1,0-1,-1):\n",
    "    beta_m[row] = x_m\n",
    "    beta_exp[row] = exponent\n",
    "    x_m = x_m@At*b[row]\n",
    "    while x_m.max()<1/base: # renormalize and remember power of base used\n",
    "        x_m *= base\n",
    "        exponent -= 1"
   ]
  },
  {
   "cell_type": "code",
   "execution_count": null,
   "id": "08b8cf57",
   "metadata": {
    "scrolled": true
   },
   "outputs": [],
   "source": [
    "L_m = alpha_m*beta_m # this is .*"
   ]
  },
  {
   "cell_type": "code",
   "execution_count": null,
   "id": "db654db5",
   "metadata": {},
   "outputs": [],
   "source": [
    "L_exp = alpha_exp+beta_exp"
   ]
  },
  {
   "cell_type": "code",
   "execution_count": null,
   "id": "16e47d46",
   "metadata": {},
   "outputs": [],
   "source": [
    "L_exp += float(-L_exp.max())"
   ]
  },
  {
   "cell_type": "code",
   "execution_count": null,
   "id": "18e2be50",
   "metadata": {},
   "outputs": [],
   "source": [
    "# re-normalize L\n",
    "for row in range(tmax):\n",
    "    while float(L_exp[row].val)<0: # renormalize and remember power of base used\n",
    "        L_m[row] *= 1/base  # invokes setitem which converts L_m to dense\n",
    "        L_exp[row] += 1"
   ]
  },
  {
   "cell_type": "code",
   "execution_count": null,
   "id": "44f83838",
   "metadata": {},
   "outputs": [],
   "source": [
    "L_m.size()"
   ]
  },
  {
   "cell_type": "code",
   "execution_count": null,
   "id": "7d6c3918",
   "metadata": {
    "scrolled": true
   },
   "outputs": [],
   "source": [
    "# test - should be the same now\n",
    "L_exp.min(), L_exp.max()"
   ]
  },
  {
   "cell_type": "code",
   "execution_count": null,
   "id": "b482e720",
   "metadata": {},
   "outputs": [],
   "source": [
    "#L_m"
   ]
  },
  {
   "cell_type": "code",
   "execution_count": null,
   "id": "0e5990d3",
   "metadata": {},
   "outputs": [],
   "source": [
    "L_m.max()"
   ]
  },
  {
   "cell_type": "code",
   "execution_count": null,
   "id": "584a4b1b",
   "metadata": {},
   "outputs": [],
   "source": [
    "X = (L_m*(1/float(L_m.max()))).val"
   ]
  },
  {
   "cell_type": "code",
   "execution_count": null,
   "id": "69375d63",
   "metadata": {},
   "outputs": [],
   "source": [
    "#X"
   ]
  },
  {
   "cell_type": "code",
   "execution_count": null,
   "id": "b726f96a",
   "metadata": {},
   "outputs": [],
   "source": [
    "X.size()"
   ]
  },
  {
   "cell_type": "code",
   "execution_count": null,
   "id": "e1b0c804",
   "metadata": {},
   "outputs": [],
   "source": [
    "scale = 1/X.max(1).values\n",
    "Y = (X.T*scale).T"
   ]
  },
  {
   "cell_type": "code",
   "execution_count": null,
   "id": "32a6e8e8",
   "metadata": {},
   "outputs": [],
   "source": [
    "import matplotlib.pyplot as plt\n",
    "%matplotlib ipympl\n",
    "import matplotlib as mpl\n",
    "mpl.rcParams['figure.figsize'] = (20,3)\n",
    "# Use full with and waste less space on prompts on the left:\n",
    "from IPython.display import display, HTML\n",
    "display(HTML(\"<style>.container { width:100% !important; }</style>\"))\n",
    "display(HTML(\"<style>.prompt_container{width: 11ex !important; }</style>\"))\n",
    "display(HTML(\"<style>div.prompt{min-width: 11ex; }</style>\"))"
   ]
  },
  {
   "cell_type": "code",
   "execution_count": null,
   "id": "cf4a6a25",
   "metadata": {},
   "outputs": [],
   "source": [
    "plt.clf()\n",
    "p = plt.plot(Y*(Y>0.99))\n",
    "plt.show()"
   ]
  },
  {
   "cell_type": "code",
   "execution_count": null,
   "id": "4a32c8fe",
   "metadata": {},
   "outputs": [],
   "source": [
    "i = X.max(1).indices"
   ]
  },
  {
   "cell_type": "code",
   "execution_count": null,
   "id": "86a893a2",
   "metadata": {},
   "outputs": [],
   "source": [
    "\"\".join([hmm.b[ii] for ii in i])"
   ]
  },
  {
   "cell_type": "code",
   "execution_count": null,
   "id": "72be256c",
   "metadata": {},
   "outputs": [],
   "source": [
    "hmm.wav"
   ]
  },
  {
   "cell_type": "code",
   "execution_count": null,
   "id": "73f57a78",
   "metadata": {},
   "outputs": [],
   "source": [
    "import torchaudio\n",
    "cmap = ['BrBG', 'RdBu', 'PuOr'][0]\n",
    "def plot_specgram(waveform, sample_rate):\n",
    "    waveform = waveform.numpy()\n",
    "    figure = plt.figure()\n",
    "    plt.specgram(waveform[0], Fs=sample_rate, cmap=cmap)\n",
    "    plt.tick_params(axis=\"x\",direction=\"in\", pad=-12)\n",
    "    plt.tick_params(axis=\"y\",direction=\"in\", pad=-38)\n",
    "    plt.subplots_adjust(left=0, right=1, top=1, bottom=0)\n",
    "    plt.show(block=False)\n",
    "    figure.canvas.header_visible = False\n",
    "    figure.canvas.footer_visible = False\n",
    "    #plt.clf()\n"
   ]
  },
  {
   "cell_type": "code",
   "execution_count": null,
   "id": "76583239",
   "metadata": {},
   "outputs": [],
   "source": [
    "def plot_waveform(waveform, sample_rate):\n",
    "    waveform = waveform.numpy()\n",
    "    num_channels, num_frames = waveform.shape\n",
    "    time_axis = torch.arange(0, num_frames) / sample_rate\n",
    "    figure, axes = plt.subplots(num_channels, 1)\n",
    "    #axes = plt\n",
    "    axes.tick_params(axis=\"x\",direction=\"in\", pad=-12)\n",
    "    axes.tick_params(axis=\"y\",direction=\"in\", pad=-22)\n",
    "    axes.plot(time_axis, waveform[0], linewidth=1, color=(0,0.4,0.4))\n",
    "    axes.grid(True)\n",
    "    plt.subplots_adjust(left=0, right=1, top=1, bottom=0)\n",
    "    plt.show(block=False)\n",
    "    max_time = num_frames/sample_rate\n",
    "    axes.set_xlim([0,max_time])\n",
    "    figure.canvas.header_visible = False\n",
    "    figure.canvas.footer_visible = False\n",
    "    #plt.clf()"
   ]
  },
  {
   "cell_type": "code",
   "execution_count": null,
   "id": "0016167f",
   "metadata": {},
   "outputs": [],
   "source": [
    "def plot_fun(x, frame_sample_rate=100):\n",
    "    #figure = plt.figure()\n",
    "    figure, axes = plt.subplots(1, 1)\n",
    "    plt.plot(x)\n",
    "    plt.tick_params(axis=\"x\",direction=\"in\", pad=-12)\n",
    "    plt.tick_params(axis=\"y\",direction=\"in\", pad=-38)\n",
    "    plt.subplots_adjust(left=0, right=1, top=1, bottom=0)\n",
    "    num_frames = x.size()[0]\n",
    "    max_time = num_frames/frame_sample_rate\n",
    "    max_time = num_frames\n",
    "    axes.set_xlim([0,max_time])\n",
    "    axes.grid(True)\n",
    "    plt.show(block=False)\n",
    "    figure.canvas.header_visible = False\n",
    "    figure.canvas.footer_visible = False\n"
   ]
  },
  {
   "cell_type": "code",
   "execution_count": null,
   "id": "0713082d",
   "metadata": {},
   "outputs": [],
   "source": [
    "waveform, sample_rate = torchaudio.load(hmm.wav)"
   ]
  },
  {
   "cell_type": "code",
   "execution_count": null,
   "id": "0226a1de",
   "metadata": {},
   "outputs": [],
   "source": [
    "mfcc = torchaudio.compliance.kaldi.mfcc(waveform) # default 16kHz is correct for this file"
   ]
  },
  {
   "cell_type": "code",
   "execution_count": null,
   "id": "e90b3fe1",
   "metadata": {},
   "outputs": [],
   "source": [
    "mfcc[0:3].size()"
   ]
  },
  {
   "cell_type": "code",
   "execution_count": null,
   "id": "249564d4",
   "metadata": {},
   "outputs": [],
   "source": [
    "mfcc[:,0:3].size(), mfcc[:,5:6].size(), mfcc[:,5].size()"
   ]
  },
  {
   "cell_type": "code",
   "execution_count": null,
   "id": "8e53b39f",
   "metadata": {},
   "outputs": [],
   "source": [
    "mfcc[:,[5, 7]].size()"
   ]
  },
  {
   "cell_type": "code",
   "execution_count": null,
   "id": "b62a119e",
   "metadata": {},
   "outputs": [],
   "source": [
    "mfcc[[5, 7]].size(), mfcc[[5, 7], :, None].size()"
   ]
  },
  {
   "cell_type": "code",
   "execution_count": null,
   "id": "8ffd3ae6",
   "metadata": {},
   "outputs": [],
   "source": []
  },
  {
   "cell_type": "code",
   "execution_count": null,
   "id": "8062a329",
   "metadata": {
    "scrolled": true
   },
   "outputs": [],
   "source": [
    "plot_fun(mfcc[:,10:])"
   ]
  },
  {
   "cell_type": "code",
   "execution_count": null,
   "id": "d74901c1",
   "metadata": {},
   "outputs": [],
   "source": [
    "cmap = ['BrBG', 'RdBu', 'PuOr'][2]\n",
    "def plot_matrix(x, cmap='PuOr', figsize=(20,3)):\n",
    "    figure = plt.figure(figsize=figsize)\n",
    "    plt.imshow(x.T, cmap=cmap)\n",
    "    plt.tick_params(axis=\"x\",direction=\"in\", pad=-12)\n",
    "    plt.tick_params(axis=\"y\",direction=\"in\", pad=-38)\n",
    "    plt.subplots_adjust(left=0, right=1, top=1, bottom=0)\n",
    "    plt.show(block=False)\n",
    "    figure.canvas.header_visible = False\n",
    "    figure.canvas.footer_visible = False"
   ]
  },
  {
   "cell_type": "code",
   "execution_count": null,
   "id": "a14da87b",
   "metadata": {
    "scrolled": false
   },
   "outputs": [],
   "source": [
    "plot_matrix(Y,cmap='viridis', figsize=(20,2))"
   ]
  },
  {
   "cell_type": "markdown",
   "id": "ff43e1fe",
   "metadata": {},
   "source": [
    "'spectral' is not a valid value for name; supported values are 'Accent', 'Accent_r', 'Blues', 'Blues_r', 'BrBG', 'BrBG_r', 'BuGn', 'BuGn_r', 'BuPu', 'BuPu_r', 'CMRmap', 'CMRmap_r', 'Dark2', 'Dark2_r', 'GnBu', 'GnBu_r', 'Greens', 'Greens_r', 'Greys', 'Greys_r', 'OrRd', 'OrRd_r', 'Oranges', 'Oranges_r', 'PRGn', 'PRGn_r', 'Paired', 'Paired_r', 'Pastel1', 'Pastel1_r', 'Pastel2', 'Pastel2_r', 'PiYG', 'PiYG_r', 'PuBu', 'PuBuGn', 'PuBuGn_r', 'PuBu_r', 'PuOr', 'PuOr_r', 'PuRd', 'PuRd_r', 'Purples', 'Purples_r', 'RdBu', 'RdBu_r', 'RdGy', 'RdGy_r', 'RdPu', 'RdPu_r', 'RdYlBu', 'RdYlBu_r', 'RdYlGn', 'RdYlGn_r', 'Reds', 'Reds_r', 'Set1', 'Set1_r', 'Set2', 'Set2_r', 'Set3', 'Set3_r', 'Spectral', 'Spectral_r', 'Wistia', 'Wistia_r', 'YlGn', 'YlGnBu', 'YlGnBu_r', 'YlGn_r', 'YlOrBr', 'YlOrBr_r', 'YlOrRd', 'YlOrRd_r', 'afmhot', 'afmhot_r', 'autumn', 'autumn_r', 'binary', 'binary_r', 'bone', 'bone_r', 'brg', 'brg_r', 'bwr', 'bwr_r', 'cividis', 'cividis_r', 'cool', 'cool_r', 'coolwarm', 'coolwarm_r', 'copper', 'copper_r', 'cubehelix', 'cubehelix_r', 'flag', 'flag_r', 'gist_earth', 'gist_earth_r', 'gist_gray', 'gist_gray_r', 'gist_heat', 'gist_heat_r', 'gist_ncar', 'gist_ncar_r', 'gist_rainbow', 'gist_rainbow_r', 'gist_stern', 'gist_stern_r', 'gist_yarg', 'gist_yarg_r', 'gnuplot', 'gnuplot2', 'gnuplot2_r', 'gnuplot_r', 'gray', 'gray_r', 'hot', 'hot_r', 'hsv', 'hsv_r', 'inferno', 'inferno_r', 'jet', 'jet_r', 'magma', 'magma_r', 'nipy_spectral', 'nipy_spectral_r', 'ocean', 'ocean_r', 'pink', 'pink_r', 'plasma', 'plasma_r', 'prism', 'prism_r', 'rainbow', 'rainbow_r', 'seismic', 'seismic_r', 'spring', 'spring_r', 'summer', 'summer_r', 'tab10', 'tab10_r', 'tab20', 'tab20_r', 'tab20b', 'tab20b_r', 'tab20c', 'tab20c_r', 'terrain', 'terrain_r', 'turbo', 'turbo_r', 'twilight', 'twilight_r', 'twilight_shifted', 'twilight_shifted_r', 'viridis', 'viridis_r', 'winter', 'winter_r'"
   ]
  },
  {
   "cell_type": "code",
   "execution_count": null,
   "id": "a6bf29a7",
   "metadata": {
    "scrolled": false
   },
   "outputs": [],
   "source": [
    "plot_matrix(mfcc, figsize=(20,1))"
   ]
  },
  {
   "cell_type": "code",
   "execution_count": null,
   "id": "06b08021",
   "metadata": {},
   "outputs": [],
   "source": [
    "mfcc.size(), mfcc[None].size(), mfcc[:, None].size()"
   ]
  },
  {
   "cell_type": "code",
   "execution_count": null,
   "id": "c3fa5201",
   "metadata": {},
   "outputs": [],
   "source": [
    "d = mfcc[None] - mfcc[:, None]"
   ]
  },
  {
   "cell_type": "code",
   "execution_count": null,
   "id": "bff25ae4",
   "metadata": {},
   "outputs": [],
   "source": [
    "d.size()"
   ]
  },
  {
   "cell_type": "code",
   "execution_count": null,
   "id": "91218356",
   "metadata": {},
   "outputs": [],
   "source": [
    "dd = d ** 2"
   ]
  },
  {
   "cell_type": "code",
   "execution_count": null,
   "id": "b19f8e0d",
   "metadata": {},
   "outputs": [],
   "source": [
    "ddd = dd.sum(2)"
   ]
  },
  {
   "cell_type": "code",
   "execution_count": null,
   "id": "1ba397fa",
   "metadata": {
    "scrolled": true
   },
   "outputs": [],
   "source": [
    "#plot_matrix(ddd, cmap='hsv')\n",
    "#plot_matrix(ddd, cmap=['twilight_shifted','twilight','gist_ncar','nipy_spectral','turbo','jet','rainbow','gist_rainbow','ocean','terrain'][-1]   )\n",
    "#plot_matrix(ddd, cmap=['twilight_shifted', 'gist_stern', 'gnuplot', 'gnuplot2', 'RdBu'][-1]   )\n",
    "#plot_matrix(ddd, cmap=['Spectral'][-1]   )\n",
    "#plot_matrix(ddd, cmap=['viridis', 'plasma', 'inferno','magma','cividis'][-1]   )\n",
    "\n",
    "\n",
    "from matplotlib import cm\n",
    "from matplotlib.colors import ListedColormap, LinearSegmentedColormap\n",
    "\n",
    "\n",
    "colors = [\"cyan\", \"darkorange\", \"gold\", \"lawngreen\", \"lightseagreen\", \"black\"]\n",
    "\n",
    "colors = [\"black\", \"yellow\", \"red\", \"cyan\", \"darkorange\", \"gold\", \"lawngreen\", \"lightseagreen\", \"black\"]\n",
    "colors = [(1,1,0), (0,1,0), (1,0,0), (0,0,0), (0,0,0), (0,0,0), (0,0,0), (0,0,0), (0,0,0), (0,0,0),\n",
    "          (0,0,0), (0,0,0), (0,0,0), (0,0,0), (0,0,0), (0,0,0), (0,0,0), (0,0,0), (0,0,0), (0,0,0)]\n",
    "\n",
    "colors = [(1,0.8,0.6), (1,1,1), (0.7,0.7,0.7), (0.5,0.5,0.5), (0.3,0.3,0.3), (0.3,0.3,0.5), (0,0,0), (0,0,0), (0,0,0), (0,0,0), (0,0,0), (0,0,0),\n",
    "          (0,0,0), (0,0,0), (1,0,0), (0,0,0), (0,0,0), (0,0,0), (0.5,0,0), (0,0,0), (0,0,0)]\n",
    "\n",
    "\n",
    "colors = [\"red\",\"yellow\",\"green\",\"blue\",\"black\", \"darkblue\"]\n",
    "colors = [\"lightgreen\",\"green\",\"red\",\"yellow\",\"green\",\"blue\",\"black\", \"darkblue\"]\n",
    "colors = [\"lightgreen\",\"green\",\"yellow\",\"red\",\"green\",\"blue\",\"black\", \"darkblue\"]\n",
    "colors = [\"white\",\"green\",\"yellow\",\"red\",\"cyan\",\"blue\",\"black\", \"darkblue\"]\n",
    "\n",
    "colors = list(reversed([\"white\",\"green\",\"yellow\",\"red\",\"cyan\",\"blue\",\"black\", \"darkblue\"]))\n",
    "\n",
    "colors = [\"cyan\",\"blue\",\"yellow\",\"red\",\"gray\",\"blue\",\"black\", \"darkblue\"]\n",
    "colors = [\"cyan\",\"blue\",\"yellow\",\"red\",\"gray\",\"black\",\"black\", \"black\"]\n",
    "colors = [(0.7,0.9,1),\"blue\",\"yellow\",\"red\",\"gray\",\"black\",\"black\", \"black\"]\n",
    "colors = [(0.7,0.9,1),(0.3,0.4,1),\"yellow\",\"red\",\"gray\",\"black\",\"black\", \"black\"]\n",
    "colors = [(0.5,0.95,1),(0.3,0.4,1),\"yellow\",\"red\",\"gray\",\"black\",\"black\", \"black\"]\n",
    "\n",
    "colors = [\"yellow\",\"red\",(0.5,0.95,1),(0.3,0.4,1),\"gray\",\"black\",\"black\", \"black\"]\n",
    "\n",
    "cmap1 = LinearSegmentedColormap.from_list(\"mycmap\", colors)\n",
    "plot_matrix(ddd, cmap=cmap1, figsize=(19.86, 19.86))\n"
   ]
  },
  {
   "cell_type": "code",
   "execution_count": null,
   "id": "4ca1f350",
   "metadata": {
    "scrolled": true
   },
   "outputs": [],
   "source": [
    "plot_waveform(waveform, sample_rate)"
   ]
  },
  {
   "cell_type": "code",
   "execution_count": null,
   "id": "ec2463b5",
   "metadata": {
    "scrolled": true
   },
   "outputs": [],
   "source": [
    "plot_specgram(waveform, sample_rate)"
   ]
  },
  {
   "cell_type": "code",
   "execution_count": null,
   "id": "0e457b71",
   "metadata": {},
   "outputs": [],
   "source": []
  },
  {
   "cell_type": "code",
   "execution_count": null,
   "id": "27dd571b",
   "metadata": {},
   "outputs": [],
   "source": []
  },
  {
   "cell_type": "code",
   "execution_count": null,
   "id": "9b36c6df",
   "metadata": {},
   "outputs": [],
   "source": []
  },
  {
   "cell_type": "code",
   "execution_count": null,
   "id": "1c6016ed",
   "metadata": {
    "scrolled": false
   },
   "outputs": [],
   "source": [
    "print(hmm)"
   ]
  },
  {
   "cell_type": "code",
   "execution_count": null,
   "id": "08883481",
   "metadata": {},
   "outputs": [],
   "source": []
  },
  {
   "cell_type": "code",
   "execution_count": null,
   "id": "5127361f",
   "metadata": {},
   "outputs": [],
   "source": [
    "# Mean\n",
    "tensor.mean()\n",
    "\n",
    "# Standard Deviation\n",
    "tensor.std()"
   ]
  },
  {
   "cell_type": "code",
   "execution_count": null,
   "id": "f493379c",
   "metadata": {},
   "outputs": [],
   "source": []
  },
  {
   "cell_type": "code",
   "execution_count": null,
   "id": "cb8bf754",
   "metadata": {},
   "outputs": [],
   "source": [
    "# Mean\n",
    "tensor.mean()\n",
    "\n",
    "# Standard Deviation\n",
    "tensor.std()"
   ]
  },
  {
   "cell_type": "code",
   "execution_count": null,
   "id": "5cde5bad",
   "metadata": {},
   "outputs": [],
   "source": []
  },
  {
   "cell_type": "code",
   "execution_count": null,
   "id": "94ce1e4b",
   "metadata": {},
   "outputs": [],
   "source": []
  },
  {
   "cell_type": "code",
   "execution_count": null,
   "id": "8f250ff8",
   "metadata": {},
   "outputs": [],
   "source": []
  },
  {
   "cell_type": "code",
   "execution_count": null,
   "id": "add4045a",
   "metadata": {},
   "outputs": [],
   "source": []
  },
  {
   "cell_type": "code",
   "execution_count": null,
   "id": "8614763f",
   "metadata": {},
   "outputs": [],
   "source": []
  },
  {
   "cell_type": "code",
   "execution_count": null,
   "id": "9addf4e9",
   "metadata": {},
   "outputs": [],
   "source": []
  },
  {
   "cell_type": "code",
   "execution_count": null,
   "id": "ef604643",
   "metadata": {},
   "outputs": [],
   "source": []
  },
  {
   "cell_type": "code",
   "execution_count": null,
   "id": "1eb4b438",
   "metadata": {},
   "outputs": [],
   "source": []
  },
  {
   "cell_type": "code",
   "execution_count": null,
   "id": "34238827",
   "metadata": {},
   "outputs": [],
   "source": []
  },
  {
   "cell_type": "code",
   "execution_count": null,
   "id": "e40e788e",
   "metadata": {},
   "outputs": [],
   "source": []
  },
  {
   "cell_type": "code",
   "execution_count": null,
   "id": "c344fa84",
   "metadata": {},
   "outputs": [],
   "source": []
  },
  {
   "cell_type": "code",
   "execution_count": null,
   "id": "f33ec085",
   "metadata": {},
   "outputs": [],
   "source": []
  },
  {
   "cell_type": "code",
   "execution_count": null,
   "id": "e459cb3d",
   "metadata": {},
   "outputs": [],
   "source": []
  }
 ],
 "metadata": {
  "kernelspec": {
   "display_name": "Python 3 (ipykernel)",
   "language": "python",
   "name": "python3"
  },
  "language_info": {
   "codemirror_mode": {
    "name": "ipython",
    "version": 3
   },
   "file_extension": ".py",
   "mimetype": "text/x-python",
   "name": "python",
   "nbconvert_exporter": "python",
   "pygments_lexer": "ipython3",
   "version": "3.10.5"
  }
 },
 "nbformat": 4,
 "nbformat_minor": 5
}
