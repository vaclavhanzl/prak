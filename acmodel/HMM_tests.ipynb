{
 "cells": [
  {
   "cell_type": "markdown",
   "id": "042070f5",
   "metadata": {},
   "source": [
    "# Simple HMM in NumPy or PyTorch"
   ]
  },
  {
   "cell_type": "code",
   "execution_count": null,
   "id": "7a4ce738",
   "metadata": {},
   "outputs": [],
   "source": [
    "%run /home/hanzl/f-w/prak/prongen/hmm_pron.py"
   ]
  },
  {
   "cell_type": "code",
   "execution_count": null,
   "id": "89d8e35f",
   "metadata": {},
   "outputs": [],
   "source": [
    "%run /home/hanzl/f-w/prak/acmodel/matrix.py"
   ]
  },
  {
   "cell_type": "code",
   "execution_count": null,
   "id": "47b3885a",
   "metadata": {},
   "outputs": [],
   "source": [
    "A = m([[0.7,0.3,0,0],\n",
    "       [0,0.9,0.1,0],\n",
    "       [0,0,0.8,0.2],\n",
    "       [0,0,0,1]])\n",
    "\n",
    "A = m(hmm.A)"
   ]
  },
  {
   "cell_type": "code",
   "execution_count": null,
   "id": "036a8c29",
   "metadata": {},
   "outputs": [],
   "source": [
    "A.size()[0]"
   ]
  },
  {
   "cell_type": "code",
   "execution_count": null,
   "id": "ca7c8ea3",
   "metadata": {},
   "outputs": [],
   "source": [
    "# where we can be\n",
    "#x_m = m([[1,0,0,0]])\n",
    "x_list = [1,0,0,0]\n",
    "x_list = [1]+[0]*(A.size()[0]-1)\n",
    "\n",
    "\n",
    "x_m = m([x_list])\n",
    "x_rev = m([list(reversed(x_list))])"
   ]
  },
  {
   "cell_type": "code",
   "execution_count": null,
   "id": "d01e6266",
   "metadata": {},
   "outputs": [],
   "source": [
    "x_m.size()"
   ]
  },
  {
   "cell_type": "code",
   "execution_count": null,
   "id": "47b96177",
   "metadata": {},
   "outputs": [],
   "source": [
    "# recording length in frames\n",
    "tmax = 14000\n",
    "\n",
    "tmax = 363\n",
    "\n",
    "tmax = int(363/35 * A.size()[0])\n",
    "tmax"
   ]
  },
  {
   "cell_type": "code",
   "execution_count": null,
   "id": "8d32b824",
   "metadata": {},
   "outputs": [],
   "source": [
    "len_x = x_m.size()[1]\n",
    "\n",
    "# allocate space for mantissa-like (kept in range) and row-exponent values\n",
    "alpha_m = m.rowlist((tmax,len_x))\n",
    "alpha_exp = m.rowlist((tmax,1))\n",
    "\n",
    "exponent = 0\n",
    "base = 1000 # base for separation to exp and m (somewhere around 5e-324 starts underflow)"
   ]
  },
  {
   "cell_type": "code",
   "execution_count": null,
   "id": "cc41ebf0",
   "metadata": {},
   "outputs": [],
   "source": [
    "# FAKE b VALUES:\n",
    "b = m.zeros((tmax,len_x)) + 0.1"
   ]
  },
  {
   "cell_type": "code",
   "execution_count": null,
   "id": "ec463cae",
   "metadata": {},
   "outputs": [],
   "source": [
    "#x_m = m([[1,0,0,0]]) "
   ]
  },
  {
   "cell_type": "code",
   "execution_count": null,
   "id": "968570cc",
   "metadata": {
    "scrolled": true
   },
   "outputs": [],
   "source": [
    "%%time\n",
    "#x_m = m([[1,0,0,0]]) # mantissa-like moderated value (kept in range)\n",
    "for row in range(tmax):\n",
    "    while x_m.max()<1/base: # renormalize and remember power of base used\n",
    "        x_m *= base\n",
    "        exponent -= 1\n",
    "    alpha_exp[row] = exponent\n",
    "    alpha_m[row] = x_m\n",
    "    x_m = x_m@A*b[row]   # FINETUNE WHICH row's b IS USED (ALSO FOR beta)"
   ]
  },
  {
   "cell_type": "markdown",
   "id": "3af2f17e",
   "metadata": {},
   "source": [
    "### Size 14000 x 4\n",
    "* GPU: 7.01 torch sparse coo, NotImpl torch sparse csr, 0.384 torch dense\n",
    "* CPU: 1.54 torch sparse coo, 0.210 torch sparse csr, 0.214 torch dense\n",
    "\n",
    "### Size 363 x 35\n",
    "* GPU: ??? torch sparse coo, NotImpl torch sparse csr, 0.3770 torch dense\n",
    "* CPU: ??? torch sparse coo, NotImpl torch sparse csr, 0.0054 torch dense\n",
    "\n",
    "715 15.4 CPU 391 GPU\n",
    "\n",
    "1420 33  CPU 434 GPU\n",
    "\n",
    "2831  78.5 CPU 486 GPU\n",
    "\n",
    "5652  209  CPU  612 GPU\n",
    "\n",
    "11294  529 CPU  885 GPU\n",
    "\n",
    "22578    5000 CPU   1860 GPU\n",
    "\n",
    "45146    120000 CPU  6110 GPU   unusable GPU coo   not impl CPU csr   unusable CPU coo\n"
   ]
  },
  {
   "cell_type": "code",
   "execution_count": null,
   "id": "b63ffe1f",
   "metadata": {},
   "outputs": [],
   "source": [
    "# Now we will go backward\n",
    "At = A.T()"
   ]
  },
  {
   "cell_type": "code",
   "execution_count": null,
   "id": "94209a5e",
   "metadata": {},
   "outputs": [],
   "source": [
    "beta_m = m.rowlist((tmax,len_x))\n",
    "beta_exp = m.rowlist((tmax,1))\n",
    "\n",
    "exponent = 0"
   ]
  },
  {
   "cell_type": "code",
   "execution_count": null,
   "id": "5d2e443b",
   "metadata": {},
   "outputs": [],
   "source": [
    "#x_m = m([[0,0,0,1]])\n",
    "x_m = x_rev\n",
    "for row in range(tmax-1,0-1,-1):\n",
    "    beta_m[row] = x_m\n",
    "    beta_exp[row] = exponent\n",
    "    x_m = x_m@At*b[row]\n",
    "    while x_m.max()<1/base: # renormalize and remember power of base used\n",
    "        x_m *= base\n",
    "        exponent -= 1"
   ]
  },
  {
   "cell_type": "code",
   "execution_count": null,
   "id": "08b8cf57",
   "metadata": {
    "scrolled": true
   },
   "outputs": [],
   "source": [
    "L_m = alpha_m*beta_m # this is .*"
   ]
  },
  {
   "cell_type": "code",
   "execution_count": null,
   "id": "db654db5",
   "metadata": {},
   "outputs": [],
   "source": [
    "L_exp = alpha_exp+beta_exp"
   ]
  },
  {
   "cell_type": "code",
   "execution_count": null,
   "id": "16e47d46",
   "metadata": {},
   "outputs": [],
   "source": [
    "L_exp += float(-L_exp.max())"
   ]
  },
  {
   "cell_type": "code",
   "execution_count": null,
   "id": "18e2be50",
   "metadata": {},
   "outputs": [],
   "source": [
    "# re-normalize L\n",
    "for row in range(tmax):\n",
    "    while float(L_exp[row].val)<0: # renormalize and remember power of base used\n",
    "        L_m[row] *= 1/base  # invokes setitem which converts L_m to dense\n",
    "        L_exp[row] += 1"
   ]
  },
  {
   "cell_type": "code",
   "execution_count": null,
   "id": "44f83838",
   "metadata": {},
   "outputs": [],
   "source": [
    "L_m.size()"
   ]
  },
  {
   "cell_type": "code",
   "execution_count": null,
   "id": "7d6c3918",
   "metadata": {
    "scrolled": true
   },
   "outputs": [],
   "source": [
    "# test - should be the same now\n",
    "L_exp.min(), L_exp.max()"
   ]
  },
  {
   "cell_type": "code",
   "execution_count": null,
   "id": "b482e720",
   "metadata": {},
   "outputs": [],
   "source": [
    "#L_m"
   ]
  },
  {
   "cell_type": "code",
   "execution_count": null,
   "id": "0e5990d3",
   "metadata": {},
   "outputs": [],
   "source": [
    "L_m.max()"
   ]
  },
  {
   "cell_type": "code",
   "execution_count": null,
   "id": "584a4b1b",
   "metadata": {},
   "outputs": [],
   "source": [
    "X = (L_m*(1/float(L_m.max()))).val"
   ]
  },
  {
   "cell_type": "code",
   "execution_count": null,
   "id": "fa836b1b",
   "metadata": {},
   "outputs": [],
   "source": [
    "#X"
   ]
  },
  {
   "cell_type": "code",
   "execution_count": null,
   "id": "40c0f7df",
   "metadata": {},
   "outputs": [],
   "source": [
    "X.size()"
   ]
  },
  {
   "cell_type": "code",
   "execution_count": null,
   "id": "d8bcd57f",
   "metadata": {},
   "outputs": [],
   "source": [
    "scale = 1/X.max(1).values\n",
    "Y = (X.T*scale).T"
   ]
  },
  {
   "cell_type": "code",
   "execution_count": null,
   "id": "db6b2a93",
   "metadata": {},
   "outputs": [],
   "source": [
    "import matplotlib.pyplot as plt\n",
    "%matplotlib ipympl\n",
    "import matplotlib as mpl\n",
    "mpl.rcParams['figure.figsize'] = (20,3)\n",
    "# Use full with and waste less space on prompts on the left:\n",
    "from IPython.display import display, HTML\n",
    "display(HTML(\"<style>.container { width:100% !important; }</style>\"))\n",
    "display(HTML(\"<style>.prompt_container{width: 11ex !important; }</style>\"))\n",
    "display(HTML(\"<style>div.prompt{min-width: 11ex; }</style>\"))"
   ]
  },
  {
   "cell_type": "code",
   "execution_count": null,
   "id": "d75b594a",
   "metadata": {},
   "outputs": [],
   "source": [
    "plt.clf()\n",
    "p = plt.plot(Y*(Y>0.99))\n",
    "plt.show()"
   ]
  },
  {
   "cell_type": "code",
   "execution_count": null,
   "id": "440ae51b",
   "metadata": {},
   "outputs": [],
   "source": [
    "i = X.max(1).indices"
   ]
  },
  {
   "cell_type": "code",
   "execution_count": null,
   "id": "24566bfd",
   "metadata": {},
   "outputs": [],
   "source": [
    "\"\".join([hmm.b[ii] for ii in i])"
   ]
  },
  {
   "cell_type": "code",
   "execution_count": null,
   "id": "fe18b93c",
   "metadata": {},
   "outputs": [],
   "source": [
    "hmm.wav"
   ]
  },
  {
   "cell_type": "code",
   "execution_count": null,
   "id": "36c14cd1",
   "metadata": {},
   "outputs": [],
   "source": [
    "import torchaudio\n",
    "cmap = ['BrBG', 'RdBu', 'PuOr'][0]\n",
    "def plot_specgram(waveform, sample_rate):\n",
    "    waveform = waveform.numpy()\n",
    "    figure = plt.figure()\n",
    "    plt.specgram(waveform[0], Fs=sample_rate, cmap=cmap)\n",
    "    plt.tick_params(axis=\"x\",direction=\"in\", pad=-12)\n",
    "    plt.tick_params(axis=\"y\",direction=\"in\", pad=-38)\n",
    "    plt.subplots_adjust(left=0, right=1, top=1, bottom=0)\n",
    "    plt.show(block=False)\n",
    "    figure.canvas.header_visible = False\n",
    "    figure.canvas.footer_visible = False\n",
    "    #plt.clf()\n"
   ]
  },
  {
   "cell_type": "code",
   "execution_count": null,
   "id": "737eb2ff",
   "metadata": {},
   "outputs": [],
   "source": [
    "def plot_waveform(waveform, sample_rate):\n",
    "    waveform = waveform.numpy()\n",
    "    num_channels, num_frames = waveform.shape\n",
    "    time_axis = torch.arange(0, num_frames) / sample_rate\n",
    "    figure, axes = plt.subplots(num_channels, 1)\n",
    "    #axes = plt\n",
    "    axes.tick_params(axis=\"x\",direction=\"in\", pad=-12)\n",
    "    axes.tick_params(axis=\"y\",direction=\"in\", pad=-22)\n",
    "    axes.plot(time_axis, waveform[0], linewidth=1, color=(0,0.4,0.4))\n",
    "    axes.grid(True)\n",
    "    plt.subplots_adjust(left=0, right=1, top=1, bottom=0)\n",
    "    plt.show(block=False)\n",
    "    max_time = num_frames/sample_rate\n",
    "    axes.set_xlim([0,max_time])\n",
    "    figure.canvas.header_visible = False\n",
    "    figure.canvas.footer_visible = False\n",
    "    #plt.clf()"
   ]
  },
  {
   "cell_type": "code",
   "execution_count": null,
   "id": "361efcb4",
   "metadata": {},
   "outputs": [],
   "source": [
    "def plot_matrix(x):\n",
    "    figure = plt.figure()\n",
    "    plt.imshow(x.T)\n",
    "    plt.tick_params(axis=\"x\",direction=\"in\", pad=-12)\n",
    "    plt.tick_params(axis=\"y\",direction=\"in\", pad=-38)\n",
    "    plt.subplots_adjust(left=0, right=1, top=1, bottom=0)\n",
    "    plt.show(block=False)\n",
    "    figure.canvas.header_visible = False\n",
    "    figure.canvas.footer_visible = False\n",
    "    #plt.clf()"
   ]
  },
  {
   "cell_type": "code",
   "execution_count": null,
   "id": "8a3d3087",
   "metadata": {},
   "outputs": [],
   "source": []
  },
  {
   "cell_type": "code",
   "execution_count": null,
   "id": "67e24bd3",
   "metadata": {
    "scrolled": true
   },
   "outputs": [],
   "source": [
    "plot_matrix(Y)"
   ]
  },
  {
   "cell_type": "code",
   "execution_count": null,
   "id": "66e11891",
   "metadata": {},
   "outputs": [],
   "source": [
    "waveform, sample_rate = torchaudio.load(hmm.wav)"
   ]
  },
  {
   "cell_type": "code",
   "execution_count": null,
   "id": "32af72a5",
   "metadata": {},
   "outputs": [],
   "source": [
    "mfcc = torchaudio.compliance.kaldi.mfcc(waveform) # default 16kHz is correct for this file"
   ]
  },
  {
   "cell_type": "code",
   "execution_count": null,
   "id": "445d1203",
   "metadata": {
    "scrolled": true
   },
   "outputs": [],
   "source": [
    "plot_matrix(mfcc)"
   ]
  },
  {
   "cell_type": "code",
   "execution_count": null,
   "id": "e055c771",
   "metadata": {
    "scrolled": true
   },
   "outputs": [],
   "source": [
    "plot_specgram(waveform, sample_rate)"
   ]
  },
  {
   "cell_type": "code",
   "execution_count": null,
   "id": "28f6fc42",
   "metadata": {},
   "outputs": [],
   "source": [
    "plot_waveform(waveform, sample_rate)"
   ]
  },
  {
   "cell_type": "code",
   "execution_count": null,
   "id": "0f8785fd",
   "metadata": {},
   "outputs": [],
   "source": []
  },
  {
   "cell_type": "code",
   "execution_count": null,
   "id": "1683e27d",
   "metadata": {},
   "outputs": [],
   "source": []
  },
  {
   "cell_type": "code",
   "execution_count": null,
   "id": "d1da5eb9",
   "metadata": {},
   "outputs": [],
   "source": []
  },
  {
   "cell_type": "code",
   "execution_count": null,
   "id": "e01aa8d6",
   "metadata": {
    "scrolled": true
   },
   "outputs": [],
   "source": [
    "print(hmm)"
   ]
  },
  {
   "cell_type": "code",
   "execution_count": null,
   "id": "8ed3210a",
   "metadata": {},
   "outputs": [],
   "source": []
  },
  {
   "cell_type": "code",
   "execution_count": null,
   "id": "aea794fa",
   "metadata": {},
   "outputs": [],
   "source": []
  },
  {
   "cell_type": "code",
   "execution_count": null,
   "id": "3734a218",
   "metadata": {},
   "outputs": [],
   "source": []
  },
  {
   "cell_type": "code",
   "execution_count": null,
   "id": "0fafebf7",
   "metadata": {},
   "outputs": [],
   "source": []
  },
  {
   "cell_type": "code",
   "execution_count": null,
   "id": "8de87dad",
   "metadata": {},
   "outputs": [],
   "source": []
  },
  {
   "cell_type": "code",
   "execution_count": null,
   "id": "61583a4f",
   "metadata": {},
   "outputs": [],
   "source": []
  },
  {
   "cell_type": "code",
   "execution_count": null,
   "id": "0728c45e",
   "metadata": {},
   "outputs": [],
   "source": []
  },
  {
   "cell_type": "code",
   "execution_count": null,
   "id": "58cfe2ad",
   "metadata": {},
   "outputs": [],
   "source": []
  },
  {
   "cell_type": "code",
   "execution_count": null,
   "id": "a72f3a53",
   "metadata": {},
   "outputs": [],
   "source": []
  },
  {
   "cell_type": "code",
   "execution_count": null,
   "id": "ae8efa04",
   "metadata": {},
   "outputs": [],
   "source": []
  },
  {
   "cell_type": "code",
   "execution_count": null,
   "id": "ac9f5cc1",
   "metadata": {},
   "outputs": [],
   "source": []
  },
  {
   "cell_type": "code",
   "execution_count": null,
   "id": "4a4826d2",
   "metadata": {},
   "outputs": [],
   "source": []
  },
  {
   "cell_type": "code",
   "execution_count": null,
   "id": "d31cb980",
   "metadata": {},
   "outputs": [],
   "source": []
  },
  {
   "cell_type": "code",
   "execution_count": null,
   "id": "4c5747c7",
   "metadata": {},
   "outputs": [],
   "source": []
  },
  {
   "cell_type": "code",
   "execution_count": null,
   "id": "c61b8c7b",
   "metadata": {},
   "outputs": [],
   "source": []
  },
  {
   "cell_type": "code",
   "execution_count": null,
   "id": "a841e8b2",
   "metadata": {},
   "outputs": [],
   "source": []
  },
  {
   "cell_type": "code",
   "execution_count": null,
   "id": "eb4df260",
   "metadata": {},
   "outputs": [],
   "source": []
  }
 ],
 "metadata": {
  "kernelspec": {
   "display_name": "Python 3 (ipykernel)",
   "language": "python",
   "name": "python3"
  },
  "language_info": {
   "codemirror_mode": {
    "name": "ipython",
    "version": 3
   },
   "file_extension": ".py",
   "mimetype": "text/x-python",
   "name": "python",
   "nbconvert_exporter": "python",
   "pygments_lexer": "ipython3",
   "version": "3.10.5"
  }
 },
 "nbformat": 4,
 "nbformat_minor": 5
}
