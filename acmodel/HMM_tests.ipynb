{
 "cells": [
  {
   "cell_type": "markdown",
   "id": "042070f5",
   "metadata": {},
   "source": [
    "# Simple HMM in NumPy or PyTorch"
   ]
  },
  {
   "cell_type": "code",
   "execution_count": null,
   "id": "7a4ce738",
   "metadata": {},
   "outputs": [],
   "source": [
    "%run /home/hanzl/f-w/prak/prongen/hmm_pron.py"
   ]
  },
  {
   "cell_type": "code",
   "execution_count": null,
   "id": "89d8e35f",
   "metadata": {},
   "outputs": [],
   "source": [
    "%run /home/hanzl/f-w/prak/acmodel/matrix.py"
   ]
  },
  {
   "cell_type": "code",
   "execution_count": null,
   "id": "47b3885a",
   "metadata": {},
   "outputs": [],
   "source": [
    "A = m([[0.7,0.3,0,0],\n",
    "       [0,0.9,0.1,0],\n",
    "       [0,0,0.8,0.2],\n",
    "       [0,0,0,1]])\n",
    "\n",
    "A = m(hmm.A)"
   ]
  },
  {
   "cell_type": "code",
   "execution_count": null,
   "id": "036a8c29",
   "metadata": {},
   "outputs": [],
   "source": [
    "A.size()[0]"
   ]
  },
  {
   "cell_type": "code",
   "execution_count": null,
   "id": "ca7c8ea3",
   "metadata": {},
   "outputs": [],
   "source": [
    "# where we can be\n",
    "#x_m = m([[1,0,0,0]])\n",
    "x_list = [1,0,0,0]\n",
    "x_list = [1]+[0]*(A.size()[0]-1)\n",
    "\n",
    "\n",
    "x_m = m([x_list])\n",
    "x_rev = m([list(reversed(x_list))])"
   ]
  },
  {
   "cell_type": "code",
   "execution_count": null,
   "id": "d01e6266",
   "metadata": {},
   "outputs": [],
   "source": [
    "x_m.size()"
   ]
  },
  {
   "cell_type": "code",
   "execution_count": null,
   "id": "47b96177",
   "metadata": {},
   "outputs": [],
   "source": [
    "# recording length in frames\n",
    "tmax = 14000\n",
    "\n",
    "tmax = 363\n",
    "\n",
    "tmax = int(363/35 * A.size()[0])\n",
    "tmax"
   ]
  },
  {
   "cell_type": "code",
   "execution_count": null,
   "id": "8d32b824",
   "metadata": {},
   "outputs": [],
   "source": [
    "len_x = x_m.size()[1]\n",
    "\n",
    "# allocate space for mantissa-like (kept in range) and row-exponent values\n",
    "alpha_m = m.rowlist((tmax,len_x))\n",
    "alpha_exp = m.rowlist((tmax,1))\n",
    "\n",
    "exponent = 0\n",
    "base = 1000 # base for separation to exp and m (somewhere around 5e-324 starts underflow)"
   ]
  },
  {
   "cell_type": "code",
   "execution_count": null,
   "id": "cc41ebf0",
   "metadata": {},
   "outputs": [],
   "source": [
    "# FAKE b VALUES:\n",
    "b = m.zeros((tmax,len_x)) + 0.1"
   ]
  },
  {
   "cell_type": "code",
   "execution_count": null,
   "id": "ec463cae",
   "metadata": {},
   "outputs": [],
   "source": [
    "#x_m = m([[1,0,0,0]]) "
   ]
  },
  {
   "cell_type": "code",
   "execution_count": null,
   "id": "968570cc",
   "metadata": {
    "scrolled": true
   },
   "outputs": [],
   "source": [
    "%%time\n",
    "#x_m = m([[1,0,0,0]]) # mantissa-like moderated value (kept in range)\n",
    "for row in range(tmax):\n",
    "    while x_m.max()<1/base: # renormalize and remember power of base used\n",
    "        x_m *= base\n",
    "        exponent -= 1\n",
    "    alpha_exp[row] = exponent\n",
    "    alpha_m[row] = x_m\n",
    "    x_m = x_m@A*b[row]   # FINETUNE WHICH row's b IS USED (ALSO FOR beta)"
   ]
  },
  {
   "cell_type": "markdown",
   "id": "3af2f17e",
   "metadata": {},
   "source": [
    "### Size 14000 x 4\n",
    "* GPU: 7.01 torch sparse coo, NotImpl torch sparse csr, 0.384 torch dense\n",
    "* CPU: 1.54 torch sparse coo, 0.210 torch sparse csr, 0.214 torch dense\n",
    "\n",
    "### Size 363 x 35\n",
    "* GPU: ??? torch sparse coo, NotImpl torch sparse csr, 0.3770 torch dense\n",
    "* CPU: ??? torch sparse coo, NotImpl torch sparse csr, 0.0054 torch dense\n",
    "\n",
    "715 15.4 CPU 391 GPU\n",
    "\n",
    "1420 33  CPU 434 GPU\n",
    "\n",
    "2831  78.5 CPU 486 GPU\n",
    "\n",
    "5652  209  CPU  612 GPU\n",
    "\n",
    "11294  529 CPU  885 GPU\n",
    "\n",
    "22578    5000 CPU   1860 GPU\n",
    "\n",
    "45146    120000 CPU  6110 GPU   unusable GPU coo   not impl CPU csr   unusable CPU coo\n"
   ]
  },
  {
   "cell_type": "code",
   "execution_count": null,
   "id": "b63ffe1f",
   "metadata": {},
   "outputs": [],
   "source": [
    "# Now we will go backward\n",
    "At = A.T()"
   ]
  },
  {
   "cell_type": "code",
   "execution_count": null,
   "id": "94209a5e",
   "metadata": {},
   "outputs": [],
   "source": [
    "beta_m = m.rowlist((tmax,len_x))\n",
    "beta_exp = m.rowlist((tmax,1))\n",
    "\n",
    "exponent = 0"
   ]
  },
  {
   "cell_type": "code",
   "execution_count": null,
   "id": "5d2e443b",
   "metadata": {},
   "outputs": [],
   "source": [
    "#x_m = m([[0,0,0,1]])\n",
    "x_m = x_rev\n",
    "for row in range(tmax-1,0-1,-1):\n",
    "    beta_m[row] = x_m\n",
    "    beta_exp[row] = exponent\n",
    "    x_m = x_m@At*b[row]\n",
    "    while x_m.max()<1/base: # renormalize and remember power of base used\n",
    "        x_m *= base\n",
    "        exponent -= 1"
   ]
  },
  {
   "cell_type": "code",
   "execution_count": null,
   "id": "08b8cf57",
   "metadata": {
    "scrolled": true
   },
   "outputs": [],
   "source": [
    "L_m = alpha_m*beta_m # this is .*"
   ]
  },
  {
   "cell_type": "code",
   "execution_count": null,
   "id": "db654db5",
   "metadata": {},
   "outputs": [],
   "source": [
    "L_exp = alpha_exp+beta_exp"
   ]
  },
  {
   "cell_type": "code",
   "execution_count": null,
   "id": "16e47d46",
   "metadata": {},
   "outputs": [],
   "source": [
    "L_exp += float(-L_exp.max())"
   ]
  },
  {
   "cell_type": "code",
   "execution_count": null,
   "id": "18e2be50",
   "metadata": {},
   "outputs": [],
   "source": [
    "# re-normalize L\n",
    "for row in range(tmax):\n",
    "    while float(L_exp[row].val)<0: # renormalize and remember power of base used\n",
    "        L_m[row] *= 1/base  # invokes setitem which converts L_m to dense\n",
    "        L_exp[row] += 1"
   ]
  },
  {
   "cell_type": "code",
   "execution_count": null,
   "id": "44f83838",
   "metadata": {},
   "outputs": [],
   "source": [
    "L_m.size()"
   ]
  },
  {
   "cell_type": "code",
   "execution_count": null,
   "id": "7d6c3918",
   "metadata": {
    "scrolled": true
   },
   "outputs": [],
   "source": [
    "# test - should be the same now\n",
    "L_exp.min(), L_exp.max()"
   ]
  },
  {
   "cell_type": "code",
   "execution_count": null,
   "id": "5eb875b1",
   "metadata": {},
   "outputs": [],
   "source": []
  },
  {
   "cell_type": "code",
   "execution_count": null,
   "id": "b482e720",
   "metadata": {},
   "outputs": [],
   "source": [
    "L_m"
   ]
  },
  {
   "cell_type": "code",
   "execution_count": null,
   "id": "0e5990d3",
   "metadata": {},
   "outputs": [],
   "source": [
    "L_m.max()"
   ]
  },
  {
   "cell_type": "code",
   "execution_count": null,
   "id": "584a4b1b",
   "metadata": {},
   "outputs": [],
   "source": [
    "X = L_m*(1/float(L_m.max()))"
   ]
  },
  {
   "cell_type": "code",
   "execution_count": null,
   "id": "33d502ae",
   "metadata": {},
   "outputs": [],
   "source": [
    "X"
   ]
  },
  {
   "cell_type": "code",
   "execution_count": null,
   "id": "ab892b8b",
   "metadata": {},
   "outputs": [],
   "source": []
  }
 ],
 "metadata": {
  "kernelspec": {
   "display_name": "Python 3 (ipykernel)",
   "language": "python",
   "name": "python3"
  },
  "language_info": {
   "codemirror_mode": {
    "name": "ipython",
    "version": 3
   },
   "file_extension": ".py",
   "mimetype": "text/x-python",
   "name": "python",
   "nbconvert_exporter": "python",
   "pygments_lexer": "ipython3",
   "version": "3.10.5"
  }
 },
 "nbformat": 4,
 "nbformat_minor": 5
}
