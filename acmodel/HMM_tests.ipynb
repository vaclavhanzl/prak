{
 "cells": [
  {
   "cell_type": "markdown",
   "id": "042070f5",
   "metadata": {},
   "source": [
    "# Simple HMM in NumPy or PyTorch"
   ]
  },
  {
   "cell_type": "code",
   "execution_count": null,
   "id": "04bd63a9",
   "metadata": {},
   "outputs": [],
   "source": [
    "import numpy as np"
   ]
  },
  {
   "cell_type": "code",
   "execution_count": null,
   "id": "5c5a8b79",
   "metadata": {},
   "outputs": [],
   "source": [
    "import torch\n",
    "device = torch.device(\"cuda:0\")\n",
    "#dtype = torch.float\n",
    "dtype = torch.double\n",
    "x = torch.rand(5, 3, device=device, dtype=dtype)\n",
    "print(x)"
   ]
  },
  {
   "cell_type": "code",
   "execution_count": null,
   "id": "01b59bbb",
   "metadata": {},
   "outputs": [],
   "source": [
    "# my matrix class based on either NumPy or PyTorch\n",
    "class m:\n",
    "    pass\n",
    "\n",
    "use_torch = True\n",
    "#use_torch = False\n",
    "\n",
    "if use_torch:\n",
    "    def m_torch_array(inp):\n",
    "        return torch.tensor(inp).float()\n",
    "    m.array = m_torch_array\n",
    "    \n",
    "    m.zeros = torch.zeros\n",
    "else:\n",
    "    m.array = np.array\n",
    "    m.zeros = np.zeros"
   ]
  },
  {
   "cell_type": "code",
   "execution_count": null,
   "id": "6690b24d",
   "metadata": {},
   "outputs": [],
   "source": [
    "# transition matrix [from,to]\n",
    "A = m.array([[0.7,0.3,0,0],\n",
    "            [0,0.9,0.1,0],\n",
    "            [0,0,0.8,0.2],\n",
    "            [0,0,0,1]])"
   ]
  },
  {
   "cell_type": "code",
   "execution_count": null,
   "id": "ca7c8ea3",
   "metadata": {},
   "outputs": [],
   "source": [
    "# where we can be\n",
    "x = m.array([[1,0,0,0]])"
   ]
  },
  {
   "cell_type": "code",
   "execution_count": null,
   "id": "47b96177",
   "metadata": {},
   "outputs": [],
   "source": [
    "# recording length in frames\n",
    "tmax = 14000"
   ]
  },
  {
   "cell_type": "code",
   "execution_count": null,
   "id": "8d32b824",
   "metadata": {},
   "outputs": [],
   "source": [
    "alpha_m = m.zeros((tmax,len(x.T))) # mantissa-like values, kept in reasonable range\n",
    "alpha_exp = m.zeros(tmax)\n",
    "exponent = 0\n",
    "base = 1000 # base for separation to exp and m (somewhere around 5e-324 starts underflow)"
   ]
  },
  {
   "cell_type": "code",
   "execution_count": null,
   "id": "cc41ebf0",
   "metadata": {},
   "outputs": [],
   "source": [
    "b = alpha_m + 0.1"
   ]
  },
  {
   "cell_type": "code",
   "execution_count": null,
   "id": "968570cc",
   "metadata": {
    "scrolled": true
   },
   "outputs": [],
   "source": [
    "%%time\n",
    "x_m = m.array([[1,0,0,0]]) # mantissa-like moderated value (kept in range)\n",
    "for row in range(tmax):\n",
    "    while x_m.max()<1/base: # renormalize and remember power of base used\n",
    "        x_m *= base\n",
    "        exponent -= 1\n",
    "    alpha_exp[row] = exponent\n",
    "    alpha_m[row] = x_m\n",
    "    x_m = x_m@A*b[row]   # FINETUNE WHICH row's b IS USED (ALSO FOR beta)"
   ]
  },
  {
   "cell_type": "code",
   "execution_count": null,
   "id": "8a32a9e1",
   "metadata": {
    "scrolled": true
   },
   "outputs": [],
   "source": [
    "alpha_m"
   ]
  },
  {
   "cell_type": "code",
   "execution_count": null,
   "id": "b63ffe1f",
   "metadata": {},
   "outputs": [],
   "source": [
    "#At = np.transpose(A)\n",
    "At = A.T\n"
   ]
  },
  {
   "cell_type": "code",
   "execution_count": null,
   "id": "94209a5e",
   "metadata": {},
   "outputs": [],
   "source": [
    "beta_m = m.zeros((tmax,len(x.T)))\n",
    "beta_exp = m.zeros(tmax)\n",
    "exponent = 0"
   ]
  },
  {
   "cell_type": "code",
   "execution_count": null,
   "id": "5d2e443b",
   "metadata": {},
   "outputs": [],
   "source": [
    "x_m = m.array([[0,0,0,1]])\n",
    "for row in range(tmax-1,0-1,-1):\n",
    "    beta_m[row] = x_m\n",
    "    beta_exp[row] = exponent\n",
    "    x_m = x_m@At*b[row]\n",
    "    \n",
    "    while x_m.max()<1/base: # renormalize and remember power of base used\n",
    "        x_m *= base\n",
    "        exponent -= 1"
   ]
  },
  {
   "cell_type": "code",
   "execution_count": null,
   "id": "bc92f30d",
   "metadata": {},
   "outputs": [],
   "source": [
    "beta_m"
   ]
  },
  {
   "cell_type": "code",
   "execution_count": null,
   "id": "08b8cf57",
   "metadata": {},
   "outputs": [],
   "source": [
    "L_m = alpha_m*beta_m # this is .*"
   ]
  },
  {
   "cell_type": "code",
   "execution_count": null,
   "id": "c918f5c9",
   "metadata": {
    "scrolled": true
   },
   "outputs": [],
   "source": [
    "L_m"
   ]
  },
  {
   "cell_type": "code",
   "execution_count": null,
   "id": "16e47d46",
   "metadata": {},
   "outputs": [],
   "source": [
    "L_exp = alpha_exp+beta_exp\n",
    "L_exp -= L_exp.max()"
   ]
  },
  {
   "cell_type": "code",
   "execution_count": null,
   "id": "afe57502",
   "metadata": {},
   "outputs": [],
   "source": [
    "L_exp.min()"
   ]
  },
  {
   "cell_type": "code",
   "execution_count": null,
   "id": "656db79a",
   "metadata": {},
   "outputs": [],
   "source": [
    "# re-normalize L"
   ]
  },
  {
   "cell_type": "code",
   "execution_count": null,
   "id": "ffcd0aaa",
   "metadata": {},
   "outputs": [],
   "source": [
    "L_m.max()"
   ]
  },
  {
   "cell_type": "code",
   "execution_count": null,
   "id": "2762a123",
   "metadata": {},
   "outputs": [],
   "source": [
    "for row in range(tmax):\n",
    "    while L_exp[row]<0: # renormalize and remember power of base used\n",
    "        L_m[row] *= 1/base\n",
    "        L_exp[row] += 1"
   ]
  },
  {
   "cell_type": "code",
   "execution_count": null,
   "id": "7d6c3918",
   "metadata": {},
   "outputs": [],
   "source": [
    "L_exp.min(), L_exp.max()"
   ]
  },
  {
   "cell_type": "code",
   "execution_count": null,
   "id": "80ef2c41",
   "metadata": {},
   "outputs": [],
   "source": [
    "list(L_m.sum(axis=1))"
   ]
  },
  {
   "cell_type": "code",
   "execution_count": null,
   "id": "686d7cbf",
   "metadata": {},
   "outputs": [],
   "source": []
  },
  {
   "cell_type": "code",
   "execution_count": null,
   "id": "91a6c3cc",
   "metadata": {},
   "outputs": [],
   "source": []
  }
 ],
 "metadata": {
  "kernelspec": {
   "display_name": "Python 3 (ipykernel)",
   "language": "python",
   "name": "python3"
  },
  "language_info": {
   "codemirror_mode": {
    "name": "ipython",
    "version": 3
   },
   "file_extension": ".py",
   "mimetype": "text/x-python",
   "name": "python",
   "nbconvert_exporter": "python",
   "pygments_lexer": "ipython3",
   "version": "3.9.7"
  }
 },
 "nbformat": 4,
 "nbformat_minor": 5
}
