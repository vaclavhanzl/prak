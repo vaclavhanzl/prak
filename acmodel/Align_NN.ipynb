{
 "cells": [
  {
   "cell_type": "markdown",
   "id": "503fe1db",
   "metadata": {},
   "source": [
    "# Align using NN Acoustic Model\n",
    "https://pytorch.org/tutorials/beginner/basics/buildmodel_tutorial.html"
   ]
  },
  {
   "cell_type": "code",
   "execution_count": null,
   "id": "7ad2877b",
   "metadata": {},
   "outputs": [],
   "source": [
    "%run ../prongen/hmm_pron.py --in-jupyter\n",
    "%run ../acmodel/plot.py\n",
    "%matplotlib ipympl"
   ]
  },
  {
   "cell_type": "code",
   "execution_count": null,
   "id": "04a591fd",
   "metadata": {},
   "outputs": [],
   "source": [
    "%run ../acmodel/matrix.py\n",
    "%run ../acmodel/praat_ifc.py\n",
    "\n",
    "%run ../acmodel/hmm_acmodel.py\n",
    "\n",
    "#device = \"cuda\" if torch.cuda.is_available() else \"cpu\"\n",
    "device = \"cpu\"\n",
    "print(f\"Using {device} device\")\n",
    "\n",
    "%run ../acmodel/nn_acmodel.py"
   ]
  },
  {
   "cell_type": "code",
   "execution_count": null,
   "id": "11df35d3",
   "metadata": {},
   "outputs": [],
   "source": [
    "from IPython.core.magic import register_line_cell_magic\n",
    "\n",
    "@register_line_cell_magic\n",
    "def writetemplate(line, cell):\n",
    "    with open(line, 'w') as f:\n",
    "        f.write(cell.format(**globals()))"
   ]
  },
  {
   "cell_type": "markdown",
   "id": "fa6fbba3",
   "metadata": {},
   "source": [
    "## Get training data\n",
    "We aligned Czech CommonVoice train set using an ultra-prinmitive HMM/GMM. Let's use it as a starting point."
   ]
  },
  {
   "cell_type": "code",
   "execution_count": null,
   "id": "41ea17c2",
   "metadata": {},
   "outputs": [],
   "source": [
    "import pandas as pd\n",
    "pd.set_option('display.max_colwidth', None)\n",
    "df = pd.read_csv(\"mega_training_0005.tsv\", sep=\"\\t\", keep_default_na=False)\n",
    "\n",
    "#df = pd.read_csv(\"mini.tsv\", sep=\"\\t\", keep_default_na=False)"
   ]
  },
  {
   "cell_type": "code",
   "execution_count": null,
   "id": "9ae5da18",
   "metadata": {},
   "outputs": [],
   "source": [
    "hmms = []\n",
    "for wav, sentence, targets in list(zip(df.wav.values, df.sentence.values, df.targets.values)):\n",
    "    #hmm = HMM(sentence, wav=wav)\n",
    "    hmm = HMM(sentence, wav=wav, derivatives=3)\n",
    "    hmm.targets = targets\n",
    "    hmms.append(hmm)"
   ]
  },
  {
   "cell_type": "code",
   "execution_count": null,
   "id": "bf2739ec",
   "metadata": {},
   "outputs": [],
   "source": [
    "b_set = sorted({*\"\".join([hmm.b for hmm in hmms ])}) # make sorted set of all phone names in the training set\n",
    "out_size = len(b_set)\n",
    "in_size = hmms[0].mfcc.size(1)\n",
    "\" \".join(b_set), out_size, in_size"
   ]
  },
  {
   "cell_type": "code",
   "execution_count": null,
   "id": "a185e402",
   "metadata": {},
   "outputs": [],
   "source": [
    "all_targets = \"\".join([hmm.targets for hmm in hmms])\n",
    "train_len = len(all_targets)"
   ]
  },
  {
   "cell_type": "code",
   "execution_count": null,
   "id": "235ff595",
   "metadata": {},
   "outputs": [],
   "source": [
    "all_mfcc = torch.cat([hmm.mfcc for hmm in hmms]).double().to(device)\n",
    "#all_mfcc.to(device)\n",
    "assert all_mfcc.size()[0]==train_len"
   ]
  },
  {
   "cell_type": "code",
   "execution_count": null,
   "id": "007ec6d6",
   "metadata": {},
   "outputs": [],
   "source": [
    "training_data = SpeechDataset(all_mfcc, all_targets, b_set)"
   ]
  },
  {
   "cell_type": "code",
   "execution_count": null,
   "id": "30441303",
   "metadata": {},
   "outputs": [],
   "source": [
    "in_size = hmms[0].mfcc.size(1)\n",
    "out_size = len(b_set)"
   ]
  },
  {
   "cell_type": "code",
   "execution_count": null,
   "id": "a70f97aa",
   "metadata": {},
   "outputs": [],
   "source": [
    "model = NeuralNetwork(in_size, out_size).to(device)\n",
    "print(model)"
   ]
  },
  {
   "cell_type": "code",
   "execution_count": null,
   "id": "9a03b3ed",
   "metadata": {},
   "outputs": [],
   "source": [
    "train_dataloader = DataLoader(training_data, batch_size=64, shuffle=True)"
   ]
  },
  {
   "cell_type": "code",
   "execution_count": null,
   "id": "7f7276f5",
   "metadata": {},
   "outputs": [],
   "source": [
    "model.load_state_dict(torch.load('mega_training_0005.pth'))\n",
    "model.eval()"
   ]
  },
  {
   "cell_type": "code",
   "execution_count": null,
   "id": "034d953d",
   "metadata": {},
   "outputs": [],
   "source": [
    "#df['targets'] = [hmm.targets for hmm in hmms]\n",
    "\n",
    "#df.to_csv(\"nn_train_g2.tsv\", sep=\"\\t\", index=False)\n",
    "#df.to_csv(\"nn_train_g3.tsv\", sep=\"\\t\", index=False)\n",
    "#df.to_csv(\"nn_train_g4.tsv\", sep=\"\\t\", index=False)\n",
    "#df.to_csv(\"nn_train_g5.tsv\", sep=\"\\t\", index=False)"
   ]
  },
  {
   "cell_type": "code",
   "execution_count": null,
   "id": "a87513d0",
   "metadata": {},
   "outputs": [],
   "source": []
  },
  {
   "cell_type": "code",
   "execution_count": null,
   "id": "4d7b7266",
   "metadata": {},
   "outputs": [],
   "source": []
  },
  {
   "cell_type": "code",
   "execution_count": null,
   "id": "da7542ee",
   "metadata": {},
   "outputs": [],
   "source": []
  },
  {
   "cell_type": "code",
   "execution_count": null,
   "id": "6aee7557",
   "metadata": {},
   "outputs": [],
   "source": []
  },
  {
   "cell_type": "markdown",
   "id": "31093534",
   "metadata": {},
   "source": [
    "# Choose wav"
   ]
  },
  {
   "cell_type": "code",
   "execution_count": null,
   "id": "db26fc85",
   "metadata": {},
   "outputs": [],
   "source": [
    "#%%time\n",
    "for idx, hmm in enumerate(hmms[32:33]):   # 3177 is quite problematic   4177 nice   4178 forw/backw slight diverg.\n",
    "    if idx%100==0:\n",
    "        print(idx)\n",
    "    \n",
    "    alp = viterbi_log_align_nn(hmm, model, b_set)\n",
    "    hmm.intervals = backward_log_alignment_pass_intervals(hmm, alp) # also modifies alp\n",
    "    hmm.indices = i = alp.max(1).indices\n",
    "    s = \"\".join([hmm.b[ii] for ii in i])\n",
    "    hmm.troubling = troubling_alignmet(s)\n",
    "    hmm.targets = \"\".join([hmm.b[ii] for ii in i])\n",
    "\n",
    "#CPU times: user 39min 35s, sys: 14.8 s, total: 39min 50s\n",
    "#Wall time: 4min 58s"
   ]
  },
  {
   "cell_type": "code",
   "execution_count": null,
   "id": "106ff032",
   "metadata": {},
   "outputs": [],
   "source": []
  },
  {
   "cell_type": "code",
   "execution_count": null,
   "id": "e2373e34",
   "metadata": {},
   "outputs": [],
   "source": [
    "hmm.targets"
   ]
  },
  {
   "cell_type": "code",
   "execution_count": null,
   "id": "c1526f9a",
   "metadata": {},
   "outputs": [],
   "source": [
    "hmm.mfcc.size()"
   ]
  },
  {
   "cell_type": "code",
   "execution_count": null,
   "id": "29b6fbe2",
   "metadata": {},
   "outputs": [],
   "source": [
    "alp"
   ]
  },
  {
   "cell_type": "code",
   "execution_count": null,
   "id": "890e5454",
   "metadata": {
    "scrolled": false
   },
   "outputs": [],
   "source": [
    "cmap=['hsv', 'viridis', 'twilight', 'brg', 'gist_rainbow', 'gist_ncar', 'nipy_spectral'][-1]\n",
    "plot_matrix(alp.clamp(min=-400), cmap=cmap)"
   ]
  },
  {
   "cell_type": "code",
   "execution_count": null,
   "id": "1e733568",
   "metadata": {
    "scrolled": true
   },
   "outputs": [],
   "source": [
    "STOP"
   ]
  },
  {
   "cell_type": "code",
   "execution_count": null,
   "id": "2930aa99",
   "metadata": {
    "scrolled": true
   },
   "outputs": [],
   "source": [
    "plot_wavfile(hmm.wav)"
   ]
  },
  {
   "cell_type": "code",
   "execution_count": null,
   "id": "d9995533",
   "metadata": {},
   "outputs": [],
   "source": [
    "print(hmm)"
   ]
  },
  {
   "cell_type": "code",
   "execution_count": null,
   "id": "c0030032",
   "metadata": {},
   "outputs": [],
   "source": [
    "hmm.add_timrev()"
   ]
  },
  {
   "cell_type": "code",
   "execution_count": null,
   "id": "ac7a818a",
   "metadata": {},
   "outputs": [],
   "source": [
    "    alp = viterbi_log_align_nn(hmm.timrev, model, b_set, timrev=True)\n",
    "    hmm.timrev.intervals = backward_log_alignment_pass_intervals(hmm.timrev, alp) # also modifies alp\n",
    "    hmm.timrev.indices = i = alp.max(1).indices\n",
    "    s = \"\".join([hmm.timrev.b[ii] for ii in i])\n",
    "    hmm.timrev.troubling = troubling_alignmet(s)\n",
    "    hmm.timrev.targets = \"\".join([hmm.timrev.b[ii] for ii in i])\n",
    "    alp = alp.flip(0).flip(1)\n"
   ]
  },
  {
   "cell_type": "code",
   "execution_count": null,
   "id": "34057f0e",
   "metadata": {
    "scrolled": false
   },
   "outputs": [],
   "source": [
    "cmap=['hsv', 'viridis', 'twilight', 'brg', 'gist_rainbow', 'gist_ncar', 'nipy_spectral'][-1]\n",
    "plot_matrix(alp.clamp(min=-400), cmap=cmap)"
   ]
  }
 ],
 "metadata": {
  "kernelspec": {
   "display_name": "Python 3 (ipykernel)",
   "language": "python",
   "name": "python3"
  },
  "language_info": {
   "codemirror_mode": {
    "name": "ipython",
    "version": 3
   },
   "file_extension": ".py",
   "mimetype": "text/x-python",
   "name": "python",
   "nbconvert_exporter": "python",
   "pygments_lexer": "ipython3",
   "version": "3.10.5"
  }
 },
 "nbformat": 4,
 "nbformat_minor": 5
}
