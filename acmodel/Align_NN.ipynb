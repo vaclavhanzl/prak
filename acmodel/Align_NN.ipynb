{
 "cells": [
  {
   "cell_type": "markdown",
   "id": "503fe1db",
   "metadata": {},
   "source": [
    "# Align using NN Acoustic Model\n",
    "https://pytorch.org/tutorials/beginner/basics/buildmodel_tutorial.html"
   ]
  },
  {
   "cell_type": "code",
   "execution_count": null,
   "id": "7ad2877b",
   "metadata": {},
   "outputs": [],
   "source": [
    "%run ../prongen/hmm_pron.py --in-jupyter\n",
    "%run ../acmodel/plot.py\n",
    "%matplotlib ipympl"
   ]
  },
  {
   "cell_type": "code",
   "execution_count": null,
   "id": "04a591fd",
   "metadata": {},
   "outputs": [],
   "source": [
    "%run ../acmodel/matrix.py\n",
    "%run ../acmodel/praat_ifc.py\n",
    "\n",
    "%run ../acmodel/hmm_acmodel.py"
   ]
  },
  {
   "cell_type": "code",
   "execution_count": null,
   "id": "11df35d3",
   "metadata": {},
   "outputs": [],
   "source": [
    "from IPython.core.magic import register_line_cell_magic\n",
    "\n",
    "@register_line_cell_magic\n",
    "def writetemplate(line, cell):\n",
    "    with open(line, 'w') as f:\n",
    "        f.write(cell.format(**globals()))"
   ]
  },
  {
   "cell_type": "code",
   "execution_count": null,
   "id": "32e2c835",
   "metadata": {},
   "outputs": [],
   "source": [
    "#device = \"cuda\" if torch.cuda.is_available() else \"cpu\"\n",
    "device = \"cpu\"\n",
    "print(f\"Using {device} device\")"
   ]
  },
  {
   "cell_type": "markdown",
   "id": "fa6fbba3",
   "metadata": {},
   "source": [
    "## Get training data\n",
    "We aligned Czech CommonVoice train set using an ultra-prinmitive HMM/GMM. Let's use it as a starting point."
   ]
  },
  {
   "cell_type": "code",
   "execution_count": null,
   "id": "41ea17c2",
   "metadata": {},
   "outputs": [],
   "source": [
    "import pandas as pd\n",
    "pd.set_option('display.max_colwidth', None)\n",
    "#df = pd.read_csv(\"mega_training_0020.tsv\", sep=\"\\t\", keep_default_na=False)\n",
    "\n",
    "df = pd.read_csv(\"mini.tsv\", sep=\"\\t\", keep_default_na=False)\n",
    "\n"
   ]
  },
  {
   "cell_type": "code",
   "execution_count": null,
   "id": "b91fb5e7",
   "metadata": {},
   "outputs": [],
   "source": [
    "df"
   ]
  },
  {
   "cell_type": "code",
   "execution_count": null,
   "id": "26f43997",
   "metadata": {},
   "outputs": [],
   "source": [
    "hmms = []\n",
    "for wav, sentence in list(zip(df.wav.values, df.sentence.values)):\n",
    "    #hmm = HMM(sentence, wav=wav)\n",
    "    hmm = HMM(sentence, wav=wav, derivatives=3)\n",
    "    #hmm.targets = targets\n",
    "    hmms.append(hmm)"
   ]
  },
  {
   "cell_type": "code",
   "execution_count": null,
   "id": "9ae5da18",
   "metadata": {},
   "outputs": [],
   "source": [
    "hmms = []\n",
    "for wav, sentence, targets in list(zip(df.wav.values, df.sentence.values, df.targets.values)):\n",
    "    #hmm = HMM(sentence, wav=wav)\n",
    "    hmm = HMM(sentence, wav=wav, derivatives=3)\n",
    "    hmm.targets = targets\n",
    "    hmms.append(hmm)"
   ]
  },
  {
   "cell_type": "code",
   "execution_count": null,
   "id": "bf2739ec",
   "metadata": {},
   "outputs": [],
   "source": [
    "b_set = sorted({*\"\".join([hmm.b for hmm in hmms ])}) # make sorted set of all phone names in the training set\n",
    "out_size = len(b_set)\n",
    "in_size = hmms[0].mfcc.size(1)\n",
    "\" \".join(b_set), out_size, in_size"
   ]
  },
  {
   "cell_type": "code",
   "execution_count": null,
   "id": "a185e402",
   "metadata": {},
   "outputs": [],
   "source": [
    "all_targets = \"\".join([hmm.targets for hmm in hmms])\n",
    "train_len = len(all_targets)"
   ]
  },
  {
   "cell_type": "code",
   "execution_count": null,
   "id": "235ff595",
   "metadata": {},
   "outputs": [],
   "source": [
    "all_mfcc = torch.cat([hmm.mfcc for hmm in hmms]).double().to(device)\n",
    "#all_mfcc.to(device)\n",
    "assert all_mfcc.size()[0]==train_len"
   ]
  },
  {
   "cell_type": "markdown",
   "id": "ef866cdd",
   "metadata": {},
   "source": [
    "## Setup PyTorch training tools"
   ]
  },
  {
   "cell_type": "code",
   "execution_count": null,
   "id": "ef192836",
   "metadata": {},
   "outputs": [],
   "source": [
    "import os\n",
    "import torch\n",
    "from torch import nn\n",
    "from torch.utils.data import DataLoader\n",
    "from torch.utils.data import Dataset"
   ]
  },
  {
   "cell_type": "code",
   "execution_count": null,
   "id": "8e5cd35f",
   "metadata": {},
   "outputs": [],
   "source": [
    "class SpeechDataset(Dataset):\n",
    "    def __init__(self, all_mfcc, all_targets, b_set):\n",
    "        self.all_mfcc = all_mfcc\n",
    "        self.all_targets = all_targets\n",
    "        \n",
    "        self.wanted_outputs = torch.eye(len(b_set), device=device).double()\n",
    "        self.output_map = {}\n",
    "        for i, b in enumerate(b_set):\n",
    "            self.output_map[b] = self.wanted_outputs[i] # prepare outputs with one 1 at the right place\n",
    "\n",
    "    def __len__(self):\n",
    "        return len(self.all_targets)\n",
    "\n",
    "    def __getitem__(self, idx):\n",
    "        return self.all_mfcc[idx], self.output_map[self.all_targets[idx]]"
   ]
  },
  {
   "cell_type": "code",
   "execution_count": null,
   "id": "007ec6d6",
   "metadata": {},
   "outputs": [],
   "source": [
    "training_data = SpeechDataset(all_mfcc, all_targets, b_set)"
   ]
  },
  {
   "cell_type": "code",
   "execution_count": null,
   "id": "9dad6336",
   "metadata": {},
   "outputs": [],
   "source": [
    "class NeuralNetwork(nn.Module):\n",
    "    def __init__(self):\n",
    "        super(NeuralNetwork, self).__init__()\n",
    "        self.flatten = nn.Flatten()\n",
    "        self.linear_relu_stack = nn.Sequential(\n",
    "            nn.Linear(in_size, 512),\n",
    "            nn.ReLU(),\n",
    "            nn.Linear(512, 512),\n",
    "            nn.ReLU(),\n",
    "            nn.Linear(512, 512),\n",
    "            nn.ReLU(),\n",
    "            nn.Linear(512, out_size)\n",
    "            #nn.LogSoftmax()\n",
    "        )\n",
    "\n",
    "    def forward(self, x):\n",
    "        x = self.flatten(x)\n",
    "        logits = self.linear_relu_stack(x)\n",
    "        return logits"
   ]
  },
  {
   "cell_type": "code",
   "execution_count": null,
   "id": "a70f97aa",
   "metadata": {},
   "outputs": [],
   "source": [
    "model = NeuralNetwork().to(device)\n",
    "print(model)"
   ]
  },
  {
   "cell_type": "code",
   "execution_count": null,
   "id": "9a03b3ed",
   "metadata": {},
   "outputs": [],
   "source": [
    "from torch.utils.data import DataLoader\n",
    "\n",
    "train_dataloader = DataLoader(training_data, batch_size=64, shuffle=True)"
   ]
  },
  {
   "cell_type": "markdown",
   "id": "b6b3b5f2",
   "metadata": {},
   "source": [
    "## Load trained model\n",
    "https://pytorch.org/tutorials/beginner/basics/saveloadrun_tutorial.html"
   ]
  },
  {
   "cell_type": "code",
   "execution_count": null,
   "id": "7f7276f5",
   "metadata": {},
   "outputs": [],
   "source": [
    "#model.load_state_dict(torch.load('model_weights_40.pth'))\n",
    "#model.load_state_dict(torch.load('model_weights_g2_40.pth'))\n",
    "#model.load_state_dict(torch.load('model_weights_g3_40.pth'))\n",
    "#model.load_state_dict(torch.load('model_weights_g4_40.pth'))\n",
    "\n",
    "#model.load_state_dict(torch.load('mega_training_0020.pth'))\n",
    "#model.load_state_dict(torch.load('mega_training_0010.pth'))\n",
    "model.load_state_dict(torch.load('mega_training_0025.pth'))\n",
    "model.eval()"
   ]
  },
  {
   "cell_type": "code",
   "execution_count": null,
   "id": "ed9a8921",
   "metadata": {},
   "outputs": [],
   "source": []
  },
  {
   "cell_type": "markdown",
   "id": "6a229ef5",
   "metadata": {},
   "source": [
    "## Alignment code variant for NN"
   ]
  },
  {
   "cell_type": "markdown",
   "id": "7c93e570",
   "metadata": {},
   "source": [
    "## Run inference\n",
    "https://pytorch.org/tutorials/beginner/basics/buildmodel_tutorial.html"
   ]
  },
  {
   "cell_type": "code",
   "execution_count": null,
   "id": "b782a405",
   "metadata": {},
   "outputs": [],
   "source": [
    "def compute_hmm_nn_b(hmm, nn_model, full_b_set):\n",
    "    \"\"\"\n",
    "    For a sentence hmm model with an attached mfcc, compute b() values\n",
    "    for every sound frame and every model state, using NN phone model.\n",
    "    \"\"\"\n",
    "    logits = nn_model(hmm.mfcc.double())\n",
    "    pred_probab = nn.Softmax(dim=1)(logits)\n",
    "   \n",
    "    # Now select b() columns as needed for this hmm\n",
    "    \n",
    "    ph_to_i = {ph:i for i, ph in enumerate(full_b_set)} # map phone to column\n",
    "    \n",
    "    idx = torch.tensor([ph_to_i[ph] for ph in hmm.b])\n",
    "    return(pred_probab[:, idx]) # repeat each b() column as needed"
   ]
  },
  {
   "cell_type": "code",
   "execution_count": null,
   "id": "a247b266",
   "metadata": {},
   "outputs": [],
   "source": [
    "def viterbi_align_nn(hmm, nn_model, full_b_set):\n",
    "    \"\"\"\n",
    "    Align hmm states with mfcc, using b_means phone models dictionary\n",
    "    \"\"\"\n",
    "    b = m(compute_hmm_nn_b(hmm, nn_model, full_b_set))\n",
    "    A = m(hmm.A)\n",
    "    tmax = hmm.mfcc.size()[0]\n",
    "    len_x = A.size()[0]\n",
    "    x_list = [1]+[0]*(len_x-1)\n",
    "    x_m = m([x_list])\n",
    "    exponent = 0\n",
    "    # allocate space for mantissa-like (kept in range) and row-exponent values\n",
    "    alpha_m = m.rowlist((tmax,len_x))\n",
    "\n",
    "    for row in range(tmax):\n",
    "        s = x_m.val.sum() # renormalize\n",
    "        x_m.val *= 1/s\n",
    "        exponent += s.log()\n",
    "        alpha_m[row] = x_m\n",
    "        x_m = x_m@A*b[row]\n",
    "    return alpha_m, exponent"
   ]
  },
  {
   "cell_type": "code",
   "execution_count": null,
   "id": "db26fc85",
   "metadata": {},
   "outputs": [],
   "source": [
    "%%time\n",
    "for idx, hmm in enumerate(hmms):\n",
    "    if idx%100==0:\n",
    "        print(idx)\n",
    "    \n",
    "    alpha_m, alpha_exp = viterbi_align_nn(hmm, model, b_set)\n",
    "    alp = torch.cat(alpha_m.val)\n",
    "    hmm.intervals, bap = backward_alignment_pass_intervals(hmm, alp)\n",
    "    hmm.indices = i = bap.max(1).indices\n",
    "    s = \"\".join([hmm.b[ii] for ii in i])\n",
    "    hmm.troubling = troubling_alignmet(s)\n",
    "    hmm.targets = \"\".join([hmm.b[ii] for ii in i])\n",
    "\n",
    "#CPU times: user 39min 35s, sys: 14.8 s, total: 39min 50s\n",
    "#Wall time: 4min 58s"
   ]
  },
  {
   "cell_type": "code",
   "execution_count": null,
   "id": "454d4620",
   "metadata": {},
   "outputs": [],
   "source": []
  },
  {
   "cell_type": "code",
   "execution_count": null,
   "id": "034d953d",
   "metadata": {},
   "outputs": [],
   "source": [
    "df['targets'] = [hmm.targets for hmm in hmms]\n",
    "\n",
    "#df.to_csv(\"nn_train_g2.tsv\", sep=\"\\t\", index=False)\n",
    "#df.to_csv(\"nn_train_g3.tsv\", sep=\"\\t\", index=False)\n",
    "#df.to_csv(\"nn_train_g4.tsv\", sep=\"\\t\", index=False)\n",
    "#df.to_csv(\"nn_train_g5.tsv\", sep=\"\\t\", index=False)"
   ]
  },
  {
   "cell_type": "code",
   "execution_count": null,
   "id": "a87513d0",
   "metadata": {},
   "outputs": [],
   "source": []
  },
  {
   "cell_type": "code",
   "execution_count": null,
   "id": "ec4ed8a1",
   "metadata": {},
   "outputs": [],
   "source": []
  },
  {
   "cell_type": "code",
   "execution_count": null,
   "id": "dbbda547",
   "metadata": {},
   "outputs": [],
   "source": []
  },
  {
   "cell_type": "code",
   "execution_count": null,
   "id": "21f0ba24",
   "metadata": {},
   "outputs": [],
   "source": [
    "hmm = hmms[-1]"
   ]
  },
  {
   "cell_type": "code",
   "execution_count": null,
   "id": "504e212c",
   "metadata": {},
   "outputs": [],
   "source": []
  },
  {
   "cell_type": "code",
   "execution_count": null,
   "id": "9dce0166",
   "metadata": {},
   "outputs": [],
   "source": []
  },
  {
   "cell_type": "code",
   "execution_count": null,
   "id": "e18dbad4",
   "metadata": {},
   "outputs": [],
   "source": [
    "bbb = compute_hmm_nn_b(hmm, model, b_set)"
   ]
  },
  {
   "cell_type": "code",
   "execution_count": null,
   "id": "26d54110",
   "metadata": {},
   "outputs": [],
   "source": []
  },
  {
   "cell_type": "code",
   "execution_count": null,
   "id": "33359b07",
   "metadata": {},
   "outputs": [],
   "source": [
    "bbb.log()"
   ]
  },
  {
   "cell_type": "code",
   "execution_count": null,
   "id": "2d965f07",
   "metadata": {},
   "outputs": [],
   "source": [
    "plot_matrix(bbb.log().detach().numpy())"
   ]
  },
  {
   "cell_type": "markdown",
   "id": "1aa367bb",
   "metadata": {},
   "source": [
    "https://pytorch.org/docs/stable/generated/torch.nonzero.html"
   ]
  },
  {
   "cell_type": "code",
   "execution_count": null,
   "id": "47bb460f",
   "metadata": {},
   "outputs": [],
   "source": [
    "hmm = hmms[3]"
   ]
  },
  {
   "cell_type": "code",
   "execution_count": null,
   "id": "72b5c235",
   "metadata": {
    "scrolled": true
   },
   "outputs": [],
   "source": [
    "A = torch.tensor(hmm.A)\n",
    "A"
   ]
  },
  {
   "cell_type": "code",
   "execution_count": null,
   "id": "21672f4e",
   "metadata": {},
   "outputs": [],
   "source": [
    "A.nonzero(as_tuple=True)"
   ]
  },
  {
   "cell_type": "code",
   "execution_count": null,
   "id": "b944f040",
   "metadata": {},
   "outputs": [],
   "source": [
    "A.nonzero()"
   ]
  },
  {
   "cell_type": "code",
   "execution_count": null,
   "id": "cc5b384e",
   "metadata": {},
   "outputs": [],
   "source": []
  },
  {
   "cell_type": "code",
   "execution_count": null,
   "id": "13e66fce",
   "metadata": {},
   "outputs": [],
   "source": [
    "A[A.nonzero(as_tuple=True)]"
   ]
  },
  {
   "cell_type": "code",
   "execution_count": null,
   "id": "923aae9b",
   "metadata": {},
   "outputs": [],
   "source": [
    "print(hmm)"
   ]
  },
  {
   "cell_type": "code",
   "execution_count": null,
   "id": "7048d1ac",
   "metadata": {},
   "outputs": [],
   "source": [
    "col = A[:,6]\n",
    "col"
   ]
  },
  {
   "cell_type": "markdown",
   "id": "bb018b53",
   "metadata": {},
   "source": [
    "https://discuss.pytorch.org/t/find-indices-with-value-zeros/10151"
   ]
  },
  {
   "cell_type": "code",
   "execution_count": null,
   "id": "98c1b57a",
   "metadata": {},
   "outputs": [],
   "source": [
    "torch.nonzero(col.view(-1).data).squeeze()"
   ]
  },
  {
   "cell_type": "code",
   "execution_count": null,
   "id": "71e72a91",
   "metadata": {},
   "outputs": [],
   "source": []
  },
  {
   "cell_type": "code",
   "execution_count": null,
   "id": "2a95b680",
   "metadata": {},
   "outputs": [],
   "source": []
  },
  {
   "cell_type": "code",
   "execution_count": null,
   "id": "741fa682",
   "metadata": {},
   "outputs": [],
   "source": [
    "col = A[:,1]>0\n",
    "col"
   ]
  },
  {
   "cell_type": "code",
   "execution_count": null,
   "id": "2e9505cb",
   "metadata": {},
   "outputs": [],
   "source": [
    "len_x = A.size()[0]\n",
    "\n",
    "x_list = [5]+[0]*(len_x-1)\n",
    "x_m = torch.tensor([x_list])"
   ]
  },
  {
   "cell_type": "code",
   "execution_count": null,
   "id": "72aab1f6",
   "metadata": {},
   "outputs": [],
   "source": [
    "x = x_m[0]\n",
    "x"
   ]
  },
  {
   "cell_type": "code",
   "execution_count": null,
   "id": "74b806f9",
   "metadata": {},
   "outputs": [],
   "source": [
    "col"
   ]
  },
  {
   "cell_type": "code",
   "execution_count": null,
   "id": "68dcaaf5",
   "metadata": {},
   "outputs": [],
   "source": []
  },
  {
   "cell_type": "code",
   "execution_count": null,
   "id": "2be17522",
   "metadata": {
    "scrolled": true
   },
   "outputs": [],
   "source": [
    "x[col]"
   ]
  },
  {
   "cell_type": "code",
   "execution_count": null,
   "id": "cf5c8b05",
   "metadata": {},
   "outputs": [],
   "source": [
    "x[col].max()"
   ]
  },
  {
   "cell_type": "code",
   "execution_count": null,
   "id": "2b8cd0d8",
   "metadata": {},
   "outputs": [],
   "source": []
  },
  {
   "cell_type": "code",
   "execution_count": null,
   "id": "36188796",
   "metadata": {},
   "outputs": [],
   "source": []
  },
  {
   "cell_type": "code",
   "execution_count": null,
   "id": "8fe4329d",
   "metadata": {},
   "outputs": [],
   "source": []
  },
  {
   "cell_type": "code",
   "execution_count": null,
   "id": "a1e3c676",
   "metadata": {},
   "outputs": [],
   "source": [
    "\n",
    "\n",
    "\n",
    "def viterbi_align_log_nn(hmm, nn_model, full_b_set):\n",
    "    \"\"\"\n",
    "    Align hmm states with mfcc, using b_means phone models dictionary.\n",
    "    Work with logprobs to avoid numeric problems.\n",
    "    \"\"\"\n",
    "    #b = m(compute_hmm_nn_b(hmm, nn_model, full_b_set))\n",
    "    log_b = compute_hmm_nn_b(hmm, nn_model, full_b_set).log().detach()\n",
    "    \n",
    "    \n",
    "    \n",
    "    # convert A to our special sparse format\n",
    "    A = m(hmm.A)\n",
    "    len_x = A.size()[0]\n",
    "\n",
    "    \n",
    "    \n",
    "    for ci in range(len_x):\n",
    "        column = A[:,ci]\n",
    "        # find nonzero elements in column, indicating source cells in token passing\n",
    "    \n",
    "    \n",
    "    \n",
    "    tmax = hmm.mfcc.size()[0]\n",
    "    x_list = [1]+[0]*(len_x-1)\n",
    "    x_m = m([x_list])\n",
    "    exponent = 0\n",
    "    # allocate space for mantissa-like (kept in range) and row-exponent values\n",
    "    alpha_m = m.rowlist((tmax,len_x))\n",
    "\n",
    "    for row in range(tmax):\n",
    "        s = x_m.val.sum() # renormalize\n",
    "        x_m.val *= 1/s\n",
    "        exponent += s.log()\n",
    "        alpha_m[row] = x_m\n",
    "        x_m = x_m@A*b[row]\n",
    "    return alpha_m, exponent\n"
   ]
  },
  {
   "cell_type": "code",
   "execution_count": null,
   "id": "af8659a0",
   "metadata": {},
   "outputs": [],
   "source": []
  },
  {
   "cell_type": "code",
   "execution_count": null,
   "id": "466a2612",
   "metadata": {},
   "outputs": [],
   "source": []
  },
  {
   "cell_type": "code",
   "execution_count": null,
   "id": "e253db1b",
   "metadata": {},
   "outputs": [],
   "source": []
  },
  {
   "cell_type": "code",
   "execution_count": null,
   "id": "665bbbca",
   "metadata": {},
   "outputs": [],
   "source": []
  },
  {
   "cell_type": "code",
   "execution_count": null,
   "id": "e00c2493",
   "metadata": {},
   "outputs": [],
   "source": []
  },
  {
   "cell_type": "code",
   "execution_count": null,
   "id": "5c80cbd2",
   "metadata": {},
   "outputs": [],
   "source": [
    "#print(hmm)"
   ]
  },
  {
   "cell_type": "code",
   "execution_count": null,
   "id": "31868d81",
   "metadata": {},
   "outputs": [],
   "source": []
  },
  {
   "cell_type": "code",
   "execution_count": null,
   "id": "61a3eba1",
   "metadata": {},
   "outputs": [],
   "source": []
  },
  {
   "cell_type": "code",
   "execution_count": null,
   "id": "6890cffc",
   "metadata": {
    "scrolled": true
   },
   "outputs": [],
   "source": [
    "plot_matrix(bbb.detach().numpy())"
   ]
  },
  {
   "cell_type": "code",
   "execution_count": null,
   "id": "707292fb",
   "metadata": {},
   "outputs": [],
   "source": [
    "plot_fun(bbb.detach().numpy())"
   ]
  },
  {
   "cell_type": "code",
   "execution_count": null,
   "id": "b11ff7e1",
   "metadata": {},
   "outputs": [],
   "source": []
  },
  {
   "cell_type": "code",
   "execution_count": null,
   "id": "6021e9fc",
   "metadata": {},
   "outputs": [],
   "source": [
    "alpha_m, alpha_exp = viterbi_align_nn(hmm, model, b_set)\n",
    "alp = torch.cat(alpha_m.val)\n",
    "intervals, bap = backward_alignment_pass_intervals(hmm, alp) # intervals will be sent to praat\n",
    "#intervals"
   ]
  },
  {
   "cell_type": "code",
   "execution_count": null,
   "id": "8094e72a",
   "metadata": {
    "scrolled": true
   },
   "outputs": [],
   "source": [
    "plot_matrix(alp)"
   ]
  },
  {
   "cell_type": "code",
   "execution_count": null,
   "id": "779ab835",
   "metadata": {},
   "outputs": [],
   "source": [
    "alp"
   ]
  },
  {
   "cell_type": "code",
   "execution_count": null,
   "id": "db5e5c65",
   "metadata": {},
   "outputs": [],
   "source": []
  },
  {
   "cell_type": "code",
   "execution_count": null,
   "id": "bf45fa1b",
   "metadata": {},
   "outputs": [],
   "source": []
  },
  {
   "cell_type": "code",
   "execution_count": null,
   "id": "921cf1f3",
   "metadata": {},
   "outputs": [],
   "source": []
  },
  {
   "cell_type": "code",
   "execution_count": null,
   "id": "b1bf1eb0",
   "metadata": {},
   "outputs": [],
   "source": [
    "plot_matrix(torch.cat([bap, alp], dim=1))"
   ]
  },
  {
   "cell_type": "code",
   "execution_count": null,
   "id": "9cb61039",
   "metadata": {},
   "outputs": [],
   "source": [
    "tft = textgrid_file_text({\"segmenty\": intervals})\n",
    "!cp {hmm.wav} test.wav"
   ]
  },
  {
   "cell_type": "code",
   "execution_count": null,
   "id": "929c4695",
   "metadata": {},
   "outputs": [],
   "source": [
    "%%writetemplate test.TextGrid\n",
    "{tft}"
   ]
  },
  {
   "cell_type": "code",
   "execution_count": null,
   "id": "fff5a382",
   "metadata": {},
   "outputs": [],
   "source": [
    "STOP"
   ]
  },
  {
   "cell_type": "code",
   "execution_count": null,
   "id": "cee0a455",
   "metadata": {},
   "outputs": [],
   "source": []
  },
  {
   "cell_type": "code",
   "execution_count": null,
   "id": "8476f2a9",
   "metadata": {},
   "outputs": [],
   "source": []
  },
  {
   "cell_type": "code",
   "execution_count": null,
   "id": "ed2e987f",
   "metadata": {},
   "outputs": [],
   "source": []
  },
  {
   "cell_type": "code",
   "execution_count": null,
   "id": "b4434d18",
   "metadata": {},
   "outputs": [],
   "source": [
    "print(hmms[-1])"
   ]
  },
  {
   "cell_type": "code",
   "execution_count": null,
   "id": "c08ef765",
   "metadata": {},
   "outputs": [],
   "source": []
  },
  {
   "cell_type": "code",
   "execution_count": null,
   "id": "990d269a",
   "metadata": {},
   "outputs": [],
   "source": []
  },
  {
   "cell_type": "code",
   "execution_count": null,
   "id": "882d7fe8",
   "metadata": {},
   "outputs": [],
   "source": [
    "#hmm.mfcc"
   ]
  },
  {
   "cell_type": "code",
   "execution_count": null,
   "id": "42288902",
   "metadata": {},
   "outputs": [],
   "source": [
    "logits = model(hmm.mfcc.double())\n",
    "pred_probab = nn.Softmax(dim=1)(logits)"
   ]
  },
  {
   "cell_type": "code",
   "execution_count": null,
   "id": "57d582f3",
   "metadata": {},
   "outputs": [],
   "source": [
    "pred_probab.size()"
   ]
  },
  {
   "cell_type": "code",
   "execution_count": null,
   "id": "a49d62e6",
   "metadata": {},
   "outputs": [],
   "source": [
    "plot_matrix(pred_probab.detach().numpy())"
   ]
  },
  {
   "cell_type": "code",
   "execution_count": null,
   "id": "bb9b5c75",
   "metadata": {},
   "outputs": [],
   "source": [
    "X = all_mfcc[10] # likely a silence sample\n",
    "logits = model(X[None]) # needs added dimension, otherwise flatten() inside breaks\n",
    "pred_probab = nn.Softmax(dim=1)(logits)\n",
    "y_pred = pred_probab.argmax(1)\n",
    "print(f\"Predicted class: {y_pred}\")"
   ]
  },
  {
   "cell_type": "code",
   "execution_count": null,
   "id": "c64c6029",
   "metadata": {},
   "outputs": [],
   "source": [
    "b_set[30]"
   ]
  },
  {
   "cell_type": "code",
   "execution_count": null,
   "id": "0b7c2be1",
   "metadata": {},
   "outputs": [],
   "source": []
  },
  {
   "cell_type": "code",
   "execution_count": null,
   "id": "a3cde3fb",
   "metadata": {},
   "outputs": [],
   "source": [
    "hmm = hmms[2]"
   ]
  },
  {
   "cell_type": "code",
   "execution_count": null,
   "id": "d1cf2d82",
   "metadata": {},
   "outputs": [],
   "source": [
    "hmm.targets"
   ]
  },
  {
   "cell_type": "code",
   "execution_count": null,
   "id": "360e5211",
   "metadata": {},
   "outputs": [],
   "source": [
    "\n",
    "mfcc_double = hmm.mfcc.double()\n",
    "\n",
    "t=\"\"\n",
    "\n",
    "for fi in range(hmm.mfcc.size()[0]):\n",
    "\n",
    "    X = mfcc_double[fi] # likely a silence sample\n",
    "    logits = model(X[None]) # needs added dimension, otherwise flatten() inside breaks\n",
    "    pred_probab = nn.Softmax(dim=1)(logits)\n",
    "    y_pred = pred_probab.argmax(1)\n",
    "    #print(f\"Predicted class: {y_pred}\")\n",
    "    t += b_set[y_pred]\n",
    "    \n",
    "t"
   ]
  },
  {
   "cell_type": "code",
   "execution_count": null,
   "id": "68f02aac",
   "metadata": {},
   "outputs": [],
   "source": [
    "print(hmm)"
   ]
  },
  {
   "cell_type": "code",
   "execution_count": null,
   "id": "d9917e40",
   "metadata": {},
   "outputs": [],
   "source": [
    "hmm.mfcc.size()[0]"
   ]
  },
  {
   "cell_type": "code",
   "execution_count": null,
   "id": "01140438",
   "metadata": {},
   "outputs": [],
   "source": []
  },
  {
   "cell_type": "code",
   "execution_count": null,
   "id": "db93858a",
   "metadata": {},
   "outputs": [],
   "source": []
  },
  {
   "cell_type": "code",
   "execution_count": null,
   "id": "91d6af7e",
   "metadata": {},
   "outputs": [],
   "source": []
  },
  {
   "cell_type": "markdown",
   "id": "008dcdd4",
   "metadata": {},
   "source": [
    "# BELOW IS TRAINING - JUST FYI, IT IS DONE IN ANOTHER NOTEBOOK"
   ]
  },
  {
   "cell_type": "code",
   "execution_count": null,
   "id": "0442d5a9",
   "metadata": {},
   "outputs": [],
   "source": [
    "STOP # stop here if we somehow get to this part"
   ]
  },
  {
   "cell_type": "markdown",
   "id": "2085dc17",
   "metadata": {},
   "source": [
    "https://pytorch.org/tutorials/beginner/blitz/cifar10_tutorial.html"
   ]
  },
  {
   "cell_type": "code",
   "execution_count": null,
   "id": "a6de173c",
   "metadata": {},
   "outputs": [],
   "source": [
    "import torch.optim as optim\n",
    "\n",
    "criterion = nn.CrossEntropyLoss()\n",
    "optimizer = optim.SGD(model.parameters(), lr=0.001, momentum=0.9)"
   ]
  },
  {
   "cell_type": "code",
   "execution_count": null,
   "id": "b9b5ecf6",
   "metadata": {},
   "outputs": [],
   "source": []
  },
  {
   "cell_type": "code",
   "execution_count": null,
   "id": "3611deb6",
   "metadata": {},
   "outputs": [],
   "source": [
    "for epoch in range(2):  # loop over the dataset multiple times\n",
    "\n",
    "    running_loss = 0.0\n",
    "    for i, data in enumerate(train_dataloader, 0):\n",
    "        # get the inputs; data is a list of [inputs, labels]\n",
    "        inputs, labels = data\n",
    "\n",
    "        # zero the parameter gradients\n",
    "        optimizer.zero_grad()\n",
    "\n",
    "        # forward + backward + optimize\n",
    "        outputs = model(inputs)\n",
    "        loss = criterion(outputs, labels)\n",
    "        loss.backward()\n",
    "        optimizer.step()\n",
    "\n",
    "        # print statistics\n",
    "        running_loss += loss.item()\n",
    "        if i % 2000 == 1999:    # print every 2000 mini-batches\n",
    "            print(f'[{epoch + 1}, {i + 1:5d}] loss: {running_loss / 2000:.3f}')\n",
    "            running_loss = 0.0\n",
    "\n",
    "print('Finished Training')"
   ]
  },
  {
   "cell_type": "code",
   "execution_count": null,
   "id": "bb6db8a2",
   "metadata": {},
   "outputs": [],
   "source": [
    "for epoch in range(20):  # loop over the dataset multiple times\n",
    "\n",
    "    running_loss = 0.0\n",
    "    for i, data in enumerate(train_dataloader, 0):\n",
    "        # get the inputs; data is a list of [inputs, labels]\n",
    "        inputs, labels = data\n",
    "\n",
    "        # zero the parameter gradients\n",
    "        optimizer.zero_grad()\n",
    "\n",
    "        # forward + backward + optimize\n",
    "        outputs = model(inputs)\n",
    "        loss = criterion(outputs, labels)\n",
    "        loss.backward()\n",
    "        optimizer.step()\n",
    "\n",
    "        # print statistics\n",
    "        running_loss += loss.item()\n",
    "        if i % 20000 == 19999:    # print every 2000 mini-batches\n",
    "            print(f'[{epoch + 1}, {i + 1:5d}] loss: {running_loss / 20000:.3f}')\n",
    "            running_loss = 0.0\n",
    "\n",
    "print('Finished Training')"
   ]
  },
  {
   "cell_type": "code",
   "execution_count": null,
   "id": "001c8d57",
   "metadata": {},
   "outputs": [],
   "source": [
    "torch.save(model.state_dict(), 'model_weights.pth')"
   ]
  },
  {
   "cell_type": "code",
   "execution_count": null,
   "id": "ac8c6d4a",
   "metadata": {},
   "outputs": [],
   "source": [
    "for epoch in range(20):  # loop over the dataset multiple times\n",
    "\n",
    "    running_loss = 0.0\n",
    "    for i, data in enumerate(train_dataloader, 0):\n",
    "        # get the inputs; data is a list of [inputs, labels]\n",
    "        inputs, labels = data\n",
    "\n",
    "        # zero the parameter gradients\n",
    "        optimizer.zero_grad()\n",
    "\n",
    "        # forward + backward + optimize\n",
    "        outputs = model(inputs)\n",
    "        loss = criterion(outputs, labels)\n",
    "        loss.backward()\n",
    "        optimizer.step()\n",
    "\n",
    "        # print statistics\n",
    "        running_loss += loss.item()\n",
    "        if i % 20000 == 19999:    # print every 2000 mini-batches\n",
    "            print(f'[{epoch + 1}, {i + 1:5d}] loss: {running_loss / 20000:.3f}')\n",
    "            running_loss = 0.0\n",
    "\n",
    "print('Finished Training')"
   ]
  },
  {
   "cell_type": "code",
   "execution_count": null,
   "id": "f600a6c7",
   "metadata": {},
   "outputs": [],
   "source": [
    "torch.save(model.state_dict(), 'model_weights_40.pth')"
   ]
  },
  {
   "cell_type": "code",
   "execution_count": null,
   "id": "945b6e4b",
   "metadata": {},
   "outputs": [],
   "source": [
    "torch.save(model, 'model.pth')"
   ]
  },
  {
   "cell_type": "markdown",
   "id": "4ad7f324",
   "metadata": {},
   "source": [
    "https://pytorch.org/tutorials/beginner/basics/saveloadrun_tutorial.html"
   ]
  },
  {
   "cell_type": "code",
   "execution_count": null,
   "id": "26c45dc6",
   "metadata": {},
   "outputs": [],
   "source": []
  },
  {
   "cell_type": "code",
   "execution_count": null,
   "id": "a1a931b8",
   "metadata": {},
   "outputs": [],
   "source": []
  },
  {
   "cell_type": "code",
   "execution_count": null,
   "id": "206e9f9f",
   "metadata": {},
   "outputs": [],
   "source": []
  }
 ],
 "metadata": {
  "kernelspec": {
   "display_name": "Python 3 (ipykernel)",
   "language": "python",
   "name": "python3"
  },
  "language_info": {
   "codemirror_mode": {
    "name": "ipython",
    "version": 3
   },
   "file_extension": ".py",
   "mimetype": "text/x-python",
   "name": "python",
   "nbconvert_exporter": "python",
   "pygments_lexer": "ipython3",
   "version": "3.10.5"
  }
 },
 "nbformat": 4,
 "nbformat_minor": 5
}
