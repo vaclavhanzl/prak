{
 "cells": [
  {
   "cell_type": "markdown",
   "id": "503fe1db",
   "metadata": {},
   "source": [
    "# Align Milanek using NN Acoustic Model\n",
    "https://pytorch.org/tutorials/beginner/basics/buildmodel_tutorial.html"
   ]
  },
  {
   "cell_type": "code",
   "execution_count": null,
   "id": "7ad2877b",
   "metadata": {
    "scrolled": true
   },
   "outputs": [],
   "source": [
    "%run ../prongen/hmm_pron.py --in-jupyter\n",
    "#%run ../acmodel/plot.py\n",
    "#%matplotlib ipympl"
   ]
  },
  {
   "cell_type": "code",
   "execution_count": null,
   "id": "04a591fd",
   "metadata": {},
   "outputs": [],
   "source": [
    "%run ../acmodel/matrix.py\n",
    "%run ../acmodel/praat_ifc.py\n",
    "\n",
    "%run ../acmodel/hmm_acmodel.py\n",
    "\n",
    "#device = \"cuda\" if torch.cuda.is_available() else \"cpu\"\n",
    "device = \"cpu\"\n",
    "print(f\"Using {device} device\")\n",
    "\n",
    "%run ../acmodel/nn_acmodel.py"
   ]
  },
  {
   "cell_type": "code",
   "execution_count": null,
   "id": "11df35d3",
   "metadata": {},
   "outputs": [],
   "source": [
    "from IPython.core.magic import register_line_cell_magic\n",
    "\n",
    "@register_line_cell_magic\n",
    "def writetemplate(line, cell):\n",
    "    with open(line, 'w') as f:\n",
    "        f.write(cell.format(**globals()))"
   ]
  },
  {
   "cell_type": "markdown",
   "id": "fa6fbba3",
   "metadata": {},
   "source": [
    "### Get training data to compute sizes and b_set\n",
    "This should be replaced by properly storing all inference details with a model!"
   ]
  },
  {
   "cell_type": "code",
   "execution_count": null,
   "id": "41ea17c2",
   "metadata": {},
   "outputs": [],
   "source": [
    "import pandas as pd\n",
    "pd.set_option('display.max_colwidth', None)\n",
    "df = pd.read_csv(\"mega3_training_0003.tsv\", sep=\"\\t\", keep_default_na=False)\n",
    "\n",
    "#df = pd.read_csv(\"mini.tsv\", sep=\"\\t\", keep_default_na=False)"
   ]
  },
  {
   "cell_type": "code",
   "execution_count": null,
   "id": "9ae5da18",
   "metadata": {},
   "outputs": [],
   "source": [
    "hmms = []\n",
    "for wav, sentence, targets in list(zip(df.wav.values, df.sentence.values, df.targets.values)):\n",
    "    #hmm = HMM(sentence, wav=wav)\n",
    "    hmm = HMM(sentence, wav=wav, derivatives=3)\n",
    "    hmm.targets = targets\n",
    "    hmms.append(hmm)"
   ]
  },
  {
   "cell_type": "code",
   "execution_count": null,
   "id": "bf2739ec",
   "metadata": {},
   "outputs": [],
   "source": [
    "b_set = sorted({*\"\".join([hmm.b for hmm in hmms ])}) # make sorted set of all phone names in the training set\n",
    "out_size = len(b_set)\n",
    "in_size = hmms[0].mfcc.size(1)\n",
    "\" \".join(b_set), out_size, in_size"
   ]
  },
  {
   "cell_type": "code",
   "execution_count": null,
   "id": "a185e402",
   "metadata": {},
   "outputs": [],
   "source": [
    "all_targets = \"\".join([hmm.targets for hmm in hmms])\n",
    "train_len = len(all_targets)"
   ]
  },
  {
   "cell_type": "code",
   "execution_count": null,
   "id": "235ff595",
   "metadata": {},
   "outputs": [],
   "source": [
    "all_mfcc = torch.cat([hmm.mfcc for hmm in hmms]).double().to(device)\n",
    "assert all_mfcc.size()[0]==train_len"
   ]
  },
  {
   "cell_type": "code",
   "execution_count": null,
   "id": "007ec6d6",
   "metadata": {},
   "outputs": [],
   "source": [
    "training_data = SpeechDataset(all_mfcc, all_targets, b_set)"
   ]
  },
  {
   "cell_type": "code",
   "execution_count": null,
   "id": "9a03b3ed",
   "metadata": {},
   "outputs": [],
   "source": [
    "train_dataloader = DataLoader(training_data, batch_size=64, shuffle=True)"
   ]
  },
  {
   "cell_type": "markdown",
   "id": "0724959a",
   "metadata": {},
   "source": [
    "# Load NN Acoustic Model"
   ]
  },
  {
   "cell_type": "code",
   "execution_count": null,
   "id": "d39c6115",
   "metadata": {},
   "outputs": [],
   "source": [
    "# get just b_set\n",
    "t = \"\"\n",
    "for targets in df.targets.values:\n",
    "    t += targets\n",
    "\n",
    "b_set = sorted({*t}) # make sorted set of all phone names in the training set\n",
    "#out_size = len(b_set)\n",
    "\" \".join(b_set)"
   ]
  },
  {
   "cell_type": "code",
   "execution_count": null,
   "id": "30441303",
   "metadata": {},
   "outputs": [],
   "source": [
    "in_size = hmms[0].mfcc.size(1)\n",
    "out_size = len(b_set)"
   ]
  },
  {
   "cell_type": "code",
   "execution_count": null,
   "id": "b6213b31",
   "metadata": {},
   "outputs": [],
   "source": [
    "in_size = 52\n",
    "out_size = 45\n"
   ]
  },
  {
   "cell_type": "code",
   "execution_count": null,
   "id": "60b23bf3",
   "metadata": {},
   "outputs": [],
   "source": [
    "x_set = b_set"
   ]
  },
  {
   "cell_type": "code",
   "execution_count": null,
   "id": "9ba5e41a",
   "metadata": {},
   "outputs": [],
   "source": [
    "# SKIP THIS\n",
    "\n",
    "groups = 'aá eé yý oó uú pb td ťď kg HhG cZ čŽ sz šž fv'\n",
    "\n",
    "\n",
    "def group_labels(groups, labels):\n",
    "    \"\"\"\n",
    "    Simplify label set by replacing each label in a string by the\n",
    "    first member of its group. Input in labels can be any iterable\n",
    "    (likely list or string), output is a string.\n",
    "    \"\"\"\n",
    "    lab = {}\n",
    "    for phone in labels:\n",
    "        lab[phone] = phone # default to be overwriten below\n",
    "    for grp in groups.split():\n",
    "        for p in grp:\n",
    "            lab[p] = grp[0] # first phone in group represents it\n",
    "        \n",
    "    \n",
    "    return \"\".join(lab[p] for p in labels)\n",
    "\n",
    "\n",
    "x_set = sorted({*group_labels(groups, b_set)})\n",
    "out_size = len(x_set) # 29"
   ]
  },
  {
   "cell_type": "code",
   "execution_count": null,
   "id": "a70f97aa",
   "metadata": {
    "scrolled": false
   },
   "outputs": [],
   "source": [
    "model = NeuralNetwork(in_size, out_size, 50).to(device)\n",
    "print(model)"
   ]
  },
  {
   "cell_type": "markdown",
   "id": "a51aabba",
   "metadata": {},
   "source": [
    "# Change NN Model"
   ]
  },
  {
   "cell_type": "code",
   "execution_count": null,
   "id": "7f7276f5",
   "metadata": {},
   "outputs": [],
   "source": [
    "#filename_base = 'mega6_training_0024'\n",
    "#filename_base = 'group5i_training_0021'\n",
    "#filename_base = 'group_training_0042'\n",
    "#filename_base = 'tri_training_0011'\n",
    "#filename_base = 'tri_training_0022'\n",
    "\n",
    "filename_base = 'minig_training_0000'\n",
    "\n",
    "model.load_state_dict(torch.load(filename_base+\".pth\"))\n",
    "b_log_corr = b_log_corrections(filename_base+\".tsv\")\n",
    "\n",
    "model.eval()"
   ]
  },
  {
   "cell_type": "markdown",
   "id": "ff9eb19a",
   "metadata": {},
   "source": [
    "# Select one wav to align"
   ]
  },
  {
   "cell_type": "code",
   "execution_count": null,
   "id": "6e7b9e05",
   "metadata": {},
   "outputs": [],
   "source": [
    "milanek = \"\"\"\n",
    " Milánek \n",
    " maminka se zeptala Milana \n",
    " Milánku už máš hotový úkol \n",
    " kdy ho budeš psát \n",
    " Milan chvilku přemýšlel a pak odpověděl \n",
    " já musím napsat pár souvětí na Říhovou kde budou nějaké gramatické fígle \n",
    " například vztažné věty \n",
    " čárky před á a podobně \n",
    " vlastně jsem tě chtěl poprosit jestli mi s tím nepomůžeš \n",
    " můžeme se na to mrknout klidně hned řekla maminka \n",
    " jen bych dala vařit vodu na čaj a podívám se jestli máme citrony \n",
    " jak dlouho nám ten úkol zabere \n",
    " bude to těžké \n",
    " no mají tam být i různé příklady na zastaralou a knižní slovní zásobu \n",
    " skoro půlku jsem už ve škole udělal ale moc dobře mi to nešlo \n",
    " chtěl bych začít co nejdřív \n",
    " až budu hotov došel bych ti do lékárny pro ten pneumocyt \n",
    " a potom půjdu hrát fotbal \n",
    " včera jsem dal čtyři góly \n",
    " nebýt láďových faulů mohlo jich být víc \n",
    " jen míč budu muset přifouknout \n",
    " neboj se dám pozor na auta\n",
    "\"\"\""
   ]
  },
  {
   "cell_type": "code",
   "execution_count": null,
   "id": "4d7b7266",
   "metadata": {},
   "outputs": [],
   "source": [
    "#txt = \"Milánku, už máš hotový úkol? Kdy ho budeš psát?\"\n",
    "#wav = \"milanek/mil.wav\"\n",
    "txt = milanek\n",
    "wav = \"milanek/AH-milanek.wav\""
   ]
  },
  {
   "cell_type": "code",
   "execution_count": null,
   "id": "a7a717c4",
   "metadata": {},
   "outputs": [],
   "source": [
    "waveform, sample_rate = torchaudio.load(wav)\n",
    "sample_rate"
   ]
  },
  {
   "cell_type": "code",
   "execution_count": null,
   "id": "55487db0",
   "metadata": {},
   "outputs": [],
   "source": [
    "transform = torchaudio.transforms.Resample(orig_freq=sample_rate)\n",
    "resampled_waveform = transform(waveform)\n",
    "waveform.size(), resampled_waveform.size()"
   ]
  },
  {
   "cell_type": "code",
   "execution_count": null,
   "id": "9dfa7ac6",
   "metadata": {},
   "outputs": [],
   "source": [
    "torchaudio.save(\"resampled.wav\", resampled_waveform, 16000)"
   ]
  },
  {
   "cell_type": "code",
   "execution_count": null,
   "id": "da7542ee",
   "metadata": {},
   "outputs": [],
   "source": [
    "hmm = HMM(txt, wav='resampled.wav', derivatives=3)"
   ]
  },
  {
   "cell_type": "code",
   "execution_count": null,
   "id": "6aee7557",
   "metadata": {
    "scrolled": true
   },
   "outputs": [],
   "source": [
    "# SKIP THIS\n",
    "\n",
    "hmm.b = group_labels(groups, hmm.b)"
   ]
  },
  {
   "cell_type": "code",
   "execution_count": null,
   "id": "fc72729d",
   "metadata": {
    "scrolled": true
   },
   "outputs": [],
   "source": [
    "hmm.b"
   ]
  },
  {
   "cell_type": "code",
   "execution_count": null,
   "id": "f5597348",
   "metadata": {},
   "outputs": [],
   "source": [
    "# CONDITIONAL:\n",
    "\n",
    "triple_hmm_states(hmm)"
   ]
  },
  {
   "cell_type": "code",
   "execution_count": null,
   "id": "367a72dc",
   "metadata": {
    "scrolled": true
   },
   "outputs": [],
   "source": [
    "%%time\n",
    "alp = viterbi_log_align_nn(hmm, model, x_set, b_log_corr=b_log_corr*1.0)\n",
    "hmm.intervals = backward_log_alignment_pass_intervals(hmm, alp) # also modifies alp\n",
    "hmm.indices = i = alp.max(1).indices\n",
    "s = \"\".join([hmm.b[ii] for ii in i])\n",
    "hmm.troubling = troubling_alignmet(s)\n",
    "hmm.targets = \"\".join([hmm.b[ii] for ii in i])\n",
    "# Wall time: 5.89 s., for triple states: 6.28 s"
   ]
  },
  {
   "cell_type": "code",
   "execution_count": null,
   "id": "1e5462a0",
   "metadata": {},
   "outputs": [],
   "source": []
  },
  {
   "cell_type": "code",
   "execution_count": null,
   "id": "4cf5e337",
   "metadata": {},
   "outputs": [],
   "source": [
    "def group_tripled_intervals(intervals):\n",
    "    \"\"\"\n",
    "    Fix tripling of decoded intervals caused by triple_hmm_states()\n",
    "    \"\"\"\n",
    "    result = []\n",
    "    while intervals:\n",
    "        (beg, _, phone), (_, _, p2), (_, end, p3), *intervals = intervals\n",
    "        assert phone == p2 == p3\n",
    "        result.append((beg, end, phone))\n",
    "    return result"
   ]
  },
  {
   "cell_type": "code",
   "execution_count": null,
   "id": "0abbf0f5",
   "metadata": {},
   "outputs": [],
   "source": [
    "hmm.intervals = group_tripled_intervals(hmm.intervals)"
   ]
  },
  {
   "cell_type": "code",
   "execution_count": null,
   "id": "c8e8f495",
   "metadata": {},
   "outputs": [],
   "source": []
  },
  {
   "cell_type": "code",
   "execution_count": null,
   "id": "cf771d56",
   "metadata": {},
   "outputs": [],
   "source": []
  },
  {
   "cell_type": "code",
   "execution_count": null,
   "id": "b7360d1d",
   "metadata": {},
   "outputs": [],
   "source": []
  },
  {
   "cell_type": "code",
   "execution_count": null,
   "id": "566c3134",
   "metadata": {
    "scrolled": false
   },
   "outputs": [],
   "source": [
    "tft = textgrid_file_text({\"segmenty\": hmm.intervals})"
   ]
  },
  {
   "cell_type": "code",
   "execution_count": null,
   "id": "2d83e94f",
   "metadata": {},
   "outputs": [],
   "source": [
    "%%writetemplate milanek/milanek_minig00.TextGrid\n",
    "{tft}"
   ]
  },
  {
   "cell_type": "code",
   "execution_count": null,
   "id": "a9b6ee9e",
   "metadata": {},
   "outputs": [],
   "source": [
    "STOP"
   ]
  },
  {
   "cell_type": "markdown",
   "id": "31093534",
   "metadata": {},
   "source": [
    "# Load the saved textgrid to praat now."
   ]
  },
  {
   "cell_type": "code",
   "execution_count": null,
   "id": "5717abde",
   "metadata": {},
   "outputs": [],
   "source": []
  },
  {
   "cell_type": "markdown",
   "id": "a02fd821",
   "metadata": {},
   "source": [
    "# Some experiments - align training data, use also reversed Viterbi"
   ]
  },
  {
   "cell_type": "code",
   "execution_count": null,
   "id": "db26fc85",
   "metadata": {},
   "outputs": [],
   "source": [
    "#%%time\n",
    "for idx, hmm in enumerate(hmms[32:33]):   # 3177 is quite problematic   4177 nice   4178 forw/backw slight diverg.\n",
    "    if idx%100==0:\n",
    "        print(idx)\n",
    "    \n",
    "    alp = viterbi_log_align_nn(hmm, model, b_set)\n",
    "    hmm.intervals = backward_log_alignment_pass_intervals(hmm, alp) # also modifies alp\n",
    "    hmm.indices = i = alp.max(1).indices\n",
    "    s = \"\".join([hmm.b[ii] for ii in i])\n",
    "    hmm.troubling = troubling_alignmet(s)\n",
    "    hmm.targets = \"\".join([hmm.b[ii] for ii in i])\n",
    "\n",
    "#CPU times: user 39min 35s, sys: 14.8 s, total: 39min 50s\n",
    "#Wall time: 4min 58s"
   ]
  },
  {
   "cell_type": "code",
   "execution_count": null,
   "id": "106ff032",
   "metadata": {},
   "outputs": [],
   "source": []
  },
  {
   "cell_type": "code",
   "execution_count": null,
   "id": "e2373e34",
   "metadata": {},
   "outputs": [],
   "source": [
    "hmm.targets"
   ]
  },
  {
   "cell_type": "code",
   "execution_count": null,
   "id": "c1526f9a",
   "metadata": {},
   "outputs": [],
   "source": [
    "hmm.mfcc.size()"
   ]
  },
  {
   "cell_type": "code",
   "execution_count": null,
   "id": "29b6fbe2",
   "metadata": {},
   "outputs": [],
   "source": [
    "alp"
   ]
  },
  {
   "cell_type": "code",
   "execution_count": null,
   "id": "890e5454",
   "metadata": {
    "scrolled": false
   },
   "outputs": [],
   "source": [
    "cmap=['hsv', 'viridis', 'twilight', 'brg', 'gist_rainbow', 'gist_ncar', 'nipy_spectral'][-1]\n",
    "plot_matrix(alp.clamp(min=-400), cmap=cmap)"
   ]
  },
  {
   "cell_type": "code",
   "execution_count": null,
   "id": "1e733568",
   "metadata": {
    "scrolled": true
   },
   "outputs": [],
   "source": [
    "STOP"
   ]
  },
  {
   "cell_type": "code",
   "execution_count": null,
   "id": "2930aa99",
   "metadata": {
    "scrolled": true
   },
   "outputs": [],
   "source": [
    "plot_wavfile(hmm.wav)"
   ]
  },
  {
   "cell_type": "code",
   "execution_count": null,
   "id": "d9995533",
   "metadata": {},
   "outputs": [],
   "source": [
    "print(hmm)"
   ]
  },
  {
   "cell_type": "code",
   "execution_count": null,
   "id": "c0030032",
   "metadata": {},
   "outputs": [],
   "source": [
    "hmm.add_timrev()"
   ]
  },
  {
   "cell_type": "code",
   "execution_count": null,
   "id": "ac7a818a",
   "metadata": {},
   "outputs": [],
   "source": [
    "    alp = viterbi_log_align_nn(hmm.timrev, model, b_set, timrev=True)\n",
    "    hmm.timrev.intervals = backward_log_alignment_pass_intervals(hmm.timrev, alp) # also modifies alp\n",
    "    hmm.timrev.indices = i = alp.max(1).indices\n",
    "    s = \"\".join([hmm.timrev.b[ii] for ii in i])\n",
    "    hmm.timrev.troubling = troubling_alignmet(s)\n",
    "    hmm.timrev.targets = \"\".join([hmm.timrev.b[ii] for ii in i])\n",
    "    alp = alp.flip(0).flip(1)\n"
   ]
  },
  {
   "cell_type": "code",
   "execution_count": null,
   "id": "34057f0e",
   "metadata": {
    "scrolled": false
   },
   "outputs": [],
   "source": [
    "cmap=['hsv', 'viridis', 'twilight', 'brg', 'gist_rainbow', 'gist_ncar', 'nipy_spectral'][-1]\n",
    "plot_matrix(alp.clamp(min=-400), cmap=cmap)"
   ]
  }
 ],
 "metadata": {
  "kernelspec": {
   "display_name": "Python 3 (ipykernel)",
   "language": "python",
   "name": "python3"
  },
  "language_info": {
   "codemirror_mode": {
    "name": "ipython",
    "version": 3
   },
   "file_extension": ".py",
   "mimetype": "text/x-python",
   "name": "python",
   "nbconvert_exporter": "python",
   "pygments_lexer": "ipython3",
   "version": "3.10.5"
  }
 },
 "nbformat": 4,
 "nbformat_minor": 5
}
