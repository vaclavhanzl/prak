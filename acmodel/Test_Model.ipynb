{
 "cells": [
  {
   "cell_type": "markdown",
   "id": "12750eb4",
   "metadata": {},
   "source": [
    "# Test NN acoustic models\n",
    "Test alignment model performance using a hand-corrected test set.\n",
    "We can test multiple models in a row, possibly waiting for them to be trained.\n",
    "\n",
    "Test set is a directory tree with `.wav` and `.TextGrid` files and file `exceptions.txt` in the root. Names of tiers with text and phones are configurable below."
   ]
  },
  {
   "cell_type": "code",
   "execution_count": null,
   "id": "9d832d4f",
   "metadata": {},
   "outputs": [],
   "source": [
    "import os\n",
    "home = os.getenv(\"HOME\")"
   ]
  },
  {
   "cell_type": "code",
   "execution_count": null,
   "id": "59a5974e",
   "metadata": {},
   "outputs": [],
   "source": [
    "# config cell - edit as needed\n",
    "\n",
    "# Models to test (with numbers in the name):\n",
    "model_name_pattern = home+\"/f-w/prak/acmodel/man_both_training_00%02d\" # will be used as \"model_name_pattern % i\"\n",
    "\n",
    "# Range of model numbers to test:\n",
    "model_numbers = range(1, 20) # will be substituted in model_name_pattern\n",
    "\n",
    "# Where is the test set:\n",
    "test_set_dir = home+'/test-prak/repair_ref'\n",
    "#/home/hanzl/test-prak/repair_ref/radio2_cleanTG/PETA-GVA-07-08.TextGrid\n",
    "\n",
    "# Which tier has manually aligned reference phones:\n",
    "reference_phone_tier = 'fix-phone'\n",
    "\n",
    "# Which tier has text to align:\n",
    "reference_text_tier = 'word'\n",
    "\n",
    "# Where results of tests will go (observe it using tail -f):\n",
    "logfile = \"test-log-x\""
   ]
  },
  {
   "cell_type": "code",
   "execution_count": null,
   "id": "3094d886",
   "metadata": {},
   "outputs": [],
   "source": [
    "import sys\n",
    "if sys.path[0] != '..':\n",
    "    sys.path[0:0] = ['..'] # prepend main Prak directory\n",
    "from acmodel.praat_ifc import *\n",
    "from acmodel.evaluate import *\n",
    "from acmodel.nn_acmodel import *\n",
    "import prongen"
   ]
  },
  {
   "cell_type": "code",
   "execution_count": null,
   "id": "03c8f6c9",
   "metadata": {},
   "outputs": [],
   "source": [
    "wavlist = !find {test_set_dir} -name '*.wav'\n",
    "len(wavlist)"
   ]
  },
  {
   "cell_type": "code",
   "execution_count": null,
   "id": "3e78aabc",
   "metadata": {},
   "outputs": [],
   "source": [
    "# just a cursory test of file counts to fail early on bad config\n",
    "tmp = !find {test_set_dir} -name '*.TextGrid'\n",
    "assert len(wavlist)==len(tmp)"
   ]
  },
  {
   "cell_type": "code",
   "execution_count": null,
   "id": "17e30eaa",
   "metadata": {},
   "outputs": [],
   "source": [
    "# add pronunciation exceptions needed for the test set\n",
    "prongen.hmm_pron.lexicon_replacements |= prongen.hmm_pron.read_lexirules_table(test_set_dir+\"/exceptions.txt\")"
   ]
  },
  {
   "cell_type": "code",
   "execution_count": null,
   "id": "dd1c2692",
   "metadata": {},
   "outputs": [],
   "source": [
    "# Run tests, possibly waiting for each model to be trained\n",
    "for i in model_numbers:\n",
    "    model_name = model_name_pattern%i    \n",
    "    while not os.path.exists(model_name+\".tsv\"): # .tsv used to get statistics for b log corr.\n",
    "        print(\"Waiting for \"+model_name)\n",
    "        !sleep 60\n",
    "    # Make sure the file is also finished:\n",
    "    !sleep 10\n",
    "    print(f\"model {model_name}\")\n",
    "    !echo model {model_name} >>{logfile}\n",
    "    model = load_nn_acoustic_model(model_name, mid_size=100, varstates=False)\n",
    "    total = Accumulator()\n",
    "    max_misplace = 0.1\n",
    "    for wav in wavlist:\n",
    "        print(wav)\n",
    "        tg_file = wav[:-len(\".wav\")]+\".TextGrid\"\n",
    "        tg = read_interval_tiers_from_textgrid_file(tg_file)\n",
    "        man = tg[reference_phone_tier] # reference test data\n",
    "        txt = \" \".join(x for (b, e, w) in tg[reference_text_tier] if (x:=w.strip())!=\"\")\n",
    "        # align using our model:\n",
    "        phone_tier, word_tier = align_wav_and_text_using_model(wav, txt, model) # b corr?\n",
    "        total.man_phones += len(man)\n",
    "        compare_tiers_detailed(man, phone_tier, total, \"\", max_misplace)\n",
    "\n",
    "    print(\"Summary results:\")\n",
    "    report_line = f'{\"%0.3f\"%(100*total.dif/total.man_phones)}% mismatched,'\n",
    "\n",
    "    report_line += f', {\"%0.3f\"%(100*total.misplaced_50/total.man_phones)}% misplaced more than 0.05s'\n",
    "    report_line += f', {\"%0.3f\"%(100*total.misplaced_100/total.man_phones)}% misplaced more than 0.1s'\n",
    "    report_line += f', {\"%0.3f\"%(100*total.misplaced_200/total.man_phones)}% misplaced more than 0.2s'\n",
    "\n",
    "    report_line += f', {\"%0.4f\"%(total.midshift/total.man_phones)} midshift'\n",
    "    print(report_line)\n",
    "    !echo {report_line} >>{logfile}"
   ]
  }
 ],
 "metadata": {
  "kernelspec": {
   "display_name": "Python 3 (ipykernel)",
   "language": "python",
   "name": "python3"
  },
  "language_info": {
   "codemirror_mode": {
    "name": "ipython",
    "version": 3
   },
   "file_extension": ".py",
   "mimetype": "text/x-python",
   "name": "python",
   "nbconvert_exporter": "python",
   "pygments_lexer": "ipython3",
   "version": "3.10.5"
  }
 },
 "nbformat": 4,
 "nbformat_minor": 5
}
