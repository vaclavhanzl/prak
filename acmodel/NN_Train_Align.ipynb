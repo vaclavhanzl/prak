{
 "cells": [
  {
   "cell_type": "markdown",
   "id": "bab82522",
   "metadata": {},
   "source": [
    "# Train & Align NN Acoustic Model\n",
    "Align already while training.\n",
    "\n",
    "https://pytorch.org/tutorials/beginner/basics/buildmodel_tutorial.html"
   ]
  },
  {
   "cell_type": "code",
   "execution_count": null,
   "id": "25c34a21",
   "metadata": {},
   "outputs": [],
   "source": [
    "%run ../prongen/hmm_pron.py --in-jupyter\n",
    "%run ../acmodel/plot.py\n",
    "%matplotlib ipympl\n",
    "\n",
    "%run ../acmodel/matrix.py\n",
    "%run ../acmodel/praat_ifc.py\n",
    "\n",
    "%run ../acmodel/hmm_acmodel.py\n",
    "\n",
    "%run ../acmodel/nn_acmodel.py"
   ]
  },
  {
   "cell_type": "code",
   "execution_count": null,
   "id": "d5aa5e73",
   "metadata": {},
   "outputs": [],
   "source": []
  },
  {
   "cell_type": "markdown",
   "id": "954f3e19",
   "metadata": {},
   "source": [
    "## Get training data\n",
    "We aligned Czech CommonVoice train set using an ultra-prinmitive HMM/GMM. Let's use it as a starting point."
   ]
  },
  {
   "cell_type": "code",
   "execution_count": null,
   "id": "4bacc914",
   "metadata": {},
   "outputs": [],
   "source": [
    "#import pandas as pd\n",
    "#pd.set_option('display.max_colwidth', None)\n",
    "\n",
    "#f = pd.read_csv(\"nn_train.tsv\", sep=\"\\t\", keep_default_na=False)\n",
    "#df = pd.read_csv(\"nn_train_g2.tsv\", sep=\"\\t\", keep_default_na=False)\n",
    "#df = pd.read_csv(\"nn_train_g3.tsv\", sep=\"\\t\", keep_default_na=False)\n",
    "#df = pd.read_csv(\"nn_train_g4.tsv\", sep=\"\\t\", keep_default_na=False)\n"
   ]
  },
  {
   "cell_type": "code",
   "execution_count": null,
   "id": "919e17bf",
   "metadata": {},
   "outputs": [],
   "source": [
    "#df"
   ]
  },
  {
   "cell_type": "code",
   "execution_count": null,
   "id": "a5d2f4eb",
   "metadata": {},
   "outputs": [],
   "source": [
    "#hmms = []\n",
    "#for wav, sentence, targets in list(zip(df.wav.values, df.sentence.values, df.targets.values)):\n",
    "#    hmm = HMM(sentence, wav=wav, use_DA=True)\n",
    "#    hmm.targets = targets\n",
    "#    hmms.append(hmm)\n",
    "    \n",
    "\n",
    "df = pd.read_csv(\"nn_train_g5.tsv\", sep=\"\\t\", keep_default_na=False)  # USED JUST AS A TEMPLATE FOR SAVED ALIGNMENTS\n",
    "    \n",
    "    \n",
    "hmms = get_training_hmms(\"nn_train_g5.tsv\", derivatives=3)"
   ]
  },
  {
   "cell_type": "code",
   "execution_count": null,
   "id": "04035f88",
   "metadata": {},
   "outputs": [],
   "source": [
    "#b_set = sorted({*\"\".join([hmm.b for hmm in hmms ])}) # make sorted set of all phone names in the training set\n",
    "\n",
    "all_mfcc, all_targets, b_set = collect_training_material(hmms)\n",
    "\n",
    "out_size = len(b_set)\n",
    "in_size = hmms[0].mfcc.size(1)\n",
    "\n",
    "\n",
    "\n",
    "\" \".join(b_set), out_size, in_size"
   ]
  },
  {
   "cell_type": "code",
   "execution_count": null,
   "id": "b7ca48e4",
   "metadata": {},
   "outputs": [],
   "source": [
    "#all_targets = \"\".join([hmm.targets for hmm in hmms])\n",
    "#train_len = len(all_targets)"
   ]
  },
  {
   "cell_type": "code",
   "execution_count": null,
   "id": "6184a504",
   "metadata": {},
   "outputs": [],
   "source": [
    "#all_mfcc = torch.cat([hmm.mfcc for hmm in hmms]).double().to(device)\n",
    "#assert all_mfcc.size()[0]==train_len"
   ]
  },
  {
   "cell_type": "markdown",
   "id": "bcc58a81",
   "metadata": {},
   "source": [
    "## Setup PyTorch training tools"
   ]
  },
  {
   "cell_type": "code",
   "execution_count": null,
   "id": "66b75ddf",
   "metadata": {},
   "outputs": [],
   "source": [
    "##import os\n",
    "#import torch\n",
    "#from torch import nn\n",
    "#from torch.utils.data import DataLoader\n",
    "#from torch.utils.data import Dataset\n",
    "##from torchvision import datasets, transforms"
   ]
  },
  {
   "cell_type": "code",
   "execution_count": null,
   "id": "ee4da8a2",
   "metadata": {},
   "outputs": [],
   "source": []
  },
  {
   "cell_type": "code",
   "execution_count": null,
   "id": "e970eefe",
   "metadata": {},
   "outputs": [],
   "source": []
  },
  {
   "cell_type": "code",
   "execution_count": null,
   "id": "d93d1630",
   "metadata": {},
   "outputs": [],
   "source": []
  },
  {
   "cell_type": "code",
   "execution_count": null,
   "id": "c08ff30c",
   "metadata": {},
   "outputs": [],
   "source": []
  },
  {
   "cell_type": "code",
   "execution_count": null,
   "id": "db1def29",
   "metadata": {},
   "outputs": [],
   "source": []
  },
  {
   "cell_type": "code",
   "execution_count": null,
   "id": "797a7ee8",
   "metadata": {},
   "outputs": [],
   "source": [
    "model = NeuralNetwork(in_size, out_size).to(device)\n",
    "print(model)"
   ]
  },
  {
   "cell_type": "code",
   "execution_count": null,
   "id": "29f3bc6a",
   "metadata": {},
   "outputs": [],
   "source": []
  },
  {
   "cell_type": "code",
   "execution_count": null,
   "id": "cead4411",
   "metadata": {},
   "outputs": [],
   "source": [
    "from torch.utils.data import DataLoader"
   ]
  },
  {
   "cell_type": "markdown",
   "id": "93fa8675",
   "metadata": {},
   "source": [
    "https://pytorch.org/tutorials/beginner/blitz/cifar10_tutorial.html"
   ]
  },
  {
   "cell_type": "code",
   "execution_count": null,
   "id": "a47e9e7f",
   "metadata": {},
   "outputs": [],
   "source": [
    "import torch.optim as optim\n",
    "\n",
    "criterion = nn.CrossEntropyLoss()\n",
    "optimizer = optim.SGD(model.parameters(), lr=0.001, momentum=0.9)"
   ]
  },
  {
   "cell_type": "code",
   "execution_count": null,
   "id": "138b0fef",
   "metadata": {},
   "outputs": [],
   "source": []
  },
  {
   "cell_type": "code",
   "execution_count": null,
   "id": "90c14f5f",
   "metadata": {},
   "outputs": [],
   "source": [
    "#torch.save(model.state_dict(), 'model_weights_g4_20.pth')"
   ]
  },
  {
   "cell_type": "code",
   "execution_count": null,
   "id": "30201b53",
   "metadata": {},
   "outputs": [],
   "source": [
    "training_data = SpeechDataset(all_mfcc, all_targets, b_set) # initial alignment\n",
    "\n",
    "\n",
    "for mega_epoch in range(100): # change to 100\n",
    "    print(f\"============ Training Mega Epoch {mega_epoch} =============\")\n",
    "\n",
    "    all_targets = \"\".join([hmm.targets for hmm in hmms])  # collect alignments\n",
    "    training_data.all_targets = all_targets  # just update the object with new targets\n",
    "\n",
    "    train_dataloader = DataLoader(training_data, batch_size=64, shuffle=True) # new dataloader for this alignment\n",
    "\n",
    "    train_n_epochs(train_dataloader, optimizer, model, criterion, 5) # change to 10\n",
    "\n",
    "    print('Interupted training for re-alignment...')\n",
    "\n",
    "    model.eval() # switch to evaluation mode\n",
    "\n",
    "\n",
    "    for idx, hmm in enumerate(hmms):\n",
    "        if idx%1000==0:\n",
    "            print(f\"Align {idx}\")\n",
    "    \n",
    "        alpha_m, alpha_exp = viterbi_align_nn(hmm, model, b_set)\n",
    "        alp = torch.cat(alpha_m.val)\n",
    "        hmm.intervals, bap = backward_alignment_pass_intervals(hmm, alp)\n",
    "        hmm.indices = i = bap.max(1).indices\n",
    "        s = \"\".join([hmm.b[ii] for ii in i])\n",
    "        hmm.troubling = troubling_alignmet(s)\n",
    "        hmm.targets = \"\".join([hmm.b[ii] for ii in i])\n",
    "        \n",
    "    df['targets'] = [hmm.targets for hmm in hmms]\n",
    "\n",
    "    filename_base = f\"mega_training_{'%04d' % mega_epoch}\"\n",
    "\n",
    "    torch.save(model.state_dict(), filename_base+\".pth\")\n",
    "    df.to_csv(filename_base+\".tsv\", sep=\"\\t\", index=False)\n",
    "\n"
   ]
  },
  {
   "cell_type": "code",
   "execution_count": null,
   "id": "f0d65619",
   "metadata": {},
   "outputs": [],
   "source": [
    "device"
   ]
  },
  {
   "cell_type": "code",
   "execution_count": null,
   "id": "a7cee634",
   "metadata": {},
   "outputs": [],
   "source": [
    "STOP"
   ]
  },
  {
   "cell_type": "code",
   "execution_count": null,
   "id": "39a8fbb7",
   "metadata": {},
   "outputs": [],
   "source": []
  },
  {
   "cell_type": "code",
   "execution_count": null,
   "id": "887babdf",
   "metadata": {},
   "outputs": [],
   "source": []
  },
  {
   "cell_type": "code",
   "execution_count": null,
   "id": "312c1c51",
   "metadata": {},
   "outputs": [],
   "source": []
  },
  {
   "cell_type": "code",
   "execution_count": null,
   "id": "58ad677a",
   "metadata": {},
   "outputs": [],
   "source": []
  },
  {
   "cell_type": "code",
   "execution_count": null,
   "id": "c323f21a",
   "metadata": {},
   "outputs": [],
   "source": []
  },
  {
   "cell_type": "code",
   "execution_count": null,
   "id": "462fb23c",
   "metadata": {},
   "outputs": [],
   "source": []
  },
  {
   "cell_type": "code",
   "execution_count": null,
   "id": "78c67a69",
   "metadata": {},
   "outputs": [],
   "source": []
  },
  {
   "cell_type": "markdown",
   "id": "1c3cfd55",
   "metadata": {},
   "source": [
    "https://pytorch.org/tutorials/beginner/basics/saveloadrun_tutorial.html"
   ]
  },
  {
   "cell_type": "code",
   "execution_count": null,
   "id": "a7759af9",
   "metadata": {},
   "outputs": [],
   "source": []
  }
 ],
 "metadata": {
  "kernelspec": {
   "display_name": "Python 3 (ipykernel)",
   "language": "python",
   "name": "python3"
  },
  "language_info": {
   "codemirror_mode": {
    "name": "ipython",
    "version": 3
   },
   "file_extension": ".py",
   "mimetype": "text/x-python",
   "name": "python",
   "nbconvert_exporter": "python",
   "pygments_lexer": "ipython3",
   "version": "3.10.5"
  }
 },
 "nbformat": 4,
 "nbformat_minor": 5
}
