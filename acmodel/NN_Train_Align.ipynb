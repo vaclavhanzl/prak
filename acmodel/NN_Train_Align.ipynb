{
 "cells": [
  {
   "cell_type": "markdown",
   "id": "bab82522",
   "metadata": {},
   "source": [
    "# Train & Align NN Acoustic Model\n",
    "Repeatedly re-align phone labels sequence while training the phones model.\n",
    "To avoid proliferation of the more frequent phones (and mostly the silence), we diminish b() probabilities of frequent phones during re-alignment."
   ]
  },
  {
   "cell_type": "code",
   "execution_count": 1,
   "id": "25c34a21",
   "metadata": {},
   "outputs": [
    {
     "name": "stdout",
     "output_type": "stream",
     "text": [
      "hmm_pron.py library - generate Czech pron HMM. Included to this notebook.\n"
     ]
    },
    {
     "data": {
      "text/html": [
       "<style>.container { width:100% !important; }</style>"
      ],
      "text/plain": [
       "<IPython.core.display.HTML object>"
      ]
     },
     "metadata": {},
     "output_type": "display_data"
    },
    {
     "data": {
      "text/html": [
       "<style>.prompt_container{width: 11ex !important; }</style>"
      ],
      "text/plain": [
       "<IPython.core.display.HTML object>"
      ]
     },
     "metadata": {},
     "output_type": "display_data"
    },
    {
     "data": {
      "text/html": [
       "<style>div.prompt{min-width: 11ex; }</style>"
      ],
      "text/plain": [
       "<IPython.core.display.HTML object>"
      ]
     },
     "metadata": {},
     "output_type": "display_data"
    },
    {
     "name": "stdout",
     "output_type": "stream",
     "text": [
      "Using cuda device\n"
     ]
    }
   ],
   "source": [
    "%run ../prongen/hmm_pron.py --in-jupyter\n",
    "%run ../acmodel/plot.py\n",
    "%matplotlib ipympl\n",
    "%run ../acmodel/matrix.py\n",
    "%run ../acmodel/praat_ifc.py\n",
    "%run ../acmodel/hmm_acmodel.py\n",
    "\n",
    "device = \"cuda\" if torch.cuda.is_available() else \"cpu\"\n",
    "#device = \"cpu\"\n",
    "print(f\"Using {device} device\")\n",
    "\n",
    "%run ../acmodel/nn_acmodel.py"
   ]
  },
  {
   "cell_type": "markdown",
   "id": "954f3e19",
   "metadata": {},
   "source": [
    "## Get training data\n",
    "We previously aligned Czech CommonVoice train set using an ultra-prinmitive HMM/GMM and then NNs. Let's continue on it."
   ]
  },
  {
   "cell_type": "code",
   "execution_count": 2,
   "id": "a5d2f4eb",
   "metadata": {},
   "outputs": [],
   "source": [
    "#infile = \"mega4_training_0021.tsv\"\n",
    "infile = 'nn_train.tsv'\n",
    "df = pd.read_csv(infile, sep=\"\\t\", keep_default_na=False)\n",
    "hmms = get_training_hmms(infile, derivatives=3)\n",
    "b_log_corr = b_log_corrections(infile) # get b() corrections based on frequency"
   ]
  },
  {
   "cell_type": "code",
   "execution_count": 3,
   "id": "7d8e853f",
   "metadata": {},
   "outputs": [],
   "source": [
    "\n",
    "# CONDITIONAL:\n",
    "\n",
    "for hmm in hmms:\n",
    "    triple_hmm_states(hmm)"
   ]
  },
  {
   "cell_type": "code",
   "execution_count": null,
   "id": "a7b61546",
   "metadata": {},
   "outputs": [],
   "source": []
  },
  {
   "cell_type": "code",
   "execution_count": 4,
   "id": "04035f88",
   "metadata": {},
   "outputs": [
    {
     "data": {
      "text/plain": [
       "('? A E G H N O Z a b c d e f g h j k l m n o p r s t u v y z | á é ó ú ý č ď ň Ř ř š ť Ž ž',\n",
       " 45,\n",
       " 52)"
      ]
     },
     "execution_count": 4,
     "metadata": {},
     "output_type": "execute_result"
    }
   ],
   "source": [
    "all_mfcc, all_targets, b_set = collect_training_material(hmms)\n",
    "\n",
    "out_size = len(b_set)\n",
    "in_size = hmms[0].mfcc.size(1)\n",
    "\n",
    "\" \".join(b_set), out_size, in_size"
   ]
  },
  {
   "cell_type": "markdown",
   "id": "bcc58a81",
   "metadata": {},
   "source": [
    "## Setup PyTorch training tools"
   ]
  },
  {
   "cell_type": "code",
   "execution_count": 5,
   "id": "797a7ee8",
   "metadata": {},
   "outputs": [
    {
     "name": "stdout",
     "output_type": "stream",
     "text": [
      "NeuralNetwork(\n",
      "  (flatten): Flatten(start_dim=1, end_dim=-1)\n",
      "  (linear_relu_stack): Sequential(\n",
      "    (0): Linear(in_features=52, out_features=20, bias=True)\n",
      "    (1): ReLU()\n",
      "    (2): Linear(in_features=20, out_features=20, bias=True)\n",
      "    (3): ReLU()\n",
      "    (4): Linear(in_features=20, out_features=20, bias=True)\n",
      "    (5): ReLU()\n",
      "    (6): Linear(in_features=20, out_features=45, bias=True)\n",
      "  )\n",
      ")\n"
     ]
    }
   ],
   "source": [
    "#model = NeuralNetwork(in_size, out_size).to(device)\n",
    "model = NeuralNetwork(in_size, out_size, 20).to(device) # 50\n",
    "print(model)"
   ]
  },
  {
   "cell_type": "code",
   "execution_count": 6,
   "id": "a47e9e7f",
   "metadata": {},
   "outputs": [],
   "source": [
    "import torch.optim as optim\n",
    "\n",
    "criterion = nn.CrossEntropyLoss()\n",
    "optimizer = optim.SGD(model.parameters(), lr=0.001, momentum=0.9)"
   ]
  },
  {
   "cell_type": "code",
   "execution_count": 7,
   "id": "30201b53",
   "metadata": {
    "scrolled": true
   },
   "outputs": [
    {
     "name": "stdout",
     "output_type": "stream",
     "text": [
      "============ Training Mega Epoch 0 =============\n",
      "[1, 20000] loss: 1.516\n",
      "[1, 40000] loss: 1.434\n",
      "[1, 60000] loss: 1.421\n",
      "[2, 20000] loss: 1.410\n",
      "[2, 40000] loss: 1.406\n",
      "[2, 60000] loss: 1.404\n",
      "[3, 20000] loss: 1.403\n",
      "[3, 40000] loss: 1.403\n",
      "[3, 60000] loss: 1.401\n",
      "[4, 20000] loss: 1.399\n",
      "[4, 40000] loss: 1.399\n",
      "[4, 60000] loss: 1.399\n",
      "[5, 20000] loss: 1.394\n",
      "[5, 40000] loss: 1.395\n",
      "[5, 60000] loss: 1.393\n",
      "Interrupted training for re-alignment...\n",
      "Align 0\n",
      "Align 1000\n",
      "Align 2000\n",
      "Align 3000\n",
      "Align 4000\n",
      "Align 5000\n",
      "Align 6000\n",
      "Align 7000\n",
      "Align 8000\n",
      "Align 9000\n",
      "Align 10000\n",
      "============ Training Mega Epoch 1 =============\n",
      "[1, 20000] loss: 1.400\n",
      "[1, 40000] loss: 1.398\n",
      "[1, 60000] loss: 1.393\n",
      "[2, 20000] loss: 1.394\n",
      "[2, 40000] loss: 1.394\n",
      "[2, 60000] loss: 1.395\n",
      "[3, 20000] loss: 1.392\n",
      "[3, 40000] loss: 1.393\n",
      "[3, 60000] loss: 1.394\n",
      "[4, 20000] loss: 1.391\n",
      "[4, 40000] loss: 1.390\n",
      "[4, 60000] loss: 1.395\n",
      "[5, 20000] loss: 1.393\n",
      "[5, 40000] loss: 1.391\n",
      "[5, 60000] loss: 1.392\n",
      "Interrupted training for re-alignment...\n",
      "Align 0\n",
      "Align 1000\n",
      "Align 2000\n",
      "Align 3000\n",
      "Align 4000\n",
      "Align 5000\n",
      "Align 6000\n",
      "Align 7000\n",
      "Align 8000\n",
      "Align 9000\n",
      "Align 10000\n",
      "============ Training Mega Epoch 2 =============\n",
      "[1, 20000] loss: 1.358\n",
      "[1, 40000] loss: 1.357\n",
      "[1, 60000] loss: 1.358\n",
      "[2, 20000] loss: 1.357\n",
      "[2, 40000] loss: 1.357\n",
      "[2, 60000] loss: 1.358\n",
      "[3, 20000] loss: 1.358\n",
      "[3, 40000] loss: 1.357\n",
      "[3, 60000] loss: 1.355\n",
      "[4, 20000] loss: 1.356\n",
      "[4, 40000] loss: 1.356\n",
      "[4, 60000] loss: 1.357\n",
      "[5, 20000] loss: 1.355\n",
      "[5, 40000] loss: 1.356\n",
      "[5, 60000] loss: 1.356\n",
      "Interrupted training for re-alignment...\n",
      "Align 0\n",
      "Align 1000\n",
      "Align 2000\n",
      "Align 3000\n",
      "Align 4000\n",
      "Align 5000\n",
      "Align 6000\n",
      "Align 7000\n",
      "Align 8000\n",
      "Align 9000\n",
      "Align 10000\n",
      "============ Training Mega Epoch 3 =============\n",
      "[1, 20000] loss: 1.350\n",
      "[1, 40000] loss: 1.349\n",
      "[1, 60000] loss: 1.347\n",
      "[2, 20000] loss: 1.347\n",
      "[2, 40000] loss: 1.348\n",
      "[2, 60000] loss: 1.349\n",
      "[3, 20000] loss: 1.347\n",
      "[3, 40000] loss: 1.348\n",
      "[3, 60000] loss: 1.348\n",
      "[4, 20000] loss: 1.347\n",
      "[4, 40000] loss: 1.346\n",
      "[4, 60000] loss: 1.347\n",
      "[5, 20000] loss: 1.346\n",
      "[5, 40000] loss: 1.349\n",
      "[5, 60000] loss: 1.346\n",
      "Interrupted training for re-alignment...\n",
      "Align 0\n",
      "Align 1000\n",
      "Align 2000\n",
      "Align 3000\n",
      "Align 4000\n",
      "Align 5000\n",
      "Align 6000\n",
      "Align 7000\n",
      "Align 8000\n",
      "Align 9000\n",
      "Align 10000\n",
      "============ Training Mega Epoch 4 =============\n",
      "[1, 20000] loss: 1.352\n",
      "[1, 40000] loss: 1.350\n",
      "[1, 60000] loss: 1.351\n",
      "[2, 20000] loss: 1.352\n",
      "[2, 40000] loss: 1.351\n",
      "[2, 60000] loss: 1.350\n",
      "[3, 20000] loss: 1.351\n",
      "[3, 40000] loss: 1.350\n",
      "[3, 60000] loss: 1.352\n",
      "[4, 20000] loss: 1.348\n",
      "[4, 40000] loss: 1.351\n",
      "[4, 60000] loss: 1.350\n",
      "[5, 20000] loss: 1.350\n",
      "[5, 40000] loss: 1.350\n",
      "[5, 60000] loss: 1.350\n",
      "Interrupted training for re-alignment...\n",
      "Align 0\n",
      "Align 1000\n",
      "Align 2000\n",
      "Align 3000\n",
      "Align 4000\n",
      "Align 5000\n",
      "Align 6000\n",
      "Align 7000\n",
      "Align 8000\n",
      "Align 9000\n",
      "Align 10000\n",
      "============ Training Mega Epoch 5 =============\n",
      "[1, 20000] loss: 1.328\n",
      "[1, 40000] loss: 1.326\n",
      "[1, 60000] loss: 1.328\n",
      "[2, 20000] loss: 1.327\n",
      "[2, 40000] loss: 1.327\n",
      "[2, 60000] loss: 1.328\n",
      "[3, 20000] loss: 1.328\n",
      "[3, 40000] loss: 1.327\n",
      "[3, 60000] loss: 1.328\n",
      "[4, 20000] loss: 1.330\n",
      "[4, 40000] loss: 1.326\n",
      "[4, 60000] loss: 1.326\n",
      "[5, 20000] loss: 1.327\n",
      "[5, 40000] loss: 1.327\n",
      "[5, 60000] loss: 1.327\n",
      "Interrupted training for re-alignment...\n",
      "Align 0\n",
      "Align 1000\n",
      "Align 2000\n",
      "Align 3000\n",
      "Align 4000\n",
      "Align 5000\n",
      "Align 6000\n",
      "Align 7000\n",
      "Align 8000\n",
      "Align 9000\n",
      "Align 10000\n",
      "============ Training Mega Epoch 6 =============\n",
      "[1, 20000] loss: 1.331\n",
      "[1, 40000] loss: 1.329\n",
      "[1, 60000] loss: 1.332\n",
      "[2, 20000] loss: 1.329\n",
      "[2, 40000] loss: 1.331\n",
      "[2, 60000] loss: 1.330\n",
      "[3, 20000] loss: 1.329\n",
      "[3, 40000] loss: 1.331\n",
      "[3, 60000] loss: 1.329\n",
      "[4, 20000] loss: 1.330\n",
      "[4, 40000] loss: 1.330\n",
      "[4, 60000] loss: 1.329\n",
      "[5, 20000] loss: 1.330\n",
      "[5, 40000] loss: 1.329\n",
      "[5, 60000] loss: 1.331\n",
      "Interrupted training for re-alignment...\n",
      "Align 0\n",
      "Align 1000\n",
      "Align 2000\n",
      "Align 3000\n",
      "Align 4000\n",
      "Align 5000\n",
      "Align 6000\n",
      "Align 7000\n",
      "Align 8000\n",
      "Align 9000\n",
      "Align 10000\n",
      "============ Training Mega Epoch 7 =============\n",
      "[1, 20000] loss: 1.346\n",
      "[1, 40000] loss: 1.346\n",
      "[1, 60000] loss: 1.346\n",
      "[2, 20000] loss: 1.345\n",
      "[2, 40000] loss: 1.346\n",
      "[2, 60000] loss: 1.346\n",
      "[3, 20000] loss: 1.345\n",
      "[3, 40000] loss: 1.344\n",
      "[3, 60000] loss: 1.345\n",
      "[4, 20000] loss: 1.346\n",
      "[4, 40000] loss: 1.345\n",
      "[4, 60000] loss: 1.345\n",
      "[5, 20000] loss: 1.345\n",
      "[5, 40000] loss: 1.344\n",
      "[5, 60000] loss: 1.346\n",
      "Interrupted training for re-alignment...\n",
      "Align 0\n",
      "Align 1000\n",
      "Align 2000\n",
      "Align 3000\n",
      "Align 4000\n"
     ]
    },
    {
     "ename": "KeyboardInterrupt",
     "evalue": "",
     "output_type": "error",
     "traceback": [
      "\u001b[0;31m---------------------------------------------------------------------------\u001b[0m",
      "\u001b[0;31mKeyboardInterrupt\u001b[0m                         Traceback (most recent call last)",
      "Input \u001b[0;32mIn [7]\u001b[0m, in \u001b[0;36m<cell line: 4>\u001b[0;34m()\u001b[0m\n\u001b[1;32m     21\u001b[0m     \u001b[38;5;28mprint\u001b[39m(\u001b[38;5;124mf\u001b[39m\u001b[38;5;124m\"\u001b[39m\u001b[38;5;124mAlign \u001b[39m\u001b[38;5;132;01m{\u001b[39;00midx\u001b[38;5;132;01m}\u001b[39;00m\u001b[38;5;124m\"\u001b[39m)\n\u001b[1;32m     23\u001b[0m alp \u001b[38;5;241m=\u001b[39m viterbi_log_align_nn(hmm, model, b_set, b_log_corr\u001b[38;5;241m=\u001b[39mb_log_corr\u001b[38;5;241m*\u001b[39m\u001b[38;5;241m1.0\u001b[39m) \u001b[38;5;66;03m# b() corrections according to current frame frequency\u001b[39;00m\n\u001b[0;32m---> 24\u001b[0m hmm\u001b[38;5;241m.\u001b[39mintervals \u001b[38;5;241m=\u001b[39m \u001b[43mbackward_log_alignment_pass_intervals\u001b[49m\u001b[43m(\u001b[49m\u001b[43mhmm\u001b[49m\u001b[43m,\u001b[49m\u001b[43m \u001b[49m\u001b[43malp\u001b[49m\u001b[43m)\u001b[49m \u001b[38;5;66;03m# also modifies alp\u001b[39;00m\n\u001b[1;32m     25\u001b[0m hmm\u001b[38;5;241m.\u001b[39mindices \u001b[38;5;241m=\u001b[39m i \u001b[38;5;241m=\u001b[39m alp\u001b[38;5;241m.\u001b[39mmax(\u001b[38;5;241m1\u001b[39m)\u001b[38;5;241m.\u001b[39mindices\n\u001b[1;32m     26\u001b[0m s \u001b[38;5;241m=\u001b[39m \u001b[38;5;124m\"\u001b[39m\u001b[38;5;124m\"\u001b[39m\u001b[38;5;241m.\u001b[39mjoin([hmm\u001b[38;5;241m.\u001b[39mb[ii] \u001b[38;5;28;01mfor\u001b[39;00m ii \u001b[38;5;129;01min\u001b[39;00m i])\n",
      "File \u001b[0;32m~/f-w/prak/acmodel/nn_acmodel.py:307\u001b[0m, in \u001b[0;36mbackward_log_alignment_pass_intervals\u001b[0;34m(hmm, alp)\u001b[0m\n\u001b[1;32m    305\u001b[0m phone \u001b[38;5;241m=\u001b[39m hmm\u001b[38;5;241m.\u001b[39mb[last_i]\n\u001b[1;32m    306\u001b[0m begin_time \u001b[38;5;241m=\u001b[39m row\u001b[38;5;241m*\u001b[39mframeskip\n\u001b[0;32m--> 307\u001b[0m intervals\u001b[38;5;241m.\u001b[39mappend((\u001b[43mround_to_two_decimal_digits\u001b[49m\u001b[43m(\u001b[49m\u001b[43mbegin_time\u001b[49m\u001b[43m)\u001b[49m, round_to_two_decimal_digits(end_time), phone))\n\u001b[1;32m    308\u001b[0m end_time \u001b[38;5;241m=\u001b[39m begin_time\n\u001b[1;32m    309\u001b[0m last_i \u001b[38;5;241m=\u001b[39m i\n",
      "File \u001b[0;32m~/f-w/prak/acmodel/hmm_acmodel.py:193\u001b[0m, in \u001b[0;36mround_to_two_decimal_digits\u001b[0;34m(x)\u001b[0m\n\u001b[1;32m    189\u001b[0m         x_m\u001b[38;5;241m.\u001b[39mval[\u001b[38;5;241m0\u001b[39m,i] \u001b[38;5;241m=\u001b[39m \u001b[38;5;241m1\u001b[39m\n\u001b[1;32m    190\u001b[0m     \u001b[38;5;28;01mreturn\u001b[39;00m torch\u001b[38;5;241m.\u001b[39mcat(bap\u001b[38;5;241m.\u001b[39mval)\n\u001b[0;32m--> 193\u001b[0m \u001b[38;5;28;01mdef\u001b[39;00m \u001b[38;5;21mround_to_two_decimal_digits\u001b[39m(x):\n\u001b[1;32m    194\u001b[0m     \u001b[38;5;124;03m\"\"\"\u001b[39;00m\n\u001b[1;32m    195\u001b[0m \u001b[38;5;124;03m    Slightly change the value of x so that it is likely printed with at most two\u001b[39;00m\n\u001b[1;32m    196\u001b[0m \u001b[38;5;124;03m    decimal digits, even for values like 35*0.01 (=0.35000000000000003).\u001b[39;00m\n\u001b[1;32m    197\u001b[0m \u001b[38;5;124;03m    \"\"\"\u001b[39;00m\n\u001b[1;32m    198\u001b[0m     x \u001b[38;5;241m=\u001b[39m \u001b[38;5;124m\"\u001b[39m\u001b[38;5;132;01m%.2f\u001b[39;00m\u001b[38;5;124m\"\u001b[39m \u001b[38;5;241m%\u001b[39m x\n",
      "\u001b[0;31mKeyboardInterrupt\u001b[0m: "
     ]
    }
   ],
   "source": [
    "training_data = SpeechDataset(all_mfcc, all_targets, b_set) # initial alignment\n",
    "\n",
    "\n",
    "for mega_epoch in range(100):\n",
    "    print(f\"============ Training Mega Epoch {mega_epoch} =============\")\n",
    "\n",
    "    all_targets = \"\".join([hmm.targets for hmm in hmms])  # collect alignments\n",
    "    training_data.all_targets = all_targets  # just update the object with new targets\n",
    "\n",
    "    train_dataloader = DataLoader(training_data, batch_size=64, shuffle=True) # new dataloader for this alignment\n",
    "\n",
    "    train_n_epochs(train_dataloader, optimizer, model, criterion, 5)\n",
    "\n",
    "    print('Interrupted training for re-alignment...')\n",
    "\n",
    "    model.eval() # switch to evaluation mode\n",
    "\n",
    "\n",
    "    for idx, hmm in enumerate(hmms):\n",
    "        if idx%1000==0:\n",
    "            print(f\"Align {idx}\")\n",
    "    \n",
    "        alp = viterbi_log_align_nn(hmm, model, b_set, b_log_corr=b_log_corr*1.0) # b() corrections according to current frame frequency\n",
    "        hmm.intervals = backward_log_alignment_pass_intervals(hmm, alp) # also modifies alp\n",
    "        hmm.indices = i = alp.max(1).indices\n",
    "        s = \"\".join([hmm.b[ii] for ii in i])\n",
    "        hmm.troubling = troubling_alignmet(s)\n",
    "        hmm.targets = \"\".join([hmm.b[ii] for ii in i])\n",
    "\n",
    "\n",
    "    df['targets'] = [hmm.targets for hmm in hmms]\n",
    "\n",
    "    filename_base = f\"minih_training_{'%04d' % mega_epoch}\"\n",
    "\n",
    "    torch.save(model.state_dict(), filename_base+\".pth\")\n",
    "    df.to_csv(filename_base+\".tsv\", sep=\"\\t\", index=False)\n",
    "    \n",
    "    b_log_corr = b_log_corrections(filename_base+\".tsv\") # get new b() corrections based on frequency\n"
   ]
  },
  {
   "cell_type": "code",
   "execution_count": null,
   "id": "30a9fe54",
   "metadata": {},
   "outputs": [],
   "source": []
  },
  {
   "cell_type": "code",
   "execution_count": null,
   "id": "c323f21a",
   "metadata": {},
   "outputs": [],
   "source": []
  },
  {
   "cell_type": "code",
   "execution_count": null,
   "id": "462fb23c",
   "metadata": {},
   "outputs": [],
   "source": []
  },
  {
   "cell_type": "code",
   "execution_count": null,
   "id": "a7759af9",
   "metadata": {},
   "outputs": [],
   "source": []
  }
 ],
 "metadata": {
  "kernelspec": {
   "display_name": "Python 3 (ipykernel)",
   "language": "python",
   "name": "python3"
  },
  "language_info": {
   "codemirror_mode": {
    "name": "ipython",
    "version": 3
   },
   "file_extension": ".py",
   "mimetype": "text/x-python",
   "name": "python",
   "nbconvert_exporter": "python",
   "pygments_lexer": "ipython3",
   "version": "3.10.5"
  }
 },
 "nbformat": 4,
 "nbformat_minor": 5
}
