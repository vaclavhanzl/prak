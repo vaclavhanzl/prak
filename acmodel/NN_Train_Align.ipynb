{
 "cells": [
  {
   "cell_type": "markdown",
   "id": "bab82522",
   "metadata": {},
   "source": [
    "# Train & Align NN Acoustic Model\n",
    "Align already while training.\n",
    "\n",
    "https://pytorch.org/tutorials/beginner/basics/buildmodel_tutorial.html"
   ]
  },
  {
   "cell_type": "code",
   "execution_count": 1,
   "id": "25c34a21",
   "metadata": {},
   "outputs": [
    {
     "name": "stdout",
     "output_type": "stream",
     "text": [
      "hmm_pron.py library - generate Czech pron HMM. Included to this notebook.\n"
     ]
    },
    {
     "data": {
      "text/html": [
       "<style>.container { width:100% !important; }</style>"
      ],
      "text/plain": [
       "<IPython.core.display.HTML object>"
      ]
     },
     "metadata": {},
     "output_type": "display_data"
    },
    {
     "data": {
      "text/html": [
       "<style>.prompt_container{width: 11ex !important; }</style>"
      ],
      "text/plain": [
       "<IPython.core.display.HTML object>"
      ]
     },
     "metadata": {},
     "output_type": "display_data"
    },
    {
     "data": {
      "text/html": [
       "<style>div.prompt{min-width: 11ex; }</style>"
      ],
      "text/plain": [
       "<IPython.core.display.HTML object>"
      ]
     },
     "metadata": {},
     "output_type": "display_data"
    },
    {
     "name": "stdout",
     "output_type": "stream",
     "text": [
      "Using cuda device\n"
     ]
    }
   ],
   "source": [
    "%run ../prongen/hmm_pron.py --in-jupyter\n",
    "%run ../acmodel/plot.py\n",
    "%matplotlib ipympl\n",
    "\n",
    "%run ../acmodel/matrix.py\n",
    "%run ../acmodel/praat_ifc.py\n",
    "\n",
    "%run ../acmodel/hmm_acmodel.py\n",
    "\n",
    "\n",
    "device = \"cuda\" if torch.cuda.is_available() else \"cpu\"\n",
    "#device = \"cpu\"\n",
    "print(f\"Using {device} device\")\n",
    "\n",
    "\n",
    "%run ../acmodel/nn_acmodel.py"
   ]
  },
  {
   "cell_type": "code",
   "execution_count": null,
   "id": "d5aa5e73",
   "metadata": {},
   "outputs": [],
   "source": []
  },
  {
   "cell_type": "markdown",
   "id": "954f3e19",
   "metadata": {},
   "source": [
    "## Get training data\n",
    "We aligned Czech CommonVoice train set using an ultra-prinmitive HMM/GMM. Let's use it as a starting point."
   ]
  },
  {
   "cell_type": "code",
   "execution_count": 2,
   "id": "4bacc914",
   "metadata": {},
   "outputs": [],
   "source": [
    "#import pandas as pd\n",
    "#pd.set_option('display.max_colwidth', None)\n",
    "\n",
    "#f = pd.read_csv(\"nn_train.tsv\", sep=\"\\t\", keep_default_na=False)\n",
    "#df = pd.read_csv(\"nn_train_g2.tsv\", sep=\"\\t\", keep_default_na=False)\n",
    "#df = pd.read_csv(\"nn_train_g3.tsv\", sep=\"\\t\", keep_default_na=False)\n",
    "#df = pd.read_csv(\"nn_train_g4.tsv\", sep=\"\\t\", keep_default_na=False)\n"
   ]
  },
  {
   "cell_type": "code",
   "execution_count": 3,
   "id": "919e17bf",
   "metadata": {},
   "outputs": [],
   "source": [
    "#df"
   ]
  },
  {
   "cell_type": "code",
   "execution_count": 4,
   "id": "a5d2f4eb",
   "metadata": {},
   "outputs": [],
   "source": [
    "#hmms = []\n",
    "#for wav, sentence, targets in list(zip(df.wav.values, df.sentence.values, df.targets.values)):\n",
    "#    hmm = HMM(sentence, wav=wav, use_DA=True)\n",
    "#    hmm.targets = targets\n",
    "#    hmms.append(hmm)\n",
    "\n",
    "infile = \"mega2_training_0000.tsv\"\n",
    "\n",
    "#df = pd.read_csv(\"nn_train_g5.tsv\", sep=\"\\t\", keep_default_na=False)  # USED JUST AS A TEMPLATE FOR SAVED ALIGNMENTS\n",
    "df = pd.read_csv(infile, sep=\"\\t\", keep_default_na=False)\n",
    "\n",
    "    \n",
    "#hmms = get_training_hmms(\"nn_train_g5.tsv\", derivatives=3)\n",
    "hmms = get_training_hmms(infile, derivatives=3)\n",
    "\n",
    "\n"
   ]
  },
  {
   "cell_type": "code",
   "execution_count": 5,
   "id": "04035f88",
   "metadata": {},
   "outputs": [
    {
     "data": {
      "text/plain": [
       "('? A E G H N O Z a b c d e f g h j k l m n o p r s t u v y z | á é ó ú ý č ď ň Ř ř š ť Ž ž',\n",
       " 45,\n",
       " 52)"
      ]
     },
     "execution_count": 5,
     "metadata": {},
     "output_type": "execute_result"
    }
   ],
   "source": [
    "#b_set = sorted({*\"\".join([hmm.b for hmm in hmms ])}) # make sorted set of all phone names in the training set\n",
    "\n",
    "all_mfcc, all_targets, b_set = collect_training_material(hmms)\n",
    "\n",
    "out_size = len(b_set)\n",
    "in_size = hmms[0].mfcc.size(1)\n",
    "\n",
    "\" \".join(b_set), out_size, in_size"
   ]
  },
  {
   "cell_type": "code",
   "execution_count": 6,
   "id": "b7ca48e4",
   "metadata": {},
   "outputs": [],
   "source": [
    "#all_targets = \"\".join([hmm.targets for hmm in hmms])\n",
    "#train_len = len(all_targets)"
   ]
  },
  {
   "cell_type": "code",
   "execution_count": 7,
   "id": "6184a504",
   "metadata": {},
   "outputs": [],
   "source": [
    "#all_mfcc = torch.cat([hmm.mfcc for hmm in hmms]).double().to(device)\n",
    "#assert all_mfcc.size()[0]==train_len"
   ]
  },
  {
   "cell_type": "markdown",
   "id": "bcc58a81",
   "metadata": {},
   "source": [
    "## Setup PyTorch training tools"
   ]
  },
  {
   "cell_type": "code",
   "execution_count": 8,
   "id": "66b75ddf",
   "metadata": {},
   "outputs": [],
   "source": [
    "##import os\n",
    "#import torch\n",
    "#from torch import nn\n",
    "#from torch.utils.data import DataLoader\n",
    "#from torch.utils.data import Dataset\n",
    "##from torchvision import datasets, transforms"
   ]
  },
  {
   "cell_type": "code",
   "execution_count": null,
   "id": "d93d1630",
   "metadata": {},
   "outputs": [],
   "source": []
  },
  {
   "cell_type": "code",
   "execution_count": null,
   "id": "c08ff30c",
   "metadata": {},
   "outputs": [],
   "source": []
  },
  {
   "cell_type": "code",
   "execution_count": null,
   "id": "db1def29",
   "metadata": {},
   "outputs": [],
   "source": []
  },
  {
   "cell_type": "code",
   "execution_count": 9,
   "id": "797a7ee8",
   "metadata": {},
   "outputs": [
    {
     "name": "stdout",
     "output_type": "stream",
     "text": [
      "NeuralNetwork(\n",
      "  (flatten): Flatten(start_dim=1, end_dim=-1)\n",
      "  (linear_relu_stack): Sequential(\n",
      "    (0): Linear(in_features=52, out_features=512, bias=True)\n",
      "    (1): ReLU()\n",
      "    (2): Linear(in_features=512, out_features=512, bias=True)\n",
      "    (3): ReLU()\n",
      "    (4): Linear(in_features=512, out_features=512, bias=True)\n",
      "    (5): ReLU()\n",
      "    (6): Linear(in_features=512, out_features=45, bias=True)\n",
      "  )\n",
      ")\n"
     ]
    }
   ],
   "source": [
    "model = NeuralNetwork(in_size, out_size).to(device)\n",
    "print(model)"
   ]
  },
  {
   "cell_type": "code",
   "execution_count": null,
   "id": "29f3bc6a",
   "metadata": {},
   "outputs": [],
   "source": []
  },
  {
   "cell_type": "code",
   "execution_count": 10,
   "id": "cead4411",
   "metadata": {},
   "outputs": [],
   "source": [
    "#from torch.utils.data import DataLoader"
   ]
  },
  {
   "cell_type": "markdown",
   "id": "93fa8675",
   "metadata": {},
   "source": [
    "https://pytorch.org/tutorials/beginner/blitz/cifar10_tutorial.html"
   ]
  },
  {
   "cell_type": "code",
   "execution_count": 11,
   "id": "a47e9e7f",
   "metadata": {},
   "outputs": [],
   "source": [
    "import torch.optim as optim\n",
    "\n",
    "criterion = nn.CrossEntropyLoss()\n",
    "optimizer = optim.SGD(model.parameters(), lr=0.001, momentum=0.9)"
   ]
  },
  {
   "cell_type": "code",
   "execution_count": null,
   "id": "138b0fef",
   "metadata": {},
   "outputs": [],
   "source": []
  },
  {
   "cell_type": "code",
   "execution_count": 12,
   "id": "90c14f5f",
   "metadata": {},
   "outputs": [],
   "source": [
    "#torch.save(model.state_dict(), 'model_weights_g4_20.pth')"
   ]
  },
  {
   "cell_type": "code",
   "execution_count": null,
   "id": "30201b53",
   "metadata": {
    "scrolled": true
   },
   "outputs": [
    {
     "name": "stdout",
     "output_type": "stream",
     "text": [
      "============ Training Mega Epoch 0 =============\n",
      "[1, 20000] loss: 1.066\n",
      "[1, 40000] loss: 0.991\n",
      "[1, 60000] loss: 0.963\n",
      "[2, 20000] loss: 0.939\n",
      "[2, 40000] loss: 0.931\n",
      "[2, 60000] loss: 0.925\n",
      "[3, 20000] loss: 0.913\n",
      "[3, 40000] loss: 0.911\n",
      "[3, 60000] loss: 0.910\n",
      "[4, 20000] loss: 0.899\n",
      "[4, 40000] loss: 0.899\n",
      "[4, 60000] loss: 0.897\n",
      "[5, 20000] loss: 0.889\n",
      "[5, 40000] loss: 0.890\n",
      "[5, 60000] loss: 0.890\n",
      "Interupted training for re-alignment...\n",
      "Align 0\n",
      "Align 1000\n",
      "Align 2000\n",
      "Align 3000\n",
      "Align 4000\n",
      "Align 5000\n",
      "Align 6000\n",
      "Align 7000\n",
      "Align 8000\n",
      "Align 9000\n",
      "Align 10000\n",
      "============ Training Mega Epoch 1 =============\n",
      "[1, 20000] loss: 0.863\n",
      "[1, 40000] loss: 0.864\n",
      "[1, 60000] loss: 0.864\n",
      "[2, 20000] loss: 0.852\n",
      "[2, 40000] loss: 0.858\n",
      "[2, 60000] loss: 0.859\n",
      "[3, 20000] loss: 0.850\n",
      "[3, 40000] loss: 0.851\n",
      "[3, 60000] loss: 0.853\n",
      "[4, 20000] loss: 0.845\n",
      "[4, 40000] loss: 0.847\n",
      "[4, 60000] loss: 0.849\n",
      "[5, 20000] loss: 0.840\n",
      "[5, 40000] loss: 0.844\n",
      "[5, 60000] loss: 0.846\n",
      "Interupted training for re-alignment...\n",
      "Align 0\n",
      "Align 1000\n",
      "Align 2000\n",
      "Align 3000\n",
      "Align 4000\n",
      "Align 5000\n",
      "Align 6000\n",
      "Align 7000\n",
      "Align 8000\n",
      "Align 9000\n",
      "Align 10000\n",
      "============ Training Mega Epoch 2 =============\n",
      "[1, 20000] loss: 0.830\n",
      "[1, 40000] loss: 0.830\n",
      "[1, 60000] loss: 0.831\n",
      "[2, 20000] loss: 0.823\n",
      "[2, 40000] loss: 0.827\n",
      "[2, 60000] loss: 0.826\n",
      "[3, 20000] loss: 0.818\n",
      "[3, 40000] loss: 0.821\n",
      "[3, 60000] loss: 0.826\n",
      "[4, 20000] loss: 0.815\n",
      "[4, 40000] loss: 0.820\n",
      "[4, 60000] loss: 0.821\n",
      "[5, 20000] loss: 0.814\n",
      "[5, 40000] loss: 0.815\n",
      "[5, 60000] loss: 0.818\n",
      "Interupted training for re-alignment...\n",
      "Align 0\n",
      "Align 1000\n",
      "Align 2000\n",
      "Align 3000\n",
      "Align 4000\n",
      "Align 5000\n",
      "Align 6000\n",
      "Align 7000\n",
      "Align 8000\n",
      "Align 9000\n",
      "Align 10000\n",
      "============ Training Mega Epoch 3 =============\n",
      "[1, 20000] loss: 0.797\n",
      "[1, 40000] loss: 0.801\n",
      "[1, 60000] loss: 0.803\n",
      "[2, 20000] loss: 0.793\n",
      "[2, 40000] loss: 0.797\n",
      "[2, 60000] loss: 0.798\n",
      "[3, 20000] loss: 0.791\n",
      "[3, 40000] loss: 0.793\n",
      "[3, 60000] loss: 0.793\n",
      "[4, 20000] loss: 0.785\n",
      "[4, 40000] loss: 0.791\n",
      "[4, 60000] loss: 0.792\n",
      "[5, 20000] loss: 0.783\n",
      "[5, 40000] loss: 0.788\n",
      "[5, 60000] loss: 0.791\n",
      "Interupted training for re-alignment...\n",
      "Align 0\n",
      "Align 1000\n",
      "Align 2000\n",
      "Align 3000\n",
      "Align 4000\n",
      "Align 5000\n",
      "Align 6000\n",
      "Align 7000\n",
      "Align 8000\n",
      "Align 9000\n",
      "Align 10000\n",
      "============ Training Mega Epoch 4 =============\n"
     ]
    }
   ],
   "source": [
    "training_data = SpeechDataset(all_mfcc, all_targets, b_set) # initial alignment\n",
    "\n",
    "\n",
    "for mega_epoch in range(100): # change to 100\n",
    "    print(f\"============ Training Mega Epoch {mega_epoch} =============\")\n",
    "\n",
    "    all_targets = \"\".join([hmm.targets for hmm in hmms])  # collect alignments\n",
    "    training_data.all_targets = all_targets  # just update the object with new targets\n",
    "\n",
    "    train_dataloader = DataLoader(training_data, batch_size=64, shuffle=True) # new dataloader for this alignment\n",
    "\n",
    "    train_n_epochs(train_dataloader, optimizer, model, criterion, 5) # change to 10\n",
    "\n",
    "    print('Interupted training for re-alignment...')\n",
    "\n",
    "    model.eval() # switch to evaluation mode\n",
    "\n",
    "\n",
    "    for idx, hmm in enumerate(hmms):\n",
    "        if idx%1000==0:\n",
    "            print(f\"Align {idx}\")\n",
    "    \n",
    "        alp = viterbi_log_align_nn(hmm, model, b_set)\n",
    "        hmm.intervals = backward_log_alignment_pass_intervals(hmm, alp) # also modifies alp\n",
    "        hmm.indices = i = alp.max(1).indices\n",
    "        s = \"\".join([hmm.b[ii] for ii in i])\n",
    "        hmm.troubling = troubling_alignmet(s)\n",
    "        hmm.targets = \"\".join([hmm.b[ii] for ii in i])\n",
    "\n",
    "        \n",
    "        \n",
    "    df['targets'] = [hmm.targets for hmm in hmms]\n",
    "\n",
    "    filename_base = f\"mega3_training_{'%04d' % mega_epoch}\"\n",
    "\n",
    "    torch.save(model.state_dict(), filename_base+\".pth\")\n",
    "    df.to_csv(filename_base+\".tsv\", sep=\"\\t\", index=False)\n"
   ]
  },
  {
   "cell_type": "code",
   "execution_count": null,
   "id": "30a9fe54",
   "metadata": {},
   "outputs": [],
   "source": []
  },
  {
   "cell_type": "code",
   "execution_count": null,
   "id": "a7cee634",
   "metadata": {},
   "outputs": [],
   "source": [
    "STOP"
   ]
  },
  {
   "cell_type": "code",
   "execution_count": null,
   "id": "39a8fbb7",
   "metadata": {},
   "outputs": [],
   "source": []
  },
  {
   "cell_type": "code",
   "execution_count": null,
   "id": "887babdf",
   "metadata": {},
   "outputs": [],
   "source": []
  },
  {
   "cell_type": "code",
   "execution_count": null,
   "id": "312c1c51",
   "metadata": {},
   "outputs": [],
   "source": []
  },
  {
   "cell_type": "code",
   "execution_count": null,
   "id": "58ad677a",
   "metadata": {},
   "outputs": [],
   "source": []
  },
  {
   "cell_type": "code",
   "execution_count": null,
   "id": "c323f21a",
   "metadata": {},
   "outputs": [],
   "source": []
  },
  {
   "cell_type": "code",
   "execution_count": null,
   "id": "462fb23c",
   "metadata": {},
   "outputs": [],
   "source": []
  },
  {
   "cell_type": "code",
   "execution_count": null,
   "id": "78c67a69",
   "metadata": {},
   "outputs": [],
   "source": []
  },
  {
   "cell_type": "markdown",
   "id": "1c3cfd55",
   "metadata": {},
   "source": [
    "https://pytorch.org/tutorials/beginner/basics/saveloadrun_tutorial.html"
   ]
  },
  {
   "cell_type": "code",
   "execution_count": null,
   "id": "a7759af9",
   "metadata": {},
   "outputs": [],
   "source": []
  }
 ],
 "metadata": {
  "kernelspec": {
   "display_name": "Python 3 (ipykernel)",
   "language": "python",
   "name": "python3"
  },
  "language_info": {
   "codemirror_mode": {
    "name": "ipython",
    "version": 3
   },
   "file_extension": ".py",
   "mimetype": "text/x-python",
   "name": "python",
   "nbconvert_exporter": "python",
   "pygments_lexer": "ipython3",
   "version": "3.10.5"
  }
 },
 "nbformat": 4,
 "nbformat_minor": 5
}
