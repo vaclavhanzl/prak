{
 "cells": [
  {
   "cell_type": "markdown",
   "id": "f01f9464",
   "metadata": {},
   "source": [
    "# HMM Align using trained models"
   ]
  },
  {
   "cell_type": "code",
   "execution_count": null,
   "id": "848aa92f",
   "metadata": {},
   "outputs": [],
   "source": [
    "%run ../prongen/hmm_pron.py --in-jupyter\n",
    "%run ../acmodel/plot.py\n",
    "%matplotlib ipympl\n",
    "%run ../acmodel/matrix.py\n",
    "%run ../acmodel/praat_ifc.py\n",
    "%run ../acmodel/gmm_model_data.py\n",
    "%run ../acmodel/hmm_acmodel.py"
   ]
  },
  {
   "cell_type": "code",
   "execution_count": null,
   "id": "de03d4cf",
   "metadata": {},
   "outputs": [],
   "source": [
    "from IPython.core.magic import register_line_cell_magic\n",
    "\n",
    "@register_line_cell_magic\n",
    "def writetemplate(line, cell):\n",
    "    with open(line, 'w') as f:\n",
    "        f.write(cell.format(**globals()))"
   ]
  },
  {
   "cell_type": "code",
   "execution_count": null,
   "id": "f1492e28",
   "metadata": {},
   "outputs": [],
   "source": [
    "import pandas as pd\n",
    "df = pd.read_csv(\"mini.tsv\", sep=\"\\t\", keep_default_na=False)  # read mini.tsv or maxi.tsv"
   ]
  },
  {
   "cell_type": "code",
   "execution_count": null,
   "id": "ce87bff6",
   "metadata": {
    "scrolled": true
   },
   "outputs": [],
   "source": [
    "hmms = []\n",
    "for wav, sentence in list(zip(df.wav.values, df.sentence.values))[:50]:\n",
    "    #print(sentence)\n",
    "    hmm = HMM(sentence, wav=wav)\n",
    "    #hmm.change_sil_loops()\n",
    "    hmms.append(hmm)\n",
    "    #print(hmm)"
   ]
  },
  {
   "cell_type": "code",
   "execution_count": null,
   "id": "138c0d0e",
   "metadata": {
    "scrolled": true
   },
   "outputs": [],
   "source": [
    "#hmm = hmms[4] # Občasně konzumuje i větší hmyz a výjimečně i ryby.\n",
    "#hmm = hmms[9] # To mělo za následek některé fatální důsledky.\n",
    "#hmm = hmms[12] # Bílkoviny většinou vykazují v oblasti spoje prvky symetrie.\n",
    "#hmm = hmms[19] # Rovina řezu je horizontální.\n",
    "#hmm = hmms[22] # Jeho zájmy jsou skauting a florbal.\n",
    "\n",
    "# mini:\n",
    "hmm = hmms[4] # Co to znamená?\n",
    "#hmm = hmms[0] # Zdrželi se?\n",
    "#hmm = hmms[1] # Ne, klesáme!\n",
    "#hmm = hmms[2] # Ne, neudělala.\n",
    "#hmm = hmms[3] # To není fér!\n",
    "#hmm = hmms[5] # Ona to ví!\n",
    "#hmm = hmms[6] # Ale, ale ale.\n",
    "\n",
    "print(hmm.b)"
   ]
  },
  {
   "cell_type": "markdown",
   "id": "08809623",
   "metadata": {},
   "source": [
    "## Compute alignment"
   ]
  },
  {
   "cell_type": "code",
   "execution_count": null,
   "id": "ed41ca44",
   "metadata": {},
   "outputs": [],
   "source": [
    "alpha_m, alpha_exp = viterbi_align(hmm, b_means)\n",
    "alp = torch.cat(alpha_m.val)\n",
    "intervals, bap = backward_alignment_pass_intervals(hmm, alp) # intervals will be sent to praat\n",
    "#intervals"
   ]
  },
  {
   "cell_type": "code",
   "execution_count": null,
   "id": "00e296e2",
   "metadata": {},
   "outputs": [],
   "source": [
    "i = bap.max(1).indices\n",
    "s = \"\".join([hmm.b[ii] for ii in i])\n",
    "s"
   ]
  },
  {
   "cell_type": "code",
   "execution_count": null,
   "id": "1161ce48",
   "metadata": {},
   "outputs": [],
   "source": [
    "troubling_alignmet(s)"
   ]
  },
  {
   "cell_type": "code",
   "execution_count": null,
   "id": "fddc1705",
   "metadata": {
    "scrolled": true
   },
   "outputs": [],
   "source": [
    "plot_matrix(torch.cat([bap, alp], dim=1))"
   ]
  },
  {
   "cell_type": "code",
   "execution_count": null,
   "id": "e53aa02f",
   "metadata": {},
   "outputs": [],
   "source": [
    "tft = textgrid_file_text({\"segmenty\": intervals})\n",
    "!cp {hmm.wav} test.wav"
   ]
  },
  {
   "cell_type": "code",
   "execution_count": null,
   "id": "cd5196a7",
   "metadata": {
    "scrolled": true
   },
   "outputs": [],
   "source": [
    "%%writetemplate test.TextGrid\n",
    "{tft}"
   ]
  },
  {
   "cell_type": "markdown",
   "id": "f946caf6",
   "metadata": {},
   "source": [
    "## Alignment is now ready for inspection in praat\n",
    "Open files ```test.wav``` and ```test.TextGrid```"
   ]
  },
  {
   "cell_type": "code",
   "execution_count": null,
   "id": "adce92e5",
   "metadata": {},
   "outputs": [],
   "source": []
  },
  {
   "cell_type": "markdown",
   "id": "33486fe7",
   "metadata": {},
   "source": [
    "## Aditional analysis"
   ]
  },
  {
   "cell_type": "code",
   "execution_count": null,
   "id": "a1b723c4",
   "metadata": {
    "scrolled": true
   },
   "outputs": [],
   "source": [
    "b = m(compute_hmm_b(hmm, b_means).clamp(min=0.00001))\n",
    "\n",
    "plot_fun(b.val[:,[3]].log())"
   ]
  },
  {
   "cell_type": "code",
   "execution_count": null,
   "id": "9a637582",
   "metadata": {
    "scrolled": false
   },
   "outputs": [],
   "source": [
    "plot_wavfile(hmm.wav)"
   ]
  },
  {
   "cell_type": "code",
   "execution_count": null,
   "id": "d03b6b75",
   "metadata": {},
   "outputs": [],
   "source": [
    "\n",
    "plot_fun(hmm.mfcc[:,0])"
   ]
  },
  {
   "cell_type": "code",
   "execution_count": null,
   "id": "d7c1bdc2",
   "metadata": {},
   "outputs": [],
   "source": [
    "def looks_like_speech(mfcc):\n",
    "    \"\"\"\n",
    "    Fuzzy detector of speech. Intended as a tweek of b() for silence.\n",
    "    \"\"\"\n",
    "    eng = mfcc[:,0]\n",
    "    maximum = eng.max()\n",
    "    minimum = eng.min()\n",
    "    mid = (maximum+minimum)/2\n",
    "    above = eng>mid\n",
    "    return above\n",
    "    \n",
    "    \n",
    "    \n",
    "    \n",
    "    "
   ]
  },
  {
   "cell_type": "code",
   "execution_count": null,
   "id": "e3c50ce9",
   "metadata": {
    "scrolled": false
   },
   "outputs": [],
   "source": [
    "plot_fun(looks_like_speech(hmm.mfcc))"
   ]
  },
  {
   "cell_type": "markdown",
   "id": "4c137e55",
   "metadata": {},
   "source": [
    "## Cell Magic, %%writetemplate, %%praat\n",
    "\n",
    "\n",
    "sendpraat source and compilation and usage: https://www.fon.hum.uva.nl/praat/sendpraat.html\n",
    "\n",
    "Praat history and scripting: https://www.fon.hum.uva.nl/praat/manual/History_mechanism.html"
   ]
  },
  {
   "cell_type": "code",
   "execution_count": null,
   "id": "13cf10f0",
   "metadata": {},
   "outputs": [],
   "source": [
    "@register_line_cell_magic\n",
    "def praat(line, cell):\n",
    "    with open(\"/Users/vhanzl/tmp/tmp-script.praat\", 'w') as f:\n",
    "        f.write(cell.format(**globals()))\n",
    "    !~/bin/sendpraat 100 praat \"runScript: \\\"/Users/vhanzl/tmp/tmp-script.praat\\\"\""
   ]
  },
  {
   "cell_type": "code",
   "execution_count": null,
   "id": "2cbb5ee3",
   "metadata": {},
   "outputs": [],
   "source": [
    "@register_line_cell_magic\n",
    "def praat(line, cell):\n",
    "    script = cell.format(**globals()).replace('\"','\\\\\"')\n",
    "    !~/bin/sendpraat 600 praat \"{script}\""
   ]
  },
  {
   "cell_type": "code",
   "execution_count": null,
   "id": "358daaae",
   "metadata": {},
   "outputs": [],
   "source": [
    "some_variable = \"text_to_be_shown\""
   ]
  },
  {
   "cell_type": "code",
   "execution_count": null,
   "id": "75de4cf0",
   "metadata": {},
   "outputs": [],
   "source": [
    "%%writetemplate script_for_praat.txt\n",
    "printline {some_variable}"
   ]
  },
  {
   "cell_type": "code",
   "execution_count": null,
   "id": "c10dce2b",
   "metadata": {},
   "outputs": [],
   "source": [
    "!praat --send script_for_praat.txt"
   ]
  },
  {
   "cell_type": "code",
   "execution_count": null,
   "id": "3dd64a82",
   "metadata": {},
   "outputs": [],
   "source": [
    "script = \"\"\"\n",
    "printline milujeme Praat\n",
    "\"\"\"\n",
    "!~/bin/sendpraat 600 praat \"{script}\""
   ]
  },
  {
   "cell_type": "code",
   "execution_count": null,
   "id": "0841fb34",
   "metadata": {},
   "outputs": [],
   "source": [
    "!~/bin/sendpraat 100 praat \"Read from file... {AUDIODIR / FILE}\"\n",
    "!~/bin/sendpraat 100 praat \"View & Edit\""
   ]
  },
  {
   "cell_type": "code",
   "execution_count": null,
   "id": "a99865e4",
   "metadata": {},
   "outputs": [],
   "source": []
  },
  {
   "cell_type": "code",
   "execution_count": null,
   "id": "0534b444",
   "metadata": {},
   "outputs": [],
   "source": []
  },
  {
   "cell_type": "code",
   "execution_count": null,
   "id": "2e08544a",
   "metadata": {},
   "outputs": [],
   "source": []
  },
  {
   "cell_type": "code",
   "execution_count": null,
   "id": "326a41f6",
   "metadata": {},
   "outputs": [],
   "source": []
  },
  {
   "cell_type": "code",
   "execution_count": null,
   "id": "d3c145e3",
   "metadata": {},
   "outputs": [],
   "source": []
  }
 ],
 "metadata": {
  "kernelspec": {
   "display_name": "Python 3 (ipykernel)",
   "language": "python",
   "name": "python3"
  },
  "language_info": {
   "codemirror_mode": {
    "name": "ipython",
    "version": 3
   },
   "file_extension": ".py",
   "mimetype": "text/x-python",
   "name": "python",
   "nbconvert_exporter": "python",
   "pygments_lexer": "ipython3",
   "version": "3.10.5"
  }
 },
 "nbformat": 4,
 "nbformat_minor": 5
}
