{
 "cells": [
  {
   "cell_type": "markdown",
   "id": "f01f9464",
   "metadata": {},
   "source": [
    "# HMM Align using trained models"
   ]
  },
  {
   "cell_type": "code",
   "execution_count": null,
   "id": "848aa92f",
   "metadata": {},
   "outputs": [],
   "source": [
    "%run ../prongen/hmm_pron.py --in-jupyter\n",
    "%run ../acmodel/plot.py\n",
    "%matplotlib ipympl\n",
    "%run ../acmodel/matrix.py\n",
    "%run ../acmodel/praat_ifc.py\n",
    "%run ../acmodel/gmm_model_data.py\n",
    "%run ../acmodel/hmm_acmodel.py"
   ]
  },
  {
   "cell_type": "code",
   "execution_count": null,
   "id": "a0564d89",
   "metadata": {},
   "outputs": [],
   "source": [
    "from IPython.core.magic import register_line_cell_magic\n",
    "\n",
    "@register_line_cell_magic\n",
    "def writetemplate(line, cell):\n",
    "    with open(line, 'w') as f:\n",
    "        f.write(cell.format(**globals()))"
   ]
  },
  {
   "cell_type": "code",
   "execution_count": null,
   "id": "f1492e28",
   "metadata": {},
   "outputs": [],
   "source": [
    "import pandas as pd\n",
    "df = pd.read_csv(\"maxi.tsv\", sep=\"\\t\", keep_default_na=False)  # read mini.tsv or maxi.tsv"
   ]
  },
  {
   "cell_type": "code",
   "execution_count": null,
   "id": "ce87bff6",
   "metadata": {
    "scrolled": true
   },
   "outputs": [],
   "source": [
    "hmms = []\n",
    "#for wav, sentence in list(zip(df.wav.values, df.sentence.values))[:50]:\n",
    "for wav, sentence in list(zip(df.wav.values, df.sentence.values)):\n",
    "    #print(sentence)\n",
    "    hmm = HMM(sentence, wav=wav)\n",
    "    #hmm.change_sil_loops()\n",
    "    hmms.append(hmm)\n",
    "    #print(hmm)"
   ]
  },
  {
   "cell_type": "code",
   "execution_count": null,
   "id": "138c0d0e",
   "metadata": {
    "scrolled": true
   },
   "outputs": [],
   "source": [
    "hmm = hmms[4] # Občasně konzumuje i větší hmyz a výjimečně i ryby.\n",
    "#hmm = hmms[9] # To mělo za následek některé fatální důsledky.\n",
    "#hmm = hmms[12] # Bílkoviny většinou vykazují v oblasti spoje prvky symetrie.\n",
    "#hmm = hmms[19] # Rovina řezu je horizontální.\n",
    "#hmm = hmms[22] # Jeho zájmy jsou skauting a florbal.\n",
    "#hmm = hmms[23] # Nemáme právo stavět se v této roztržce na něčí stranu.\n",
    "#hmm = hmms[24] # Model financování se odráží i v činnosti operních divadel.\n",
    "\n",
    "# mini:\n",
    "# hmm = hmms[4] # Co to znamená?\n",
    "#hmm = hmms[0] # Zdrželi se?\n",
    "#hmm = hmms[1] # Ne, klesáme!\n",
    "#hmm = hmms[2] # Ne, neudělala.\n",
    "#hmm = hmms[3] # To není fér!\n",
    "#hmm = hmms[5] # Ona to ví!\n",
    "#hmm = hmms[6] # Ale, ale ale.\n",
    "\n",
    "print(hmm.orto)"
   ]
  },
  {
   "cell_type": "markdown",
   "id": "3714f073",
   "metadata": {},
   "source": [
    "## Compute alignment"
   ]
  },
  {
   "cell_type": "code",
   "execution_count": null,
   "id": "ed41ca44",
   "metadata": {},
   "outputs": [],
   "source": [
    "alpha_m, alpha_exp = viterbi_align(hmm, b_means)\n",
    "alp = torch.cat(alpha_m.val)\n",
    "intervals, bap = backward_alignment_pass_intervals(hmm, alp) # intervals will be sent to praat\n",
    "#intervals"
   ]
  },
  {
   "cell_type": "code",
   "execution_count": null,
   "id": "00e296e2",
   "metadata": {},
   "outputs": [],
   "source": [
    "i = bap.max(1).indices\n",
    "s = \"\".join([hmm.b[ii] for ii in i])\n",
    "s"
   ]
  },
  {
   "cell_type": "code",
   "execution_count": null,
   "id": "3d36fa0b",
   "metadata": {},
   "outputs": [],
   "source": [
    "troubling_alignmet(s)"
   ]
  },
  {
   "cell_type": "code",
   "execution_count": null,
   "id": "b9ab44f5",
   "metadata": {},
   "outputs": [],
   "source": [
    "troubling_alignmet(s)"
   ]
  },
  {
   "cell_type": "code",
   "execution_count": null,
   "id": "fddc1705",
   "metadata": {
    "scrolled": true
   },
   "outputs": [],
   "source": [
    "plot_matrix(torch.cat([bap, alp], dim=1))"
   ]
  },
  {
   "cell_type": "code",
   "execution_count": null,
   "id": "8872c92a",
   "metadata": {},
   "outputs": [],
   "source": [
    "tft = textgrid_file_text({\"segmenty\": intervals})\n",
    "!cp {hmm.wav} test.wav"
   ]
  },
  {
   "cell_type": "code",
   "execution_count": null,
   "id": "2a3158f0",
   "metadata": {
    "scrolled": true
   },
   "outputs": [],
   "source": [
    "%%writetemplate test.TextGrid\n",
    "{tft}"
   ]
  },
  {
   "cell_type": "markdown",
   "id": "d2ae786b",
   "metadata": {},
   "source": [
    "## Alignment is now ready for inspection in praat\n",
    "Open files ```test.wav``` and ```test.TextGrid```"
   ]
  },
  {
   "cell_type": "code",
   "execution_count": null,
   "id": "b94930f4",
   "metadata": {},
   "outputs": [],
   "source": []
  },
  {
   "cell_type": "markdown",
   "id": "e6117158",
   "metadata": {},
   "source": [
    "## Aditional analysis"
   ]
  },
  {
   "cell_type": "code",
   "execution_count": null,
   "id": "a1b723c4",
   "metadata": {
    "scrolled": true
   },
   "outputs": [],
   "source": [
    "b = m(compute_hmm_b(hmm, b_means).clamp(min=0.00001))\n",
    "\n",
    "plot_fun(b.val[:,[3]].log())"
   ]
  },
  {
   "cell_type": "code",
   "execution_count": null,
   "id": "9a637582",
   "metadata": {
    "scrolled": false
   },
   "outputs": [],
   "source": [
    "plot_wavfile(hmm.wav)"
   ]
  },
  {
   "cell_type": "code",
   "execution_count": null,
   "id": "d03b6b75",
   "metadata": {},
   "outputs": [],
   "source": [
    "\n",
    "plot_fun(hmm.mfcc[:,0])"
   ]
  },
  {
   "cell_type": "code",
   "execution_count": null,
   "id": "d7c1bdc2",
   "metadata": {},
   "outputs": [],
   "source": [
    "def looks_like_speech(mfcc):\n",
    "    \"\"\"\n",
    "    Fuzzy detector of speech. Intended as a tweek of b() for silence.\n",
    "    \"\"\"\n",
    "    eng = mfcc[:,0]\n",
    "    maximum = eng.max()\n",
    "    minimum = eng.min()\n",
    "    mid = (maximum+minimum)/2\n",
    "    above = eng>mid\n",
    "    return above\n",
    "    \n",
    "    \n",
    "    \n",
    "    \n",
    "    "
   ]
  },
  {
   "cell_type": "code",
   "execution_count": null,
   "id": "e3c50ce9",
   "metadata": {
    "scrolled": false
   },
   "outputs": [],
   "source": [
    "plot_fun(looks_like_speech(hmm.mfcc))"
   ]
  },
  {
   "cell_type": "markdown",
   "id": "4c137e55",
   "metadata": {},
   "source": [
    "## Cell Magic, %%writetemplate, %%praat\n",
    "\n",
    "\n",
    "sendpraat source and compilation and usage: https://www.fon.hum.uva.nl/praat/sendpraat.html\n",
    "\n",
    "Praat history and scripting: https://www.fon.hum.uva.nl/praat/manual/History_mechanism.html"
   ]
  },
  {
   "cell_type": "code",
   "execution_count": null,
   "id": "13cf10f0",
   "metadata": {},
   "outputs": [],
   "source": [
    "@register_line_cell_magic\n",
    "def praat(line, cell):\n",
    "    with open(\"/Users/vhanzl/tmp/tmp-script.praat\", 'w') as f:\n",
    "        f.write(cell.format(**globals()))\n",
    "    !~/bin/sendpraat 100 praat \"runScript: \\\"/Users/vhanzl/tmp/tmp-script.praat\\\"\""
   ]
  },
  {
   "cell_type": "code",
   "execution_count": null,
   "id": "2cbb5ee3",
   "metadata": {},
   "outputs": [],
   "source": [
    "@register_line_cell_magic\n",
    "def praat(line, cell):\n",
    "    script = cell.format(**globals()).replace('\"','\\\\\"')\n",
    "    !~/bin/sendpraat 600 praat \"{script}\""
   ]
  },
  {
   "cell_type": "code",
   "execution_count": null,
   "id": "358daaae",
   "metadata": {},
   "outputs": [],
   "source": [
    "some_variable = \"text_to_be_shown\""
   ]
  },
  {
   "cell_type": "code",
   "execution_count": null,
   "id": "75de4cf0",
   "metadata": {},
   "outputs": [],
   "source": [
    "%%writetemplate script_for_praat.txt\n",
    "printline {some_variable}"
   ]
  },
  {
   "cell_type": "code",
   "execution_count": null,
   "id": "c10dce2b",
   "metadata": {},
   "outputs": [],
   "source": [
    "!praat --send script_for_praat.txt"
   ]
  },
  {
   "cell_type": "code",
   "execution_count": null,
   "id": "3dd64a82",
   "metadata": {},
   "outputs": [],
   "source": [
    "script = \"\"\"\n",
    "printline milujeme Praat\n",
    "\"\"\"\n",
    "!~/bin/sendpraat 600 praat \"{script}\""
   ]
  },
  {
   "cell_type": "code",
   "execution_count": null,
   "id": "0841fb34",
   "metadata": {},
   "outputs": [],
   "source": [
    "!~/bin/sendpraat 100 praat \"Read from file... {AUDIODIR / FILE}\"\n",
    "!~/bin/sendpraat 100 praat \"View & Edit\""
   ]
  },
  {
   "cell_type": "code",
   "execution_count": null,
   "id": "d7cb1925",
   "metadata": {},
   "outputs": [],
   "source": []
  },
  {
   "cell_type": "code",
   "execution_count": null,
   "id": "bda2fc33",
   "metadata": {},
   "outputs": [],
   "source": []
  },
  {
   "cell_type": "code",
   "execution_count": null,
   "id": "a2be126d",
   "metadata": {},
   "outputs": [],
   "source": []
  },
  {
   "cell_type": "markdown",
   "id": "5d1d0fe7",
   "metadata": {},
   "source": [
    "## Compute alignments for all HMMs"
   ]
  },
  {
   "cell_type": "code",
   "execution_count": null,
   "id": "f5cdf26d",
   "metadata": {
    "scrolled": true
   },
   "outputs": [],
   "source": [
    "%%time\n",
    "for idx, hmm in enumerate(hmms):\n",
    "    if idx%100==0:\n",
    "        print(idx)\n",
    "    \n",
    "    alpha_m, alpha_exp = viterbi_align(hmm, b_means)\n",
    "    alp = torch.cat(alpha_m.val)\n",
    "    hmm.intervals, bap = backward_alignment_pass_intervals(hmm, alp)\n",
    "    hmm.indices = i = bap.max(1).indices\n",
    "    s = \"\".join([hmm.b[ii] for ii in i])\n",
    "    hmm.troubling = troubling_alignmet(s)\n",
    "    hmm.targets = \"\".join([hmm.b[ii] for ii in i])\n",
    "\n",
    "# While also training in parallel:  CPU times: user 45min 57s, sys: 22.6 s, total: 46min 20s  Wall time: 5min 49s"
   ]
  },
  {
   "cell_type": "code",
   "execution_count": null,
   "id": "71a58829",
   "metadata": {},
   "outputs": [],
   "source": [
    "df['targets'] = [hmm.targets for hmm in hmms]"
   ]
  },
  {
   "cell_type": "code",
   "execution_count": null,
   "id": "d6af7255",
   "metadata": {},
   "outputs": [],
   "source": [
    "df"
   ]
  },
  {
   "cell_type": "code",
   "execution_count": null,
   "id": "405981fc",
   "metadata": {},
   "outputs": [],
   "source": [
    "df.to_csv(\"nn_train.tsv\", sep=\"\\t\", index=False)"
   ]
  },
  {
   "cell_type": "code",
   "execution_count": null,
   "id": "f770da7d",
   "metadata": {},
   "outputs": [],
   "source": [
    "!head nn_train.tsv"
   ]
  },
  {
   "cell_type": "code",
   "execution_count": null,
   "id": "be31b312",
   "metadata": {},
   "outputs": [],
   "source": []
  },
  {
   "cell_type": "code",
   "execution_count": null,
   "id": "8d1de83e",
   "metadata": {},
   "outputs": [],
   "source": [
    "durs = {}\n",
    "for hmm in hmms:\n",
    "    #for f, t, ph in hmm.intervals:\n",
    "    for f, t, ph in hmm.intervals[1:-1]:\n",
    "        duration = t-f\n",
    "        if ph not in durs:\n",
    "            durs[ph] = []\n",
    "        durs[ph].append(duration)  "
   ]
  },
  {
   "cell_type": "code",
   "execution_count": null,
   "id": "425e5156",
   "metadata": {},
   "outputs": [],
   "source": [
    "for phone, dur in durs.items():\n",
    "    print(f\"Mean duration of {phone}: {'%0.3f' % tensor(durs[phone]).mean()}   sum: {'%0.3f' % tensor(durs[phone]).sum()}   count: {len(durs[phone])}\")"
   ]
  },
  {
   "cell_type": "code",
   "execution_count": null,
   "id": "ceef27cf",
   "metadata": {},
   "outputs": [],
   "source": [
    "for phone, dur in durs.items():\n",
    "    print(f\"Mean duration of {phone}: {'%0.3f' % tensor(durs[phone]).mean()}   sum: {'%0.3f' % tensor(durs[phone]).sum()}   count: {len(durs[phone])}\")"
   ]
  },
  {
   "cell_type": "code",
   "execution_count": null,
   "id": "8752c66a",
   "metadata": {},
   "outputs": [],
   "source": [
    "len(durs['s'])"
   ]
  },
  {
   "cell_type": "code",
   "execution_count": null,
   "id": "74d90d11",
   "metadata": {},
   "outputs": [],
   "source": []
  },
  {
   "cell_type": "code",
   "execution_count": null,
   "id": "8048974c",
   "metadata": {},
   "outputs": [],
   "source": [
    "s = ''\n",
    "t = ''\n",
    "for hmm in hmms:\n",
    "    s += hmm.b\n",
    "    t += hmm.troubling\n",
    "    \n",
    "{*t}"
   ]
  },
  {
   "cell_type": "code",
   "execution_count": null,
   "id": "0642ad09",
   "metadata": {},
   "outputs": [],
   "source": [
    "len(t)"
   ]
  },
  {
   "cell_type": "code",
   "execution_count": null,
   "id": "3e0c8cb6",
   "metadata": {},
   "outputs": [],
   "source": []
  }
 ],
 "metadata": {
  "kernelspec": {
   "display_name": "Python 3 (ipykernel)",
   "language": "python",
   "name": "python3"
  },
  "language_info": {
   "codemirror_mode": {
    "name": "ipython",
    "version": 3
   },
   "file_extension": ".py",
   "mimetype": "text/x-python",
   "name": "python",
   "nbconvert_exporter": "python",
   "pygments_lexer": "ipython3",
   "version": "3.10.5"
  }
 },
 "nbformat": 4,
 "nbformat_minor": 5
}
