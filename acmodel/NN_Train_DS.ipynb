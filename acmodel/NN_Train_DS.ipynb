{
 "cells": [
  {
   "cell_type": "markdown",
   "id": "bab82522",
   "metadata": {},
   "source": [
    "# Train VoiceD/VoicelesS discriminator\n",
    "Using the latest NN phone alignment, grnerate D/S training data and train a NN on it.\n",
    "Silence is also considered as voiceless."
   ]
  },
  {
   "cell_type": "code",
   "execution_count": null,
   "id": "25c34a21",
   "metadata": {},
   "outputs": [],
   "source": [
    "%run ../prongen/hmm_pron.py --in-jupyter\n",
    "%run ../acmodel/plot.py\n",
    "%matplotlib ipympl\n",
    "###%run ../acmodel/matrix.py\n",
    "%run ../acmodel/praat_ifc.py\n",
    "%run ../acmodel/hmm_acmodel.py\n",
    "\n",
    "device = \"cuda\" if torch.cuda.is_available() else \"cpu\"\n",
    "#device = \"cpu\"\n",
    "print(f\"Using {device} device\")\n",
    "\n",
    "%run ../acmodel/nn_acmodel.py"
   ]
  },
  {
   "cell_type": "code",
   "execution_count": null,
   "id": "d56d8369",
   "metadata": {},
   "outputs": [],
   "source": [
    "device"
   ]
  },
  {
   "cell_type": "markdown",
   "id": "954f3e19",
   "metadata": {},
   "source": [
    "## Get training data\n",
    "We previously aligned Czech CommonVoice train set using an ultra-prinmitive HMM/GMM and then NNs. Let's replace every non-silent phone label by either 'c' or 'v' (so ve have 3 labels: \"cv|\")."
   ]
  },
  {
   "cell_type": "code",
   "execution_count": null,
   "id": "a5d2f4eb",
   "metadata": {},
   "outputs": [],
   "source": [
    "infile = \"mega6_training_0028.tsv\"\n",
    "df = pd.read_csv(infile, sep=\"\\t\", keep_default_na=False)\n",
    "hmms = get_training_hmms(infile, derivatives=3)\n",
    "b_log_corr = b_log_corrections(infile) # get b() corrections based on frequency"
   ]
  },
  {
   "cell_type": "code",
   "execution_count": null,
   "id": "04035f88",
   "metadata": {},
   "outputs": [],
   "source": [
    "all_mfcc, all_targets, b_set = collect_training_material(hmms)\n",
    "\n",
    "#out_size = len(b_set)\n",
    "in_size = hmms[0].mfcc.size(1)\n",
    "\n",
    "\" \".join(b_set), in_size"
   ]
  },
  {
   "cell_type": "markdown",
   "id": "4bd1496b",
   "metadata": {},
   "source": [
    "### Map phone labels voiceD/voicelesS"
   ]
  },
  {
   "cell_type": "code",
   "execution_count": null,
   "id": "9f07cd59",
   "metadata": {},
   "outputs": [],
   "source": [
    "lab = {}\n",
    "for phone in b_set:\n",
    "    lab[phone] = 's' # default to be overwriten below\n",
    "for voiced in 'AEOaeouyáéóúý'+'GNZbdghjlmnrvzďňřŽž':\n",
    "    lab[voiced] = 'd'"
   ]
  },
  {
   "cell_type": "code",
   "execution_count": null,
   "id": "68523dfb",
   "metadata": {},
   "outputs": [],
   "source": [
    "all_targets[:200]"
   ]
  },
  {
   "cell_type": "code",
   "execution_count": null,
   "id": "4ccc5052",
   "metadata": {},
   "outputs": [],
   "source": [
    "ds_targets = \"\".join(lab[p] for p in all_targets)"
   ]
  },
  {
   "cell_type": "code",
   "execution_count": null,
   "id": "06704cec",
   "metadata": {},
   "outputs": [],
   "source": [
    "ds_targets[:200]"
   ]
  },
  {
   "cell_type": "code",
   "execution_count": null,
   "id": "35971193",
   "metadata": {},
   "outputs": [],
   "source": [
    "ds_set = sorted({*ds_targets})\n",
    "ds_set"
   ]
  },
  {
   "cell_type": "code",
   "execution_count": null,
   "id": "36e0023c",
   "metadata": {},
   "outputs": [],
   "source": [
    "out_size = len(ds_set)"
   ]
  },
  {
   "cell_type": "markdown",
   "id": "bcc58a81",
   "metadata": {},
   "source": [
    "## Setup PyTorch training tools"
   ]
  },
  {
   "cell_type": "code",
   "execution_count": null,
   "id": "7c19ce45",
   "metadata": {},
   "outputs": [],
   "source": [
    "in_size, out_size"
   ]
  },
  {
   "cell_type": "code",
   "execution_count": null,
   "id": "797a7ee8",
   "metadata": {},
   "outputs": [],
   "source": [
    "model = NeuralNetwork(in_size, out_size).to(device)\n",
    "print(model)"
   ]
  },
  {
   "cell_type": "code",
   "execution_count": null,
   "id": "a47e9e7f",
   "metadata": {},
   "outputs": [],
   "source": [
    "import torch.optim as optim\n",
    "\n",
    "criterion = nn.CrossEntropyLoss()\n",
    "optimizer = optim.SGD(model.parameters(), lr=0.001, momentum=0.9)"
   ]
  },
  {
   "cell_type": "code",
   "execution_count": null,
   "id": "30201b53",
   "metadata": {
    "scrolled": true
   },
   "outputs": [],
   "source": [
    "training_data = SpeechDataset(all_mfcc, ds_targets, ds_set) # initial alignment\n",
    "train_dataloader = DataLoader(training_data, batch_size=64, shuffle=True)\n",
    "\n",
    "for mega_epoch in range(100):\n",
    "    print(f\"============ Training DS Epoch {mega_epoch} =============\")\n",
    "    train_n_epochs(train_dataloader, optimizer, model, criterion, 5)\n",
    "    filename_base = f\"ds_training_{'%04d' % mega_epoch}\"\n",
    "    torch.save(model.state_dict(), filename_base+\".pth\")\n"
   ]
  },
  {
   "cell_type": "code",
   "execution_count": null,
   "id": "30a9fe54",
   "metadata": {},
   "outputs": [],
   "source": []
  },
  {
   "cell_type": "code",
   "execution_count": null,
   "id": "c323f21a",
   "metadata": {},
   "outputs": [],
   "source": []
  },
  {
   "cell_type": "code",
   "execution_count": null,
   "id": "462fb23c",
   "metadata": {},
   "outputs": [],
   "source": []
  },
  {
   "cell_type": "code",
   "execution_count": null,
   "id": "a7759af9",
   "metadata": {},
   "outputs": [],
   "source": []
  }
 ],
 "metadata": {
  "kernelspec": {
   "display_name": "Python 3 (ipykernel)",
   "language": "python",
   "name": "python3"
  },
  "language_info": {
   "codemirror_mode": {
    "name": "ipython",
    "version": 3
   },
   "file_extension": ".py",
   "mimetype": "text/x-python",
   "name": "python",
   "nbconvert_exporter": "python",
   "pygments_lexer": "ipython3",
   "version": "3.10.5"
  }
 },
 "nbformat": 4,
 "nbformat_minor": 5
}
