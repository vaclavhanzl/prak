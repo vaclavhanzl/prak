{
 "cells": [
  {
   "cell_type": "markdown",
   "id": "c200fb9e",
   "metadata": {},
   "source": [
    "# Compare Prak aligner to Prague Labeller\n",
    "Prague Labeller ('PP' in code below) is a common aligner used before. Running it is a bit tricky,\n",
    "we run it manually (on different computer on Windows) and copied the\n",
    "resulting textgrids here. We also have corresponding manually made labels\n",
    "which we even further correct ourselves.\n",
    "\n",
    "Parts of the code below are commented out to avoid accidental overwriting of manually corrected data. It can be used as follows:\n",
    "* align your reference data using an old aligner (e.g. Prague Labeller, 'PP')\n",
    "* manually copy data to places suggested below, or edit paths if you used other places\n",
    "* uncomment Prak command line below and align using Prak\n",
    "* evaluate both aligners (comment/uncomment lines with compare_tiers_detailed() to select aligner)\n",
    "* uncomment two lines \"with open(out_file ...) as f: f.write(tg_txt)\", write textgrids for additional hand check\n",
    "* do additional hand-check using Praat (took us a day for 20k phones)\n",
    "* COMMENT OUT those two lines again, you do not want to loose this day of work\n",
    "* evaluate aligners on double-checked data\n",
    "\n",
    "In short, first read the code below. DO NOT ATTEMPT TO JUST BLINDLY RUN IT."
   ]
  },
  {
   "cell_type": "code",
   "execution_count": null,
   "id": "80259ddc",
   "metadata": {},
   "outputs": [],
   "source": [
    "import os\n",
    "home = os.getenv(\"HOME\")"
   ]
  },
  {
   "cell_type": "code",
   "execution_count": null,
   "id": "b541cf95",
   "metadata": {},
   "outputs": [],
   "source": [
    "# where are phrase textgrids and wavs sent to PP aligner\n",
    "# this set has corrected phrase tier (made from [Ww]ords tiers, fixing {} issues)\n",
    "# and is authoritative regarging files used for test (problematic files are deleted here)\n",
    "test_input_dir = home+'/test-prak/compare_pp/test_pp'\n",
    "\n",
    "# where are manually corrected textgrids\n",
    "# (there may be additional textgrids here for files excluded above as problematic)\n",
    "# We want just [Pp]hone tiers from these (there are more tiers and also some point tiers)\n",
    "# (We do NOT want phrase nor [Ww]ord tiers from this place!)\n",
    "man_aligned_dir = home+'/test-prak/compare_pp/orig_tg'\n",
    "\n",
    "# where are textgrids aligned by PP aligner:\n",
    "#pp_aligned_dir = '~/test-prak/compare_pp/nastrelene_pp'\n",
    "pp_aligned_dir = home+'/test-prak/compare_pp/nastrelene_pp_new'\n",
    "\n",
    "# where to put textgrids aligned by Prak, containing also all the other info:\n",
    "prak_aligned_dir = home+'/test-prak/compare_pp/nastrelene_prak'\n",
    "\n",
    "# alternative Prak alignment with known pronunciations of foreign words:\n",
    "#prak_aligned_dir = home+'/test-prak/compare_pp/nastrelene_prak_foreign'\n",
    "!mkdir -p {prak_aligned_dir}\n",
    "\n",
    "# where hand-edit via Praat will be done:\n",
    "ref_repair_dir = home+'/test-prak/repair_ref'"
   ]
  },
  {
   "cell_type": "code",
   "execution_count": null,
   "id": "fd8bd89c",
   "metadata": {},
   "outputs": [],
   "source": [
    "# Use full with and waste less space on prompts on the left:\n",
    "from IPython.display import display, HTML\n",
    "display(HTML(\"<style>.container { width:100% !important; }</style>\"))\n",
    "display(HTML(\"<style>.prompt_container{width: 11ex !important; }</style>\"))\n",
    "display(HTML(\"<style>div.prompt{min-width: 11ex; }</style>\"))"
   ]
  },
  {
   "cell_type": "code",
   "execution_count": null,
   "id": "3f59fcab",
   "metadata": {},
   "outputs": [],
   "source": [
    "!find {test_input_dir} -name '*.wav'|wc\n",
    "!find {test_input_dir} -name '*.TextGrid'|wc\n",
    "!find {man_aligned_dir} -name '*.TextGrid'|wc\n",
    "!find {pp_aligned_dir} -name '*.TextGrid'|wc\n",
    "!find {prak_aligned_dir} -name '*.TextGrid'|wc"
   ]
  },
  {
   "cell_type": "code",
   "execution_count": null,
   "id": "f9d29502",
   "metadata": {
    "scrolled": true
   },
   "outputs": [],
   "source": [
    "testlist = !find {test_input_dir} -name '*.wav'\n",
    "testlist = [\"/\".join(t.split(\"/\")[-2:])[:-4] for t in testlist]\n",
    "len(testlist)"
   ]
  },
  {
   "cell_type": "code",
   "execution_count": null,
   "id": "2f9cd0cb",
   "metadata": {},
   "outputs": [],
   "source": [
    "for t in testlist:\n",
    "    # UNCOMMENT BELLOW TO REPEAT PRAK ALIGNMENT\n",
    "    #!~/f-w/prak/prak -i {test_input_dir}/{t}.TextGrid -w {test_input_dir}/{t}.wav -o {prak_aligned_dir}/{t}.TextGrid -f -e ~/prak/exceptions.txt --merge-in {pp_aligned_dir}/{t}.TextGrid phone:pp_phone :: {man_aligned_dir}/{t}.TextGrid phone:man_phone Phone:man_phone\n",
    "    pass"
   ]
  },
  {
   "cell_type": "code",
   "execution_count": null,
   "id": "4f454f05",
   "metadata": {},
   "outputs": [],
   "source": [
    "import sys\n",
    "\n",
    "if sys.path[0] != '..':\n",
    "    sys.path[0:0] = ['..'] # prepend main Prak directory\n",
    "\n",
    "from acmodel.praat_ifc import *\n",
    "from acmodel.evaluate import *"
   ]
  },
  {
   "cell_type": "code",
   "execution_count": null,
   "id": "fbaeb716",
   "metadata": {},
   "outputs": [],
   "source": [
    "# Take all TextGrids with combined data and evaluate\n",
    "total = Accumulator()  # any newly used attributes are auto-initialized to 0\n",
    "max_misplace = 0.1\n",
    "for t in testlist:\n",
    "    tg_file = prak_aligned_dir+'/'+t+'.TextGrid'\n",
    "    tg = read_interval_tiers_from_textgrid_file(tg_file)\n",
    "    \n",
    "    man = desampify_phone_tier(tg['man_phone']) # WILL BE REPLACED BELOW BY HAND-FIXED REF\n",
    "    pp = desampify_phone_tier(tg['pp_phone'])\n",
    "    ours = desampify_phone_tier(tg['phone'])\n",
    "    \n",
    "    # get hand-fixed references (comment this out if you do not have these yet):\n",
    "    fixed_ref_file = ref_repair_dir+'/'+t+'.TextGrid'\n",
    "    fixed_tg = read_interval_tiers_from_textgrid_file(fixed_ref_file)\n",
    "    man = fixed_tg['fix-phone'] # GET HAND-FIXED REF INSTEAD OF THE ORIGINAL ONE\n",
    "    \n",
    "    total.man_phones += len(man)\n",
    "    \n",
    "    #compare_tiers_detailed(man, pp, total, t)\n",
    "    compare_tiers_detailed(man, ours, total, t, max_misplace)\n",
    "\n",
    "print(f\"{total=}\")\n",
    "print(\"Summary results:\")\n",
    "print(f'{total.man_phones} phones, {\"%0.2f\"%(100*total.dif/total.man_phones)}% mismatched, {\"%0.2f\"%(100*total.misplaced/total.man_phones)}% misplaced more than {max_misplace}s')  "
   ]
  },
  {
   "cell_type": "code",
   "execution_count": null,
   "id": "5e00044f",
   "metadata": {},
   "outputs": [],
   "source": [
    "#                        phn err                   Middle shift                         misbeg misend\n",
    "#                                  100ms   200ms     50ms    30ms   20ms   10ms         100ms\n",
    "# ours: 20303  586  73    2.89     0.36    0.09      2.40    8.44   17.22  41.75        198 184 !!\n",
    "# pp:   20303 1327 872    6.54     4.29    3.22      6.26    9.31   14.53  31.68        970 823\n",
    "\n",
    "# fixed refs:\n",
    "#              100ms 200ms\n",
    "# ours:   1.88 0.36  0.09\n",
    "# pp:     6.61 4.28  3.22\n",
    "\n",
    "# with all foreign words in exceptions:\n",
    "# 1.63 0.36"
   ]
  },
  {
   "cell_type": "markdown",
   "id": "8d1a72eb",
   "metadata": {},
   "source": [
    "# Create TextGrids highlighting suspicious reference labels\n",
    "Run this to create input for our additional hand-check."
   ]
  },
  {
   "cell_type": "code",
   "execution_count": null,
   "id": "dd9e92d4",
   "metadata": {},
   "outputs": [],
   "source": [
    "# Hardlink test wavs to directory structure where repair TextGrid files will go for hand edit via Praat:\n",
    "subdirs = !ls {test_input_dir}\n",
    "for x in subdirs:\n",
    "    !mkdir -p {ref_repair_dir}/{x}\n",
    "    #!cp -l {test_input_dir}/{x}/*.wav {ref_repair_dir}/{x}"
   ]
  },
  {
   "cell_type": "code",
   "execution_count": null,
   "id": "a8860e34",
   "metadata": {},
   "outputs": [],
   "source": [
    "# Take all TextGrids with all the combined data, prepare TextGrid files for manual edit:\n",
    "for t in testlist:\n",
    "    tg_file = prak_aligned_dir+'/'+t+'.TextGrid'\n",
    "    tg = read_interval_tiers_from_textgrid_file(tg_file)\n",
    "    man = desampify_phone_tier(tg['man_phone'])\n",
    "    pp = desampify_phone_tier(tg['pp_phone'])\n",
    "    ours = desampify_phone_tier(tg['phone'])\n",
    "    word = tg['word']\n",
    "    phrase = tg['phrase']\n",
    "\n",
    "    man_s, our_s = prune_tiers_to_suspicious_intervals(man, ours)\n",
    "    man_spp, pp_s = prune_tiers_to_suspicious_intervals(man, pp)\n",
    "\n",
    "    out_tg = {\"fix-phone\": man, \"man_s\": man_s, \"our-s\": our_s, \"man_spp\": man_spp, \"pp-s\": pp_s, \"ours\":ours, \"word\": word, \"phrase\": phrase, \"phone-sampa\": tg[\"man_phone\"], \"pp-sampa\": tg[\"pp_phone\"]}\n",
    "    out_file = ref_repair_dir+'/'+t+'.TextGrid'\n",
    "    tg_txt = textgrid_file_text(out_tg)\n",
    "    # TEXTGRIDS WERE HAND-EDITED, NEVER OVERWRITE THEM AGAIN, LEVE BOTH LINES BELLOW COMMENTED OUT!!!\n",
    "    #with open(out_file, 'w', encoding='utf-8') as f:\n",
    "    #    f.write(tg_txt)"
   ]
  }
 ],
 "metadata": {
  "kernelspec": {
   "display_name": "Python 3 (ipykernel)",
   "language": "python",
   "name": "python3"
  },
  "language_info": {
   "codemirror_mode": {
    "name": "ipython",
    "version": 3
   },
   "file_extension": ".py",
   "mimetype": "text/x-python",
   "name": "python",
   "nbconvert_exporter": "python",
   "pygments_lexer": "ipython3",
   "version": "3.10.5"
  }
 },
 "nbformat": 4,
 "nbformat_minor": 5
}
